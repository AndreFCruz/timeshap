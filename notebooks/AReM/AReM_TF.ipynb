{
 "cells": [
  {
   "cell_type": "markdown",
   "id": "5a85f1b2",
   "metadata": {},
   "source": [
    "<h1 style=\"color:#3da1da;font-size: 300%;\" id=\"timeshap tutorial\" align=\"center\"  >TimeSHAP Tutorial - TensorFlow - AReM dataset</h1><p>&nbsp;\n",
    "\n",
    "<a id='top_cell'></a>\n",
    "\n",
    "## Table of contents\n",
    "1. [Data Processing](#1.-Data-Processing)\n",
    "  1. [Data Loading](#1.1-Data-Loading)\n",
    "  2. [Data Treatment](#1.2-Data-Treatment)\n",
    "2. [Model](#2.-Model)\n",
    "  1. [Model Definition](#2.1-Model-Definition)\n",
    "  2. [Model Training](#2.2-Model-Training)\n",
    "3. [TimeSHAP](#3.-TimeSHAP)\n",
    "  1. [Local Explanations](#3.1-Local-Explanations)\n",
    "  2. [Global Explanations](#3.2-Global-Explanations)\n",
    "  3. [Individual Plots](#3.3-Individual-Plots)\n",
    "    \n",
    "\n",
    "# TimeSHAP\n",
    "\n",
    "TimeSHAP is a model-agnostic, recurrent explainer that builds upon KernelSHAP and extends it to the sequential domain. \n",
    "\n",
    "TimeSHAP computes local event/timestamp- feature-, and cell-level attributions. \n",
    "    \n",
    "Aditionally TimeSHAP also computes global event- and feature-level explanations.\n",
    "    \n",
    "As sequences can be arbitrarily long, TimeSHAP also implements a pruning algorithm based on Shapley Values, \n",
    "that finds a subset of consecutive, recent events that contribute the most to the decision."
   ]
  },
  {
   "cell_type": "markdown",
   "id": "8deb3c97",
   "metadata": {},
   "source": [
    "---\n",
    "# 1. Data-Processing\n",
    "---"
   ]
  },
  {
   "cell_type": "code",
   "execution_count": 1,
   "id": "1937fda2",
   "metadata": {},
   "outputs": [],
   "source": [
    "import pandas as pd\n",
    "import numpy as np\n",
    "\n",
    "np.random.seed(42)\n",
    "\n",
    "import warnings\n",
    "warnings.filterwarnings('ignore')"
   ]
  },
  {
   "cell_type": "code",
   "execution_count": 2,
   "id": "db6e1187",
   "metadata": {},
   "outputs": [
    {
     "data": {
      "text/plain": [
       "'1.0.0'"
      ]
     },
     "execution_count": 2,
     "metadata": {},
     "output_type": "execute_result"
    }
   ],
   "source": [
    "from timeshap import __version__\n",
    "__version__"
   ]
  },
  {
   "cell_type": "code",
   "execution_count": 3,
   "id": "bbfbdd16",
   "metadata": {},
   "outputs": [
    {
     "data": {
      "text/html": [
       "<style>.container { width:100% !important; }</style>"
      ],
      "text/plain": [
       "<IPython.core.display.HTML object>"
      ]
     },
     "metadata": {},
     "output_type": "display_data"
    },
    {
     "data": {
      "text/plain": [
       "ThemeRegistry.enable('feedzai')"
      ]
     },
     "execution_count": 3,
     "metadata": {},
     "output_type": "execute_result"
    }
   ],
   "source": [
    "from IPython.core.display import display, HTML\n",
    "display(HTML(\"<style>.container { width:100% !important; }</style>\"))\n",
    "import altair as alt\n",
    "alt.themes.enable(\"feedzai\")"
   ]
  },
  {
   "cell_type": "markdown",
   "id": "0c758a7b",
   "metadata": {},
   "source": [
    "## 1.1 Data-Loading"
   ]
  },
  {
   "cell_type": "code",
   "execution_count": 4,
   "id": "66dcf4eb",
   "metadata": {},
   "outputs": [
    {
     "name": "stdout",
     "output_type": "stream",
     "text": [
      "sitting/dataset5.csv ------ (480, 7)\n",
      "sitting/dataset11.csv ------ (480, 7)\n",
      "sitting/dataset3.csv ------ (480, 7)\n",
      "sitting/dataset10.csv ------ (480, 7)\n",
      "sitting/dataset12.csv ------ (480, 7)\n",
      "sitting/dataset4.csv ------ (480, 7)\n",
      "sitting/dataset13.csv ------ (480, 7)\n",
      "sitting/dataset9.csv ------ (480, 7)\n",
      "sitting/dataset2.csv ------ (480, 7)\n",
      "sitting/dataset15.csv ------ (480, 7)\n",
      "sitting/dataset1.csv ------ (480, 7)\n",
      "sitting/dataset14.csv ------ (480, 7)\n",
      "sitting/dataset6.csv ------ (480, 7)\n",
      "sitting/dataset7.csv ------ (480, 7)\n",
      "standing/dataset5.csv ------ (480, 7)\n",
      "standing/dataset11.csv ------ (480, 7)\n",
      "standing/dataset3.csv ------ (480, 7)\n",
      "standing/dataset8.csv ------ (480, 7)\n",
      "standing/dataset10.csv ------ (480, 7)\n",
      "standing/dataset12.csv ------ (480, 7)\n",
      "standing/dataset4.csv ------ (480, 7)\n",
      "standing/dataset13.csv ------ (480, 7)\n",
      "standing/dataset9.csv ------ (480, 7)\n",
      "standing/dataset2.csv ------ (480, 7)\n",
      "standing/dataset15.csv ------ (480, 7)\n",
      "standing/dataset1.csv ------ (480, 7)\n",
      "standing/dataset14.csv ------ (480, 7)\n",
      "standing/dataset6.csv ------ (480, 7)\n",
      "standing/dataset7.csv ------ (480, 7)\n",
      "walking/dataset5.csv ------ (480, 7)\n",
      "walking/dataset11.csv ------ (480, 7)\n",
      "walking/dataset3.csv ------ (480, 7)\n",
      "walking/dataset8.csv ------ (480, 7)\n",
      "walking/dataset10.csv ------ (480, 7)\n",
      "walking/dataset12.csv ------ (480, 7)\n",
      "walking/dataset4.csv ------ (480, 7)\n",
      "walking/dataset13.csv ------ (480, 7)\n",
      "walking/dataset9.csv ------ (480, 7)\n",
      "walking/dataset2.csv ------ (480, 7)\n",
      "walking/dataset15.csv ------ (480, 7)\n",
      "walking/dataset1.csv ------ (480, 7)\n",
      "walking/dataset14.csv ------ (480, 7)\n",
      "walking/dataset6.csv ------ (480, 7)\n",
      "walking/dataset7.csv ------ (480, 7)\n",
      "cycling/dataset5.csv ------ (480, 7)\n",
      "cycling/dataset11.csv ------ (480, 7)\n",
      "cycling/dataset3.csv ------ (480, 7)\n",
      "cycling/dataset8.csv ------ (480, 7)\n",
      "cycling/dataset10.csv ------ (480, 7)\n",
      "cycling/dataset12.csv ------ (480, 7)\n",
      "cycling/dataset4.csv ------ (480, 7)\n",
      "cycling/dataset13.csv ------ (480, 7)\n",
      "cycling/dataset9.csv ------ (480, 7)\n",
      "cycling/dataset2.csv ------ (480, 7)\n",
      "cycling/dataset15.csv ------ (480, 7)\n",
      "cycling/dataset1.csv ------ (480, 7)\n",
      "cycling/dataset14.csv ------ (480, 7)\n",
      "cycling/dataset6.csv ------ (480, 7)\n",
      "cycling/dataset7.csv ------ (480, 7)\n",
      "lying/dataset5.csv ------ (480, 7)\n",
      "lying/dataset11.csv ------ (480, 7)\n",
      "lying/dataset3.csv ------ (480, 7)\n",
      "lying/dataset8.csv ------ (480, 7)\n",
      "lying/dataset10.csv ------ (480, 7)\n",
      "lying/dataset12.csv ------ (480, 7)\n",
      "lying/dataset4.csv ------ (480, 7)\n",
      "lying/dataset13.csv ------ (480, 7)\n",
      "lying/dataset9.csv ------ (480, 7)\n",
      "lying/dataset2.csv ------ (480, 7)\n",
      "lying/dataset15.csv ------ (480, 7)\n",
      "lying/dataset1.csv ------ (480, 7)\n",
      "lying/dataset14.csv ------ (480, 7)\n",
      "lying/dataset6.csv ------ (480, 7)\n",
      "lying/dataset7.csv ------ (480, 7)\n"
     ]
    }
   ],
   "source": [
    "import os\n",
    "import re\n",
    "\n",
    "data_directories = next(os.walk(\"./AReM\"))[1]\n",
    "\n",
    "all_csvs = []\n",
    "for folder in data_directories:\n",
    "    if folder in ['bending1', 'bending2']:\n",
    "        continue\n",
    "    folder_csvs = next(os.walk(f\"./AReM/{folder}\"))[2]\n",
    "    for data_csv in folder_csvs:\n",
    "        if data_csv == 'dataset8.csv' and folder == 'sitting':\n",
    "            # this dataset only has 479 instances\n",
    "            # it is possible to use it, but would require padding logic\n",
    "            continue\n",
    "        loaded_data = pd.read_csv(f\"./AReM/{folder}/{data_csv}\", skiprows=4)\n",
    "        print(f\"{folder}/{data_csv} ------ {loaded_data.shape}\")\n",
    "        \n",
    "        csv_id = re.findall(r'\\d+', data_csv)[0]\n",
    "        loaded_data['id'] = csv_id\n",
    "        loaded_data['all_id'] = f\"{folder}_{csv_id}\"\n",
    "        loaded_data['activity'] = folder\n",
    "        all_csvs.append(loaded_data)\n",
    "all_data = pd.concat(all_csvs)\n",
    "raw_model_features = ['avg_rss12', 'var_rss12', 'avg_rss13', 'var_rss13', 'avg_rss23', 'var_rss23']\n",
    "all_data.columns = ['timestamp', 'avg_rss12', 'var_rss12', 'avg_rss13', 'var_rss13', 'avg_rss23', 'var_rss23', 'id', 'all_id', 'activity']"
   ]
  },
  {
   "cell_type": "markdown",
   "id": "2aea2406",
   "metadata": {},
   "source": [
    "## 1.2 Data Treatment"
   ]
  },
  {
   "cell_type": "markdown",
   "id": "db62bc15",
   "metadata": {
    "scrolled": true
   },
   "source": [
    "### Separate in train and test"
   ]
  },
  {
   "cell_type": "code",
   "execution_count": 5,
   "id": "a3df1a10",
   "metadata": {},
   "outputs": [],
   "source": [
    "# choose ids to use for test\n",
    "ids_for_test = np.random.choice(all_data['id'].unique(), size = 4, replace=False)\n",
    "\n",
    "d_train =  all_data[~all_data['id'].isin(ids_for_test)]\n",
    "d_test = all_data[all_data['id'].isin(ids_for_test)]"
   ]
  },
  {
   "cell_type": "code",
   "execution_count": 6,
   "id": "9fcabe53",
   "metadata": {
    "pycharm": {
     "name": "#%%\n"
    }
   },
   "outputs": [
    {
     "data": {
      "text/plain": [
       "(35520, 10)"
      ]
     },
     "execution_count": 6,
     "metadata": {},
     "output_type": "execute_result"
    }
   ],
   "source": [
    "all_data.shape"
   ]
  },
  {
   "cell_type": "code",
   "execution_count": 7,
   "id": "4f422360",
   "metadata": {},
   "outputs": [],
   "source": [
    "###  Normalize Features"
   ]
  },
  {
   "cell_type": "markdown",
   "id": "1c801cff",
   "metadata": {},
   "source": [
    "###  Normalize Features"
   ]
  },
  {
   "cell_type": "code",
   "execution_count": 8,
   "id": "d627aeda",
   "metadata": {},
   "outputs": [],
   "source": [
    "class NumericalNormalizer:\n",
    "    def __init__(self, fields: list):\n",
    "        self.metrics = {}\n",
    "        self.fields = fields\n",
    "\n",
    "    def fit(self, df: pd.DataFrame ) -> list:\n",
    "        means = df[self.fields].mean()\n",
    "        std = df[self.fields].std()\n",
    "        for field in self.fields:\n",
    "            field_mean = means[field]\n",
    "            field_stddev = std[field]\n",
    "            self.metrics[field] = {'mean': field_mean, 'std': field_stddev}\n",
    "\n",
    "    def transform(self, df: pd.DataFrame) -> pd.DataFrame:\n",
    "        # Transform to zero-mean and unit variance.\n",
    "        for field in self.fields:\n",
    "            f_mean = self.metrics[field]['mean']\n",
    "            f_stddev = self.metrics[field]['std']\n",
    "            # OUTLIER CLIPPING to [avg-3*std, avg+3*avg]\n",
    "            df[field] = df[field].apply(lambda x: f_mean - 3 * f_stddev if x < f_mean - 3 * f_stddev else x)\n",
    "            df[field] = df[field].apply(lambda x: f_mean + 3 * f_stddev if x > f_mean + 3 * f_stddev else x)\n",
    "            if f_stddev > 1e-5:\n",
    "                df[f'p_{field}_normalized'] = df[field].apply(lambda x: ((x - f_mean)/f_stddev))\n",
    "            else:\n",
    "                df[f'p_{field}_normalized'] = df[field].apply(lambda x: x * 0)\n",
    "        return df"
   ]
  },
  {
   "cell_type": "code",
   "execution_count": 9,
   "id": "a622fbed",
   "metadata": {},
   "outputs": [],
   "source": [
    "#all features are numerical\n",
    "normalizor = NumericalNormalizer(raw_model_features)\n",
    "normalizor.fit(d_train)\n",
    "d_train_normalized = normalizor.transform(d_train)\n",
    "d_test_normalized = normalizor.transform(d_test)"
   ]
  },
  {
   "cell_type": "markdown",
   "id": "58ed80b8",
   "metadata": {},
   "source": [
    "### Features"
   ]
  },
  {
   "cell_type": "code",
   "execution_count": 10,
   "id": "3be4cdd7",
   "metadata": {},
   "outputs": [],
   "source": [
    "model_features = [f\"p_{x}_normalized\" for x in raw_model_features]\n",
    "time_feat = 'timestamp'\n",
    "label_feat = 'activity'\n",
    "sequence_id_feat = 'all_id'\n",
    "\n",
    "plot_feats = {\n",
    "    'p_avg_rss12_normalized': \"Mean Chest <-> Right Ankle\",\n",
    "    'p_var_rss12_normalized': \"STD Chest <-> Right Ankle\",\n",
    "    'p_avg_rss13_normalized': \"Mean Chest <-> Left Ankle\",\n",
    "    'p_var_rss13_normalized': \"STD Chest <-> Left Ankle\",\n",
    "    'p_avg_rss23_normalized': \"Mean Right Ankle <-> Left Ankle\",\n",
    "    'p_var_rss23_normalized': \"STD Right Ankle <-> Left Ankle\",\n",
    "}"
   ]
  },
  {
   "cell_type": "markdown",
   "id": "b9e08290",
   "metadata": {},
   "source": [
    "### Transform the dataset from multi-label to binary classification"
   ]
  },
  {
   "cell_type": "code",
   "execution_count": 11,
   "id": "f1cba387",
   "metadata": {},
   "outputs": [],
   "source": [
    "# possible activities ['cycling', 'lying', 'sitting', 'standing', 'walking']\n",
    "#Select the activity to predict\n",
    "chosen_activity = 'cycling'\n",
    "\n",
    "d_train_normalized['label'] = d_train_normalized['activity'].apply(lambda x: int(x == chosen_activity))\n",
    "d_test_normalized['label'] = d_test_normalized['activity'].apply(lambda x: int(x == chosen_activity))"
   ]
  },
  {
   "cell_type": "code",
   "execution_count": 12,
   "id": "35cf4835",
   "metadata": {},
   "outputs": [],
   "source": [
    "def df_to_numpy(df, model_feats, label_feat, group_by_feat, timestamp_Feat):\n",
    "    sequence_length = len(df[timestamp_Feat].unique())\n",
    "\n",
    "    data_tensor = np.zeros(\n",
    "        (len(df[group_by_feat].unique()), sequence_length, len(model_feats)))\n",
    "    labels_tensor = np.zeros((len(df[group_by_feat].unique()), 1))\n",
    "\n",
    "    for i, name in enumerate(df[group_by_feat].unique()):\n",
    "        name_data = df[df[group_by_feat] == name]\n",
    "        sorted_data = name_data.sort_values(timestamp_Feat)\n",
    "\n",
    "        data_x = sorted_data[model_feats].values\n",
    "        labels = sorted_data[label_feat].values\n",
    "        assert labels.sum() == 0 or labels.sum() == len(labels)\n",
    "        data_tensor[i, :, :] = data_x\n",
    "        labels_tensor[i, :] = labels[0]\n",
    "    return data_tensor, labels_tensor"
   ]
  },
  {
   "cell_type": "code",
   "execution_count": 13,
   "id": "c5b4ab48",
   "metadata": {},
   "outputs": [],
   "source": [
    "X_train, y_train = df_to_numpy(d_train_normalized, model_features, 'label', sequence_id_feat, time_feat)\n",
    "\n",
    "X_test, y_test = df_to_numpy(d_test_normalized, model_features, 'label', sequence_id_feat, time_feat)"
   ]
  },
  {
   "cell_type": "markdown",
   "id": "f1c4aa88",
   "metadata": {},
   "source": [
    "___\n",
    "# 2. Model\n"
   ]
  },
  {
   "cell_type": "markdown",
   "id": "15684c2c",
   "metadata": {},
   "source": [
    "This example notebook requires Tensorflow!\n",
    "\n",
    "Install it if you haven't already:\n",
    "```\n",
    "!pip install tensorflow\n",
    "```"
   ]
  },
  {
   "cell_type": "markdown",
   "id": "992d6c20",
   "metadata": {},
   "source": [
    "## 2.1 Model Definition"
   ]
  },
  {
   "cell_type": "code",
   "execution_count": 14,
   "id": "2b7b9cb5",
   "metadata": {},
   "outputs": [],
   "source": [
    "import tensorflow as tf\n",
    "\n",
    "inputs = tf.keras.layers.Input(shape=(None, 6))\n",
    "lstm1 = tf.keras.layers.LSTM(64)(inputs)\n",
    "ff1 = tf.keras.layers.Dense(64, activation='relu')(lstm1)\n",
    "ff2 = tf.keras.layers.Dense(1, activation='sigmoid')(ff1)\n",
    "model = tf.keras.models.Model(inputs=inputs, outputs=ff2)"
   ]
  },
  {
   "cell_type": "markdown",
   "id": "9a01e96a",
   "metadata": {},
   "source": [
    "## 2.2 Model Training"
   ]
  },
  {
   "cell_type": "code",
   "execution_count": 15,
   "id": "abb35ac5",
   "metadata": {},
   "outputs": [
    {
     "name": "stdout",
     "output_type": "stream",
     "text": [
      "Epoch 1/20\n",
      "1/1 [==============================] - 5s 5s/step - loss: 0.7213 - val_loss: 0.7018\n",
      "Epoch 2/20\n",
      "1/1 [==============================] - 0s 492ms/step - loss: 0.6917 - val_loss: 0.6767\n",
      "Epoch 3/20\n",
      "1/1 [==============================] - 0s 427ms/step - loss: 0.6658 - val_loss: 0.6550\n",
      "Epoch 4/20\n",
      "1/1 [==============================] - 0s 477ms/step - loss: 0.6430 - val_loss: 0.6354\n",
      "Epoch 5/20\n",
      "1/1 [==============================] - 1s 540ms/step - loss: 0.6225 - val_loss: 0.6177\n",
      "Epoch 6/20\n",
      "1/1 [==============================] - 1s 514ms/step - loss: 0.6037 - val_loss: 0.6013\n",
      "Epoch 7/20\n",
      "1/1 [==============================] - 1s 512ms/step - loss: 0.5863 - val_loss: 0.5853\n",
      "Epoch 8/20\n",
      "1/1 [==============================] - 0s 476ms/step - loss: 0.5697 - val_loss: 0.5691\n",
      "Epoch 9/20\n",
      "1/1 [==============================] - 0s 431ms/step - loss: 0.5531 - val_loss: 0.5523\n",
      "Epoch 10/20\n",
      "1/1 [==============================] - 0s 432ms/step - loss: 0.5364 - val_loss: 0.5350\n",
      "Epoch 11/20\n",
      "1/1 [==============================] - 0s 463ms/step - loss: 0.5192 - val_loss: 0.5173\n",
      "Epoch 12/20\n",
      "1/1 [==============================] - 0s 404ms/step - loss: 0.5015 - val_loss: 0.4988\n",
      "Epoch 13/20\n",
      "1/1 [==============================] - 0s 376ms/step - loss: 0.4831 - val_loss: 0.4795\n",
      "Epoch 14/20\n",
      "1/1 [==============================] - 0s 381ms/step - loss: 0.4641 - val_loss: 0.4593\n",
      "Epoch 15/20\n",
      "1/1 [==============================] - 0s 364ms/step - loss: 0.4443 - val_loss: 0.4382\n",
      "Epoch 16/20\n",
      "1/1 [==============================] - 0s 369ms/step - loss: 0.4236 - val_loss: 0.4156\n",
      "Epoch 17/20\n",
      "1/1 [==============================] - 1s 687ms/step - loss: 0.4019 - val_loss: 0.3919\n",
      "Epoch 18/20\n",
      "1/1 [==============================] - 1s 688ms/step - loss: 0.3790 - val_loss: 0.3667\n",
      "Epoch 19/20\n",
      "1/1 [==============================] - 1s 522ms/step - loss: 0.3551 - val_loss: 0.3405\n",
      "Epoch 20/20\n",
      "1/1 [==============================] - 1s 500ms/step - loss: 0.3305 - val_loss: 0.3134\n"
     ]
    },
    {
     "data": {
      "text/plain": [
       "<keras.callbacks.History at 0x7f89b804b290>"
      ]
     },
     "execution_count": 15,
     "metadata": {},
     "output_type": "execute_result"
    }
   ],
   "source": [
    "model.compile(loss=tf.keras.losses.BinaryCrossentropy(),\n",
    "              optimizer=tf.keras.optimizers.Adam(0.001))\n",
    "\n",
    "model.fit(X_train, y_train, epochs=20, batch_size=55, validation_data=(X_test, y_test))"
   ]
  },
  {
   "cell_type": "markdown",
   "id": "acf04894",
   "metadata": {},
   "source": [
    "---\n",
    "# 3. TimeSHAP\n",
    "---"
   ]
  },
  {
   "cell_type": "code",
   "execution_count": 16,
   "id": "3d33a0da",
   "metadata": {},
   "outputs": [],
   "source": [
    "import timeshap"
   ]
  },
  {
   "cell_type": "markdown",
   "id": "d9212121",
   "metadata": {},
   "source": [
    "### Model entry point"
   ]
  },
  {
   "cell_type": "code",
   "execution_count": 17,
   "id": "396cb0ac",
   "metadata": {},
   "outputs": [],
   "source": [
    "f = lambda x: model.predict(x)"
   ]
  },
  {
   "cell_type": "markdown",
   "id": "a66a417b",
   "metadata": {},
   "source": [
    "### Baseline event"
   ]
  },
  {
   "cell_type": "code",
   "execution_count": 18,
   "id": "d8d7584d",
   "metadata": {},
   "outputs": [],
   "source": [
    "from timeshap.utils import calc_avg_event\n",
    "average_event = calc_avg_event(d_train_normalized, numerical_feats=model_features, categorical_feats=[])"
   ]
  },
  {
   "cell_type": "markdown",
   "id": "2b707fa7",
   "metadata": {},
   "source": [
    "### Average score over baseline"
   ]
  },
  {
   "cell_type": "code",
   "execution_count": 19,
   "id": "b254545e",
   "metadata": {},
   "outputs": [],
   "source": [
    "from timeshap.utils import get_avg_score_with_avg_event\n",
    "avg_score_over_len = get_avg_score_with_avg_event(f, average_event, top=480)"
   ]
  },
  {
   "cell_type": "markdown",
   "id": "873b1de2",
   "metadata": {},
   "source": [
    "## 3.1 Local Explanations"
   ]
  },
  {
   "cell_type": "code",
   "execution_count": 20,
   "id": "df877e9e",
   "metadata": {},
   "outputs": [],
   "source": [
    "positive_sequence_id = f\"cycling_{np.random.choice(ids_for_test)}\"\n",
    "pos_x_pd = d_test_normalized[d_test_normalized['all_id'] == positive_sequence_id]\n",
    "\n",
    "# select model features only\n",
    "pos_x_data = pos_x_pd[model_features]\n",
    "# convert the instance to numpy so TimeSHAP receives it\n",
    "pos_x_data = np.expand_dims(pos_x_data.to_numpy().copy(), axis=0)"
   ]
  },
  {
   "cell_type": "markdown",
   "id": "9dc37382",
   "metadata": {},
   "source": [
    "### Local Report on positive instance"
   ]
  },
  {
   "cell_type": "code",
   "execution_count": 21,
   "id": "be908ef3",
   "metadata": {
    "scrolled": false
   },
   "outputs": [
    {
     "name": "stdout",
     "output_type": "stream",
     "text": [
      "No path to explainer data provided. Calculating data\n"
     ]
    },
    {
     "data": {
      "text/html": [
       "\n",
       "<div id=\"altair-viz-e4f2f38d20ad4c65ac9099321e2e23d1\"></div>\n",
       "<script type=\"text/javascript\">\n",
       "  (function(spec, embedOpt){\n",
       "    let outputDiv = document.currentScript.previousElementSibling;\n",
       "    if (outputDiv.id !== \"altair-viz-e4f2f38d20ad4c65ac9099321e2e23d1\") {\n",
       "      outputDiv = document.getElementById(\"altair-viz-e4f2f38d20ad4c65ac9099321e2e23d1\");\n",
       "    }\n",
       "    const paths = {\n",
       "      \"vega\": \"https://cdn.jsdelivr.net/npm//vega@5?noext\",\n",
       "      \"vega-lib\": \"https://cdn.jsdelivr.net/npm//vega-lib?noext\",\n",
       "      \"vega-lite\": \"https://cdn.jsdelivr.net/npm//vega-lite@4.8.1?noext\",\n",
       "      \"vega-embed\": \"https://cdn.jsdelivr.net/npm//vega-embed@6?noext\",\n",
       "    };\n",
       "\n",
       "    function loadScript(lib) {\n",
       "      return new Promise(function(resolve, reject) {\n",
       "        var s = document.createElement('script');\n",
       "        s.src = paths[lib];\n",
       "        s.async = true;\n",
       "        s.onload = () => resolve(paths[lib]);\n",
       "        s.onerror = () => reject(`Error loading script: ${paths[lib]}`);\n",
       "        document.getElementsByTagName(\"head\")[0].appendChild(s);\n",
       "      });\n",
       "    }\n",
       "\n",
       "    function showError(err) {\n",
       "      outputDiv.innerHTML = `<div class=\"error\" style=\"color:red;\">${err}</div>`;\n",
       "      throw err;\n",
       "    }\n",
       "\n",
       "    function displayChart(vegaEmbed) {\n",
       "      vegaEmbed(outputDiv, spec, embedOpt)\n",
       "        .catch(err => showError(`Javascript Error: ${err.message}<br>This usually means there's a typo in your chart specification. See the javascript console for the full traceback.`));\n",
       "    }\n",
       "\n",
       "    if(typeof define === \"function\" && define.amd) {\n",
       "      requirejs.config({paths});\n",
       "      require([\"vega-embed\"], displayChart, err => showError(`Error loading script: ${err.message}`));\n",
       "    } else if (typeof vegaEmbed === \"function\") {\n",
       "      displayChart(vegaEmbed);\n",
       "    } else {\n",
       "      loadScript(\"vega\")\n",
       "        .then(() => loadScript(\"vega-lite\"))\n",
       "        .then(() => loadScript(\"vega-embed\"))\n",
       "        .catch(showError)\n",
       "        .then(() => displayChart(vegaEmbed));\n",
       "    }\n",
       "  })({\"config\": {\"axis\": {\"domain\": true, \"domainColor\": \"#666F89\", \"grid\": false, \"gridCap\": \"round\", \"gridColor\": \"#B3B7C4\", \"gridDash\": [2, 4], \"gridWidth\": 0.5, \"labelColor\": \"#666F89\", \"labelFont\": \"Roboto, Arial, sans-serif\", \"labelPadding\": 2, \"tickColor\": \"#666F89\", \"tickOpacity\": 0.5, \"tickSize\": 4, \"titleColor\": \"#19274E\", \"titleFont\": \"Roboto, Arial, sans-serif\", \"titleFontSize\": 12}, \"axisBand\": {\"domain\": true, \"labelPadding\": 4, \"ticks\": false}, \"axisY\": {\"domain\": false, \"titleAlign\": \"left\", \"titleAngle\": 0, \"titleX\": -20, \"titleY\": -10}, \"legend\": {\"labelColor\": \"#666F89\", \"labelFont\": \"Roboto, Arial, sans-serif\", \"labelFontSize\": 12, \"symbolSize\": 40, \"titleColor\": \"#19274E\", \"titleFont\": \"Roboto, Arial, sans-serif\", \"titleFontSize\": 12, \"titlePadding\": 4}, \"arc\": {\"stroke\": \"#FFFFFF\", \"strokeWidth\": 1}, \"bar\": {\"fill\": \"#2770EB\", \"stroke\": null}, \"line\": {\"stroke\": \"#2770EB\", \"strokeWidth\": 2}, \"path\": {\"stroke\": \"#2770EB\", \"strokeWidth\": 0.5}, \"point\": {\"fill\": \"#2770EB\", \"shape\": \"circle\", \"filled\": true}, \"rect\": {\"fill\": \"#2770EB\"}, \"rule\": {\"stroke\": \"#666F89\"}, \"shape\": {\"stroke\": \"#2770EB\"}, \"text\": {\"color\": \"#19274E\", \"font\": \"Roboto, Arial, sans-serif\", \"fontSize\": 12}, \"range\": {\"category\": [\"#2770EB\", \"#77B98A\", \"#DA5252\", \"#FFC400\", \"#A87AEA\", \"#00A39E\", \"#19274E\"], \"diverging\": [\"#006360\", \"#2BB3AE\", \"#96D9D7\", \"#FFFFFF\", \"#EDAAAA\", \"#DA5252\", \"#811D1D\"], \"heatmap\": [\"#18448F\", \"#1B4EA5\", \"#2770EB\", \"#4C88EE\", \"#82ACF3\", \"#A6C4F7\", \"#E9F1FD\"], \"ramp\": [\"#18448F\", \"#1B4EA5\", \"#2770EB\", \"#4C88EE\", \"#82ACF3\", \"#A6C4F7\", \"#E9F1FD\"]}, \"background\": \"#FFFFFF\", \"group\": {\"fill\": \"#FFFFFF\"}, \"header\": {\"labelColor\": \"#19274E\", \"labelFont\": \"Roboto, Arial, sans-serif\", \"labelFontSize\": 12, \"titleColor\": \"#19274E\", \"titleFont\": \"Roboto, Arial, sans-serif\", \"titleFontSize\": 16}, \"title\": {\"anchor\": \"start\", \"color\": \"#19274E\", \"font\": \"Roboto, Arial, sans-serif\", \"fontSize\": 20, \"fontWeight\": \"bold\", \"offset\": 20, \"subtitleColor\": \"#19274E\", \"subtitleFontSize\": 16}, \"view\": {\"continuousHeight\": 300, \"continuousWidth\": 400, \"stroke\": \"transparent\"}}, \"hconcat\": [{\"layer\": [{\"mark\": {\"type\": \"area\", \"opacity\": 0.5}, \"encoding\": {\"color\": {\"type\": \"nominal\", \"field\": \"Coalition\", \"legend\": {\"fillColor\": \"white\", \"labelFontSize\": 14, \"labelLimit\": 0, \"orient\": \"top-left\", \"symbolSize\": 50, \"symbolStrokeWidth\": 0, \"title\": null}, \"scale\": {\"domain\": [\"Sum of contribution of events \\u2264 t\"], \"range\": [\"#618FE0\"]}}, \"x\": {\"type\": \"quantitative\", \"axis\": {\"labelFontSize\": 15, \"title\": \"t (event index)\", \"titleFontSize\": 15}, \"field\": \"t (event index)\"}, \"y\": {\"type\": \"quantitative\", \"axis\": {\"grid\": true, \"labelFontSize\": 15, \"titleFontSize\": 15, \"titleX\": -28}, \"field\": \"Shapley Value\", \"scale\": {\"domain\": [-0.05, 1]}}}}, {\"mark\": \"line\", \"encoding\": {\"color\": {\"type\": \"nominal\", \"field\": \"Coalition\", \"legend\": {\"fillColor\": \"white\", \"labelFontSize\": 14, \"labelLimit\": 0, \"orient\": \"top-left\", \"symbolSize\": 50, \"symbolStrokeWidth\": 0, \"title\": null}, \"scale\": {\"domain\": [\"Sum of contribution of events \\u2264 t\"], \"range\": [\"#618FE0\"]}}, \"x\": {\"type\": \"quantitative\", \"axis\": {\"labelFontSize\": 15, \"title\": \"t (event index)\", \"titleFontSize\": 15}, \"field\": \"t (event index)\"}, \"y\": {\"type\": \"quantitative\", \"axis\": {\"grid\": true, \"labelFontSize\": 15, \"titleFontSize\": 15, \"titleX\": -28}, \"field\": \"Shapley Value\", \"scale\": {\"domain\": [-0.05, 1]}}}}, {\"data\": {\"name\": \"data-00f9f9d497b03298be4af29d0ce28e00\"}, \"mark\": {\"type\": \"rule\", \"color\": \"#E17560\"}, \"encoding\": {\"x\": {\"type\": \"quantitative\", \"field\": \"x\"}}}, {\"data\": {\"name\": \"data-3a7b7db6c2eceac850927f663c8c65eb\"}, \"mark\": {\"type\": \"text\", \"angle\": 270, \"color\": \"#E17560\", \"fontSize\": 15, \"fontWeight\": \"bold\", \"text\": \"Pruning\"}, \"encoding\": {\"x\": {\"type\": \"quantitative\", \"field\": \"x\"}}}], \"data\": {\"name\": \"data-7986e88ba96495bf7c87c56cc7c94736\"}, \"height\": 225, \"width\": 350}, {\"layer\": [{\"mark\": \"rect\", \"encoding\": {\"color\": {\"type\": \"quantitative\", \"field\": \"rounded\", \"legend\": {\"gradientLength\": 225, \"gradientThickness\": 10, \"labelFontSize\": 15, \"orient\": \"right\"}, \"scale\": {\"domain\": [-0.5, 0.5], \"range\": [\"#5f8fd6\", \"#99c3fb\", \"#f5f5f5\", \"#ffaa92\", \"#d16f5b\"]}, \"title\": null}, \"x\": {\"type\": \"ordinal\", \"axis\": {\"title\": \"Shapley Value\", \"titleFontSize\": 15}, \"field\": \"column\"}, \"y\": {\"type\": \"ordinal\", \"axis\": {\"domain\": false, \"labelFontSize\": 15, \"title\": \"Event\", \"titleFontSize\": 15, \"titleX\": -49}, \"field\": \"Feature\", \"sort\": [\"Event -1\", \"Event -2\", \"Event -3\", \"Event -4\", \"Event -5\", \"Event -6\", \"Event -7\", \"Event -8\", \"Event -9\", \"Event -10\", \"Event -11\", \"Event -12\", \"Event -13\", \"Event -14\", \"Event -15\", \"Event -16\", \"Event -17\", \"Event -18\", \"Event -19\", \"Event -20\", \"Event -21\", \"Event -22\", \"Event -23\", \"Pruned Events\"]}}}, {\"mark\": {\"type\": \"text\", \"align\": \"right\", \"baseline\": \"middle\", \"color\": \"#798184\", \"dx\": 18, \"fontSize\": 15}, \"encoding\": {\"text\": {\"type\": \"nominal\", \"field\": \"rounded_str\"}, \"x\": {\"type\": \"ordinal\", \"axis\": {\"domain\": false, \"labels\": false, \"title\": \"Shapley Value\", \"titleX\": 43}, \"field\": \"column\"}, \"y\": {\"type\": \"ordinal\", \"axis\": {\"domain\": false, \"labelFontSize\": 15, \"title\": \"Event\", \"titleFontSize\": 15, \"titleX\": -49}, \"field\": \"Feature\", \"sort\": [\"Event -1\", \"Event -2\", \"Event -3\", \"Event -4\", \"Event -5\", \"Event -6\", \"Event -7\", \"Event -8\", \"Event -9\", \"Event -10\", \"Event -11\", \"Event -12\", \"Event -13\", \"Event -14\", \"Event -15\", \"Event -16\", \"Event -17\", \"Event -18\", \"Event -19\", \"Event -20\", \"Event -21\", \"Event -22\", \"Event -23\", \"Pruned Events\"]}}}], \"data\": {\"name\": \"data-5575c79705e1947f6b3c7a3d32e9ce79\"}, \"height\": 225, \"width\": 60}, {\"layer\": [{\"data\": {\"name\": \"data-db236b1aa8c68115e263b43b64ad3a5b\"}, \"mark\": {\"type\": \"bar\", \"size\": 15, \"thickness\": 1}, \"encoding\": {\"x\": {\"type\": \"quantitative\", \"axis\": {\"grid\": true, \"labelFontSize\": 15, \"title\": \"Shapley Value\", \"titleFontSize\": 15}, \"field\": \"Shapley Value\", \"scale\": {\"domain\": [-0.1, 0.4]}}, \"y\": {\"type\": \"nominal\", \"axis\": {\"labelFontSize\": 15, \"title\": \"Feature\", \"titleFontSize\": 15, \"titleX\": -61}, \"field\": \"Feature\", \"sort\": {\"field\": \"sort_col\", \"order\": \"descending\"}}}}, {\"data\": {\"name\": \"data-9c00aa9dc2b1c1a0b4bf9b34ead12925\"}, \"mark\": {\"type\": \"rule\", \"color\": \"#798184\"}, \"encoding\": {\"x\": {\"type\": \"quantitative\", \"field\": \"x\"}}}], \"height\": 225, \"width\": 190}, {\"hconcat\": [{\"layer\": [{\"mark\": \"rect\", \"encoding\": {\"color\": {\"type\": \"quantitative\", \"field\": \"rounded\", \"legend\": null, \"scale\": {\"domain\": [-0.5, 0.5], \"range\": [\"#5f8fd6\", \"#99c3fb\", \"#f5f5f5\", \"#ffaa92\", \"#d16f5b\"]}, \"title\": null}, \"x\": {\"type\": \"nominal\", \"axis\": {\"titleFontSize\": 15}, \"field\": \"Event\"}, \"y\": {\"type\": \"nominal\", \"axis\": {\"domain\": false, \"labels\": false, \"title\": null}, \"field\": \"Feature\"}}}, {\"mark\": {\"type\": \"text\", \"align\": \"right\", \"baseline\": \"middle\", \"color\": \"#798184\", \"dx\": 18, \"fontSize\": 15}, \"encoding\": {\"text\": {\"type\": \"nominal\", \"field\": \"rounded_str\"}, \"x\": {\"type\": \"nominal\", \"axis\": {\"domain\": false, \"labelAngle\": 0, \"labelFontSize\": 15, \"labelOffset\": 24, \"labelPadding\": 30, \"orient\": \"top\", \"title\": null}, \"field\": \"Event\"}, \"y\": {\"type\": \"nominal\", \"axis\": {\"domain\": false, \"labels\": false, \"title\": null}, \"field\": \"Feature\"}}}], \"data\": {\"name\": \"data-55a8e99b733eb12eff75c91808ac08bc\"}, \"height\": 225, \"width\": 66.66666666666667}, {\"layer\": [{\"mark\": \"rect\", \"encoding\": {\"color\": {\"type\": \"quantitative\", \"field\": \"rounded\", \"legend\": {\"gradientLength\": 225, \"gradientThickness\": 10, \"labelFontSize\": 15, \"orient\": \"right\"}, \"scale\": {\"domain\": [-0.5, 0.5], \"range\": [\"#5f8fd6\", \"#99c3fb\", \"#f5f5f5\", \"#ffaa92\", \"#d16f5b\"]}, \"title\": null}, \"x\": {\"type\": \"nominal\", \"axis\": {\"titleFontSize\": 15}, \"field\": \"Event\", \"sort\": [\"Event -3\", \"Event -2\"]}, \"y\": {\"type\": \"nominal\", \"axis\": {\"domain\": false, \"labelFontSize\": 15, \"title\": null}, \"field\": \"Feature\", \"sort\": [\"STD Chest <-> Left Ankle\", \"STD Right Ankle <-> Left Ankle\"]}}}, {\"mark\": {\"type\": \"text\", \"align\": \"right\", \"baseline\": \"middle\", \"color\": \"#798184\", \"dx\": 18, \"fontSize\": 15}, \"encoding\": {\"text\": {\"type\": \"nominal\", \"field\": \"rounded_str\"}, \"x\": {\"type\": \"nominal\", \"axis\": {\"domain\": false, \"labelAngle\": 30, \"labelFontSize\": 15, \"orient\": \"top\", \"title\": \"Shapley Value\", \"titleX\": 172, \"titleY\": 245}, \"field\": \"Event\", \"sort\": [\"Event -3\", \"Event -2\"]}, \"y\": {\"type\": \"nominal\", \"axis\": {\"domain\": false, \"labelFontSize\": 15, \"title\": null}, \"field\": \"Feature\", \"sort\": [\"STD Chest <-> Left Ankle\", \"STD Right Ankle <-> Left Ankle\"]}}}], \"data\": {\"name\": \"data-7c99e2bb00bef3cb5b2bc364c1948bef\"}, \"height\": 225, \"width\": 160}], \"resolve\": {\"scale\": {\"color\": \"independent\"}}}], \"resolve\": {\"scale\": {\"color\": \"independent\"}}, \"$schema\": \"https://vega.github.io/schema/vega-lite/v4.8.1.json\", \"datasets\": {\"data-7986e88ba96495bf7c87c56cc7c94736\": [{\"Coalition\": \"Sum of contribution of events > t\", \"t (event index)\": 0, \"Shapley Value\": 0.0}, {\"Coalition\": \"Sum of contribution of events \\u2264 t\", \"t (event index)\": 0, \"Shapley Value\": 0.4349707067012787}, {\"Coalition\": \"Sum of contribution of events > t\", \"t (event index)\": -1, \"Shapley Value\": 0.02786177396774292}, {\"Coalition\": \"Sum of contribution of events \\u2264 t\", \"t (event index)\": -1, \"Shapley Value\": 0.40710893273353577}, {\"Coalition\": \"Sum of contribution of events > t\", \"t (event index)\": -2, \"Shapley Value\": 0.08316574990749359}, {\"Coalition\": \"Sum of contribution of events \\u2264 t\", \"t (event index)\": -2, \"Shapley Value\": 0.3518049567937851}, {\"Coalition\": \"Sum of contribution of events > t\", \"t (event index)\": -3, \"Shapley Value\": 0.133720263838768}, {\"Coalition\": \"Sum of contribution of events \\u2264 t\", \"t (event index)\": -3, \"Shapley Value\": 0.3012504428625107}, {\"Coalition\": \"Sum of contribution of events > t\", \"t (event index)\": -4, \"Shapley Value\": 0.1819434016942978}, {\"Coalition\": \"Sum of contribution of events \\u2264 t\", \"t (event index)\": -4, \"Shapley Value\": 0.2530273050069809}, {\"Coalition\": \"Sum of contribution of events > t\", \"t (event index)\": -5, \"Shapley Value\": 0.2044738084077835}, {\"Coalition\": \"Sum of contribution of events \\u2264 t\", \"t (event index)\": -5, \"Shapley Value\": 0.23049689829349518}, {\"Coalition\": \"Sum of contribution of events > t\", \"t (event index)\": -6, \"Shapley Value\": 0.22830425202846527}, {\"Coalition\": \"Sum of contribution of events \\u2264 t\", \"t (event index)\": -6, \"Shapley Value\": 0.20666645467281342}, {\"Coalition\": \"Sum of contribution of events > t\", \"t (event index)\": -7, \"Shapley Value\": 0.255110040307045}, {\"Coalition\": \"Sum of contribution of events \\u2264 t\", \"t (event index)\": -7, \"Shapley Value\": 0.1798606663942337}, {\"Coalition\": \"Sum of contribution of events > t\", \"t (event index)\": -8, \"Shapley Value\": 0.2915100157260895}, {\"Coalition\": \"Sum of contribution of events \\u2264 t\", \"t (event index)\": -8, \"Shapley Value\": 0.1434606909751892}, {\"Coalition\": \"Sum of contribution of events > t\", \"t (event index)\": -9, \"Shapley Value\": 0.3121499568223953}, {\"Coalition\": \"Sum of contribution of events \\u2264 t\", \"t (event index)\": -9, \"Shapley Value\": 0.12282074987888336}, {\"Coalition\": \"Sum of contribution of events > t\", \"t (event index)\": -10, \"Shapley Value\": 0.3317601829767227}, {\"Coalition\": \"Sum of contribution of events \\u2264 t\", \"t (event index)\": -10, \"Shapley Value\": 0.10321052372455597}, {\"Coalition\": \"Sum of contribution of events > t\", \"t (event index)\": -11, \"Shapley Value\": 0.3346547782421112}, {\"Coalition\": \"Sum of contribution of events \\u2264 t\", \"t (event index)\": -11, \"Shapley Value\": 0.10031592845916748}, {\"Coalition\": \"Sum of contribution of events > t\", \"t (event index)\": -12, \"Shapley Value\": 0.3450062572956085}, {\"Coalition\": \"Sum of contribution of events \\u2264 t\", \"t (event index)\": -12, \"Shapley Value\": 0.08996444940567017}, {\"Coalition\": \"Sum of contribution of events > t\", \"t (event index)\": -13, \"Shapley Value\": 0.35395675897598267}, {\"Coalition\": \"Sum of contribution of events \\u2264 t\", \"t (event index)\": -13, \"Shapley Value\": 0.08101394772529602}, {\"Coalition\": \"Sum of contribution of events > t\", \"t (event index)\": -14, \"Shapley Value\": 0.3656751960515976}, {\"Coalition\": \"Sum of contribution of events \\u2264 t\", \"t (event index)\": -14, \"Shapley Value\": 0.06929551064968109}, {\"Coalition\": \"Sum of contribution of events > t\", \"t (event index)\": -15, \"Shapley Value\": 0.3749373108148575}, {\"Coalition\": \"Sum of contribution of events \\u2264 t\", \"t (event index)\": -15, \"Shapley Value\": 0.060033395886421204}, {\"Coalition\": \"Sum of contribution of events > t\", \"t (event index)\": -16, \"Shapley Value\": 0.3855687826871872}, {\"Coalition\": \"Sum of contribution of events \\u2264 t\", \"t (event index)\": -16, \"Shapley Value\": 0.04940192401409149}, {\"Coalition\": \"Sum of contribution of events > t\", \"t (event index)\": -17, \"Shapley Value\": 0.38922014832496643}, {\"Coalition\": \"Sum of contribution of events \\u2264 t\", \"t (event index)\": -17, \"Shapley Value\": 0.045750558376312256}, {\"Coalition\": \"Sum of contribution of events > t\", \"t (event index)\": -18, \"Shapley Value\": 0.3913310617208481}, {\"Coalition\": \"Sum of contribution of events \\u2264 t\", \"t (event index)\": -18, \"Shapley Value\": 0.0436396449804306}, {\"Coalition\": \"Sum of contribution of events > t\", \"t (event index)\": -19, \"Shapley Value\": 0.3953825682401657}, {\"Coalition\": \"Sum of contribution of events \\u2264 t\", \"t (event index)\": -19, \"Shapley Value\": 0.039588138461112976}, {\"Coalition\": \"Sum of contribution of events > t\", \"t (event index)\": -20, \"Shapley Value\": 0.40050579607486725}, {\"Coalition\": \"Sum of contribution of events \\u2264 t\", \"t (event index)\": -20, \"Shapley Value\": 0.03446491062641144}, {\"Coalition\": \"Sum of contribution of events > t\", \"t (event index)\": -21, \"Shapley Value\": 0.4056229740381241}, {\"Coalition\": \"Sum of contribution of events \\u2264 t\", \"t (event index)\": -21, \"Shapley Value\": 0.029347732663154602}, {\"Coalition\": \"Sum of contribution of events > t\", \"t (event index)\": -22, \"Shapley Value\": 0.40831218659877777}, {\"Coalition\": \"Sum of contribution of events \\u2264 t\", \"t (event index)\": -22, \"Shapley Value\": 0.026658520102500916}, {\"Coalition\": \"Sum of contribution of events > t\", \"t (event index)\": -23, \"Shapley Value\": 0.4101140946149826}, {\"Coalition\": \"Sum of contribution of events \\u2264 t\", \"t (event index)\": -23, \"Shapley Value\": 0.02485661208629608}, {\"Coalition\": \"Sum of contribution of events > t\", \"t (event index)\": -24, \"Shapley Value\": 0.41379792988300323}, {\"Coalition\": \"Sum of contribution of events \\u2264 t\", \"t (event index)\": -24, \"Shapley Value\": 0.02117277681827545}, {\"Coalition\": \"Sum of contribution of events > t\", \"t (event index)\": -25, \"Shapley Value\": 0.4152585119009018}, {\"Coalition\": \"Sum of contribution of events \\u2264 t\", \"t (event index)\": -25, \"Shapley Value\": 0.019712194800376892}, {\"Coalition\": \"Sum of contribution of events > t\", \"t (event index)\": -26, \"Shapley Value\": 0.417110338807106}, {\"Coalition\": \"Sum of contribution of events \\u2264 t\", \"t (event index)\": -26, \"Shapley Value\": 0.01786036789417267}, {\"Coalition\": \"Sum of contribution of events > t\", \"t (event index)\": -27, \"Shapley Value\": 0.4197215586900711}, {\"Coalition\": \"Sum of contribution of events \\u2264 t\", \"t (event index)\": -27, \"Shapley Value\": 0.01524914801120758}, {\"Coalition\": \"Sum of contribution of events > t\", \"t (event index)\": -28, \"Shapley Value\": 0.42129427194595337}, {\"Coalition\": \"Sum of contribution of events \\u2264 t\", \"t (event index)\": -28, \"Shapley Value\": 0.013676434755325317}, {\"Coalition\": \"Sum of contribution of events > t\", \"t (event index)\": -29, \"Shapley Value\": 0.42359624803066254}, {\"Coalition\": \"Sum of contribution of events \\u2264 t\", \"t (event index)\": -29, \"Shapley Value\": 0.01137445867061615}, {\"Coalition\": \"Sum of contribution of events > t\", \"t (event index)\": -30, \"Shapley Value\": 0.4248519241809845}, {\"Coalition\": \"Sum of contribution of events \\u2264 t\", \"t (event index)\": -30, \"Shapley Value\": 0.01011878252029419}, {\"Coalition\": \"Sum of contribution of events > t\", \"t (event index)\": -31, \"Shapley Value\": 0.42470358312129974}, {\"Coalition\": \"Sum of contribution of events \\u2264 t\", \"t (event index)\": -31, \"Shapley Value\": 0.010267123579978943}, {\"Coalition\": \"Sum of contribution of events > t\", \"t (event index)\": -32, \"Shapley Value\": 0.4255567491054535}, {\"Coalition\": \"Sum of contribution of events \\u2264 t\", \"t (event index)\": -32, \"Shapley Value\": 0.009413957595825195}, {\"Coalition\": \"Sum of contribution of events > t\", \"t (event index)\": -33, \"Shapley Value\": 0.42628245055675507}, {\"Coalition\": \"Sum of contribution of events \\u2264 t\", \"t (event index)\": -33, \"Shapley Value\": 0.00868825614452362}, {\"Coalition\": \"Sum of contribution of events > t\", \"t (event index)\": -34, \"Shapley Value\": 0.42718085646629333}, {\"Coalition\": \"Sum of contribution of events \\u2264 t\", \"t (event index)\": -34, \"Shapley Value\": 0.0077898502349853516}, {\"Coalition\": \"Sum of contribution of events > t\", \"t (event index)\": -35, \"Shapley Value\": 0.42841726541519165}, {\"Coalition\": \"Sum of contribution of events \\u2264 t\", \"t (event index)\": -35, \"Shapley Value\": 0.006553441286087036}, {\"Coalition\": \"Sum of contribution of events > t\", \"t (event index)\": -36, \"Shapley Value\": 0.4292069524526596}, {\"Coalition\": \"Sum of contribution of events \\u2264 t\", \"t (event index)\": -36, \"Shapley Value\": 0.00576375424861908}, {\"Coalition\": \"Sum of contribution of events > t\", \"t (event index)\": -37, \"Shapley Value\": 0.42924514412879944}, {\"Coalition\": \"Sum of contribution of events \\u2264 t\", \"t (event index)\": -37, \"Shapley Value\": 0.005725562572479248}, {\"Coalition\": \"Sum of contribution of events > t\", \"t (event index)\": -38, \"Shapley Value\": 0.4295218735933304}, {\"Coalition\": \"Sum of contribution of events \\u2264 t\", \"t (event index)\": -38, \"Shapley Value\": 0.005448833107948303}, {\"Coalition\": \"Sum of contribution of events > t\", \"t (event index)\": -39, \"Shapley Value\": 0.4300806075334549}, {\"Coalition\": \"Sum of contribution of events \\u2264 t\", \"t (event index)\": -39, \"Shapley Value\": 0.0048900991678237915}, {\"Coalition\": \"Sum of contribution of events > t\", \"t (event index)\": -40, \"Shapley Value\": 0.43030916154384613}, {\"Coalition\": \"Sum of contribution of events \\u2264 t\", \"t (event index)\": -40, \"Shapley Value\": 0.004661545157432556}], \"data-00f9f9d497b03298be4af29d0ce28e00\": [{\"x\": -23}], \"data-3a7b7db6c2eceac850927f663c8c65eb\": [{\"x\": -25}], \"data-5575c79705e1947f6b3c7a3d32e9ce79\": [{\"Shapley Value\": 0.040295583126508605, \"Feature\": \"Event -1\", \"row\": 1, \"column\": 1, \"rounded\": 0.04, \"rounded_str\": \"0.040\"}, {\"Shapley Value\": 0.055344073886922834, \"Feature\": \"Event -2\", \"row\": 2, \"column\": 1, \"rounded\": 0.055, \"rounded_str\": \"0.055\"}, {\"Shapley Value\": 0.04290320869482436, \"Feature\": \"Event -3\", \"row\": 3, \"column\": 1, \"rounded\": 0.043, \"rounded_str\": \"0.043\"}, {\"Shapley Value\": 0.04174737159402808, \"Feature\": \"Event -4\", \"row\": 4, \"column\": 1, \"rounded\": 0.042, \"rounded_str\": \"0.042\"}, {\"Shapley Value\": 0.016017550383202905, \"Feature\": \"Event -5\", \"row\": 5, \"column\": 1, \"rounded\": 0.016, \"rounded_str\": \"0.016\"}, {\"Shapley Value\": 0.019527694968126758, \"Feature\": \"Event -6\", \"row\": 6, \"column\": 1, \"rounded\": 0.02, \"rounded_str\": \"0.020\"}, {\"Shapley Value\": 0.02216325075747405, \"Feature\": \"Event -7\", \"row\": 7, \"column\": 1, \"rounded\": 0.022, \"rounded_str\": \"0.022\"}, {\"Shapley Value\": 0.03344444803793484, \"Feature\": \"Event -8\", \"row\": 8, \"column\": 1, \"rounded\": 0.033, \"rounded_str\": \"0.033\"}, {\"Shapley Value\": 0.020920762738020293, \"Feature\": \"Event -9\", \"row\": 9, \"column\": 1, \"rounded\": 0.021, \"rounded_str\": \"0.021\"}, {\"Shapley Value\": 0.01703918803770449, \"Feature\": \"Event -10\", \"row\": 10, \"column\": 1, \"rounded\": 0.017, \"rounded_str\": \"0.017\"}, {\"Shapley Value\": 0.0030410721157493326, \"Feature\": \"Event -11\", \"row\": 11, \"column\": 1, \"rounded\": 0.003, \"rounded_str\": \"0.003\"}, {\"Shapley Value\": 0.011055915917470294, \"Feature\": \"Event -12\", \"row\": 12, \"column\": 1, \"rounded\": 0.011, \"rounded_str\": \"0.011\"}, {\"Shapley Value\": 0.009293624482516777, \"Feature\": \"Event -13\", \"row\": 13, \"column\": 1, \"rounded\": 0.009, \"rounded_str\": \"0.009\"}, {\"Shapley Value\": 0.013302332569085501, \"Feature\": \"Event -14\", \"row\": 14, \"column\": 1, \"rounded\": 0.013, \"rounded_str\": \"0.013\"}, {\"Shapley Value\": 0.010164462370603228, \"Feature\": \"Event -15\", \"row\": 15, \"column\": 1, \"rounded\": 0.01, \"rounded_str\": \"0.010\"}, {\"Shapley Value\": 0.011999310143740172, \"Feature\": \"Event -16\", \"row\": 16, \"column\": 1, \"rounded\": 0.012, \"rounded_str\": \"0.012\"}, {\"Shapley Value\": 0.004233685997602904, \"Feature\": \"Event -17\", \"row\": 17, \"column\": 1, \"rounded\": 0.004, \"rounded_str\": \"0.004\"}, {\"Shapley Value\": 0.0024051360675607647, \"Feature\": \"Event -18\", \"row\": 18, \"column\": 1, \"rounded\": 0.002, \"rounded_str\": \"0.002\"}, {\"Shapley Value\": 0.00541178322351088, \"Feature\": \"Event -19\", \"row\": 19, \"column\": 1, \"rounded\": 0.005, \"rounded_str\": \"0.005\"}, {\"Shapley Value\": 0.006668215129826904, \"Feature\": \"Event -20\", \"row\": 20, \"column\": 1, \"rounded\": 0.007, \"rounded_str\": \"0.007\"}, {\"Shapley Value\": 0.005875344523150278, \"Feature\": \"Event -21\", \"row\": 21, \"column\": 1, \"rounded\": 0.006, \"rounded_str\": \"0.006\"}, {\"Shapley Value\": 0.003259224621466661, \"Feature\": \"Event -22\", \"row\": 22, \"column\": 1, \"rounded\": 0.003, \"rounded_str\": \"0.003\"}, {\"Shapley Value\": 0.0036286991223823117, \"Feature\": \"Event -23\", \"row\": 23, \"column\": 1, \"rounded\": 0.004, \"rounded_str\": \"0.004\"}, {\"Shapley Value\": 0.03522876819186549, \"Feature\": \"Pruned Events\", \"row\": 24, \"column\": 1, \"rounded\": 0.035, \"rounded_str\": \"0.035\"}], \"data-db236b1aa8c68115e263b43b64ad3a5b\": [{\"Random seed\": 42, \"NSamples\": 32000, \"Feature\": \"Mean Chest <-> Right Ankle\", \"Shapley Value\": 0.02914188773859122, \"sort_col\": 0.02914188773859122}, {\"Random seed\": 42, \"NSamples\": 32000, \"Feature\": \"STD Chest <-> Right Ankle\", \"Shapley Value\": 0.04887911301283615, \"sort_col\": 0.04887911301283615}, {\"Random seed\": 42, \"NSamples\": 32000, \"Feature\": \"Mean Chest <-> Left Ankle\", \"Shapley Value\": 0.04391458502837603, \"sort_col\": 0.04391458502837603}, {\"Random seed\": 42, \"NSamples\": 32000, \"Feature\": \"STD Chest <-> Left Ankle\", \"Shapley Value\": 0.11743359139987375, \"sort_col\": 0.11743359139987375}, {\"Random seed\": 42, \"NSamples\": 32000, \"Feature\": \"Mean Right Ankle <-> Left Ankle\", \"Shapley Value\": 0.03448687117724189, \"sort_col\": 0.03448687117724189}, {\"Random seed\": 42, \"NSamples\": 32000, \"Feature\": \"STD Right Ankle <-> Left Ankle\", \"Shapley Value\": 0.12979027302492224, \"sort_col\": 0.12979027302492224}, {\"Random seed\": 42, \"NSamples\": 32000, \"Feature\": \"Pruned Events\", \"Shapley Value\": 0.03132438531943743, \"sort_col\": 0.03132438531943743}], \"data-9c00aa9dc2b1c1a0b4bf9b34ead12925\": [{\"x\": 0}], \"data-55a8e99b733eb12eff75c91808ac08bc\": [{\"Event\": [\"Pruned\", \"Events\"], \"Feature\": \"Other features\", \"rounded\": 0.032, \"rounded_str\": \"0.032\"}], \"data-7c99e2bb00bef3cb5b2bc364c1948bef\": [{\"Event\": \"Other Events\", \"Feature\": \"STD Chest <-> Left Ankle\", \"Shapley Value\": 0.11558075598071493, \"rounded\": 0.116, \"rounded_str\": \"0.116\"}, {\"Event\": \"Other Events\", \"Feature\": \"Other Features\", \"Shapley Value\": 0.10694946638411945, \"rounded\": 0.107, \"rounded_str\": \"0.107\"}, {\"Event\": \"Other Events\", \"Feature\": \"STD Right Ankle <-> Left Ankle\", \"Shapley Value\": 0.08904821025946774, \"rounded\": 0.089, \"rounded_str\": \"0.089\"}, {\"Event\": \"Event -2\", \"Feature\": \"Other Features\", \"Shapley Value\": 0.025581421809537097, \"rounded\": 0.026, \"rounded_str\": \"0.026\"}, {\"Event\": \"Event -3\", \"Feature\": \"STD Right Ankle <-> Left Ankle\", \"Shapley Value\": 0.019621453883628903, \"rounded\": 0.02, \"rounded_str\": \"0.020\"}, {\"Event\": \"Event -2\", \"Feature\": \"STD Right Ankle <-> Left Ankle\", \"Shapley Value\": 0.019295151649959513, \"rounded\": 0.019, \"rounded_str\": \"0.019\"}, {\"Event\": \"Event -3\", \"Feature\": \"Other Features\", \"Shapley Value\": 0.01848201030303559, \"rounded\": 0.018, \"rounded_str\": \"0.018\"}, {\"Event\": \"Event -2\", \"Feature\": \"STD Chest <-> Left Ankle\", \"Shapley Value\": 0.00618864185516807, \"rounded\": 0.006, \"rounded_str\": \"0.006\"}, {\"Event\": \"Event -3\", \"Feature\": \"STD Chest <-> Left Ankle\", \"Shapley Value\": 0.0026089667800874017, \"rounded\": 0.003, \"rounded_str\": \"0.003\"}]}}, {\"mode\": \"vega-lite\"});\n",
       "</script>"
      ],
      "text/plain": [
       "alt.HConcatChart(...)"
      ]
     },
     "execution_count": 21,
     "metadata": {},
     "output_type": "execute_result"
    }
   ],
   "source": [
    "from timeshap.explainer import local_report\n",
    "\n",
    "pruning_dict = {'tol': 0.025}\n",
    "event_dict = {'rs': 42, 'nsamples': 32000}\n",
    "feature_dict = {'rs': 42, 'nsamples': 32000, 'feature_names': model_features, 'plot_features': plot_feats}\n",
    "cell_dict = {'rs': 42, 'nsamples': 32000, 'top_x_feats': 2, 'top_x_events': 2}\n",
    "local_report(f, pos_x_data, pruning_dict, event_dict, feature_dict, cell_dict=cell_dict, entity_uuid=positive_sequence_id, entity_col='all_id', baseline=average_event)"
   ]
  },
  {
   "cell_type": "markdown",
   "id": "f773fa6f",
   "metadata": {},
   "source": [
    "## 3.2 Global Explanations"
   ]
  },
  {
   "cell_type": "code",
   "execution_count": 22,
   "id": "f790f55b",
   "metadata": {},
   "outputs": [
    {
     "name": "stdout",
     "output_type": "stream",
     "text": [
      "Calculating pruning algorithm\n",
      "Calculating event data\n",
      "Calculating feat data\n",
      "Calculating pruning indexes\n"
     ]
    },
    {
     "data": {
      "text/html": [
       "<div>\n",
       "<style scoped>\n",
       "    .dataframe tbody tr th:only-of-type {\n",
       "        vertical-align: middle;\n",
       "    }\n",
       "\n",
       "    .dataframe tbody tr th {\n",
       "        vertical-align: top;\n",
       "    }\n",
       "\n",
       "    .dataframe thead th {\n",
       "        text-align: right;\n",
       "    }\n",
       "</style>\n",
       "<table border=\"1\" class=\"dataframe\">\n",
       "  <thead>\n",
       "    <tr style=\"text-align: right;\">\n",
       "      <th></th>\n",
       "      <th>Tolerance</th>\n",
       "      <th>Mean</th>\n",
       "      <th>Std</th>\n",
       "    </tr>\n",
       "  </thead>\n",
       "  <tbody>\n",
       "    <tr>\n",
       "      <th>0</th>\n",
       "      <td>0.05</td>\n",
       "      <td>18.00</td>\n",
       "      <td>1.414214</td>\n",
       "    </tr>\n",
       "    <tr>\n",
       "      <th>1</th>\n",
       "      <td>0.075</td>\n",
       "      <td>15.25</td>\n",
       "      <td>0.957427</td>\n",
       "    </tr>\n",
       "    <tr>\n",
       "      <th>2</th>\n",
       "      <td>No Pruning</td>\n",
       "      <td>480.00</td>\n",
       "      <td>0.000000</td>\n",
       "    </tr>\n",
       "  </tbody>\n",
       "</table>\n",
       "</div>"
      ],
      "text/plain": [
       "    Tolerance    Mean       Std\n",
       "0        0.05   18.00  1.414214\n",
       "1       0.075   15.25  0.957427\n",
       "2  No Pruning  480.00  0.000000"
      ]
     },
     "execution_count": 22,
     "metadata": {},
     "output_type": "execute_result"
    }
   ],
   "source": [
    "from timeshap.explainer import global_report\n",
    "\n",
    "pos_dataset = d_test_normalized[d_test_normalized['label'] == 1]\n",
    "schema = schema = list(pos_dataset.columns)\n",
    "pruning_dict = {'tol': [0.05, 0.075], 'path': 'outputs/prun_all_tf.csv'}\n",
    "event_dict = {'path': 'outputs/event_all_tf.csv', 'rs': 42, 'nsamples': 32000}\n",
    "feature_dict = {'path': 'outputs/feature_all_tf.csv', 'rs': 42, 'nsamples': 32000, 'feature_names': model_features, 'plot_features': plot_feats,}\n",
    "prun_stats, global_plot = global_report(f, pos_dataset, pruning_dict, event_dict, feature_dict, average_event, model_features, schema, sequence_id_feat, time_feat, )\n",
    "prun_stats"
   ]
  },
  {
   "cell_type": "code",
   "execution_count": 32,
   "id": "4859ec88",
   "metadata": {},
   "outputs": [
    {
     "data": {
      "text/html": [
       "\n",
       "<div id=\"altair-viz-3bedce59d12646959d41cf66794d9437\"></div>\n",
       "<script type=\"text/javascript\">\n",
       "  (function(spec, embedOpt){\n",
       "    let outputDiv = document.currentScript.previousElementSibling;\n",
       "    if (outputDiv.id !== \"altair-viz-3bedce59d12646959d41cf66794d9437\") {\n",
       "      outputDiv = document.getElementById(\"altair-viz-3bedce59d12646959d41cf66794d9437\");\n",
       "    }\n",
       "    const paths = {\n",
       "      \"vega\": \"https://cdn.jsdelivr.net/npm//vega@5?noext\",\n",
       "      \"vega-lib\": \"https://cdn.jsdelivr.net/npm//vega-lib?noext\",\n",
       "      \"vega-lite\": \"https://cdn.jsdelivr.net/npm//vega-lite@4.8.1?noext\",\n",
       "      \"vega-embed\": \"https://cdn.jsdelivr.net/npm//vega-embed@6?noext\",\n",
       "    };\n",
       "\n",
       "    function loadScript(lib) {\n",
       "      return new Promise(function(resolve, reject) {\n",
       "        var s = document.createElement('script');\n",
       "        s.src = paths[lib];\n",
       "        s.async = true;\n",
       "        s.onload = () => resolve(paths[lib]);\n",
       "        s.onerror = () => reject(`Error loading script: ${paths[lib]}`);\n",
       "        document.getElementsByTagName(\"head\")[0].appendChild(s);\n",
       "      });\n",
       "    }\n",
       "\n",
       "    function showError(err) {\n",
       "      outputDiv.innerHTML = `<div class=\"error\" style=\"color:red;\">${err}</div>`;\n",
       "      throw err;\n",
       "    }\n",
       "\n",
       "    function displayChart(vegaEmbed) {\n",
       "      vegaEmbed(outputDiv, spec, embedOpt)\n",
       "        .catch(err => showError(`Javascript Error: ${err.message}<br>This usually means there's a typo in your chart specification. See the javascript console for the full traceback.`));\n",
       "    }\n",
       "\n",
       "    if(typeof define === \"function\" && define.amd) {\n",
       "      requirejs.config({paths});\n",
       "      require([\"vega-embed\"], displayChart, err => showError(`Error loading script: ${err.message}`));\n",
       "    } else if (typeof vegaEmbed === \"function\") {\n",
       "      displayChart(vegaEmbed);\n",
       "    } else {\n",
       "      loadScript(\"vega\")\n",
       "        .then(() => loadScript(\"vega-lite\"))\n",
       "        .then(() => loadScript(\"vega-embed\"))\n",
       "        .catch(showError)\n",
       "        .then(() => displayChart(vegaEmbed));\n",
       "    }\n",
       "  })({\"config\": {\"axis\": {\"domain\": true, \"domainColor\": \"#666F89\", \"grid\": false, \"gridCap\": \"round\", \"gridColor\": \"#B3B7C4\", \"gridDash\": [2, 4], \"gridWidth\": 0.5, \"labelColor\": \"#666F89\", \"labelFont\": \"Roboto, Arial, sans-serif\", \"labelPadding\": 2, \"tickColor\": \"#666F89\", \"tickOpacity\": 0.5, \"tickSize\": 4, \"titleColor\": \"#19274E\", \"titleFont\": \"Roboto, Arial, sans-serif\", \"titleFontSize\": 12}, \"axisBand\": {\"domain\": true, \"labelPadding\": 4, \"ticks\": false}, \"axisY\": {\"domain\": false, \"titleAlign\": \"left\", \"titleAngle\": 0, \"titleX\": -20, \"titleY\": -10}, \"legend\": {\"labelColor\": \"#666F89\", \"labelFont\": \"Roboto, Arial, sans-serif\", \"labelFontSize\": 12, \"symbolSize\": 40, \"titleColor\": \"#19274E\", \"titleFont\": \"Roboto, Arial, sans-serif\", \"titleFontSize\": 12, \"titlePadding\": 4}, \"arc\": {\"stroke\": \"#FFFFFF\", \"strokeWidth\": 1}, \"bar\": {\"fill\": \"#2770EB\", \"stroke\": null}, \"line\": {\"stroke\": \"#2770EB\", \"strokeWidth\": 2}, \"path\": {\"stroke\": \"#2770EB\", \"strokeWidth\": 0.5}, \"point\": {\"fill\": \"#2770EB\", \"shape\": \"circle\", \"filled\": true}, \"rect\": {\"fill\": \"#2770EB\"}, \"rule\": {\"stroke\": \"#666F89\"}, \"shape\": {\"stroke\": \"#2770EB\"}, \"text\": {\"color\": \"#19274E\", \"font\": \"Roboto, Arial, sans-serif\", \"fontSize\": 12}, \"range\": {\"category\": [\"#2770EB\", \"#77B98A\", \"#DA5252\", \"#FFC400\", \"#A87AEA\", \"#00A39E\", \"#19274E\"], \"diverging\": [\"#006360\", \"#2BB3AE\", \"#96D9D7\", \"#FFFFFF\", \"#EDAAAA\", \"#DA5252\", \"#811D1D\"], \"heatmap\": [\"#18448F\", \"#1B4EA5\", \"#2770EB\", \"#4C88EE\", \"#82ACF3\", \"#A6C4F7\", \"#E9F1FD\"], \"ramp\": [\"#18448F\", \"#1B4EA5\", \"#2770EB\", \"#4C88EE\", \"#82ACF3\", \"#A6C4F7\", \"#E9F1FD\"]}, \"background\": \"#FFFFFF\", \"group\": {\"fill\": \"#FFFFFF\"}, \"header\": {\"labelColor\": \"#19274E\", \"labelFont\": \"Roboto, Arial, sans-serif\", \"labelFontSize\": 12, \"titleColor\": \"#19274E\", \"titleFont\": \"Roboto, Arial, sans-serif\", \"titleFontSize\": 16}, \"title\": {\"anchor\": \"start\", \"color\": \"#19274E\", \"font\": \"Roboto, Arial, sans-serif\", \"fontSize\": 20, \"fontWeight\": \"bold\", \"offset\": 20, \"subtitleColor\": \"#19274E\", \"subtitleFontSize\": 16}, \"view\": {\"continuousHeight\": 300, \"continuousWidth\": 400, \"stroke\": \"transparent\"}}, \"vconcat\": [{\"hconcat\": [{\"vconcat\": [{\"mark\": {\"type\": \"point\", \"stroke\": \"white\", \"strokeWidth\": 0.6}, \"encoding\": {\"color\": {\"type\": \"nominal\", \"field\": \"type\", \"legend\": {\"fillColor\": \"white\", \"orient\": \"top-left\", \"symbolSize\": 50, \"symbolStrokeWidth\": 0, \"title\": null}, \"scale\": {\"domain\": [\"Shapley Value\", \"Mean\"], \"range\": [\"#48caaa\", \"#d76d58\"]}}, \"opacity\": {\"condition\": {\"value\": 1.0, \"test\": \"(datum.type === 'Mean')\"}, \"value\": 0.2}, \"size\": {\"condition\": {\"value\": 70, \"test\": \"(datum.type === 'Mean')\"}, \"value\": 30}, \"x\": {\"type\": \"ordinal\", \"axis\": {\"labelAngle\": 0}, \"field\": \"t (event index)\"}, \"y\": {\"type\": \"quantitative\", \"axis\": {\"grid\": true, \"titleX\": -23}, \"field\": \"Shapley Value\", \"scale\": {\"domain\": [-0.3, 0.9]}, \"title\": \"Shapley Value\"}}, \"height\": 150, \"width\": 360}], \"data\": {\"name\": \"data-a79054f769fc1a0b043b86d149ede0f7\"}}, {\"vconcat\": [{\"mark\": {\"type\": \"point\", \"stroke\": \"white\", \"strokeWidth\": 0.6}, \"encoding\": {\"color\": {\"type\": \"nominal\", \"field\": \"type\", \"legend\": {\"fillColor\": \"white\", \"orient\": \"bottom-right\", \"symbolSize\": 50, \"symbolStrokeWidth\": 0, \"title\": null}, \"scale\": {\"domain\": [\"Shapley Value\", \"Mean\"], \"range\": [\"#618FE0\", \"#d76d58\"]}}, \"opacity\": {\"condition\": {\"value\": 1.0, \"test\": \"(datum.type === 'Mean')\"}, \"value\": 0.1}, \"size\": {\"condition\": {\"value\": 70, \"test\": \"(datum.type === 'Mean')\"}, \"value\": 30}, \"x\": {\"type\": \"quantitative\", \"axis\": {\"grid\": true, \"title\": \"Shapley Value\"}, \"field\": \"Shapley Value\", \"scale\": {\"domain\": [-0.2, 0.6]}}, \"y\": {\"type\": \"ordinal\", \"axis\": {\"labelFontSize\": 13, \"titleX\": -51}, \"field\": \"Feature\", \"sort\": [\"STD Chest <-> Left Ankle\", \"STD Right Ankle <-> Left Ankle\", \"Pruned Events\", \"Mean Right Ankle <-> Left Ankle\", \"STD Chest <-> Right Ankle\", \"Mean Chest <-> Left Ankle\", \"Mean Chest <-> Right Ankle\"]}}, \"height\": 280, \"width\": 288}], \"data\": {\"name\": \"data-91dfcfe441436926cf9c81f02dc45c80\"}}], \"center\": true, \"resolve\": {\"scale\": {\"color\": \"independent\"}}, \"title\": \"Parameters: NSamples=32000 | Random Seed=42 | Pruning Tol= 0.05\"}, {\"hconcat\": [{\"vconcat\": [{\"mark\": {\"type\": \"point\", \"stroke\": \"white\", \"strokeWidth\": 0.6}, \"encoding\": {\"color\": {\"type\": \"nominal\", \"field\": \"type\", \"legend\": {\"fillColor\": \"white\", \"orient\": \"top-left\", \"symbolSize\": 50, \"symbolStrokeWidth\": 0, \"title\": null}, \"scale\": {\"domain\": [\"Shapley Value\", \"Mean\"], \"range\": [\"#48caaa\", \"#d76d58\"]}}, \"opacity\": {\"condition\": {\"value\": 1.0, \"test\": \"(datum.type === 'Mean')\"}, \"value\": 0.2}, \"size\": {\"condition\": {\"value\": 70, \"test\": \"(datum.type === 'Mean')\"}, \"value\": 30}, \"x\": {\"type\": \"ordinal\", \"axis\": {\"labelAngle\": 0}, \"field\": \"t (event index)\"}, \"y\": {\"type\": \"quantitative\", \"axis\": {\"grid\": true, \"titleX\": -23}, \"field\": \"Shapley Value\", \"scale\": {\"domain\": [-0.3, 0.9]}, \"title\": \"Shapley Value\"}}, \"height\": 150, \"width\": 360}], \"data\": {\"name\": \"data-0faad21cfcbd2fef153cd35161ff08e5\"}}, {\"vconcat\": [{\"mark\": {\"type\": \"point\", \"stroke\": \"white\", \"strokeWidth\": 0.6}, \"encoding\": {\"color\": {\"type\": \"nominal\", \"field\": \"type\", \"legend\": {\"fillColor\": \"white\", \"orient\": \"bottom-right\", \"symbolSize\": 50, \"symbolStrokeWidth\": 0, \"title\": null}, \"scale\": {\"domain\": [\"Shapley Value\", \"Mean\"], \"range\": [\"#618FE0\", \"#d76d58\"]}}, \"opacity\": {\"condition\": {\"value\": 1.0, \"test\": \"(datum.type === 'Mean')\"}, \"value\": 0.1}, \"size\": {\"condition\": {\"value\": 70, \"test\": \"(datum.type === 'Mean')\"}, \"value\": 30}, \"x\": {\"type\": \"quantitative\", \"axis\": {\"grid\": true, \"title\": \"Shapley Value\"}, \"field\": \"Shapley Value\", \"scale\": {\"domain\": [-0.2, 0.6]}}, \"y\": {\"type\": \"ordinal\", \"axis\": {\"labelFontSize\": 13, \"titleX\": -51}, \"field\": \"Feature\", \"sort\": [\"STD Chest <-> Left Ankle\", \"STD Right Ankle <-> Left Ankle\", \"Pruned Events\", \"Mean Right Ankle <-> Left Ankle\", \"STD Chest <-> Right Ankle\", \"Mean Chest <-> Left Ankle\", \"Mean Chest <-> Right Ankle\"]}}, \"height\": 280, \"width\": 288}], \"data\": {\"name\": \"data-2eeef2527f3c257de94bbd05430d8595\"}}], \"center\": true, \"resolve\": {\"scale\": {\"color\": \"independent\"}}, \"title\": \"Parameters: NSamples=32000 | Random Seed=42 | Pruning Tol= 0.075\"}], \"$schema\": \"https://vega.github.io/schema/vega-lite/v4.8.1.json\", \"datasets\": {\"data-a79054f769fc1a0b043b86d149ede0f7\": [{\"Shapley Value\": 0.020654922760456218, \"t (event index)\": 0, \"type\": \"Shapley Value\"}, {\"Shapley Value\": 0.020283293357741705, \"t (event index)\": -1, \"type\": \"Shapley Value\"}, {\"Shapley Value\": 0.056165578620305856, \"t (event index)\": -2, \"type\": \"Shapley Value\"}, {\"Shapley Value\": 0.042855141727163426, \"t (event index)\": -3, \"type\": \"Shapley Value\"}, {\"Shapley Value\": 0.057119624064157715, \"t (event index)\": -4, \"type\": \"Shapley Value\"}, {\"Shapley Value\": 0.014956482395973164, \"t (event index)\": -5, \"type\": \"Shapley Value\"}, {\"Shapley Value\": 0.010944281115314536, \"t (event index)\": -6, \"type\": \"Shapley Value\"}, {\"Shapley Value\": 0.03221164488700373, \"t (event index)\": -7, \"type\": \"Shapley Value\"}, {\"Shapley Value\": 0.02485884188357612, \"t (event index)\": -8, \"type\": \"Shapley Value\"}, {\"Shapley Value\": 0.009743725476568266, \"t (event index)\": -9, \"type\": \"Shapley Value\"}, {\"Shapley Value\": 0.007099337667745731, \"t (event index)\": -10, \"type\": \"Shapley Value\"}, {\"Shapley Value\": 0.0014656342196930627, \"t (event index)\": -11, \"type\": \"Shapley Value\"}, {\"Shapley Value\": 0.023947521210571976, \"t (event index)\": -12, \"type\": \"Shapley Value\"}, {\"Shapley Value\": 0.013653560506481782, \"t (event index)\": -13, \"type\": \"Shapley Value\"}, {\"Shapley Value\": 0.016870328652344335, \"t (event index)\": -14, \"type\": \"Shapley Value\"}, {\"Shapley Value\": 0.007947454273527443, \"t (event index)\": -15, \"type\": \"Shapley Value\"}, {\"Shapley Value\": 0.010385598500303017, \"t (event index)\": -16, \"type\": \"Shapley Value\"}, {\"Shapley Value\": 0.01263930583580608, \"t (event index)\": -17, \"type\": \"Shapley Value\"}, {\"Shapley Value\": 0.005710402063060782, \"t (event index)\": -18, \"type\": \"Shapley Value\"}, {\"Shapley Value\": 0.07176877437197288, \"t (event index)\": 0, \"type\": \"Shapley Value\"}, {\"Shapley Value\": 0.06169172916887572, \"t (event index)\": -1, \"type\": \"Shapley Value\"}, {\"Shapley Value\": 0.017105091165678238, \"t (event index)\": -2, \"type\": \"Shapley Value\"}, {\"Shapley Value\": 0.009396048920475603, \"t (event index)\": -3, \"type\": \"Shapley Value\"}, {\"Shapley Value\": 0.03967270900073658, \"t (event index)\": -4, \"type\": \"Shapley Value\"}, {\"Shapley Value\": 0.017756986514691542, \"t (event index)\": -5, \"type\": \"Shapley Value\"}, {\"Shapley Value\": 0.03368833635772528, \"t (event index)\": -6, \"type\": \"Shapley Value\"}, {\"Shapley Value\": 0.035789726097067154, \"t (event index)\": -7, \"type\": \"Shapley Value\"}, {\"Shapley Value\": 0.015553378507956572, \"t (event index)\": -8, \"type\": \"Shapley Value\"}, {\"Shapley Value\": 0.01245220064790492, \"t (event index)\": -9, \"type\": \"Shapley Value\"}, {\"Shapley Value\": 0.021952812857873316, \"t (event index)\": -10, \"type\": \"Shapley Value\"}, {\"Shapley Value\": 0.006991964253140082, \"t (event index)\": -11, \"type\": \"Shapley Value\"}, {\"Shapley Value\": 0.014783529983652621, \"t (event index)\": -12, \"type\": \"Shapley Value\"}, {\"Shapley Value\": 0.01243311471742789, \"t (event index)\": -13, \"type\": \"Shapley Value\"}, {\"Shapley Value\": 0.010016114694700123, \"t (event index)\": -14, \"type\": \"Shapley Value\"}, {\"Shapley Value\": 0.012017732464741582, \"t (event index)\": -15, \"type\": \"Shapley Value\"}, {\"Shapley Value\": 0.005871415781921935, \"t (event index)\": -16, \"type\": \"Shapley Value\"}, {\"Shapley Value\": 0.006397401962577709, \"t (event index)\": -17, \"type\": \"Shapley Value\"}, {\"Shapley Value\": 0.05630542285439438, \"t (event index)\": 0, \"type\": \"Shapley Value\"}, {\"Shapley Value\": 0.05663661690189259, \"t (event index)\": -1, \"type\": \"Shapley Value\"}, {\"Shapley Value\": 0.028280129503157947, \"t (event index)\": -2, \"type\": \"Shapley Value\"}, {\"Shapley Value\": 0.03218317589452052, \"t (event index)\": -3, \"type\": \"Shapley Value\"}, {\"Shapley Value\": 0.04160070265644569, \"t (event index)\": -4, \"type\": \"Shapley Value\"}, {\"Shapley Value\": 0.04166612953173951, \"t (event index)\": -5, \"type\": \"Shapley Value\"}, {\"Shapley Value\": 0.03569855274734196, \"t (event index)\": -6, \"type\": \"Shapley Value\"}, {\"Shapley Value\": 0.004566121478269125, \"t (event index)\": -7, \"type\": \"Shapley Value\"}, {\"Shapley Value\": 0.02062753741283016, \"t (event index)\": -8, \"type\": \"Shapley Value\"}, {\"Shapley Value\": 0.01963849608003923, \"t (event index)\": -9, \"type\": \"Shapley Value\"}, {\"Shapley Value\": 0.023531951640542642, \"t (event index)\": -10, \"type\": \"Shapley Value\"}, {\"Shapley Value\": 0.013988052935339224, \"t (event index)\": -11, \"type\": \"Shapley Value\"}, {\"Shapley Value\": 0.021156993645436717, \"t (event index)\": -12, \"type\": \"Shapley Value\"}, {\"Shapley Value\": 0.009001158463441877, \"t (event index)\": -13, \"type\": \"Shapley Value\"}, {\"Shapley Value\": 0.0060857599929977635, \"t (event index)\": -14, \"type\": \"Shapley Value\"}, {\"Shapley Value\": 0.0068067957806723645, \"t (event index)\": -15, \"type\": \"Shapley Value\"}, {\"Shapley Value\": 0.01245571071362947, \"t (event index)\": -16, \"type\": \"Shapley Value\"}, {\"Shapley Value\": 0.007439896238374932, \"t (event index)\": -17, \"type\": \"Shapley Value\"}, {\"Shapley Value\": 0.006498387084108881, \"t (event index)\": -18, \"type\": \"Shapley Value\"}, {\"Shapley Value\": 0.0412836697587009, \"t (event index)\": 0, \"type\": \"Shapley Value\"}, {\"Shapley Value\": 0.05675790780402365, \"t (event index)\": -1, \"type\": \"Shapley Value\"}, {\"Shapley Value\": 0.0439792731484214, \"t (event index)\": -2, \"type\": \"Shapley Value\"}, {\"Shapley Value\": 0.04182696440212508, \"t (event index)\": -3, \"type\": \"Shapley Value\"}, {\"Shapley Value\": 0.016678867134362063, \"t (event index)\": -4, \"type\": \"Shapley Value\"}, {\"Shapley Value\": 0.019570032272058613, \"t (event index)\": -5, \"type\": \"Shapley Value\"}, {\"Shapley Value\": 0.02290962345535008, \"t (event index)\": -6, \"type\": \"Shapley Value\"}, {\"Shapley Value\": 0.03322227958549437, \"t (event index)\": -7, \"type\": \"Shapley Value\"}, {\"Shapley Value\": 0.020370710338256215, \"t (event index)\": -8, \"type\": \"Shapley Value\"}, {\"Shapley Value\": 0.017005398856673237, \"t (event index)\": -9, \"type\": \"Shapley Value\"}, {\"Shapley Value\": 0.0026476251610488, \"t (event index)\": -10, \"type\": \"Shapley Value\"}, {\"Shapley Value\": 0.011383837400525426, \"t (event index)\": -11, \"type\": \"Shapley Value\"}, {\"Shapley Value\": 0.00888589064061282, \"t (event index)\": -12, \"type\": \"Shapley Value\"}, {\"Shapley Value\": 0.013255075361821134, \"t (event index)\": -13, \"type\": \"Shapley Value\"}, {\"Shapley Value\": 0.009540731744450776, \"t (event index)\": -14, \"type\": \"Shapley Value\"}, {\"Shapley Value\": 0.012201334479821191, \"t (event index)\": -15, \"type\": \"Shapley Value\"}, {\"Shapley Value\": 0.0061043945735848315, \"t (event index)\": -18, \"type\": \"Mean\"}, {\"Shapley Value\": 0.008825534678919575, \"t (event index)\": -17, \"type\": \"Mean\"}, {\"Shapley Value\": 0.009570908331951474, \"t (event index)\": -16, \"type\": \"Mean\"}, {\"Shapley Value\": 0.009743329249690645, \"t (event index)\": -15, \"type\": \"Mean\"}, {\"Shapley Value\": 0.01062823377112325, \"t (event index)\": -14, \"type\": \"Mean\"}, {\"Shapley Value\": 0.01208572726229317, \"t (event index)\": -13, \"type\": \"Mean\"}, {\"Shapley Value\": 0.017193483870068534, \"t (event index)\": -12, \"type\": \"Mean\"}, {\"Shapley Value\": 0.008457372202174449, \"t (event index)\": -11, \"type\": \"Mean\"}, {\"Shapley Value\": 0.013807931831802622, \"t (event index)\": -10, \"type\": \"Mean\"}, {\"Shapley Value\": 0.014709955265296414, \"t (event index)\": -9, \"type\": \"Mean\"}, {\"Shapley Value\": 0.020352617035654767, \"t (event index)\": -8, \"type\": \"Mean\"}, {\"Shapley Value\": 0.026447443011958595, \"t (event index)\": -7, \"type\": \"Mean\"}, {\"Shapley Value\": 0.025810198418932964, \"t (event index)\": -6, \"type\": \"Mean\"}, {\"Shapley Value\": 0.023487407678615707, \"t (event index)\": -5, \"type\": \"Mean\"}, {\"Shapley Value\": 0.03876797571392551, \"t (event index)\": -4, \"type\": \"Mean\"}, {\"Shapley Value\": 0.03156533273607116, \"t (event index)\": -3, \"type\": \"Mean\"}, {\"Shapley Value\": 0.03638251810939086, \"t (event index)\": -2, \"type\": \"Mean\"}, {\"Shapley Value\": 0.048842386808133416, \"t (event index)\": -1, \"type\": \"Mean\"}, {\"Shapley Value\": 0.047503197436381095, \"t (event index)\": 0, \"type\": \"Mean\"}], \"data-91dfcfe441436926cf9c81f02dc45c80\": [{\"Shapley Value\": 0.03232778360446295, \"Feature\": \"Mean Chest <-> Right Ankle\", \"type\": \"Shapley Value\"}, {\"Shapley Value\": 0.0566898485024771, \"Feature\": \"STD Chest <-> Right Ankle\", \"type\": \"Shapley Value\"}, {\"Shapley Value\": 0.034160097440083914, \"Feature\": \"Mean Chest <-> Left Ankle\", \"type\": \"Shapley Value\"}, {\"Shapley Value\": 0.1623417605956392, \"Feature\": \"STD Chest <-> Left Ankle\", \"type\": \"Shapley Value\"}, {\"Shapley Value\": 0.029534444709618884, \"Feature\": \"Mean Right Ankle <-> Left Ankle\", \"type\": \"Shapley Value\"}, {\"Shapley Value\": 0.07982784658670425, \"Feature\": \"STD Right Ankle <-> Left Ankle\", \"type\": \"Shapley Value\"}, {\"Shapley Value\": 0.05815616597731921, \"Feature\": \"Pruned Events\", \"type\": \"Shapley Value\"}, {\"Shapley Value\": 0.027458168991974397, \"Feature\": \"Mean Chest <-> Right Ankle\", \"type\": \"Shapley Value\"}, {\"Shapley Value\": 0.04359625272807632, \"Feature\": \"STD Chest <-> Right Ankle\", \"type\": \"Shapley Value\"}, {\"Shapley Value\": 0.030615139433315952, \"Feature\": \"Mean Chest <-> Left Ankle\", \"type\": \"Shapley Value\"}, {\"Shapley Value\": 0.1379686613168033, \"Feature\": \"STD Chest <-> Left Ankle\", \"type\": \"Shapley Value\"}, {\"Shapley Value\": 0.07330991469678416, \"Feature\": \"Mean Right Ankle <-> Left Ankle\", \"type\": \"Shapley Value\"}, {\"Shapley Value\": 0.0994450374728156, \"Feature\": \"STD Right Ankle <-> Left Ankle\", \"type\": \"Shapley Value\"}, {\"Shapley Value\": 0.06822384191410902, \"Feature\": \"Pruned Events\", \"type\": \"Shapley Value\"}, {\"Shapley Value\": 0.03158702403306962, \"Feature\": \"Mean Chest <-> Right Ankle\", \"type\": \"Shapley Value\"}, {\"Shapley Value\": 0.045812483131885684, \"Feature\": \"STD Chest <-> Right Ankle\", \"type\": \"Shapley Value\"}, {\"Shapley Value\": 0.04433417121569333, \"Feature\": \"Mean Chest <-> Left Ankle\", \"type\": \"Shapley Value\"}, {\"Shapley Value\": 0.17030222862958888, \"Feature\": \"STD Chest <-> Left Ankle\", \"type\": \"Shapley Value\"}, {\"Shapley Value\": 0.0563420315583546, \"Feature\": \"Mean Right Ankle <-> Left Ankle\", \"type\": \"Shapley Value\"}, {\"Shapley Value\": 0.09901897956927613, \"Feature\": \"STD Right Ankle <-> Left Ankle\", \"type\": \"Shapley Value\"}, {\"Shapley Value\": 0.04972343246142069, \"Feature\": \"Pruned Events\", \"type\": \"Shapley Value\"}, {\"Shapley Value\": 0.02618911514679592, \"Feature\": \"Mean Chest <-> Right Ankle\", \"type\": \"Shapley Value\"}, {\"Shapley Value\": 0.044788508613904376, \"Feature\": \"STD Chest <-> Right Ankle\", \"type\": \"Shapley Value\"}, {\"Shapley Value\": 0.04434805214405066, \"Feature\": \"Mean Chest <-> Left Ankle\", \"type\": \"Shapley Value\"}, {\"Shapley Value\": 0.10409047355254472, \"Feature\": \"STD Chest <-> Left Ankle\", \"type\": \"Shapley Value\"}, {\"Shapley Value\": 0.033387130498886114, \"Feature\": \"Mean Right Ankle <-> Left Ankle\", \"type\": \"Shapley Value\"}, {\"Shapley Value\": 0.1230879187583922, \"Feature\": \"STD Right Ankle <-> Left Ankle\", \"type\": \"Shapley Value\"}, {\"Shapley Value\": 0.059079507986704694, \"Feature\": \"Pruned Events\", \"type\": \"Shapley Value\"}, {\"Shapley Value\": 0.0587957370848884, \"Feature\": \"Pruned Events\", \"type\": \"Mean\"}, {\"Shapley Value\": 0.029390522944075723, \"Feature\": \"Mean Chest <-> Right Ankle\", \"type\": \"Mean\"}, {\"Shapley Value\": 0.038364365058285964, \"Feature\": \"Mean Chest <-> Left Ankle\", \"type\": \"Mean\"}, {\"Shapley Value\": 0.04814338036591094, \"Feature\": \"Mean Right Ankle <-> Left Ankle\", \"type\": \"Mean\"}, {\"Shapley Value\": 0.04772177324408587, \"Feature\": \"STD Chest <-> Right Ankle\", \"type\": \"Mean\"}, {\"Shapley Value\": 0.14367578102364403, \"Feature\": \"STD Chest <-> Left Ankle\", \"type\": \"Mean\"}, {\"Shapley Value\": 0.10034494559679705, \"Feature\": \"STD Right Ankle <-> Left Ankle\", \"type\": \"Mean\"}], \"data-0faad21cfcbd2fef153cd35161ff08e5\": [{\"Shapley Value\": 0.02028635122638142, \"t (event index)\": 0, \"type\": \"Shapley Value\"}, {\"Shapley Value\": 0.020557568743950705, \"t (event index)\": -1, \"type\": \"Shapley Value\"}, {\"Shapley Value\": 0.05705705717830367, \"t (event index)\": -2, \"type\": \"Shapley Value\"}, {\"Shapley Value\": 0.04341294740623508, \"t (event index)\": -3, \"type\": \"Shapley Value\"}, {\"Shapley Value\": 0.05653336050546942, \"t (event index)\": -4, \"type\": \"Shapley Value\"}, {\"Shapley Value\": 0.014642205861954138, \"t (event index)\": -5, \"type\": \"Shapley Value\"}, {\"Shapley Value\": 0.01120253023836884, \"t (event index)\": -6, \"type\": \"Shapley Value\"}, {\"Shapley Value\": 0.03176246487576387, \"t (event index)\": -7, \"type\": \"Shapley Value\"}, {\"Shapley Value\": 0.024698655332255515, \"t (event index)\": -8, \"type\": \"Shapley Value\"}, {\"Shapley Value\": 0.009151904592332838, \"t (event index)\": -9, \"type\": \"Shapley Value\"}, {\"Shapley Value\": 0.007238196461581831, \"t (event index)\": -10, \"type\": \"Shapley Value\"}, {\"Shapley Value\": 0.0010132563829691466, \"t (event index)\": -11, \"type\": \"Shapley Value\"}, {\"Shapley Value\": 0.023756223690928585, \"t (event index)\": -12, \"type\": \"Shapley Value\"}, {\"Shapley Value\": 0.013209618381572308, \"t (event index)\": -13, \"type\": \"Shapley Value\"}, {\"Shapley Value\": 0.01694257280304362, \"t (event index)\": -14, \"type\": \"Shapley Value\"}, {\"Shapley Value\": 0.008006508209740443, \"t (event index)\": -15, \"type\": \"Shapley Value\"}, {\"Shapley Value\": 0.07168576400826673, \"t (event index)\": 0, \"type\": \"Shapley Value\"}, {\"Shapley Value\": 0.06154117236960527, \"t (event index)\": -1, \"type\": \"Shapley Value\"}, {\"Shapley Value\": 0.016947109201148447, \"t (event index)\": -2, \"type\": \"Shapley Value\"}, {\"Shapley Value\": 0.00904273748205131, \"t (event index)\": -3, \"type\": \"Shapley Value\"}, {\"Shapley Value\": 0.03949065680937697, \"t (event index)\": -4, \"type\": \"Shapley Value\"}, {\"Shapley Value\": 0.01719626287419307, \"t (event index)\": -5, \"type\": \"Shapley Value\"}, {\"Shapley Value\": 0.03384414495890342, \"t (event index)\": -6, \"type\": \"Shapley Value\"}, {\"Shapley Value\": 0.03554925744844187, \"t (event index)\": -7, \"type\": \"Shapley Value\"}, {\"Shapley Value\": 0.015378248639763142, \"t (event index)\": -8, \"type\": \"Shapley Value\"}, {\"Shapley Value\": 0.012222966098195287, \"t (event index)\": -9, \"type\": \"Shapley Value\"}, {\"Shapley Value\": 0.021295850796189786, \"t (event index)\": -10, \"type\": \"Shapley Value\"}, {\"Shapley Value\": 0.007090745179880009, \"t (event index)\": -11, \"type\": \"Shapley Value\"}, {\"Shapley Value\": 0.01507534810403735, \"t (event index)\": -12, \"type\": \"Shapley Value\"}, {\"Shapley Value\": 0.012660250704558923, \"t (event index)\": -13, \"type\": \"Shapley Value\"}, {\"Shapley Value\": 0.009683875794750052, \"t (event index)\": -14, \"type\": \"Shapley Value\"}, {\"Shapley Value\": 0.05618148860598765, \"t (event index)\": 0, \"type\": \"Shapley Value\"}, {\"Shapley Value\": 0.05773989764833948, \"t (event index)\": -1, \"type\": \"Shapley Value\"}, {\"Shapley Value\": 0.028576690662010185, \"t (event index)\": -2, \"type\": \"Shapley Value\"}, {\"Shapley Value\": 0.03304462871289415, \"t (event index)\": -3, \"type\": \"Shapley Value\"}, {\"Shapley Value\": 0.041366570723566254, \"t (event index)\": -4, \"type\": \"Shapley Value\"}, {\"Shapley Value\": 0.041914288127260446, \"t (event index)\": -5, \"type\": \"Shapley Value\"}, {\"Shapley Value\": 0.036118483527515594, \"t (event index)\": -6, \"type\": \"Shapley Value\"}, {\"Shapley Value\": 0.004374827212526938, \"t (event index)\": -7, \"type\": \"Shapley Value\"}, {\"Shapley Value\": 0.020889145592197372, \"t (event index)\": -8, \"type\": \"Shapley Value\"}, {\"Shapley Value\": 0.019244480670310454, \"t (event index)\": -9, \"type\": \"Shapley Value\"}, {\"Shapley Value\": 0.024035668734941507, \"t (event index)\": -10, \"type\": \"Shapley Value\"}, {\"Shapley Value\": 0.013626895101229386, \"t (event index)\": -11, \"type\": \"Shapley Value\"}, {\"Shapley Value\": 0.020955725618229032, \"t (event index)\": -12, \"type\": \"Shapley Value\"}, {\"Shapley Value\": 0.00902018175431904, \"t (event index)\": -13, \"type\": \"Shapley Value\"}, {\"Shapley Value\": 0.006188537210309514, \"t (event index)\": -14, \"type\": \"Shapley Value\"}, {\"Shapley Value\": 0.006455410840478765, \"t (event index)\": -15, \"type\": \"Shapley Value\"}, {\"Shapley Value\": 0.04127123002958441, \"t (event index)\": 0, \"type\": \"Shapley Value\"}, {\"Shapley Value\": 0.05712911130543494, \"t (event index)\": -1, \"type\": \"Shapley Value\"}, {\"Shapley Value\": 0.043968179886600234, \"t (event index)\": -2, \"type\": \"Shapley Value\"}, {\"Shapley Value\": 0.04173404176030243, \"t (event index)\": -3, \"type\": \"Shapley Value\"}, {\"Shapley Value\": 0.0167518477520171, \"t (event index)\": -4, \"type\": \"Shapley Value\"}, {\"Shapley Value\": 0.019533294792803663, \"t (event index)\": -5, \"type\": \"Shapley Value\"}, {\"Shapley Value\": 0.022882701061491817, \"t (event index)\": -6, \"type\": \"Shapley Value\"}, {\"Shapley Value\": 0.03329733190039996, \"t (event index)\": -7, \"type\": \"Shapley Value\"}, {\"Shapley Value\": 0.020267790648507034, \"t (event index)\": -8, \"type\": \"Shapley Value\"}, {\"Shapley Value\": 0.01695610227520719, \"t (event index)\": -9, \"type\": \"Shapley Value\"}, {\"Shapley Value\": 0.00277582836906351, \"t (event index)\": -10, \"type\": \"Shapley Value\"}, {\"Shapley Value\": 0.0114776108384676, \"t (event index)\": -11, \"type\": \"Shapley Value\"}, {\"Shapley Value\": 0.008707452569955615, \"t (event index)\": -12, \"type\": \"Shapley Value\"}, {\"Shapley Value\": 0.013129808031921958, \"t (event index)\": -13, \"type\": \"Shapley Value\"}, {\"Shapley Value\": 0.007230959525109604, \"t (event index)\": -15, \"type\": \"Mean\"}, {\"Shapley Value\": 0.010938328602701062, \"t (event index)\": -14, \"type\": \"Mean\"}, {\"Shapley Value\": 0.012004964718093057, \"t (event index)\": -13, \"type\": \"Mean\"}, {\"Shapley Value\": 0.017123687495787646, \"t (event index)\": -12, \"type\": \"Mean\"}, {\"Shapley Value\": 0.008302126875636535, \"t (event index)\": -11, \"type\": \"Mean\"}, {\"Shapley Value\": 0.013836386090444158, \"t (event index)\": -10, \"type\": \"Mean\"}, {\"Shapley Value\": 0.014393863409011443, \"t (event index)\": -9, \"type\": \"Mean\"}, {\"Shapley Value\": 0.020308460053180766, \"t (event index)\": -8, \"type\": \"Mean\"}, {\"Shapley Value\": 0.02624597035928316, \"t (event index)\": -7, \"type\": \"Mean\"}, {\"Shapley Value\": 0.026011964946569918, \"t (event index)\": -6, \"type\": \"Mean\"}, {\"Shapley Value\": 0.02332151291405283, \"t (event index)\": -5, \"type\": \"Mean\"}, {\"Shapley Value\": 0.038535608947607436, \"t (event index)\": -4, \"type\": \"Mean\"}, {\"Shapley Value\": 0.031808588840370744, \"t (event index)\": -3, \"type\": \"Mean\"}, {\"Shapley Value\": 0.036637259232015634, \"t (event index)\": -2, \"type\": \"Mean\"}, {\"Shapley Value\": 0.0492419375168326, \"t (event index)\": -1, \"type\": \"Mean\"}, {\"Shapley Value\": 0.047356208467555054, \"t (event index)\": 0, \"type\": \"Mean\"}], \"data-2eeef2527f3c257de94bbd05430d8595\": [{\"Shapley Value\": 0.02705253830977855, \"Feature\": \"Mean Chest <-> Right Ankle\", \"type\": \"Shapley Value\"}, {\"Shapley Value\": 0.05245087863433934, \"Feature\": \"STD Chest <-> Right Ankle\", \"type\": \"Shapley Value\"}, {\"Shapley Value\": 0.031325856064047225, \"Feature\": \"Mean Chest <-> Left Ankle\", \"type\": \"Shapley Value\"}, {\"Shapley Value\": 0.1535474973065511, \"Feature\": \"STD Chest <-> Left Ankle\", \"type\": \"Shapley Value\"}, {\"Shapley Value\": 0.028249558522587648, \"Feature\": \"Mean Right Ankle <-> Left Ankle\", \"type\": \"Shapley Value\"}, {\"Shapley Value\": 0.07519968272674649, \"Feature\": \"STD Right Ankle <-> Left Ankle\", \"type\": \"Shapley Value\"}, {\"Shapley Value\": 0.08521193585225523, \"Feature\": \"Pruned Events\", \"type\": \"Shapley Value\"}, {\"Shapley Value\": 0.026615163187186014, \"Feature\": \"Mean Chest <-> Right Ankle\", \"type\": \"Shapley Value\"}, {\"Shapley Value\": 0.0408815423647563, \"Feature\": \"STD Chest <-> Right Ankle\", \"type\": \"Shapley Value\"}, {\"Shapley Value\": 0.02891341000795372, \"Feature\": \"Mean Chest <-> Left Ankle\", \"type\": \"Shapley Value\"}, {\"Shapley Value\": 0.12682003031174321, \"Feature\": \"STD Chest <-> Left Ankle\", \"type\": \"Shapley Value\"}, {\"Shapley Value\": 0.06943956861893333, \"Feature\": \"Mean Right Ankle <-> Left Ankle\", \"type\": \"Shapley Value\"}, {\"Shapley Value\": 0.09539987395207075, \"Feature\": \"STD Right Ankle <-> Left Ankle\", \"type\": \"Shapley Value\"}, {\"Shapley Value\": 0.09254742811123551, \"Feature\": \"Pruned Events\", \"type\": \"Shapley Value\"}, {\"Shapley Value\": 0.028606681170917747, \"Feature\": \"Mean Chest <-> Right Ankle\", \"type\": \"Shapley Value\"}, {\"Shapley Value\": 0.04471324696427306, \"Feature\": \"STD Chest <-> Right Ankle\", \"type\": \"Shapley Value\"}, {\"Shapley Value\": 0.0398325246004832, \"Feature\": \"Mean Chest <-> Left Ankle\", \"type\": \"Shapley Value\"}, {\"Shapley Value\": 0.1602436578699517, \"Feature\": \"STD Chest <-> Left Ankle\", \"type\": \"Shapley Value\"}, {\"Shapley Value\": 0.056254323962188935, \"Feature\": \"Mean Right Ankle <-> Left Ankle\", \"type\": \"Shapley Value\"}, {\"Shapley Value\": 0.09566997999236687, \"Feature\": \"STD Right Ankle <-> Left Ankle\", \"type\": \"Shapley Value\"}, {\"Shapley Value\": 0.07179993603910739, \"Feature\": \"Pruned Events\", \"type\": \"Shapley Value\"}, {\"Shapley Value\": 0.023288607171603623, \"Feature\": \"Mean Chest <-> Right Ankle\", \"type\": \"Shapley Value\"}, {\"Shapley Value\": 0.04410073267562056, \"Feature\": \"STD Chest <-> Right Ankle\", \"type\": \"Shapley Value\"}, {\"Shapley Value\": 0.03674834874414268, \"Feature\": \"Mean Chest <-> Left Ankle\", \"type\": \"Shapley Value\"}, {\"Shapley Value\": 0.09978041506948909, \"Feature\": \"STD Chest <-> Left Ankle\", \"type\": \"Shapley Value\"}, {\"Shapley Value\": 0.03307541119200841, \"Feature\": \"Mean Right Ankle <-> Left Ankle\", \"type\": \"Shapley Value\"}, {\"Shapley Value\": 0.11773222592614935, \"Feature\": \"STD Right Ankle <-> Left Ankle\", \"type\": \"Shapley Value\"}, {\"Shapley Value\": 0.08024496592226499, \"Feature\": \"Pruned Events\", \"type\": \"Shapley Value\"}, {\"Shapley Value\": 0.08245106648121578, \"Feature\": \"Pruned Events\", \"type\": \"Mean\"}, {\"Shapley Value\": 0.026390747459871484, \"Feature\": \"Mean Chest <-> Right Ankle\", \"type\": \"Mean\"}, {\"Shapley Value\": 0.034205034854156706, \"Feature\": \"Mean Chest <-> Left Ankle\", \"type\": \"Mean\"}, {\"Shapley Value\": 0.04675471557392958, \"Feature\": \"Mean Right Ankle <-> Left Ankle\", \"type\": \"Mean\"}, {\"Shapley Value\": 0.045536600159747316, \"Feature\": \"STD Chest <-> Right Ankle\", \"type\": \"Mean\"}, {\"Shapley Value\": 0.1350979001394338, \"Feature\": \"STD Chest <-> Left Ankle\", \"type\": \"Mean\"}, {\"Shapley Value\": 0.09600044064933336, \"Feature\": \"STD Right Ankle <-> Left Ankle\", \"type\": \"Mean\"}]}}, {\"mode\": \"vega-lite\"});\n",
       "</script>"
      ],
      "text/plain": [
       "alt.VConcatChart(...)"
      ]
     },
     "execution_count": 32,
     "metadata": {},
     "output_type": "execute_result"
    }
   ],
   "source": [
    "global_plot"
   ]
  },
  {
   "cell_type": "markdown",
   "id": "2870782f",
   "metadata": {},
   "source": [
    "## 3.3 Individual Plots"
   ]
  },
  {
   "cell_type": "markdown",
   "id": "aafb0500",
   "metadata": {},
   "source": [
    "### Local Plots"
   ]
  },
  {
   "cell_type": "code",
   "execution_count": 23,
   "id": "f35f03d9",
   "metadata": {},
   "outputs": [],
   "source": [
    "from timeshap.plot import plot_temp_coalition_pruning, plot_event_heatmap, plot_feat_barplot, plot_cell_level\n",
    "from timeshap.explainer import local_pruning, local_event, local_feat, local_cell_level\n",
    "# select model features only\n",
    "pos_x_data = pos_x_pd[model_features]\n",
    "# convert the instance to numpy so TimeSHAP receives it\n",
    "pos_x_data = np.expand_dims(pos_x_data.to_numpy().copy(), axis=0)"
   ]
  },
  {
   "cell_type": "markdown",
   "id": "b7312cb0",
   "metadata": {},
   "source": [
    "##### Pruning algorithm"
   ]
  },
  {
   "cell_type": "code",
   "execution_count": 24,
   "id": "d72a92fa",
   "metadata": {},
   "outputs": [
    {
     "name": "stdout",
     "output_type": "stream",
     "text": [
      "No path to explainer data provided. Calculating data\n"
     ]
    },
    {
     "data": {
      "text/html": [
       "\n",
       "<div id=\"altair-viz-67bc9b123ef847c5abd5173400f75e21\"></div>\n",
       "<script type=\"text/javascript\">\n",
       "  (function(spec, embedOpt){\n",
       "    let outputDiv = document.currentScript.previousElementSibling;\n",
       "    if (outputDiv.id !== \"altair-viz-67bc9b123ef847c5abd5173400f75e21\") {\n",
       "      outputDiv = document.getElementById(\"altair-viz-67bc9b123ef847c5abd5173400f75e21\");\n",
       "    }\n",
       "    const paths = {\n",
       "      \"vega\": \"https://cdn.jsdelivr.net/npm//vega@5?noext\",\n",
       "      \"vega-lib\": \"https://cdn.jsdelivr.net/npm//vega-lib?noext\",\n",
       "      \"vega-lite\": \"https://cdn.jsdelivr.net/npm//vega-lite@4.8.1?noext\",\n",
       "      \"vega-embed\": \"https://cdn.jsdelivr.net/npm//vega-embed@6?noext\",\n",
       "    };\n",
       "\n",
       "    function loadScript(lib) {\n",
       "      return new Promise(function(resolve, reject) {\n",
       "        var s = document.createElement('script');\n",
       "        s.src = paths[lib];\n",
       "        s.async = true;\n",
       "        s.onload = () => resolve(paths[lib]);\n",
       "        s.onerror = () => reject(`Error loading script: ${paths[lib]}`);\n",
       "        document.getElementsByTagName(\"head\")[0].appendChild(s);\n",
       "      });\n",
       "    }\n",
       "\n",
       "    function showError(err) {\n",
       "      outputDiv.innerHTML = `<div class=\"error\" style=\"color:red;\">${err}</div>`;\n",
       "      throw err;\n",
       "    }\n",
       "\n",
       "    function displayChart(vegaEmbed) {\n",
       "      vegaEmbed(outputDiv, spec, embedOpt)\n",
       "        .catch(err => showError(`Javascript Error: ${err.message}<br>This usually means there's a typo in your chart specification. See the javascript console for the full traceback.`));\n",
       "    }\n",
       "\n",
       "    if(typeof define === \"function\" && define.amd) {\n",
       "      requirejs.config({paths});\n",
       "      require([\"vega-embed\"], displayChart, err => showError(`Error loading script: ${err.message}`));\n",
       "    } else if (typeof vegaEmbed === \"function\") {\n",
       "      displayChart(vegaEmbed);\n",
       "    } else {\n",
       "      loadScript(\"vega\")\n",
       "        .then(() => loadScript(\"vega-lite\"))\n",
       "        .then(() => loadScript(\"vega-embed\"))\n",
       "        .catch(showError)\n",
       "        .then(() => displayChart(vegaEmbed));\n",
       "    }\n",
       "  })({\"config\": {\"axis\": {\"domain\": true, \"domainColor\": \"#666F89\", \"grid\": false, \"gridCap\": \"round\", \"gridColor\": \"#B3B7C4\", \"gridDash\": [2, 4], \"gridWidth\": 0.5, \"labelColor\": \"#666F89\", \"labelFont\": \"Roboto, Arial, sans-serif\", \"labelPadding\": 2, \"tickColor\": \"#666F89\", \"tickOpacity\": 0.5, \"tickSize\": 4, \"titleColor\": \"#19274E\", \"titleFont\": \"Roboto, Arial, sans-serif\", \"titleFontSize\": 12}, \"axisBand\": {\"domain\": true, \"labelPadding\": 4, \"ticks\": false}, \"axisY\": {\"domain\": false, \"titleAlign\": \"left\", \"titleAngle\": 0, \"titleX\": -20, \"titleY\": -10}, \"legend\": {\"labelColor\": \"#666F89\", \"labelFont\": \"Roboto, Arial, sans-serif\", \"labelFontSize\": 12, \"symbolSize\": 40, \"titleColor\": \"#19274E\", \"titleFont\": \"Roboto, Arial, sans-serif\", \"titleFontSize\": 12, \"titlePadding\": 4}, \"arc\": {\"stroke\": \"#FFFFFF\", \"strokeWidth\": 1}, \"bar\": {\"fill\": \"#2770EB\", \"stroke\": null}, \"line\": {\"stroke\": \"#2770EB\", \"strokeWidth\": 2}, \"path\": {\"stroke\": \"#2770EB\", \"strokeWidth\": 0.5}, \"point\": {\"fill\": \"#2770EB\", \"shape\": \"circle\", \"filled\": true}, \"rect\": {\"fill\": \"#2770EB\"}, \"rule\": {\"stroke\": \"#666F89\"}, \"shape\": {\"stroke\": \"#2770EB\"}, \"text\": {\"color\": \"#19274E\", \"font\": \"Roboto, Arial, sans-serif\", \"fontSize\": 12}, \"range\": {\"category\": [\"#2770EB\", \"#77B98A\", \"#DA5252\", \"#FFC400\", \"#A87AEA\", \"#00A39E\", \"#19274E\"], \"diverging\": [\"#006360\", \"#2BB3AE\", \"#96D9D7\", \"#FFFFFF\", \"#EDAAAA\", \"#DA5252\", \"#811D1D\"], \"heatmap\": [\"#18448F\", \"#1B4EA5\", \"#2770EB\", \"#4C88EE\", \"#82ACF3\", \"#A6C4F7\", \"#E9F1FD\"], \"ramp\": [\"#18448F\", \"#1B4EA5\", \"#2770EB\", \"#4C88EE\", \"#82ACF3\", \"#A6C4F7\", \"#E9F1FD\"]}, \"background\": \"#FFFFFF\", \"group\": {\"fill\": \"#FFFFFF\"}, \"header\": {\"labelColor\": \"#19274E\", \"labelFont\": \"Roboto, Arial, sans-serif\", \"labelFontSize\": 12, \"titleColor\": \"#19274E\", \"titleFont\": \"Roboto, Arial, sans-serif\", \"titleFontSize\": 16}, \"title\": {\"anchor\": \"start\", \"color\": \"#19274E\", \"font\": \"Roboto, Arial, sans-serif\", \"fontSize\": 20, \"fontWeight\": \"bold\", \"offset\": 20, \"subtitleColor\": \"#19274E\", \"subtitleFontSize\": 16}, \"view\": {\"continuousHeight\": 300, \"continuousWidth\": 400, \"stroke\": \"transparent\"}}, \"layer\": [{\"mark\": {\"type\": \"area\", \"opacity\": 0.5}, \"encoding\": {\"color\": {\"type\": \"nominal\", \"field\": \"Coalition\", \"legend\": {\"fillColor\": \"white\", \"labelFontSize\": 14, \"labelLimit\": 0, \"orient\": \"top-left\", \"symbolSize\": 50, \"symbolStrokeWidth\": 0, \"title\": null}, \"scale\": {\"domain\": [\"Sum of contribution of events \\u2264 t\"], \"range\": [\"#618FE0\"]}}, \"x\": {\"type\": \"quantitative\", \"axis\": {\"labelFontSize\": 15, \"title\": \"t (event index)\", \"titleFontSize\": 15}, \"field\": \"t (event index)\"}, \"y\": {\"type\": \"quantitative\", \"axis\": {\"grid\": true, \"labelFontSize\": 15, \"titleFontSize\": 15, \"titleX\": -28}, \"field\": \"Shapley Value\", \"scale\": {\"domain\": [-0.05, 1]}}}}, {\"mark\": \"line\", \"encoding\": {\"color\": {\"type\": \"nominal\", \"field\": \"Coalition\", \"legend\": {\"fillColor\": \"white\", \"labelFontSize\": 14, \"labelLimit\": 0, \"orient\": \"top-left\", \"symbolSize\": 50, \"symbolStrokeWidth\": 0, \"title\": null}, \"scale\": {\"domain\": [\"Sum of contribution of events \\u2264 t\"], \"range\": [\"#618FE0\"]}}, \"x\": {\"type\": \"quantitative\", \"axis\": {\"labelFontSize\": 15, \"title\": \"t (event index)\", \"titleFontSize\": 15}, \"field\": \"t (event index)\"}, \"y\": {\"type\": \"quantitative\", \"axis\": {\"grid\": true, \"labelFontSize\": 15, \"titleFontSize\": 15, \"titleX\": -28}, \"field\": \"Shapley Value\", \"scale\": {\"domain\": [-0.05, 1]}}}}, {\"data\": {\"name\": \"data-00f9f9d497b03298be4af29d0ce28e00\"}, \"mark\": {\"type\": \"rule\", \"color\": \"#E17560\"}, \"encoding\": {\"x\": {\"type\": \"quantitative\", \"field\": \"x\"}}}, {\"data\": {\"name\": \"data-3a7b7db6c2eceac850927f663c8c65eb\"}, \"mark\": {\"type\": \"text\", \"angle\": 270, \"color\": \"#E17560\", \"fontSize\": 15, \"fontWeight\": \"bold\", \"text\": \"Pruning\"}, \"encoding\": {\"x\": {\"type\": \"quantitative\", \"field\": \"x\"}}}], \"data\": {\"name\": \"data-7986e88ba96495bf7c87c56cc7c94736\"}, \"height\": 225, \"width\": 350, \"$schema\": \"https://vega.github.io/schema/vega-lite/v4.8.1.json\", \"datasets\": {\"data-7986e88ba96495bf7c87c56cc7c94736\": [{\"Coalition\": \"Sum of contribution of events > t\", \"t (event index)\": 0, \"Shapley Value\": 0.0}, {\"Coalition\": \"Sum of contribution of events \\u2264 t\", \"t (event index)\": 0, \"Shapley Value\": 0.4349707067012787}, {\"Coalition\": \"Sum of contribution of events > t\", \"t (event index)\": -1, \"Shapley Value\": 0.02786177396774292}, {\"Coalition\": \"Sum of contribution of events \\u2264 t\", \"t (event index)\": -1, \"Shapley Value\": 0.40710893273353577}, {\"Coalition\": \"Sum of contribution of events > t\", \"t (event index)\": -2, \"Shapley Value\": 0.08316574990749359}, {\"Coalition\": \"Sum of contribution of events \\u2264 t\", \"t (event index)\": -2, \"Shapley Value\": 0.3518049567937851}, {\"Coalition\": \"Sum of contribution of events > t\", \"t (event index)\": -3, \"Shapley Value\": 0.133720263838768}, {\"Coalition\": \"Sum of contribution of events \\u2264 t\", \"t (event index)\": -3, \"Shapley Value\": 0.3012504428625107}, {\"Coalition\": \"Sum of contribution of events > t\", \"t (event index)\": -4, \"Shapley Value\": 0.1819434016942978}, {\"Coalition\": \"Sum of contribution of events \\u2264 t\", \"t (event index)\": -4, \"Shapley Value\": 0.2530273050069809}, {\"Coalition\": \"Sum of contribution of events > t\", \"t (event index)\": -5, \"Shapley Value\": 0.2044738084077835}, {\"Coalition\": \"Sum of contribution of events \\u2264 t\", \"t (event index)\": -5, \"Shapley Value\": 0.23049689829349518}, {\"Coalition\": \"Sum of contribution of events > t\", \"t (event index)\": -6, \"Shapley Value\": 0.22830425202846527}, {\"Coalition\": \"Sum of contribution of events \\u2264 t\", \"t (event index)\": -6, \"Shapley Value\": 0.20666645467281342}, {\"Coalition\": \"Sum of contribution of events > t\", \"t (event index)\": -7, \"Shapley Value\": 0.255110040307045}, {\"Coalition\": \"Sum of contribution of events \\u2264 t\", \"t (event index)\": -7, \"Shapley Value\": 0.1798606663942337}, {\"Coalition\": \"Sum of contribution of events > t\", \"t (event index)\": -8, \"Shapley Value\": 0.2915100157260895}, {\"Coalition\": \"Sum of contribution of events \\u2264 t\", \"t (event index)\": -8, \"Shapley Value\": 0.1434606909751892}, {\"Coalition\": \"Sum of contribution of events > t\", \"t (event index)\": -9, \"Shapley Value\": 0.3121499568223953}, {\"Coalition\": \"Sum of contribution of events \\u2264 t\", \"t (event index)\": -9, \"Shapley Value\": 0.12282074987888336}, {\"Coalition\": \"Sum of contribution of events > t\", \"t (event index)\": -10, \"Shapley Value\": 0.3317601829767227}, {\"Coalition\": \"Sum of contribution of events \\u2264 t\", \"t (event index)\": -10, \"Shapley Value\": 0.10321052372455597}, {\"Coalition\": \"Sum of contribution of events > t\", \"t (event index)\": -11, \"Shapley Value\": 0.3346547782421112}, {\"Coalition\": \"Sum of contribution of events \\u2264 t\", \"t (event index)\": -11, \"Shapley Value\": 0.10031592845916748}, {\"Coalition\": \"Sum of contribution of events > t\", \"t (event index)\": -12, \"Shapley Value\": 0.3450062572956085}, {\"Coalition\": \"Sum of contribution of events \\u2264 t\", \"t (event index)\": -12, \"Shapley Value\": 0.08996444940567017}, {\"Coalition\": \"Sum of contribution of events > t\", \"t (event index)\": -13, \"Shapley Value\": 0.35395675897598267}, {\"Coalition\": \"Sum of contribution of events \\u2264 t\", \"t (event index)\": -13, \"Shapley Value\": 0.08101394772529602}, {\"Coalition\": \"Sum of contribution of events > t\", \"t (event index)\": -14, \"Shapley Value\": 0.3656751960515976}, {\"Coalition\": \"Sum of contribution of events \\u2264 t\", \"t (event index)\": -14, \"Shapley Value\": 0.06929551064968109}, {\"Coalition\": \"Sum of contribution of events > t\", \"t (event index)\": -15, \"Shapley Value\": 0.3749373108148575}, {\"Coalition\": \"Sum of contribution of events \\u2264 t\", \"t (event index)\": -15, \"Shapley Value\": 0.060033395886421204}, {\"Coalition\": \"Sum of contribution of events > t\", \"t (event index)\": -16, \"Shapley Value\": 0.3855687826871872}, {\"Coalition\": \"Sum of contribution of events \\u2264 t\", \"t (event index)\": -16, \"Shapley Value\": 0.04940192401409149}, {\"Coalition\": \"Sum of contribution of events > t\", \"t (event index)\": -17, \"Shapley Value\": 0.38922014832496643}, {\"Coalition\": \"Sum of contribution of events \\u2264 t\", \"t (event index)\": -17, \"Shapley Value\": 0.045750558376312256}, {\"Coalition\": \"Sum of contribution of events > t\", \"t (event index)\": -18, \"Shapley Value\": 0.3913310617208481}, {\"Coalition\": \"Sum of contribution of events \\u2264 t\", \"t (event index)\": -18, \"Shapley Value\": 0.0436396449804306}, {\"Coalition\": \"Sum of contribution of events > t\", \"t (event index)\": -19, \"Shapley Value\": 0.3953825682401657}, {\"Coalition\": \"Sum of contribution of events \\u2264 t\", \"t (event index)\": -19, \"Shapley Value\": 0.039588138461112976}, {\"Coalition\": \"Sum of contribution of events > t\", \"t (event index)\": -20, \"Shapley Value\": 0.40050579607486725}, {\"Coalition\": \"Sum of contribution of events \\u2264 t\", \"t (event index)\": -20, \"Shapley Value\": 0.03446491062641144}, {\"Coalition\": \"Sum of contribution of events > t\", \"t (event index)\": -21, \"Shapley Value\": 0.4056229740381241}, {\"Coalition\": \"Sum of contribution of events \\u2264 t\", \"t (event index)\": -21, \"Shapley Value\": 0.029347732663154602}, {\"Coalition\": \"Sum of contribution of events > t\", \"t (event index)\": -22, \"Shapley Value\": 0.40831218659877777}, {\"Coalition\": \"Sum of contribution of events \\u2264 t\", \"t (event index)\": -22, \"Shapley Value\": 0.026658520102500916}, {\"Coalition\": \"Sum of contribution of events > t\", \"t (event index)\": -23, \"Shapley Value\": 0.4101140946149826}, {\"Coalition\": \"Sum of contribution of events \\u2264 t\", \"t (event index)\": -23, \"Shapley Value\": 0.02485661208629608}, {\"Coalition\": \"Sum of contribution of events > t\", \"t (event index)\": -24, \"Shapley Value\": 0.41379792988300323}, {\"Coalition\": \"Sum of contribution of events \\u2264 t\", \"t (event index)\": -24, \"Shapley Value\": 0.02117277681827545}, {\"Coalition\": \"Sum of contribution of events > t\", \"t (event index)\": -25, \"Shapley Value\": 0.4152585119009018}, {\"Coalition\": \"Sum of contribution of events \\u2264 t\", \"t (event index)\": -25, \"Shapley Value\": 0.019712194800376892}, {\"Coalition\": \"Sum of contribution of events > t\", \"t (event index)\": -26, \"Shapley Value\": 0.417110338807106}, {\"Coalition\": \"Sum of contribution of events \\u2264 t\", \"t (event index)\": -26, \"Shapley Value\": 0.01786036789417267}, {\"Coalition\": \"Sum of contribution of events > t\", \"t (event index)\": -27, \"Shapley Value\": 0.4197215586900711}, {\"Coalition\": \"Sum of contribution of events \\u2264 t\", \"t (event index)\": -27, \"Shapley Value\": 0.01524914801120758}, {\"Coalition\": \"Sum of contribution of events > t\", \"t (event index)\": -28, \"Shapley Value\": 0.42129427194595337}, {\"Coalition\": \"Sum of contribution of events \\u2264 t\", \"t (event index)\": -28, \"Shapley Value\": 0.013676434755325317}, {\"Coalition\": \"Sum of contribution of events > t\", \"t (event index)\": -29, \"Shapley Value\": 0.42359624803066254}, {\"Coalition\": \"Sum of contribution of events \\u2264 t\", \"t (event index)\": -29, \"Shapley Value\": 0.01137445867061615}, {\"Coalition\": \"Sum of contribution of events > t\", \"t (event index)\": -30, \"Shapley Value\": 0.4248519241809845}, {\"Coalition\": \"Sum of contribution of events \\u2264 t\", \"t (event index)\": -30, \"Shapley Value\": 0.01011878252029419}, {\"Coalition\": \"Sum of contribution of events > t\", \"t (event index)\": -31, \"Shapley Value\": 0.42470358312129974}, {\"Coalition\": \"Sum of contribution of events \\u2264 t\", \"t (event index)\": -31, \"Shapley Value\": 0.010267123579978943}, {\"Coalition\": \"Sum of contribution of events > t\", \"t (event index)\": -32, \"Shapley Value\": 0.4255567491054535}, {\"Coalition\": \"Sum of contribution of events \\u2264 t\", \"t (event index)\": -32, \"Shapley Value\": 0.009413957595825195}, {\"Coalition\": \"Sum of contribution of events > t\", \"t (event index)\": -33, \"Shapley Value\": 0.42628245055675507}, {\"Coalition\": \"Sum of contribution of events \\u2264 t\", \"t (event index)\": -33, \"Shapley Value\": 0.00868825614452362}, {\"Coalition\": \"Sum of contribution of events > t\", \"t (event index)\": -34, \"Shapley Value\": 0.42718085646629333}, {\"Coalition\": \"Sum of contribution of events \\u2264 t\", \"t (event index)\": -34, \"Shapley Value\": 0.0077898502349853516}, {\"Coalition\": \"Sum of contribution of events > t\", \"t (event index)\": -35, \"Shapley Value\": 0.42841726541519165}, {\"Coalition\": \"Sum of contribution of events \\u2264 t\", \"t (event index)\": -35, \"Shapley Value\": 0.006553441286087036}, {\"Coalition\": \"Sum of contribution of events > t\", \"t (event index)\": -36, \"Shapley Value\": 0.4292069524526596}, {\"Coalition\": \"Sum of contribution of events \\u2264 t\", \"t (event index)\": -36, \"Shapley Value\": 0.00576375424861908}, {\"Coalition\": \"Sum of contribution of events > t\", \"t (event index)\": -37, \"Shapley Value\": 0.42924514412879944}, {\"Coalition\": \"Sum of contribution of events \\u2264 t\", \"t (event index)\": -37, \"Shapley Value\": 0.005725562572479248}, {\"Coalition\": \"Sum of contribution of events > t\", \"t (event index)\": -38, \"Shapley Value\": 0.4295218735933304}, {\"Coalition\": \"Sum of contribution of events \\u2264 t\", \"t (event index)\": -38, \"Shapley Value\": 0.005448833107948303}, {\"Coalition\": \"Sum of contribution of events > t\", \"t (event index)\": -39, \"Shapley Value\": 0.4300806075334549}, {\"Coalition\": \"Sum of contribution of events \\u2264 t\", \"t (event index)\": -39, \"Shapley Value\": 0.0048900991678237915}, {\"Coalition\": \"Sum of contribution of events > t\", \"t (event index)\": -40, \"Shapley Value\": 0.43030916154384613}, {\"Coalition\": \"Sum of contribution of events \\u2264 t\", \"t (event index)\": -40, \"Shapley Value\": 0.004661545157432556}], \"data-00f9f9d497b03298be4af29d0ce28e00\": [{\"x\": -23}], \"data-3a7b7db6c2eceac850927f663c8c65eb\": [{\"x\": -25}]}}, {\"mode\": \"vega-lite\"});\n",
       "</script>"
      ],
      "text/plain": [
       "alt.LayerChart(...)"
      ]
     },
     "execution_count": 24,
     "metadata": {},
     "output_type": "execute_result"
    }
   ],
   "source": [
    "pruning_dict = {'tol': 0.025,}\n",
    "coal_plot_data, coal_prun_idx = local_pruning(f, pos_x_data, pruning_dict, average_event, positive_sequence_id, sequence_id_feat, False)\n",
    "# coal_prun_idx is in negative terms\n",
    "pruning_idx = pos_x_data.shape[1] + coal_prun_idx\n",
    "pruning_plot = plot_temp_coalition_pruning(coal_plot_data, coal_prun_idx, plot_limit=40)\n",
    "pruning_plot"
   ]
  },
  {
   "cell_type": "markdown",
   "id": "fdb4260c",
   "metadata": {},
   "source": [
    "##### Event-level explanation"
   ]
  },
  {
   "cell_type": "code",
   "execution_count": 25,
   "id": "4ac0cb06",
   "metadata": {},
   "outputs": [
    {
     "data": {
      "text/html": [
       "\n",
       "<div id=\"altair-viz-1c3d080a7a594a4aa610115c9a5d67a4\"></div>\n",
       "<script type=\"text/javascript\">\n",
       "  (function(spec, embedOpt){\n",
       "    let outputDiv = document.currentScript.previousElementSibling;\n",
       "    if (outputDiv.id !== \"altair-viz-1c3d080a7a594a4aa610115c9a5d67a4\") {\n",
       "      outputDiv = document.getElementById(\"altair-viz-1c3d080a7a594a4aa610115c9a5d67a4\");\n",
       "    }\n",
       "    const paths = {\n",
       "      \"vega\": \"https://cdn.jsdelivr.net/npm//vega@5?noext\",\n",
       "      \"vega-lib\": \"https://cdn.jsdelivr.net/npm//vega-lib?noext\",\n",
       "      \"vega-lite\": \"https://cdn.jsdelivr.net/npm//vega-lite@4.8.1?noext\",\n",
       "      \"vega-embed\": \"https://cdn.jsdelivr.net/npm//vega-embed@6?noext\",\n",
       "    };\n",
       "\n",
       "    function loadScript(lib) {\n",
       "      return new Promise(function(resolve, reject) {\n",
       "        var s = document.createElement('script');\n",
       "        s.src = paths[lib];\n",
       "        s.async = true;\n",
       "        s.onload = () => resolve(paths[lib]);\n",
       "        s.onerror = () => reject(`Error loading script: ${paths[lib]}`);\n",
       "        document.getElementsByTagName(\"head\")[0].appendChild(s);\n",
       "      });\n",
       "    }\n",
       "\n",
       "    function showError(err) {\n",
       "      outputDiv.innerHTML = `<div class=\"error\" style=\"color:red;\">${err}</div>`;\n",
       "      throw err;\n",
       "    }\n",
       "\n",
       "    function displayChart(vegaEmbed) {\n",
       "      vegaEmbed(outputDiv, spec, embedOpt)\n",
       "        .catch(err => showError(`Javascript Error: ${err.message}<br>This usually means there's a typo in your chart specification. See the javascript console for the full traceback.`));\n",
       "    }\n",
       "\n",
       "    if(typeof define === \"function\" && define.amd) {\n",
       "      requirejs.config({paths});\n",
       "      require([\"vega-embed\"], displayChart, err => showError(`Error loading script: ${err.message}`));\n",
       "    } else if (typeof vegaEmbed === \"function\") {\n",
       "      displayChart(vegaEmbed);\n",
       "    } else {\n",
       "      loadScript(\"vega\")\n",
       "        .then(() => loadScript(\"vega-lite\"))\n",
       "        .then(() => loadScript(\"vega-embed\"))\n",
       "        .catch(showError)\n",
       "        .then(() => displayChart(vegaEmbed));\n",
       "    }\n",
       "  })({\"config\": {\"axis\": {\"domain\": true, \"domainColor\": \"#666F89\", \"grid\": false, \"gridCap\": \"round\", \"gridColor\": \"#B3B7C4\", \"gridDash\": [2, 4], \"gridWidth\": 0.5, \"labelColor\": \"#666F89\", \"labelFont\": \"Roboto, Arial, sans-serif\", \"labelPadding\": 2, \"tickColor\": \"#666F89\", \"tickOpacity\": 0.5, \"tickSize\": 4, \"titleColor\": \"#19274E\", \"titleFont\": \"Roboto, Arial, sans-serif\", \"titleFontSize\": 12}, \"axisBand\": {\"domain\": true, \"labelPadding\": 4, \"ticks\": false}, \"axisY\": {\"domain\": false, \"titleAlign\": \"left\", \"titleAngle\": 0, \"titleX\": -20, \"titleY\": -10}, \"legend\": {\"labelColor\": \"#666F89\", \"labelFont\": \"Roboto, Arial, sans-serif\", \"labelFontSize\": 12, \"symbolSize\": 40, \"titleColor\": \"#19274E\", \"titleFont\": \"Roboto, Arial, sans-serif\", \"titleFontSize\": 12, \"titlePadding\": 4}, \"arc\": {\"stroke\": \"#FFFFFF\", \"strokeWidth\": 1}, \"bar\": {\"fill\": \"#2770EB\", \"stroke\": null}, \"line\": {\"stroke\": \"#2770EB\", \"strokeWidth\": 2}, \"path\": {\"stroke\": \"#2770EB\", \"strokeWidth\": 0.5}, \"point\": {\"fill\": \"#2770EB\", \"shape\": \"circle\", \"filled\": true}, \"rect\": {\"fill\": \"#2770EB\"}, \"rule\": {\"stroke\": \"#666F89\"}, \"shape\": {\"stroke\": \"#2770EB\"}, \"text\": {\"color\": \"#19274E\", \"font\": \"Roboto, Arial, sans-serif\", \"fontSize\": 12}, \"range\": {\"category\": [\"#2770EB\", \"#77B98A\", \"#DA5252\", \"#FFC400\", \"#A87AEA\", \"#00A39E\", \"#19274E\"], \"diverging\": [\"#006360\", \"#2BB3AE\", \"#96D9D7\", \"#FFFFFF\", \"#EDAAAA\", \"#DA5252\", \"#811D1D\"], \"heatmap\": [\"#18448F\", \"#1B4EA5\", \"#2770EB\", \"#4C88EE\", \"#82ACF3\", \"#A6C4F7\", \"#E9F1FD\"], \"ramp\": [\"#18448F\", \"#1B4EA5\", \"#2770EB\", \"#4C88EE\", \"#82ACF3\", \"#A6C4F7\", \"#E9F1FD\"]}, \"background\": \"#FFFFFF\", \"group\": {\"fill\": \"#FFFFFF\"}, \"header\": {\"labelColor\": \"#19274E\", \"labelFont\": \"Roboto, Arial, sans-serif\", \"labelFontSize\": 12, \"titleColor\": \"#19274E\", \"titleFont\": \"Roboto, Arial, sans-serif\", \"titleFontSize\": 16}, \"title\": {\"anchor\": \"start\", \"color\": \"#19274E\", \"font\": \"Roboto, Arial, sans-serif\", \"fontSize\": 20, \"fontWeight\": \"bold\", \"offset\": 20, \"subtitleColor\": \"#19274E\", \"subtitleFontSize\": 16}, \"view\": {\"continuousHeight\": 300, \"continuousWidth\": 400, \"stroke\": \"transparent\"}}, \"layer\": [{\"mark\": \"rect\", \"encoding\": {\"color\": {\"type\": \"quantitative\", \"field\": \"rounded\", \"legend\": {\"gradientLength\": 225, \"gradientThickness\": 10, \"labelFontSize\": 15, \"orient\": \"right\"}, \"scale\": {\"domain\": [-0.5, 0.5], \"range\": [\"#5f8fd6\", \"#99c3fb\", \"#f5f5f5\", \"#ffaa92\", \"#d16f5b\"]}, \"title\": null}, \"x\": {\"type\": \"ordinal\", \"axis\": {\"title\": \"Shapley Value\", \"titleFontSize\": 15}, \"field\": \"column\"}, \"y\": {\"type\": \"ordinal\", \"axis\": {\"domain\": false, \"labelFontSize\": 15, \"title\": \"Event\", \"titleFontSize\": 15, \"titleX\": -49}, \"field\": \"Feature\", \"sort\": [\"Event -1\", \"Event -2\", \"Event -3\", \"Event -4\", \"Event -5\", \"Event -6\", \"Event -7\", \"Event -8\", \"Event -9\", \"Event -10\", \"Event -11\", \"Event -12\", \"Event -13\", \"Event -14\", \"Event -15\", \"Event -16\", \"Event -17\", \"Event -18\", \"Event -19\", \"Event -20\", \"Event -21\", \"Event -22\", \"Event -23\", \"Pruned Events\"]}}}, {\"mark\": {\"type\": \"text\", \"align\": \"right\", \"baseline\": \"middle\", \"color\": \"#798184\", \"dx\": 18, \"fontSize\": 15}, \"encoding\": {\"text\": {\"type\": \"nominal\", \"field\": \"rounded_str\"}, \"x\": {\"type\": \"ordinal\", \"axis\": {\"domain\": false, \"labels\": false, \"title\": \"Shapley Value\", \"titleX\": 43}, \"field\": \"column\"}, \"y\": {\"type\": \"ordinal\", \"axis\": {\"domain\": false, \"labelFontSize\": 15, \"title\": \"Event\", \"titleFontSize\": 15, \"titleX\": -49}, \"field\": \"Feature\", \"sort\": [\"Event -1\", \"Event -2\", \"Event -3\", \"Event -4\", \"Event -5\", \"Event -6\", \"Event -7\", \"Event -8\", \"Event -9\", \"Event -10\", \"Event -11\", \"Event -12\", \"Event -13\", \"Event -14\", \"Event -15\", \"Event -16\", \"Event -17\", \"Event -18\", \"Event -19\", \"Event -20\", \"Event -21\", \"Event -22\", \"Event -23\", \"Pruned Events\"]}}}], \"data\": {\"name\": \"data-5575c79705e1947f6b3c7a3d32e9ce79\"}, \"height\": 225, \"width\": 60, \"$schema\": \"https://vega.github.io/schema/vega-lite/v4.8.1.json\", \"datasets\": {\"data-5575c79705e1947f6b3c7a3d32e9ce79\": [{\"Shapley Value\": 0.040295583126508605, \"Feature\": \"Event -1\", \"row\": 1, \"column\": 1, \"rounded\": 0.04, \"rounded_str\": \"0.040\"}, {\"Shapley Value\": 0.055344073886922834, \"Feature\": \"Event -2\", \"row\": 2, \"column\": 1, \"rounded\": 0.055, \"rounded_str\": \"0.055\"}, {\"Shapley Value\": 0.04290320869482436, \"Feature\": \"Event -3\", \"row\": 3, \"column\": 1, \"rounded\": 0.043, \"rounded_str\": \"0.043\"}, {\"Shapley Value\": 0.04174737159402808, \"Feature\": \"Event -4\", \"row\": 4, \"column\": 1, \"rounded\": 0.042, \"rounded_str\": \"0.042\"}, {\"Shapley Value\": 0.016017550383202905, \"Feature\": \"Event -5\", \"row\": 5, \"column\": 1, \"rounded\": 0.016, \"rounded_str\": \"0.016\"}, {\"Shapley Value\": 0.019527694968126758, \"Feature\": \"Event -6\", \"row\": 6, \"column\": 1, \"rounded\": 0.02, \"rounded_str\": \"0.020\"}, {\"Shapley Value\": 0.02216325075747405, \"Feature\": \"Event -7\", \"row\": 7, \"column\": 1, \"rounded\": 0.022, \"rounded_str\": \"0.022\"}, {\"Shapley Value\": 0.03344444803793484, \"Feature\": \"Event -8\", \"row\": 8, \"column\": 1, \"rounded\": 0.033, \"rounded_str\": \"0.033\"}, {\"Shapley Value\": 0.020920762738020293, \"Feature\": \"Event -9\", \"row\": 9, \"column\": 1, \"rounded\": 0.021, \"rounded_str\": \"0.021\"}, {\"Shapley Value\": 0.01703918803770449, \"Feature\": \"Event -10\", \"row\": 10, \"column\": 1, \"rounded\": 0.017, \"rounded_str\": \"0.017\"}, {\"Shapley Value\": 0.0030410721157493326, \"Feature\": \"Event -11\", \"row\": 11, \"column\": 1, \"rounded\": 0.003, \"rounded_str\": \"0.003\"}, {\"Shapley Value\": 0.011055915917470294, \"Feature\": \"Event -12\", \"row\": 12, \"column\": 1, \"rounded\": 0.011, \"rounded_str\": \"0.011\"}, {\"Shapley Value\": 0.009293624482516777, \"Feature\": \"Event -13\", \"row\": 13, \"column\": 1, \"rounded\": 0.009, \"rounded_str\": \"0.009\"}, {\"Shapley Value\": 0.013302332569085501, \"Feature\": \"Event -14\", \"row\": 14, \"column\": 1, \"rounded\": 0.013, \"rounded_str\": \"0.013\"}, {\"Shapley Value\": 0.010164462370603228, \"Feature\": \"Event -15\", \"row\": 15, \"column\": 1, \"rounded\": 0.01, \"rounded_str\": \"0.010\"}, {\"Shapley Value\": 0.011999310143740172, \"Feature\": \"Event -16\", \"row\": 16, \"column\": 1, \"rounded\": 0.012, \"rounded_str\": \"0.012\"}, {\"Shapley Value\": 0.004233685997602904, \"Feature\": \"Event -17\", \"row\": 17, \"column\": 1, \"rounded\": 0.004, \"rounded_str\": \"0.004\"}, {\"Shapley Value\": 0.0024051360675607647, \"Feature\": \"Event -18\", \"row\": 18, \"column\": 1, \"rounded\": 0.002, \"rounded_str\": \"0.002\"}, {\"Shapley Value\": 0.00541178322351088, \"Feature\": \"Event -19\", \"row\": 19, \"column\": 1, \"rounded\": 0.005, \"rounded_str\": \"0.005\"}, {\"Shapley Value\": 0.006668215129826904, \"Feature\": \"Event -20\", \"row\": 20, \"column\": 1, \"rounded\": 0.007, \"rounded_str\": \"0.007\"}, {\"Shapley Value\": 0.005875344523150278, \"Feature\": \"Event -21\", \"row\": 21, \"column\": 1, \"rounded\": 0.006, \"rounded_str\": \"0.006\"}, {\"Shapley Value\": 0.003259224621466661, \"Feature\": \"Event -22\", \"row\": 22, \"column\": 1, \"rounded\": 0.003, \"rounded_str\": \"0.003\"}, {\"Shapley Value\": 0.0036286991223823117, \"Feature\": \"Event -23\", \"row\": 23, \"column\": 1, \"rounded\": 0.004, \"rounded_str\": \"0.004\"}, {\"Shapley Value\": 0.03522876819186549, \"Feature\": \"Pruned Events\", \"row\": 24, \"column\": 1, \"rounded\": 0.035, \"rounded_str\": \"0.035\"}]}}, {\"mode\": \"vega-lite\"});\n",
       "</script>"
      ],
      "text/plain": [
       "alt.LayerChart(...)"
      ]
     },
     "execution_count": 25,
     "metadata": {},
     "output_type": "execute_result"
    }
   ],
   "source": [
    "event_dict = {'rs': 42, 'nsamples': 32000}\n",
    "event_data = local_event(f, pos_x_data, event_dict, positive_sequence_id, sequence_id_feat, average_event, pruning_idx)\n",
    "event_plot = plot_event_heatmap(event_data)\n",
    "event_plot"
   ]
  },
  {
   "cell_type": "markdown",
   "id": "f5034207",
   "metadata": {},
   "source": [
    "##### Feature-level explanation"
   ]
  },
  {
   "cell_type": "code",
   "execution_count": 26,
   "id": "1c6776c0",
   "metadata": {},
   "outputs": [
    {
     "data": {
      "text/html": [
       "\n",
       "<div id=\"altair-viz-8f6ffced16ed48ffa4f82e523b332c23\"></div>\n",
       "<script type=\"text/javascript\">\n",
       "  (function(spec, embedOpt){\n",
       "    let outputDiv = document.currentScript.previousElementSibling;\n",
       "    if (outputDiv.id !== \"altair-viz-8f6ffced16ed48ffa4f82e523b332c23\") {\n",
       "      outputDiv = document.getElementById(\"altair-viz-8f6ffced16ed48ffa4f82e523b332c23\");\n",
       "    }\n",
       "    const paths = {\n",
       "      \"vega\": \"https://cdn.jsdelivr.net/npm//vega@5?noext\",\n",
       "      \"vega-lib\": \"https://cdn.jsdelivr.net/npm//vega-lib?noext\",\n",
       "      \"vega-lite\": \"https://cdn.jsdelivr.net/npm//vega-lite@4.8.1?noext\",\n",
       "      \"vega-embed\": \"https://cdn.jsdelivr.net/npm//vega-embed@6?noext\",\n",
       "    };\n",
       "\n",
       "    function loadScript(lib) {\n",
       "      return new Promise(function(resolve, reject) {\n",
       "        var s = document.createElement('script');\n",
       "        s.src = paths[lib];\n",
       "        s.async = true;\n",
       "        s.onload = () => resolve(paths[lib]);\n",
       "        s.onerror = () => reject(`Error loading script: ${paths[lib]}`);\n",
       "        document.getElementsByTagName(\"head\")[0].appendChild(s);\n",
       "      });\n",
       "    }\n",
       "\n",
       "    function showError(err) {\n",
       "      outputDiv.innerHTML = `<div class=\"error\" style=\"color:red;\">${err}</div>`;\n",
       "      throw err;\n",
       "    }\n",
       "\n",
       "    function displayChart(vegaEmbed) {\n",
       "      vegaEmbed(outputDiv, spec, embedOpt)\n",
       "        .catch(err => showError(`Javascript Error: ${err.message}<br>This usually means there's a typo in your chart specification. See the javascript console for the full traceback.`));\n",
       "    }\n",
       "\n",
       "    if(typeof define === \"function\" && define.amd) {\n",
       "      requirejs.config({paths});\n",
       "      require([\"vega-embed\"], displayChart, err => showError(`Error loading script: ${err.message}`));\n",
       "    } else if (typeof vegaEmbed === \"function\") {\n",
       "      displayChart(vegaEmbed);\n",
       "    } else {\n",
       "      loadScript(\"vega\")\n",
       "        .then(() => loadScript(\"vega-lite\"))\n",
       "        .then(() => loadScript(\"vega-embed\"))\n",
       "        .catch(showError)\n",
       "        .then(() => displayChart(vegaEmbed));\n",
       "    }\n",
       "  })({\"config\": {\"axis\": {\"domain\": true, \"domainColor\": \"#666F89\", \"grid\": false, \"gridCap\": \"round\", \"gridColor\": \"#B3B7C4\", \"gridDash\": [2, 4], \"gridWidth\": 0.5, \"labelColor\": \"#666F89\", \"labelFont\": \"Roboto, Arial, sans-serif\", \"labelPadding\": 2, \"tickColor\": \"#666F89\", \"tickOpacity\": 0.5, \"tickSize\": 4, \"titleColor\": \"#19274E\", \"titleFont\": \"Roboto, Arial, sans-serif\", \"titleFontSize\": 12}, \"axisBand\": {\"domain\": true, \"labelPadding\": 4, \"ticks\": false}, \"axisY\": {\"domain\": false, \"titleAlign\": \"left\", \"titleAngle\": 0, \"titleX\": -20, \"titleY\": -10}, \"legend\": {\"labelColor\": \"#666F89\", \"labelFont\": \"Roboto, Arial, sans-serif\", \"labelFontSize\": 12, \"symbolSize\": 40, \"titleColor\": \"#19274E\", \"titleFont\": \"Roboto, Arial, sans-serif\", \"titleFontSize\": 12, \"titlePadding\": 4}, \"arc\": {\"stroke\": \"#FFFFFF\", \"strokeWidth\": 1}, \"bar\": {\"fill\": \"#2770EB\", \"stroke\": null}, \"line\": {\"stroke\": \"#2770EB\", \"strokeWidth\": 2}, \"path\": {\"stroke\": \"#2770EB\", \"strokeWidth\": 0.5}, \"point\": {\"fill\": \"#2770EB\", \"shape\": \"circle\", \"filled\": true}, \"rect\": {\"fill\": \"#2770EB\"}, \"rule\": {\"stroke\": \"#666F89\"}, \"shape\": {\"stroke\": \"#2770EB\"}, \"text\": {\"color\": \"#19274E\", \"font\": \"Roboto, Arial, sans-serif\", \"fontSize\": 12}, \"range\": {\"category\": [\"#2770EB\", \"#77B98A\", \"#DA5252\", \"#FFC400\", \"#A87AEA\", \"#00A39E\", \"#19274E\"], \"diverging\": [\"#006360\", \"#2BB3AE\", \"#96D9D7\", \"#FFFFFF\", \"#EDAAAA\", \"#DA5252\", \"#811D1D\"], \"heatmap\": [\"#18448F\", \"#1B4EA5\", \"#2770EB\", \"#4C88EE\", \"#82ACF3\", \"#A6C4F7\", \"#E9F1FD\"], \"ramp\": [\"#18448F\", \"#1B4EA5\", \"#2770EB\", \"#4C88EE\", \"#82ACF3\", \"#A6C4F7\", \"#E9F1FD\"]}, \"background\": \"#FFFFFF\", \"group\": {\"fill\": \"#FFFFFF\"}, \"header\": {\"labelColor\": \"#19274E\", \"labelFont\": \"Roboto, Arial, sans-serif\", \"labelFontSize\": 12, \"titleColor\": \"#19274E\", \"titleFont\": \"Roboto, Arial, sans-serif\", \"titleFontSize\": 16}, \"title\": {\"anchor\": \"start\", \"color\": \"#19274E\", \"font\": \"Roboto, Arial, sans-serif\", \"fontSize\": 20, \"fontWeight\": \"bold\", \"offset\": 20, \"subtitleColor\": \"#19274E\", \"subtitleFontSize\": 16}, \"view\": {\"continuousHeight\": 300, \"continuousWidth\": 400, \"stroke\": \"transparent\"}}, \"layer\": [{\"data\": {\"name\": \"data-db236b1aa8c68115e263b43b64ad3a5b\"}, \"mark\": {\"type\": \"bar\", \"size\": 15, \"thickness\": 1}, \"encoding\": {\"x\": {\"type\": \"quantitative\", \"axis\": {\"grid\": true, \"labelFontSize\": 15, \"title\": \"Shapley Value\", \"titleFontSize\": 15}, \"field\": \"Shapley Value\", \"scale\": {\"domain\": [-0.1, 0.4]}}, \"y\": {\"type\": \"nominal\", \"axis\": {\"labelFontSize\": 15, \"title\": \"Feature\", \"titleFontSize\": 15, \"titleX\": -61}, \"field\": \"Feature\", \"sort\": {\"field\": \"sort_col\", \"order\": \"descending\"}}}}, {\"data\": {\"name\": \"data-9c00aa9dc2b1c1a0b4bf9b34ead12925\"}, \"mark\": {\"type\": \"rule\", \"color\": \"#798184\"}, \"encoding\": {\"x\": {\"type\": \"quantitative\", \"field\": \"x\"}}}], \"height\": 225, \"width\": 190, \"$schema\": \"https://vega.github.io/schema/vega-lite/v4.8.1.json\", \"datasets\": {\"data-db236b1aa8c68115e263b43b64ad3a5b\": [{\"Random seed\": 42, \"NSamples\": 32000, \"Feature\": \"Mean Chest <-> Right Ankle\", \"Shapley Value\": 0.02914188773859122, \"sort_col\": 0.02914188773859122}, {\"Random seed\": 42, \"NSamples\": 32000, \"Feature\": \"STD Chest <-> Right Ankle\", \"Shapley Value\": 0.04887911301283615, \"sort_col\": 0.04887911301283615}, {\"Random seed\": 42, \"NSamples\": 32000, \"Feature\": \"Mean Chest <-> Left Ankle\", \"Shapley Value\": 0.04391458502837603, \"sort_col\": 0.04391458502837603}, {\"Random seed\": 42, \"NSamples\": 32000, \"Feature\": \"STD Chest <-> Left Ankle\", \"Shapley Value\": 0.11743359139987375, \"sort_col\": 0.11743359139987375}, {\"Random seed\": 42, \"NSamples\": 32000, \"Feature\": \"Mean Right Ankle <-> Left Ankle\", \"Shapley Value\": 0.03448687117724189, \"sort_col\": 0.03448687117724189}, {\"Random seed\": 42, \"NSamples\": 32000, \"Feature\": \"STD Right Ankle <-> Left Ankle\", \"Shapley Value\": 0.12979027302492224, \"sort_col\": 0.12979027302492224}, {\"Random seed\": 42, \"NSamples\": 32000, \"Feature\": \"Pruned Events\", \"Shapley Value\": 0.03132438531943743, \"sort_col\": 0.03132438531943743}], \"data-9c00aa9dc2b1c1a0b4bf9b34ead12925\": [{\"x\": 0}]}}, {\"mode\": \"vega-lite\"});\n",
       "</script>"
      ],
      "text/plain": [
       "alt.LayerChart(...)"
      ]
     },
     "execution_count": 26,
     "metadata": {},
     "output_type": "execute_result"
    }
   ],
   "source": [
    "feature_dict = {'rs': 42, 'nsamples': 32000, 'feature_names': model_features, 'plot_features': plot_feats}\n",
    "feature_data = local_feat(f, pos_x_data, feature_dict, positive_sequence_id, sequence_id_feat, average_event, pruning_idx)\n",
    "feature_plot = plot_feat_barplot(feature_data, feature_dict.get('top_feats'), feature_dict.get('plot_features'))\n",
    "feature_plot"
   ]
  },
  {
   "cell_type": "markdown",
   "id": "51d8f3c6",
   "metadata": {},
   "source": [
    "##### Cell-level explanation"
   ]
  },
  {
   "cell_type": "code",
   "execution_count": 27,
   "id": "3a13c961",
   "metadata": {},
   "outputs": [
    {
     "data": {
      "text/html": [
       "\n",
       "<div id=\"altair-viz-83e7936931eb41e5bd881fb807a0620d\"></div>\n",
       "<script type=\"text/javascript\">\n",
       "  (function(spec, embedOpt){\n",
       "    let outputDiv = document.currentScript.previousElementSibling;\n",
       "    if (outputDiv.id !== \"altair-viz-83e7936931eb41e5bd881fb807a0620d\") {\n",
       "      outputDiv = document.getElementById(\"altair-viz-83e7936931eb41e5bd881fb807a0620d\");\n",
       "    }\n",
       "    const paths = {\n",
       "      \"vega\": \"https://cdn.jsdelivr.net/npm//vega@5?noext\",\n",
       "      \"vega-lib\": \"https://cdn.jsdelivr.net/npm//vega-lib?noext\",\n",
       "      \"vega-lite\": \"https://cdn.jsdelivr.net/npm//vega-lite@4.8.1?noext\",\n",
       "      \"vega-embed\": \"https://cdn.jsdelivr.net/npm//vega-embed@6?noext\",\n",
       "    };\n",
       "\n",
       "    function loadScript(lib) {\n",
       "      return new Promise(function(resolve, reject) {\n",
       "        var s = document.createElement('script');\n",
       "        s.src = paths[lib];\n",
       "        s.async = true;\n",
       "        s.onload = () => resolve(paths[lib]);\n",
       "        s.onerror = () => reject(`Error loading script: ${paths[lib]}`);\n",
       "        document.getElementsByTagName(\"head\")[0].appendChild(s);\n",
       "      });\n",
       "    }\n",
       "\n",
       "    function showError(err) {\n",
       "      outputDiv.innerHTML = `<div class=\"error\" style=\"color:red;\">${err}</div>`;\n",
       "      throw err;\n",
       "    }\n",
       "\n",
       "    function displayChart(vegaEmbed) {\n",
       "      vegaEmbed(outputDiv, spec, embedOpt)\n",
       "        .catch(err => showError(`Javascript Error: ${err.message}<br>This usually means there's a typo in your chart specification. See the javascript console for the full traceback.`));\n",
       "    }\n",
       "\n",
       "    if(typeof define === \"function\" && define.amd) {\n",
       "      requirejs.config({paths});\n",
       "      require([\"vega-embed\"], displayChart, err => showError(`Error loading script: ${err.message}`));\n",
       "    } else if (typeof vegaEmbed === \"function\") {\n",
       "      displayChart(vegaEmbed);\n",
       "    } else {\n",
       "      loadScript(\"vega\")\n",
       "        .then(() => loadScript(\"vega-lite\"))\n",
       "        .then(() => loadScript(\"vega-embed\"))\n",
       "        .catch(showError)\n",
       "        .then(() => displayChart(vegaEmbed));\n",
       "    }\n",
       "  })({\"config\": {\"axis\": {\"domain\": true, \"domainColor\": \"#666F89\", \"grid\": false, \"gridCap\": \"round\", \"gridColor\": \"#B3B7C4\", \"gridDash\": [2, 4], \"gridWidth\": 0.5, \"labelColor\": \"#666F89\", \"labelFont\": \"Roboto, Arial, sans-serif\", \"labelPadding\": 2, \"tickColor\": \"#666F89\", \"tickOpacity\": 0.5, \"tickSize\": 4, \"titleColor\": \"#19274E\", \"titleFont\": \"Roboto, Arial, sans-serif\", \"titleFontSize\": 12}, \"axisBand\": {\"domain\": true, \"labelPadding\": 4, \"ticks\": false}, \"axisY\": {\"domain\": false, \"titleAlign\": \"left\", \"titleAngle\": 0, \"titleX\": -20, \"titleY\": -10}, \"legend\": {\"labelColor\": \"#666F89\", \"labelFont\": \"Roboto, Arial, sans-serif\", \"labelFontSize\": 12, \"symbolSize\": 40, \"titleColor\": \"#19274E\", \"titleFont\": \"Roboto, Arial, sans-serif\", \"titleFontSize\": 12, \"titlePadding\": 4}, \"arc\": {\"stroke\": \"#FFFFFF\", \"strokeWidth\": 1}, \"bar\": {\"fill\": \"#2770EB\", \"stroke\": null}, \"line\": {\"stroke\": \"#2770EB\", \"strokeWidth\": 2}, \"path\": {\"stroke\": \"#2770EB\", \"strokeWidth\": 0.5}, \"point\": {\"fill\": \"#2770EB\", \"shape\": \"circle\", \"filled\": true}, \"rect\": {\"fill\": \"#2770EB\"}, \"rule\": {\"stroke\": \"#666F89\"}, \"shape\": {\"stroke\": \"#2770EB\"}, \"text\": {\"color\": \"#19274E\", \"font\": \"Roboto, Arial, sans-serif\", \"fontSize\": 12}, \"range\": {\"category\": [\"#2770EB\", \"#77B98A\", \"#DA5252\", \"#FFC400\", \"#A87AEA\", \"#00A39E\", \"#19274E\"], \"diverging\": [\"#006360\", \"#2BB3AE\", \"#96D9D7\", \"#FFFFFF\", \"#EDAAAA\", \"#DA5252\", \"#811D1D\"], \"heatmap\": [\"#18448F\", \"#1B4EA5\", \"#2770EB\", \"#4C88EE\", \"#82ACF3\", \"#A6C4F7\", \"#E9F1FD\"], \"ramp\": [\"#18448F\", \"#1B4EA5\", \"#2770EB\", \"#4C88EE\", \"#82ACF3\", \"#A6C4F7\", \"#E9F1FD\"]}, \"background\": \"#FFFFFF\", \"group\": {\"fill\": \"#FFFFFF\"}, \"header\": {\"labelColor\": \"#19274E\", \"labelFont\": \"Roboto, Arial, sans-serif\", \"labelFontSize\": 12, \"titleColor\": \"#19274E\", \"titleFont\": \"Roboto, Arial, sans-serif\", \"titleFontSize\": 16}, \"title\": {\"anchor\": \"start\", \"color\": \"#19274E\", \"font\": \"Roboto, Arial, sans-serif\", \"fontSize\": 20, \"fontWeight\": \"bold\", \"offset\": 20, \"subtitleColor\": \"#19274E\", \"subtitleFontSize\": 16}, \"view\": {\"continuousHeight\": 300, \"continuousWidth\": 400, \"stroke\": \"transparent\"}}, \"hconcat\": [{\"layer\": [{\"mark\": \"rect\", \"encoding\": {\"color\": {\"type\": \"quantitative\", \"field\": \"rounded\", \"legend\": null, \"scale\": {\"domain\": [-0.5, 0.5], \"range\": [\"#5f8fd6\", \"#99c3fb\", \"#f5f5f5\", \"#ffaa92\", \"#d16f5b\"]}, \"title\": null}, \"x\": {\"type\": \"nominal\", \"axis\": {\"titleFontSize\": 15}, \"field\": \"Event\"}, \"y\": {\"type\": \"nominal\", \"axis\": {\"domain\": false, \"labels\": false, \"title\": null}, \"field\": \"Feature\"}}}, {\"mark\": {\"type\": \"text\", \"align\": \"right\", \"baseline\": \"middle\", \"color\": \"#798184\", \"dx\": 18, \"fontSize\": 15}, \"encoding\": {\"text\": {\"type\": \"nominal\", \"field\": \"rounded_str\"}, \"x\": {\"type\": \"nominal\", \"axis\": {\"domain\": false, \"labelAngle\": 0, \"labelFontSize\": 15, \"labelOffset\": 24, \"labelPadding\": 30, \"orient\": \"top\", \"title\": null}, \"field\": \"Event\"}, \"y\": {\"type\": \"nominal\", \"axis\": {\"domain\": false, \"labels\": false, \"title\": null}, \"field\": \"Feature\"}}}], \"data\": {\"name\": \"data-19365c5956a6503fc73b3840d77abac4\"}, \"height\": 225, \"width\": 66.66666666666667}, {\"layer\": [{\"mark\": \"rect\", \"encoding\": {\"color\": {\"type\": \"quantitative\", \"field\": \"rounded\", \"legend\": {\"gradientLength\": 225, \"gradientThickness\": 10, \"labelFontSize\": 15, \"orient\": \"right\"}, \"scale\": {\"domain\": [-0.5, 0.5], \"range\": [\"#5f8fd6\", \"#99c3fb\", \"#f5f5f5\", \"#ffaa92\", \"#d16f5b\"]}, \"title\": null}, \"x\": {\"type\": \"nominal\", \"axis\": {\"titleFontSize\": 15}, \"field\": \"Event\", \"sort\": [\"Event -4\", \"Event -3\", \"Event -2\"]}, \"y\": {\"type\": \"nominal\", \"axis\": {\"domain\": false, \"labelFontSize\": 15, \"title\": null}, \"field\": \"Feature\", \"sort\": [\"STD Chest <-> Right Ankle\", \"STD Chest <-> Left Ankle\", \"STD Right Ankle <-> Left Ankle\"]}}}, {\"mark\": {\"type\": \"text\", \"align\": \"right\", \"baseline\": \"middle\", \"color\": \"#798184\", \"dx\": 18, \"fontSize\": 15}, \"encoding\": {\"text\": {\"type\": \"nominal\", \"field\": \"rounded_str\"}, \"x\": {\"type\": \"nominal\", \"axis\": {\"domain\": false, \"labelAngle\": 30, \"labelFontSize\": 15, \"orient\": \"top\", \"title\": \"Shapley Value\", \"titleX\": 172, \"titleY\": 245}, \"field\": \"Event\", \"sort\": [\"Event -4\", \"Event -3\", \"Event -2\"]}, \"y\": {\"type\": \"nominal\", \"axis\": {\"domain\": false, \"labelFontSize\": 15, \"title\": null}, \"field\": \"Feature\", \"sort\": [\"STD Chest <-> Right Ankle\", \"STD Chest <-> Left Ankle\", \"STD Right Ankle <-> Left Ankle\"]}}}], \"data\": {\"name\": \"data-7fbc1f6c4df64bb8345e75d3d867cf05\"}, \"height\": 225, \"width\": 160}], \"resolve\": {\"scale\": {\"color\": \"independent\"}}, \"$schema\": \"https://vega.github.io/schema/vega-lite/v4.8.1.json\", \"datasets\": {\"data-19365c5956a6503fc73b3840d77abac4\": [{\"Event\": [\"Pruned\", \"Events\"], \"Feature\": \"Other features\", \"rounded\": 0.033, \"rounded_str\": \"0.033\"}], \"data-7fbc1f6c4df64bb8345e75d3d867cf05\": [{\"Event\": \"Other Events\", \"Feature\": \"STD Chest <-> Left Ankle\", \"Shapley Value\": 0.1120138777550943, \"rounded\": 0.112, \"rounded_str\": \"0.112\"}, {\"Event\": \"Other Events\", \"Feature\": \"Other Features\", \"Shapley Value\": 0.06945326930910273, \"rounded\": 0.069, \"rounded_str\": \"0.069\"}, {\"Event\": \"Other Events\", \"Feature\": \"STD Right Ankle <-> Left Ankle\", \"Shapley Value\": 0.06017382884503006, \"rounded\": 0.06, \"rounded_str\": \"0.060\"}, {\"Event\": \"Other Events\", \"Feature\": \"STD Chest <-> Right Ankle\", \"Shapley Value\": 0.028654263205491554, \"rounded\": 0.029, \"rounded_str\": \"0.029\"}, {\"Event\": \"Event -4\", \"Feature\": \"STD Right Ankle <-> Left Ankle\", \"Shapley Value\": 0.026317383358024693, \"rounded\": 0.026, \"rounded_str\": \"0.026\"}, {\"Event\": \"Event -3\", \"Feature\": \"STD Right Ankle <-> Left Ankle\", \"Shapley Value\": 0.0198410705399914, \"rounded\": 0.02, \"rounded_str\": \"0.020\"}, {\"Event\": \"Event -2\", \"Feature\": \"STD Right Ankle <-> Left Ankle\", \"Shapley Value\": 0.019708400064891107, \"rounded\": 0.02, \"rounded_str\": \"0.020\"}, {\"Event\": \"Event -3\", \"Feature\": \"Other Features\", \"Shapley Value\": 0.015816250873662563, \"rounded\": 0.016, \"rounded_str\": \"0.016\"}, {\"Event\": \"Event -2\", \"Feature\": \"Other Features\", \"Shapley Value\": 0.014470126301887709, \"rounded\": 0.014, \"rounded_str\": \"0.014\"}, {\"Event\": \"Event -2\", \"Feature\": \"STD Chest <-> Right Ankle\", \"Shapley Value\": 0.011473663937713902, \"rounded\": 0.011, \"rounded_str\": \"0.011\"}, {\"Event\": \"Event -4\", \"Feature\": \"Other Features\", \"Shapley Value\": 0.009363606684364839, \"rounded\": 0.009, \"rounded_str\": \"0.009\"}, {\"Event\": \"Event -2\", \"Feature\": \"STD Chest <-> Left Ankle\", \"Shapley Value\": 0.006162944236976636, \"rounded\": 0.006, \"rounded_str\": \"0.006\"}, {\"Event\": \"Event -3\", \"Feature\": \"STD Chest <-> Right Ankle\", \"Shapley Value\": 0.002705175177765251, \"rounded\": 0.003, \"rounded_str\": \"0.003\"}, {\"Event\": \"Event -4\", \"Feature\": \"STD Chest <-> Left Ankle\", \"Shapley Value\": 0.002546690169402288, \"rounded\": 0.003, \"rounded_str\": \"0.003\"}, {\"Event\": \"Event -3\", \"Feature\": \"STD Chest <-> Left Ankle\", \"Shapley Value\": 0.0025223370357468355, \"rounded\": 0.003, \"rounded_str\": \"0.003\"}, {\"Event\": \"Event -4\", \"Feature\": \"STD Chest <-> Right Ankle\", \"Shapley Value\": 0.0009519912481548987, \"rounded\": 0.001, \"rounded_str\": \"0.001\"}]}}, {\"mode\": \"vega-lite\"});\n",
       "</script>"
      ],
      "text/plain": [
       "alt.HConcatChart(...)"
      ]
     },
     "execution_count": 27,
     "metadata": {},
     "output_type": "execute_result"
    }
   ],
   "source": [
    "cell_dict = {'rs': 42, 'nsamples': 32000, 'top_x_events': 3, 'top_x_feats': 3}\n",
    "cell_data = local_cell_level(f, pos_x_data, cell_dict, event_data, feature_data, positive_sequence_id, sequence_id_feat, average_event, pruning_idx)\n",
    "feat_names = list(feature_data['Feature'].values)[:-1] # exclude pruned events\n",
    "cell_plot = plot_cell_level(cell_data, feat_names, feature_dict.get('plot_features'))\n",
    "cell_plot"
   ]
  },
  {
   "cell_type": "markdown",
   "id": "37d78212",
   "metadata": {},
   "source": [
    "### Global Plots"
   ]
  },
  {
   "cell_type": "code",
   "execution_count": 28,
   "id": "0b57cf3b",
   "metadata": {},
   "outputs": [],
   "source": [
    "from timeshap.explainer import prune_all, pruning_statistics, event_explain_all, feat_explain_all\n",
    "from timeshap.plot import plot_global_event, plot_global_feat\n",
    "\n",
    "pos_dataset = d_test_normalized[d_test_normalized['label'] == 1]"
   ]
  },
  {
   "cell_type": "markdown",
   "id": "a6925bb1",
   "metadata": {},
   "source": [
    "##### Pruning statistics"
   ]
  },
  {
   "cell_type": "code",
   "execution_count": 29,
   "id": "3f522caf",
   "metadata": {},
   "outputs": [
    {
     "data": {
      "text/html": [
       "<div>\n",
       "<style scoped>\n",
       "    .dataframe tbody tr th:only-of-type {\n",
       "        vertical-align: middle;\n",
       "    }\n",
       "\n",
       "    .dataframe tbody tr th {\n",
       "        vertical-align: top;\n",
       "    }\n",
       "\n",
       "    .dataframe thead th {\n",
       "        text-align: right;\n",
       "    }\n",
       "</style>\n",
       "<table border=\"1\" class=\"dataframe\">\n",
       "  <thead>\n",
       "    <tr style=\"text-align: right;\">\n",
       "      <th></th>\n",
       "      <th>Tolerance</th>\n",
       "      <th>Mean</th>\n",
       "      <th>Std</th>\n",
       "    </tr>\n",
       "  </thead>\n",
       "  <tbody>\n",
       "    <tr>\n",
       "      <th>0</th>\n",
       "      <td>0.05</td>\n",
       "      <td>18.00</td>\n",
       "      <td>1.414214</td>\n",
       "    </tr>\n",
       "    <tr>\n",
       "      <th>1</th>\n",
       "      <td>0.075</td>\n",
       "      <td>15.25</td>\n",
       "      <td>0.957427</td>\n",
       "    </tr>\n",
       "    <tr>\n",
       "      <th>2</th>\n",
       "      <td>No Pruning</td>\n",
       "      <td>480.00</td>\n",
       "      <td>0.000000</td>\n",
       "    </tr>\n",
       "  </tbody>\n",
       "</table>\n",
       "</div>"
      ],
      "text/plain": [
       "    Tolerance    Mean       Std\n",
       "0        0.05   18.00  1.414214\n",
       "1       0.075   15.25  0.957427\n",
       "2  No Pruning  480.00  0.000000"
      ]
     },
     "execution_count": 29,
     "metadata": {},
     "output_type": "execute_result"
    }
   ],
   "source": [
    "pruning_dict = {'tol': [0.05, 0.075], 'path': 'outputs/prun_all_tf.csv'}\n",
    "prun_indexes = prune_all(f, pos_dataset, pruning_dict, average_event, model_features, schema, sequence_id_feat, time_feat)\n",
    "pruning_stats = pruning_statistics(prun_indexes, pruning_dict.get('tol'))\n",
    "pruning_stats"
   ]
  },
  {
   "cell_type": "markdown",
   "id": "fb518f71",
   "metadata": {},
   "source": [
    "##### Global event-level"
   ]
  },
  {
   "cell_type": "code",
   "execution_count": 30,
   "id": "5669e063",
   "metadata": {},
   "outputs": [
    {
     "data": {
      "text/html": [
       "\n",
       "<div id=\"altair-viz-b433c0dc6cca4bfa876c9a1ad3dfbb1f\"></div>\n",
       "<script type=\"text/javascript\">\n",
       "  (function(spec, embedOpt){\n",
       "    let outputDiv = document.currentScript.previousElementSibling;\n",
       "    if (outputDiv.id !== \"altair-viz-b433c0dc6cca4bfa876c9a1ad3dfbb1f\") {\n",
       "      outputDiv = document.getElementById(\"altair-viz-b433c0dc6cca4bfa876c9a1ad3dfbb1f\");\n",
       "    }\n",
       "    const paths = {\n",
       "      \"vega\": \"https://cdn.jsdelivr.net/npm//vega@5?noext\",\n",
       "      \"vega-lib\": \"https://cdn.jsdelivr.net/npm//vega-lib?noext\",\n",
       "      \"vega-lite\": \"https://cdn.jsdelivr.net/npm//vega-lite@4.8.1?noext\",\n",
       "      \"vega-embed\": \"https://cdn.jsdelivr.net/npm//vega-embed@6?noext\",\n",
       "    };\n",
       "\n",
       "    function loadScript(lib) {\n",
       "      return new Promise(function(resolve, reject) {\n",
       "        var s = document.createElement('script');\n",
       "        s.src = paths[lib];\n",
       "        s.async = true;\n",
       "        s.onload = () => resolve(paths[lib]);\n",
       "        s.onerror = () => reject(`Error loading script: ${paths[lib]}`);\n",
       "        document.getElementsByTagName(\"head\")[0].appendChild(s);\n",
       "      });\n",
       "    }\n",
       "\n",
       "    function showError(err) {\n",
       "      outputDiv.innerHTML = `<div class=\"error\" style=\"color:red;\">${err}</div>`;\n",
       "      throw err;\n",
       "    }\n",
       "\n",
       "    function displayChart(vegaEmbed) {\n",
       "      vegaEmbed(outputDiv, spec, embedOpt)\n",
       "        .catch(err => showError(`Javascript Error: ${err.message}<br>This usually means there's a typo in your chart specification. See the javascript console for the full traceback.`));\n",
       "    }\n",
       "\n",
       "    if(typeof define === \"function\" && define.amd) {\n",
       "      requirejs.config({paths});\n",
       "      require([\"vega-embed\"], displayChart, err => showError(`Error loading script: ${err.message}`));\n",
       "    } else if (typeof vegaEmbed === \"function\") {\n",
       "      displayChart(vegaEmbed);\n",
       "    } else {\n",
       "      loadScript(\"vega\")\n",
       "        .then(() => loadScript(\"vega-lite\"))\n",
       "        .then(() => loadScript(\"vega-embed\"))\n",
       "        .catch(showError)\n",
       "        .then(() => displayChart(vegaEmbed));\n",
       "    }\n",
       "  })({\"config\": {\"axis\": {\"domain\": true, \"domainColor\": \"#666F89\", \"grid\": false, \"gridCap\": \"round\", \"gridColor\": \"#B3B7C4\", \"gridDash\": [2, 4], \"gridWidth\": 0.5, \"labelColor\": \"#666F89\", \"labelFont\": \"Roboto, Arial, sans-serif\", \"labelPadding\": 2, \"tickColor\": \"#666F89\", \"tickOpacity\": 0.5, \"tickSize\": 4, \"titleColor\": \"#19274E\", \"titleFont\": \"Roboto, Arial, sans-serif\", \"titleFontSize\": 12}, \"axisBand\": {\"domain\": true, \"labelPadding\": 4, \"ticks\": false}, \"axisY\": {\"domain\": false, \"titleAlign\": \"left\", \"titleAngle\": 0, \"titleX\": -20, \"titleY\": -10}, \"legend\": {\"labelColor\": \"#666F89\", \"labelFont\": \"Roboto, Arial, sans-serif\", \"labelFontSize\": 12, \"symbolSize\": 40, \"titleColor\": \"#19274E\", \"titleFont\": \"Roboto, Arial, sans-serif\", \"titleFontSize\": 12, \"titlePadding\": 4}, \"arc\": {\"stroke\": \"#FFFFFF\", \"strokeWidth\": 1}, \"bar\": {\"fill\": \"#2770EB\", \"stroke\": null}, \"line\": {\"stroke\": \"#2770EB\", \"strokeWidth\": 2}, \"path\": {\"stroke\": \"#2770EB\", \"strokeWidth\": 0.5}, \"point\": {\"fill\": \"#2770EB\", \"shape\": \"circle\", \"filled\": true}, \"rect\": {\"fill\": \"#2770EB\"}, \"rule\": {\"stroke\": \"#666F89\"}, \"shape\": {\"stroke\": \"#2770EB\"}, \"text\": {\"color\": \"#19274E\", \"font\": \"Roboto, Arial, sans-serif\", \"fontSize\": 12}, \"range\": {\"category\": [\"#2770EB\", \"#77B98A\", \"#DA5252\", \"#FFC400\", \"#A87AEA\", \"#00A39E\", \"#19274E\"], \"diverging\": [\"#006360\", \"#2BB3AE\", \"#96D9D7\", \"#FFFFFF\", \"#EDAAAA\", \"#DA5252\", \"#811D1D\"], \"heatmap\": [\"#18448F\", \"#1B4EA5\", \"#2770EB\", \"#4C88EE\", \"#82ACF3\", \"#A6C4F7\", \"#E9F1FD\"], \"ramp\": [\"#18448F\", \"#1B4EA5\", \"#2770EB\", \"#4C88EE\", \"#82ACF3\", \"#A6C4F7\", \"#E9F1FD\"]}, \"background\": \"#FFFFFF\", \"group\": {\"fill\": \"#FFFFFF\"}, \"header\": {\"labelColor\": \"#19274E\", \"labelFont\": \"Roboto, Arial, sans-serif\", \"labelFontSize\": 12, \"titleColor\": \"#19274E\", \"titleFont\": \"Roboto, Arial, sans-serif\", \"titleFontSize\": 16}, \"title\": {\"anchor\": \"start\", \"color\": \"#19274E\", \"font\": \"Roboto, Arial, sans-serif\", \"fontSize\": 20, \"fontWeight\": \"bold\", \"offset\": 20, \"subtitleColor\": \"#19274E\", \"subtitleFontSize\": 16}, \"view\": {\"continuousHeight\": 300, \"continuousWidth\": 400, \"stroke\": \"transparent\"}}, \"vconcat\": [{\"mark\": {\"type\": \"point\", \"stroke\": \"white\", \"strokeWidth\": 0.6}, \"encoding\": {\"color\": {\"type\": \"nominal\", \"field\": \"type\", \"legend\": {\"fillColor\": \"white\", \"orient\": \"top-left\", \"symbolSize\": 50, \"symbolStrokeWidth\": 0, \"title\": null}, \"scale\": {\"domain\": [\"Shapley Value\", \"Mean\"], \"range\": [\"#48caaa\", \"#d76d58\"]}}, \"opacity\": {\"condition\": {\"value\": 1.0, \"test\": \"(datum.type === 'Mean')\"}, \"value\": 0.2}, \"size\": {\"condition\": {\"value\": 70, \"test\": \"(datum.type === 'Mean')\"}, \"value\": 30}, \"x\": {\"type\": \"ordinal\", \"axis\": {\"labelAngle\": 0}, \"field\": \"t (event index)\"}, \"y\": {\"type\": \"quantitative\", \"axis\": {\"grid\": true, \"titleX\": -23}, \"field\": \"Shapley Value\", \"scale\": {\"domain\": [-0.3, 0.9]}, \"title\": \"Shapley Value\"}}, \"height\": 150, \"title\": \"Parameters: NSamples=32000 | Random Seed=42 | Pruning Tol= 0.05\", \"width\": 360}, {\"data\": {\"name\": \"data-b56454f0dcd53d922e5d253205a926e6\"}, \"mark\": {\"type\": \"point\", \"stroke\": \"white\", \"strokeWidth\": 0.6}, \"encoding\": {\"color\": {\"type\": \"nominal\", \"field\": \"type\", \"legend\": {\"fillColor\": \"white\", \"orient\": \"top-left\", \"symbolSize\": 50, \"symbolStrokeWidth\": 0, \"title\": null}, \"scale\": {\"domain\": [\"Shapley Value\", \"Mean\"], \"range\": [\"#48caaa\", \"#d76d58\"]}}, \"opacity\": {\"condition\": {\"value\": 1.0, \"test\": \"(datum.type === 'Mean')\"}, \"value\": 0.2}, \"size\": {\"condition\": {\"value\": 70, \"test\": \"(datum.type === 'Mean')\"}, \"value\": 30}, \"x\": {\"type\": \"ordinal\", \"axis\": {\"labelAngle\": 0}, \"field\": \"t (event index)\"}, \"y\": {\"type\": \"quantitative\", \"axis\": {\"grid\": true, \"titleX\": -23}, \"field\": \"Shapley Value\", \"scale\": {\"domain\": [-0.3, 0.9]}, \"title\": \"Shapley Value\"}}, \"height\": 150, \"title\": \"Parameters: NSamples=32000 | Random Seed=42 | Pruning Tol= 0.075\", \"width\": 360}], \"data\": {\"name\": \"data-1e228ce8eadfac0d7c03af9442e520b4\"}, \"$schema\": \"https://vega.github.io/schema/vega-lite/v4.8.1.json\", \"datasets\": {\"data-1e228ce8eadfac0d7c03af9442e520b4\": [{\"Shapley Value\": 0.0206549227604562, \"t (event index)\": 0, \"type\": \"Shapley Value\"}, {\"Shapley Value\": 0.0202832933577417, \"t (event index)\": -1, \"type\": \"Shapley Value\"}, {\"Shapley Value\": 0.0561655786203058, \"t (event index)\": -2, \"type\": \"Shapley Value\"}, {\"Shapley Value\": 0.0428551417271634, \"t (event index)\": -3, \"type\": \"Shapley Value\"}, {\"Shapley Value\": 0.0571196240641577, \"t (event index)\": -4, \"type\": \"Shapley Value\"}, {\"Shapley Value\": 0.0149564823959731, \"t (event index)\": -5, \"type\": \"Shapley Value\"}, {\"Shapley Value\": 0.0109442811153145, \"t (event index)\": -6, \"type\": \"Shapley Value\"}, {\"Shapley Value\": 0.0322116448870037, \"t (event index)\": -7, \"type\": \"Shapley Value\"}, {\"Shapley Value\": 0.0248588418835761, \"t (event index)\": -8, \"type\": \"Shapley Value\"}, {\"Shapley Value\": 0.0097437254765682, \"t (event index)\": -9, \"type\": \"Shapley Value\"}, {\"Shapley Value\": 0.0070993376677457, \"t (event index)\": -10, \"type\": \"Shapley Value\"}, {\"Shapley Value\": 0.001465634219693, \"t (event index)\": -11, \"type\": \"Shapley Value\"}, {\"Shapley Value\": 0.0239475212105719, \"t (event index)\": -12, \"type\": \"Shapley Value\"}, {\"Shapley Value\": 0.0136535605064817, \"t (event index)\": -13, \"type\": \"Shapley Value\"}, {\"Shapley Value\": 0.0168703286523443, \"t (event index)\": -14, \"type\": \"Shapley Value\"}, {\"Shapley Value\": 0.0079474542735274, \"t (event index)\": -15, \"type\": \"Shapley Value\"}, {\"Shapley Value\": 0.010385598500303, \"t (event index)\": -16, \"type\": \"Shapley Value\"}, {\"Shapley Value\": 0.012639305835806, \"t (event index)\": -17, \"type\": \"Shapley Value\"}, {\"Shapley Value\": 0.0057104020630607, \"t (event index)\": -18, \"type\": \"Shapley Value\"}, {\"Shapley Value\": 0.0717687743719728, \"t (event index)\": 0, \"type\": \"Shapley Value\"}, {\"Shapley Value\": 0.0616917291688757, \"t (event index)\": -1, \"type\": \"Shapley Value\"}, {\"Shapley Value\": 0.0171050911656782, \"t (event index)\": -2, \"type\": \"Shapley Value\"}, {\"Shapley Value\": 0.0093960489204756, \"t (event index)\": -3, \"type\": \"Shapley Value\"}, {\"Shapley Value\": 0.0396727090007365, \"t (event index)\": -4, \"type\": \"Shapley Value\"}, {\"Shapley Value\": 0.0177569865146915, \"t (event index)\": -5, \"type\": \"Shapley Value\"}, {\"Shapley Value\": 0.0336883363577252, \"t (event index)\": -6, \"type\": \"Shapley Value\"}, {\"Shapley Value\": 0.0357897260970671, \"t (event index)\": -7, \"type\": \"Shapley Value\"}, {\"Shapley Value\": 0.0155533785079565, \"t (event index)\": -8, \"type\": \"Shapley Value\"}, {\"Shapley Value\": 0.0124522006479049, \"t (event index)\": -9, \"type\": \"Shapley Value\"}, {\"Shapley Value\": 0.0219528128578733, \"t (event index)\": -10, \"type\": \"Shapley Value\"}, {\"Shapley Value\": 0.00699196425314, \"t (event index)\": -11, \"type\": \"Shapley Value\"}, {\"Shapley Value\": 0.0147835299836526, \"t (event index)\": -12, \"type\": \"Shapley Value\"}, {\"Shapley Value\": 0.0124331147174278, \"t (event index)\": -13, \"type\": \"Shapley Value\"}, {\"Shapley Value\": 0.0100161146947001, \"t (event index)\": -14, \"type\": \"Shapley Value\"}, {\"Shapley Value\": 0.0120177324647415, \"t (event index)\": -15, \"type\": \"Shapley Value\"}, {\"Shapley Value\": 0.0058714157819219, \"t (event index)\": -16, \"type\": \"Shapley Value\"}, {\"Shapley Value\": 0.0063974019625777, \"t (event index)\": -17, \"type\": \"Shapley Value\"}, {\"Shapley Value\": 0.0563054228543943, \"t (event index)\": 0, \"type\": \"Shapley Value\"}, {\"Shapley Value\": 0.0566366169018925, \"t (event index)\": -1, \"type\": \"Shapley Value\"}, {\"Shapley Value\": 0.0282801295031579, \"t (event index)\": -2, \"type\": \"Shapley Value\"}, {\"Shapley Value\": 0.0321831758945205, \"t (event index)\": -3, \"type\": \"Shapley Value\"}, {\"Shapley Value\": 0.0416007026564456, \"t (event index)\": -4, \"type\": \"Shapley Value\"}, {\"Shapley Value\": 0.0416661295317395, \"t (event index)\": -5, \"type\": \"Shapley Value\"}, {\"Shapley Value\": 0.0356985527473419, \"t (event index)\": -6, \"type\": \"Shapley Value\"}, {\"Shapley Value\": 0.0045661214782691, \"t (event index)\": -7, \"type\": \"Shapley Value\"}, {\"Shapley Value\": 0.0206275374128301, \"t (event index)\": -8, \"type\": \"Shapley Value\"}, {\"Shapley Value\": 0.0196384960800392, \"t (event index)\": -9, \"type\": \"Shapley Value\"}, {\"Shapley Value\": 0.0235319516405426, \"t (event index)\": -10, \"type\": \"Shapley Value\"}, {\"Shapley Value\": 0.0139880529353392, \"t (event index)\": -11, \"type\": \"Shapley Value\"}, {\"Shapley Value\": 0.0211569936454367, \"t (event index)\": -12, \"type\": \"Shapley Value\"}, {\"Shapley Value\": 0.0090011584634418, \"t (event index)\": -13, \"type\": \"Shapley Value\"}, {\"Shapley Value\": 0.0060857599929977, \"t (event index)\": -14, \"type\": \"Shapley Value\"}, {\"Shapley Value\": 0.0068067957806723, \"t (event index)\": -15, \"type\": \"Shapley Value\"}, {\"Shapley Value\": 0.0124557107136294, \"t (event index)\": -16, \"type\": \"Shapley Value\"}, {\"Shapley Value\": 0.0074398962383749, \"t (event index)\": -17, \"type\": \"Shapley Value\"}, {\"Shapley Value\": 0.0064983870841088, \"t (event index)\": -18, \"type\": \"Shapley Value\"}, {\"Shapley Value\": 0.0412836697587009, \"t (event index)\": 0, \"type\": \"Shapley Value\"}, {\"Shapley Value\": 0.0567579078040236, \"t (event index)\": -1, \"type\": \"Shapley Value\"}, {\"Shapley Value\": 0.0439792731484214, \"t (event index)\": -2, \"type\": \"Shapley Value\"}, {\"Shapley Value\": 0.041826964402125, \"t (event index)\": -3, \"type\": \"Shapley Value\"}, {\"Shapley Value\": 0.016678867134362, \"t (event index)\": -4, \"type\": \"Shapley Value\"}, {\"Shapley Value\": 0.0195700322720586, \"t (event index)\": -5, \"type\": \"Shapley Value\"}, {\"Shapley Value\": 0.02290962345535, \"t (event index)\": -6, \"type\": \"Shapley Value\"}, {\"Shapley Value\": 0.0332222795854943, \"t (event index)\": -7, \"type\": \"Shapley Value\"}, {\"Shapley Value\": 0.0203707103382562, \"t (event index)\": -8, \"type\": \"Shapley Value\"}, {\"Shapley Value\": 0.0170053988566732, \"t (event index)\": -9, \"type\": \"Shapley Value\"}, {\"Shapley Value\": 0.0026476251610488, \"t (event index)\": -10, \"type\": \"Shapley Value\"}, {\"Shapley Value\": 0.0113838374005254, \"t (event index)\": -11, \"type\": \"Shapley Value\"}, {\"Shapley Value\": 0.0088858906406128, \"t (event index)\": -12, \"type\": \"Shapley Value\"}, {\"Shapley Value\": 0.0132550753618211, \"t (event index)\": -13, \"type\": \"Shapley Value\"}, {\"Shapley Value\": 0.0095407317444507, \"t (event index)\": -14, \"type\": \"Shapley Value\"}, {\"Shapley Value\": 0.0122013344798211, \"t (event index)\": -15, \"type\": \"Shapley Value\"}, {\"Shapley Value\": 0.00610439457358475, \"t (event index)\": -18, \"type\": \"Mean\"}, {\"Shapley Value\": 0.008825534678919533, \"t (event index)\": -17, \"type\": \"Mean\"}, {\"Shapley Value\": 0.009570908331951433, \"t (event index)\": -16, \"type\": \"Mean\"}, {\"Shapley Value\": 0.009743329249690576, \"t (event index)\": -15, \"type\": \"Mean\"}, {\"Shapley Value\": 0.0106282337711232, \"t (event index)\": -14, \"type\": \"Mean\"}, {\"Shapley Value\": 0.0120857272622931, \"t (event index)\": -13, \"type\": \"Mean\"}, {\"Shapley Value\": 0.0171934838700685, \"t (event index)\": -12, \"type\": \"Mean\"}, {\"Shapley Value\": 0.0084573722021744, \"t (event index)\": -11, \"type\": \"Mean\"}, {\"Shapley Value\": 0.0138079318318026, \"t (event index)\": -10, \"type\": \"Mean\"}, {\"Shapley Value\": 0.014709955265296375, \"t (event index)\": -9, \"type\": \"Mean\"}, {\"Shapley Value\": 0.020352617035654726, \"t (event index)\": -8, \"type\": \"Mean\"}, {\"Shapley Value\": 0.026447443011958546, \"t (event index)\": -7, \"type\": \"Mean\"}, {\"Shapley Value\": 0.0258101984189329, \"t (event index)\": -6, \"type\": \"Mean\"}, {\"Shapley Value\": 0.023487407678615676, \"t (event index)\": -5, \"type\": \"Mean\"}, {\"Shapley Value\": 0.03876797571392545, \"t (event index)\": -4, \"type\": \"Mean\"}, {\"Shapley Value\": 0.03156533273607112, \"t (event index)\": -3, \"type\": \"Mean\"}, {\"Shapley Value\": 0.036382518109390825, \"t (event index)\": -2, \"type\": \"Mean\"}, {\"Shapley Value\": 0.048842386808133374, \"t (event index)\": -1, \"type\": \"Mean\"}, {\"Shapley Value\": 0.04750319743638105, \"t (event index)\": 0, \"type\": \"Mean\"}], \"data-b56454f0dcd53d922e5d253205a926e6\": [{\"Shapley Value\": 0.0202863512263814, \"t (event index)\": 0, \"type\": \"Shapley Value\"}, {\"Shapley Value\": 0.0205575687439507, \"t (event index)\": -1, \"type\": \"Shapley Value\"}, {\"Shapley Value\": 0.0570570571783036, \"t (event index)\": -2, \"type\": \"Shapley Value\"}, {\"Shapley Value\": 0.043412947406235, \"t (event index)\": -3, \"type\": \"Shapley Value\"}, {\"Shapley Value\": 0.0565333605054694, \"t (event index)\": -4, \"type\": \"Shapley Value\"}, {\"Shapley Value\": 0.0146422058619541, \"t (event index)\": -5, \"type\": \"Shapley Value\"}, {\"Shapley Value\": 0.0112025302383688, \"t (event index)\": -6, \"type\": \"Shapley Value\"}, {\"Shapley Value\": 0.0317624648757638, \"t (event index)\": -7, \"type\": \"Shapley Value\"}, {\"Shapley Value\": 0.0246986553322555, \"t (event index)\": -8, \"type\": \"Shapley Value\"}, {\"Shapley Value\": 0.0091519045923328, \"t (event index)\": -9, \"type\": \"Shapley Value\"}, {\"Shapley Value\": 0.0072381964615818, \"t (event index)\": -10, \"type\": \"Shapley Value\"}, {\"Shapley Value\": 0.0010132563829691, \"t (event index)\": -11, \"type\": \"Shapley Value\"}, {\"Shapley Value\": 0.0237562236909285, \"t (event index)\": -12, \"type\": \"Shapley Value\"}, {\"Shapley Value\": 0.0132096183815723, \"t (event index)\": -13, \"type\": \"Shapley Value\"}, {\"Shapley Value\": 0.0169425728030436, \"t (event index)\": -14, \"type\": \"Shapley Value\"}, {\"Shapley Value\": 0.0080065082097404, \"t (event index)\": -15, \"type\": \"Shapley Value\"}, {\"Shapley Value\": 0.0716857640082667, \"t (event index)\": 0, \"type\": \"Shapley Value\"}, {\"Shapley Value\": 0.0615411723696052, \"t (event index)\": -1, \"type\": \"Shapley Value\"}, {\"Shapley Value\": 0.0169471092011484, \"t (event index)\": -2, \"type\": \"Shapley Value\"}, {\"Shapley Value\": 0.0090427374820513, \"t (event index)\": -3, \"type\": \"Shapley Value\"}, {\"Shapley Value\": 0.0394906568093769, \"t (event index)\": -4, \"type\": \"Shapley Value\"}, {\"Shapley Value\": 0.017196262874193, \"t (event index)\": -5, \"type\": \"Shapley Value\"}, {\"Shapley Value\": 0.0338441449589034, \"t (event index)\": -6, \"type\": \"Shapley Value\"}, {\"Shapley Value\": 0.0355492574484418, \"t (event index)\": -7, \"type\": \"Shapley Value\"}, {\"Shapley Value\": 0.0153782486397631, \"t (event index)\": -8, \"type\": \"Shapley Value\"}, {\"Shapley Value\": 0.0122229660981952, \"t (event index)\": -9, \"type\": \"Shapley Value\"}, {\"Shapley Value\": 0.0212958507961897, \"t (event index)\": -10, \"type\": \"Shapley Value\"}, {\"Shapley Value\": 0.00709074517988, \"t (event index)\": -11, \"type\": \"Shapley Value\"}, {\"Shapley Value\": 0.0150753481040373, \"t (event index)\": -12, \"type\": \"Shapley Value\"}, {\"Shapley Value\": 0.0126602507045589, \"t (event index)\": -13, \"type\": \"Shapley Value\"}, {\"Shapley Value\": 0.00968387579475, \"t (event index)\": -14, \"type\": \"Shapley Value\"}, {\"Shapley Value\": 0.0561814886059876, \"t (event index)\": 0, \"type\": \"Shapley Value\"}, {\"Shapley Value\": 0.0577398976483394, \"t (event index)\": -1, \"type\": \"Shapley Value\"}, {\"Shapley Value\": 0.0285766906620101, \"t (event index)\": -2, \"type\": \"Shapley Value\"}, {\"Shapley Value\": 0.0330446287128941, \"t (event index)\": -3, \"type\": \"Shapley Value\"}, {\"Shapley Value\": 0.0413665707235662, \"t (event index)\": -4, \"type\": \"Shapley Value\"}, {\"Shapley Value\": 0.0419142881272604, \"t (event index)\": -5, \"type\": \"Shapley Value\"}, {\"Shapley Value\": 0.0361184835275155, \"t (event index)\": -6, \"type\": \"Shapley Value\"}, {\"Shapley Value\": 0.0043748272125269, \"t (event index)\": -7, \"type\": \"Shapley Value\"}, {\"Shapley Value\": 0.0208891455921973, \"t (event index)\": -8, \"type\": \"Shapley Value\"}, {\"Shapley Value\": 0.0192444806703104, \"t (event index)\": -9, \"type\": \"Shapley Value\"}, {\"Shapley Value\": 0.0240356687349415, \"t (event index)\": -10, \"type\": \"Shapley Value\"}, {\"Shapley Value\": 0.0136268951012293, \"t (event index)\": -11, \"type\": \"Shapley Value\"}, {\"Shapley Value\": 0.020955725618229, \"t (event index)\": -12, \"type\": \"Shapley Value\"}, {\"Shapley Value\": 0.009020181754319, \"t (event index)\": -13, \"type\": \"Shapley Value\"}, {\"Shapley Value\": 0.0061885372103095, \"t (event index)\": -14, \"type\": \"Shapley Value\"}, {\"Shapley Value\": 0.0064554108404787, \"t (event index)\": -15, \"type\": \"Shapley Value\"}, {\"Shapley Value\": 0.0412712300295844, \"t (event index)\": 0, \"type\": \"Shapley Value\"}, {\"Shapley Value\": 0.0571291113054349, \"t (event index)\": -1, \"type\": \"Shapley Value\"}, {\"Shapley Value\": 0.0439681798866002, \"t (event index)\": -2, \"type\": \"Shapley Value\"}, {\"Shapley Value\": 0.0417340417603024, \"t (event index)\": -3, \"type\": \"Shapley Value\"}, {\"Shapley Value\": 0.0167518477520171, \"t (event index)\": -4, \"type\": \"Shapley Value\"}, {\"Shapley Value\": 0.0195332947928036, \"t (event index)\": -5, \"type\": \"Shapley Value\"}, {\"Shapley Value\": 0.0228827010614918, \"t (event index)\": -6, \"type\": \"Shapley Value\"}, {\"Shapley Value\": 0.0332973319003999, \"t (event index)\": -7, \"type\": \"Shapley Value\"}, {\"Shapley Value\": 0.020267790648507, \"t (event index)\": -8, \"type\": \"Shapley Value\"}, {\"Shapley Value\": 0.0169561022752071, \"t (event index)\": -9, \"type\": \"Shapley Value\"}, {\"Shapley Value\": 0.0027758283690635, \"t (event index)\": -10, \"type\": \"Shapley Value\"}, {\"Shapley Value\": 0.0114776108384676, \"t (event index)\": -11, \"type\": \"Shapley Value\"}, {\"Shapley Value\": 0.0087074525699556, \"t (event index)\": -12, \"type\": \"Shapley Value\"}, {\"Shapley Value\": 0.0131298080319219, \"t (event index)\": -13, \"type\": \"Shapley Value\"}, {\"Shapley Value\": 0.00723095952510955, \"t (event index)\": -15, \"type\": \"Mean\"}, {\"Shapley Value\": 0.010938328602701034, \"t (event index)\": -14, \"type\": \"Mean\"}, {\"Shapley Value\": 0.012004964718093026, \"t (event index)\": -13, \"type\": \"Mean\"}, {\"Shapley Value\": 0.0171236874957876, \"t (event index)\": -12, \"type\": \"Mean\"}, {\"Shapley Value\": 0.0083021268756365, \"t (event index)\": -11, \"type\": \"Mean\"}, {\"Shapley Value\": 0.013836386090444125, \"t (event index)\": -10, \"type\": \"Mean\"}, {\"Shapley Value\": 0.014393863409011375, \"t (event index)\": -9, \"type\": \"Mean\"}, {\"Shapley Value\": 0.020308460053180724, \"t (event index)\": -8, \"type\": \"Mean\"}, {\"Shapley Value\": 0.0262459703592831, \"t (event index)\": -7, \"type\": \"Mean\"}, {\"Shapley Value\": 0.026011964946569877, \"t (event index)\": -6, \"type\": \"Mean\"}, {\"Shapley Value\": 0.023321512914052774, \"t (event index)\": -5, \"type\": \"Mean\"}, {\"Shapley Value\": 0.0385356089476074, \"t (event index)\": -4, \"type\": \"Mean\"}, {\"Shapley Value\": 0.031808588840370695, \"t (event index)\": -3, \"type\": \"Mean\"}, {\"Shapley Value\": 0.03663725923201558, \"t (event index)\": -2, \"type\": \"Mean\"}, {\"Shapley Value\": 0.04924193751683255, \"t (event index)\": -1, \"type\": \"Mean\"}, {\"Shapley Value\": 0.047356208467555026, \"t (event index)\": 0, \"type\": \"Mean\"}]}}, {\"mode\": \"vega-lite\"});\n",
       "</script>"
      ],
      "text/plain": [
       "alt.VConcatChart(...)"
      ]
     },
     "execution_count": 30,
     "metadata": {},
     "output_type": "execute_result"
    }
   ],
   "source": [
    "event_dict = {'path': 'outputs/event_all_tf.csv', 'rs': 42, 'nsamples': 32000}\n",
    "event_data = event_explain_all(f, pos_dataset, event_dict, prun_indexes, average_event, model_features, schema, sequence_id_feat, time_feat)\n",
    "event_global_plot = plot_global_event(event_data)\n",
    "event_global_plot"
   ]
  },
  {
   "cell_type": "markdown",
   "id": "03ee433c",
   "metadata": {},
   "source": [
    "##### Global feature-level"
   ]
  },
  {
   "cell_type": "code",
   "execution_count": 31,
   "id": "c0564654",
   "metadata": {},
   "outputs": [
    {
     "data": {
      "text/html": [
       "\n",
       "<div id=\"altair-viz-3ec5f93678a24ac7b1f0a3f61767d1df\"></div>\n",
       "<script type=\"text/javascript\">\n",
       "  (function(spec, embedOpt){\n",
       "    let outputDiv = document.currentScript.previousElementSibling;\n",
       "    if (outputDiv.id !== \"altair-viz-3ec5f93678a24ac7b1f0a3f61767d1df\") {\n",
       "      outputDiv = document.getElementById(\"altair-viz-3ec5f93678a24ac7b1f0a3f61767d1df\");\n",
       "    }\n",
       "    const paths = {\n",
       "      \"vega\": \"https://cdn.jsdelivr.net/npm//vega@5?noext\",\n",
       "      \"vega-lib\": \"https://cdn.jsdelivr.net/npm//vega-lib?noext\",\n",
       "      \"vega-lite\": \"https://cdn.jsdelivr.net/npm//vega-lite@4.8.1?noext\",\n",
       "      \"vega-embed\": \"https://cdn.jsdelivr.net/npm//vega-embed@6?noext\",\n",
       "    };\n",
       "\n",
       "    function loadScript(lib) {\n",
       "      return new Promise(function(resolve, reject) {\n",
       "        var s = document.createElement('script');\n",
       "        s.src = paths[lib];\n",
       "        s.async = true;\n",
       "        s.onload = () => resolve(paths[lib]);\n",
       "        s.onerror = () => reject(`Error loading script: ${paths[lib]}`);\n",
       "        document.getElementsByTagName(\"head\")[0].appendChild(s);\n",
       "      });\n",
       "    }\n",
       "\n",
       "    function showError(err) {\n",
       "      outputDiv.innerHTML = `<div class=\"error\" style=\"color:red;\">${err}</div>`;\n",
       "      throw err;\n",
       "    }\n",
       "\n",
       "    function displayChart(vegaEmbed) {\n",
       "      vegaEmbed(outputDiv, spec, embedOpt)\n",
       "        .catch(err => showError(`Javascript Error: ${err.message}<br>This usually means there's a typo in your chart specification. See the javascript console for the full traceback.`));\n",
       "    }\n",
       "\n",
       "    if(typeof define === \"function\" && define.amd) {\n",
       "      requirejs.config({paths});\n",
       "      require([\"vega-embed\"], displayChart, err => showError(`Error loading script: ${err.message}`));\n",
       "    } else if (typeof vegaEmbed === \"function\") {\n",
       "      displayChart(vegaEmbed);\n",
       "    } else {\n",
       "      loadScript(\"vega\")\n",
       "        .then(() => loadScript(\"vega-lite\"))\n",
       "        .then(() => loadScript(\"vega-embed\"))\n",
       "        .catch(showError)\n",
       "        .then(() => displayChart(vegaEmbed));\n",
       "    }\n",
       "  })({\"config\": {\"axis\": {\"domain\": true, \"domainColor\": \"#666F89\", \"grid\": false, \"gridCap\": \"round\", \"gridColor\": \"#B3B7C4\", \"gridDash\": [2, 4], \"gridWidth\": 0.5, \"labelColor\": \"#666F89\", \"labelFont\": \"Roboto, Arial, sans-serif\", \"labelPadding\": 2, \"tickColor\": \"#666F89\", \"tickOpacity\": 0.5, \"tickSize\": 4, \"titleColor\": \"#19274E\", \"titleFont\": \"Roboto, Arial, sans-serif\", \"titleFontSize\": 12}, \"axisBand\": {\"domain\": true, \"labelPadding\": 4, \"ticks\": false}, \"axisY\": {\"domain\": false, \"titleAlign\": \"left\", \"titleAngle\": 0, \"titleX\": -20, \"titleY\": -10}, \"legend\": {\"labelColor\": \"#666F89\", \"labelFont\": \"Roboto, Arial, sans-serif\", \"labelFontSize\": 12, \"symbolSize\": 40, \"titleColor\": \"#19274E\", \"titleFont\": \"Roboto, Arial, sans-serif\", \"titleFontSize\": 12, \"titlePadding\": 4}, \"arc\": {\"stroke\": \"#FFFFFF\", \"strokeWidth\": 1}, \"bar\": {\"fill\": \"#2770EB\", \"stroke\": null}, \"line\": {\"stroke\": \"#2770EB\", \"strokeWidth\": 2}, \"path\": {\"stroke\": \"#2770EB\", \"strokeWidth\": 0.5}, \"point\": {\"fill\": \"#2770EB\", \"shape\": \"circle\", \"filled\": true}, \"rect\": {\"fill\": \"#2770EB\"}, \"rule\": {\"stroke\": \"#666F89\"}, \"shape\": {\"stroke\": \"#2770EB\"}, \"text\": {\"color\": \"#19274E\", \"font\": \"Roboto, Arial, sans-serif\", \"fontSize\": 12}, \"range\": {\"category\": [\"#2770EB\", \"#77B98A\", \"#DA5252\", \"#FFC400\", \"#A87AEA\", \"#00A39E\", \"#19274E\"], \"diverging\": [\"#006360\", \"#2BB3AE\", \"#96D9D7\", \"#FFFFFF\", \"#EDAAAA\", \"#DA5252\", \"#811D1D\"], \"heatmap\": [\"#18448F\", \"#1B4EA5\", \"#2770EB\", \"#4C88EE\", \"#82ACF3\", \"#A6C4F7\", \"#E9F1FD\"], \"ramp\": [\"#18448F\", \"#1B4EA5\", \"#2770EB\", \"#4C88EE\", \"#82ACF3\", \"#A6C4F7\", \"#E9F1FD\"]}, \"background\": \"#FFFFFF\", \"group\": {\"fill\": \"#FFFFFF\"}, \"header\": {\"labelColor\": \"#19274E\", \"labelFont\": \"Roboto, Arial, sans-serif\", \"labelFontSize\": 12, \"titleColor\": \"#19274E\", \"titleFont\": \"Roboto, Arial, sans-serif\", \"titleFontSize\": 16}, \"title\": {\"anchor\": \"start\", \"color\": \"#19274E\", \"font\": \"Roboto, Arial, sans-serif\", \"fontSize\": 20, \"fontWeight\": \"bold\", \"offset\": 20, \"subtitleColor\": \"#19274E\", \"subtitleFontSize\": 16}, \"view\": {\"continuousHeight\": 300, \"continuousWidth\": 400, \"stroke\": \"transparent\"}}, \"vconcat\": [{\"mark\": {\"type\": \"point\", \"stroke\": \"white\", \"strokeWidth\": 0.6}, \"encoding\": {\"color\": {\"type\": \"nominal\", \"field\": \"type\", \"legend\": {\"fillColor\": \"white\", \"orient\": \"bottom-right\", \"symbolSize\": 50, \"symbolStrokeWidth\": 0, \"title\": null}, \"scale\": {\"domain\": [\"Shapley Value\", \"Mean\"], \"range\": [\"#618FE0\", \"#d76d58\"]}}, \"opacity\": {\"condition\": {\"value\": 1.0, \"test\": \"(datum.type === 'Mean')\"}, \"value\": 0.1}, \"size\": {\"condition\": {\"value\": 70, \"test\": \"(datum.type === 'Mean')\"}, \"value\": 30}, \"x\": {\"type\": \"quantitative\", \"axis\": {\"grid\": true, \"title\": \"Shapley Value\"}, \"field\": \"Shapley Value\", \"scale\": {\"domain\": [-0.2, 0.6]}}, \"y\": {\"type\": \"ordinal\", \"axis\": {\"labelFontSize\": 13, \"titleX\": -51}, \"field\": \"Feature\", \"sort\": [\"STD Chest <-> Left Ankle\", \"STD Right Ankle <-> Left Ankle\", \"Pruned Events\", \"Mean Right Ankle <-> Left Ankle\", \"STD Chest <-> Right Ankle\", \"Mean Chest <-> Left Ankle\", \"Mean Chest <-> Right Ankle\"]}}, \"height\": 280, \"title\": \"Parameters: NSamples=32000 | Random Seed=42 | Pruning Tol= 0.05\", \"width\": 288}, {\"data\": {\"name\": \"data-ee330e1502618f4c5732ec7860817654\"}, \"mark\": {\"type\": \"point\", \"stroke\": \"white\", \"strokeWidth\": 0.6}, \"encoding\": {\"color\": {\"type\": \"nominal\", \"field\": \"type\", \"legend\": {\"fillColor\": \"white\", \"orient\": \"bottom-right\", \"symbolSize\": 50, \"symbolStrokeWidth\": 0, \"title\": null}, \"scale\": {\"domain\": [\"Shapley Value\", \"Mean\"], \"range\": [\"#618FE0\", \"#d76d58\"]}}, \"opacity\": {\"condition\": {\"value\": 1.0, \"test\": \"(datum.type === 'Mean')\"}, \"value\": 0.1}, \"size\": {\"condition\": {\"value\": 70, \"test\": \"(datum.type === 'Mean')\"}, \"value\": 30}, \"x\": {\"type\": \"quantitative\", \"axis\": {\"grid\": true, \"title\": \"Shapley Value\"}, \"field\": \"Shapley Value\", \"scale\": {\"domain\": [-0.2, 0.6]}}, \"y\": {\"type\": \"ordinal\", \"axis\": {\"labelFontSize\": 13, \"titleX\": -51}, \"field\": \"Feature\", \"sort\": [\"STD Chest <-> Left Ankle\", \"STD Right Ankle <-> Left Ankle\", \"Pruned Events\", \"Mean Right Ankle <-> Left Ankle\", \"STD Chest <-> Right Ankle\", \"Mean Chest <-> Left Ankle\", \"Mean Chest <-> Right Ankle\"]}}, \"height\": 280, \"title\": \"Parameters: NSamples=32000 | Random Seed=42 | Pruning Tol= 0.075\", \"width\": 288}], \"data\": {\"name\": \"data-3160e9907f4fa5d566666c7793ccc7dd\"}, \"$schema\": \"https://vega.github.io/schema/vega-lite/v4.8.1.json\", \"datasets\": {\"data-3160e9907f4fa5d566666c7793ccc7dd\": [{\"Shapley Value\": 0.0323277836044629, \"Feature\": \"Mean Chest <-> Right Ankle\", \"type\": \"Shapley Value\"}, {\"Shapley Value\": 0.0566898485024771, \"Feature\": \"STD Chest <-> Right Ankle\", \"type\": \"Shapley Value\"}, {\"Shapley Value\": 0.0341600974400839, \"Feature\": \"Mean Chest <-> Left Ankle\", \"type\": \"Shapley Value\"}, {\"Shapley Value\": 0.1623417605956392, \"Feature\": \"STD Chest <-> Left Ankle\", \"type\": \"Shapley Value\"}, {\"Shapley Value\": 0.0295344447096188, \"Feature\": \"Mean Right Ankle <-> Left Ankle\", \"type\": \"Shapley Value\"}, {\"Shapley Value\": 0.0798278465867042, \"Feature\": \"STD Right Ankle <-> Left Ankle\", \"type\": \"Shapley Value\"}, {\"Shapley Value\": 0.0581561659773192, \"Feature\": \"Pruned Events\", \"type\": \"Shapley Value\"}, {\"Shapley Value\": 0.0274581689919743, \"Feature\": \"Mean Chest <-> Right Ankle\", \"type\": \"Shapley Value\"}, {\"Shapley Value\": 0.0435962527280763, \"Feature\": \"STD Chest <-> Right Ankle\", \"type\": \"Shapley Value\"}, {\"Shapley Value\": 0.0306151394333159, \"Feature\": \"Mean Chest <-> Left Ankle\", \"type\": \"Shapley Value\"}, {\"Shapley Value\": 0.1379686613168033, \"Feature\": \"STD Chest <-> Left Ankle\", \"type\": \"Shapley Value\"}, {\"Shapley Value\": 0.0733099146967841, \"Feature\": \"Mean Right Ankle <-> Left Ankle\", \"type\": \"Shapley Value\"}, {\"Shapley Value\": 0.0994450374728156, \"Feature\": \"STD Right Ankle <-> Left Ankle\", \"type\": \"Shapley Value\"}, {\"Shapley Value\": 0.068223841914109, \"Feature\": \"Pruned Events\", \"type\": \"Shapley Value\"}, {\"Shapley Value\": 0.0315870240330696, \"Feature\": \"Mean Chest <-> Right Ankle\", \"type\": \"Shapley Value\"}, {\"Shapley Value\": 0.0458124831318856, \"Feature\": \"STD Chest <-> Right Ankle\", \"type\": \"Shapley Value\"}, {\"Shapley Value\": 0.0443341712156933, \"Feature\": \"Mean Chest <-> Left Ankle\", \"type\": \"Shapley Value\"}, {\"Shapley Value\": 0.1703022286295888, \"Feature\": \"STD Chest <-> Left Ankle\", \"type\": \"Shapley Value\"}, {\"Shapley Value\": 0.0563420315583546, \"Feature\": \"Mean Right Ankle <-> Left Ankle\", \"type\": \"Shapley Value\"}, {\"Shapley Value\": 0.0990189795692761, \"Feature\": \"STD Right Ankle <-> Left Ankle\", \"type\": \"Shapley Value\"}, {\"Shapley Value\": 0.0497234324614206, \"Feature\": \"Pruned Events\", \"type\": \"Shapley Value\"}, {\"Shapley Value\": 0.0261891151467959, \"Feature\": \"Mean Chest <-> Right Ankle\", \"type\": \"Shapley Value\"}, {\"Shapley Value\": 0.0447885086139043, \"Feature\": \"STD Chest <-> Right Ankle\", \"type\": \"Shapley Value\"}, {\"Shapley Value\": 0.0443480521440506, \"Feature\": \"Mean Chest <-> Left Ankle\", \"type\": \"Shapley Value\"}, {\"Shapley Value\": 0.1040904735525447, \"Feature\": \"STD Chest <-> Left Ankle\", \"type\": \"Shapley Value\"}, {\"Shapley Value\": 0.0333871304988861, \"Feature\": \"Mean Right Ankle <-> Left Ankle\", \"type\": \"Shapley Value\"}, {\"Shapley Value\": 0.1230879187583922, \"Feature\": \"STD Right Ankle <-> Left Ankle\", \"type\": \"Shapley Value\"}, {\"Shapley Value\": 0.0590795079867046, \"Feature\": \"Pruned Events\", \"type\": \"Shapley Value\"}, {\"Shapley Value\": 0.058795737084888354, \"Feature\": \"Pruned Events\", \"type\": \"Mean\"}, {\"Shapley Value\": 0.029390522944075674, \"Feature\": \"Mean Chest <-> Right Ankle\", \"type\": \"Mean\"}, {\"Shapley Value\": 0.03836436505828592, \"Feature\": \"Mean Chest <-> Left Ankle\", \"type\": \"Mean\"}, {\"Shapley Value\": 0.0481433803659109, \"Feature\": \"Mean Right Ankle <-> Left Ankle\", \"type\": \"Mean\"}, {\"Shapley Value\": 0.04772177324408583, \"Feature\": \"STD Chest <-> Right Ankle\", \"type\": \"Mean\"}, {\"Shapley Value\": 0.143675781023644, \"Feature\": \"STD Chest <-> Left Ankle\", \"type\": \"Mean\"}, {\"Shapley Value\": 0.10034494559679702, \"Feature\": \"STD Right Ankle <-> Left Ankle\", \"type\": \"Mean\"}], \"data-ee330e1502618f4c5732ec7860817654\": [{\"Shapley Value\": 0.0270525383097785, \"Feature\": \"Mean Chest <-> Right Ankle\", \"type\": \"Shapley Value\"}, {\"Shapley Value\": 0.0524508786343393, \"Feature\": \"STD Chest <-> Right Ankle\", \"type\": \"Shapley Value\"}, {\"Shapley Value\": 0.0313258560640472, \"Feature\": \"Mean Chest <-> Left Ankle\", \"type\": \"Shapley Value\"}, {\"Shapley Value\": 0.1535474973065511, \"Feature\": \"STD Chest <-> Left Ankle\", \"type\": \"Shapley Value\"}, {\"Shapley Value\": 0.0282495585225876, \"Feature\": \"Mean Right Ankle <-> Left Ankle\", \"type\": \"Shapley Value\"}, {\"Shapley Value\": 0.0751996827267464, \"Feature\": \"STD Right Ankle <-> Left Ankle\", \"type\": \"Shapley Value\"}, {\"Shapley Value\": 0.0852119358522552, \"Feature\": \"Pruned Events\", \"type\": \"Shapley Value\"}, {\"Shapley Value\": 0.026615163187186, \"Feature\": \"Mean Chest <-> Right Ankle\", \"type\": \"Shapley Value\"}, {\"Shapley Value\": 0.0408815423647563, \"Feature\": \"STD Chest <-> Right Ankle\", \"type\": \"Shapley Value\"}, {\"Shapley Value\": 0.0289134100079537, \"Feature\": \"Mean Chest <-> Left Ankle\", \"type\": \"Shapley Value\"}, {\"Shapley Value\": 0.1268200303117432, \"Feature\": \"STD Chest <-> Left Ankle\", \"type\": \"Shapley Value\"}, {\"Shapley Value\": 0.0694395686189333, \"Feature\": \"Mean Right Ankle <-> Left Ankle\", \"type\": \"Shapley Value\"}, {\"Shapley Value\": 0.0953998739520707, \"Feature\": \"STD Right Ankle <-> Left Ankle\", \"type\": \"Shapley Value\"}, {\"Shapley Value\": 0.0925474281112355, \"Feature\": \"Pruned Events\", \"type\": \"Shapley Value\"}, {\"Shapley Value\": 0.0286066811709177, \"Feature\": \"Mean Chest <-> Right Ankle\", \"type\": \"Shapley Value\"}, {\"Shapley Value\": 0.044713246964273, \"Feature\": \"STD Chest <-> Right Ankle\", \"type\": \"Shapley Value\"}, {\"Shapley Value\": 0.0398325246004832, \"Feature\": \"Mean Chest <-> Left Ankle\", \"type\": \"Shapley Value\"}, {\"Shapley Value\": 0.1602436578699517, \"Feature\": \"STD Chest <-> Left Ankle\", \"type\": \"Shapley Value\"}, {\"Shapley Value\": 0.0562543239621889, \"Feature\": \"Mean Right Ankle <-> Left Ankle\", \"type\": \"Shapley Value\"}, {\"Shapley Value\": 0.0956699799923668, \"Feature\": \"STD Right Ankle <-> Left Ankle\", \"type\": \"Shapley Value\"}, {\"Shapley Value\": 0.0717999360391073, \"Feature\": \"Pruned Events\", \"type\": \"Shapley Value\"}, {\"Shapley Value\": 0.0232886071716036, \"Feature\": \"Mean Chest <-> Right Ankle\", \"type\": \"Shapley Value\"}, {\"Shapley Value\": 0.0441007326756205, \"Feature\": \"STD Chest <-> Right Ankle\", \"type\": \"Shapley Value\"}, {\"Shapley Value\": 0.0367483487441426, \"Feature\": \"Mean Chest <-> Left Ankle\", \"type\": \"Shapley Value\"}, {\"Shapley Value\": 0.099780415069489, \"Feature\": \"STD Chest <-> Left Ankle\", \"type\": \"Shapley Value\"}, {\"Shapley Value\": 0.0330754111920084, \"Feature\": \"Mean Right Ankle <-> Left Ankle\", \"type\": \"Shapley Value\"}, {\"Shapley Value\": 0.1177322259261493, \"Feature\": \"STD Right Ankle <-> Left Ankle\", \"type\": \"Shapley Value\"}, {\"Shapley Value\": 0.0802449659222649, \"Feature\": \"Pruned Events\", \"type\": \"Shapley Value\"}, {\"Shapley Value\": 0.08245106648121572, \"Feature\": \"Pruned Events\", \"type\": \"Mean\"}, {\"Shapley Value\": 0.02639074745987145, \"Feature\": \"Mean Chest <-> Right Ankle\", \"type\": \"Mean\"}, {\"Shapley Value\": 0.03420503485415667, \"Feature\": \"Mean Chest <-> Left Ankle\", \"type\": \"Mean\"}, {\"Shapley Value\": 0.046754715573929545, \"Feature\": \"Mean Right Ankle <-> Left Ankle\", \"type\": \"Mean\"}, {\"Shapley Value\": 0.045536600159747274, \"Feature\": \"STD Chest <-> Right Ankle\", \"type\": \"Mean\"}, {\"Shapley Value\": 0.13509790013943374, \"Feature\": \"STD Chest <-> Left Ankle\", \"type\": \"Mean\"}, {\"Shapley Value\": 0.0960004406493333, \"Feature\": \"STD Right Ankle <-> Left Ankle\", \"type\": \"Mean\"}]}}, {\"mode\": \"vega-lite\"});\n",
       "</script>"
      ],
      "text/plain": [
       "alt.VConcatChart(...)"
      ]
     },
     "execution_count": 31,
     "metadata": {},
     "output_type": "execute_result"
    }
   ],
   "source": [
    "feature_dict = {'path': 'outputs/feature_all_tf.csv', 'rs': 42, 'nsamples': 32000, 'feature_names': model_features, 'plot_features': plot_feats, }\n",
    "feat_data = feat_explain_all(f, pos_dataset, feature_dict, prun_indexes, average_event, model_features, schema, sequence_id_feat, time_feat)\n",
    "feat_global_plot = plot_global_feat(feat_data, **feature_dict)\n",
    "feat_global_plot"
   ]
  },
  {
   "cell_type": "code",
   "execution_count": null,
   "id": "eda9bcb4",
   "metadata": {},
   "outputs": [],
   "source": []
  }
 ],
 "metadata": {
  "kernelspec": {
   "display_name": "Python 3",
   "language": "python",
   "name": "python3"
  },
  "language_info": {
   "codemirror_mode": {
    "name": "ipython",
    "version": 3
   },
   "file_extension": ".py",
   "mimetype": "text/x-python",
   "name": "python",
   "nbconvert_exporter": "python",
   "pygments_lexer": "ipython3",
   "version": "3.7.7"
  }
 },
 "nbformat": 4,
 "nbformat_minor": 5
}
