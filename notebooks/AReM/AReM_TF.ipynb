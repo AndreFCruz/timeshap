{
 "cells": [
  {
   "cell_type": "markdown",
   "id": "5a85f1b2",
   "metadata": {},
   "source": [
    "<h1 style=\"color:#3da1da;font-size: 300%;\" id=\"timeshap tutorial\" align=\"center\"  >TimeSHAP Tutorial - TensorFlow - AReM dataset</h1><p>&nbsp;\n",
    "\n",
    "<a id='top_cell'></a>\n",
    "\n",
    "## Table of contents\n",
    "1. [Data Processing](#1.-Data-Processing)\n",
    "  1. [Data Loading](#1.1-Data-Loading)\n",
    "  2. [Data Treatment](#1.2-Data-Treatment)\n",
    "2. [Model](#2.-Model)\n",
    "  1. [Model Definition](#2.1-Model-Definition)\n",
    "  2. [Model Training](#2.2-Model-Training)\n",
    "3. [TimeSHAP](#3.-TimeSHAP)\n",
    "  1. [Local Explanations](#3.1-Local-Explanations)\n",
    "  2. [Global Explanations](#3.2-Global-Explanations)\n",
    "  3. [Individual Plots](#3.3-Individual-Plots)\n",
    "    \n",
    "\n",
    "# TimeSHAP\n",
    "\n",
    "TimeSHAP is a model-agnostic, recurrent explainer that builds upon KernelSHAP and extends it to the sequential domain. \n",
    "\n",
    "TimeSHAP computes local event/timestamp- feature-, and cell-level attributions. \n",
    "    \n",
    "Aditionally TimeSHAP also computes global event- and feature-level explanations.\n",
    "    \n",
    "As sequences can be arbitrarily long, TimeSHAP also implements a pruning algorithm based on Shapley Values, \n",
    "that finds a subset of consecutive, recent events that contribute the most to the decision."
   ]
  },
  {
   "cell_type": "markdown",
   "id": "8deb3c97",
   "metadata": {},
   "source": [
    "---\n",
    "# 1. Data-Processing\n",
    "---"
   ]
  },
  {
   "cell_type": "code",
   "execution_count": 1,
   "id": "9e963ff1",
   "metadata": {},
   "outputs": [
    {
     "data": {
      "text/html": [
       "<style>.container { width:100% !important; }</style>"
      ],
      "text/plain": [
       "<IPython.core.display.HTML object>"
      ]
     },
     "metadata": {},
     "output_type": "display_data"
    }
   ],
   "source": [
    "import pandas as pd\n",
    "import numpy as np\n",
    "\n",
    "import altair as alt\n",
    "from IPython.core.display import display, HTML\n",
    "display(HTML(\"<style>.container { width:100% !important; }</style>\"))\n",
    "from timeshap.plot import timeshap_theme\n",
    "alt.themes.register(\"timeshap_theme\", timeshap_theme)\n",
    "alt.themes.enable(\"timeshap_theme\")\n",
    "\n",
    "np.random.seed(42)\n",
    "\n",
    "import warnings\n",
    "warnings.filterwarnings('ignore')"
   ]
  },
  {
   "cell_type": "markdown",
   "id": "0c758a7b",
   "metadata": {},
   "source": [
    "## 1.1 Data-Loading"
   ]
  },
  {
   "cell_type": "code",
   "execution_count": 2,
   "id": "66dcf4eb",
   "metadata": {},
   "outputs": [
    {
     "name": "stdout",
     "output_type": "stream",
     "text": [
      "sitting/dataset5.csv ------ (480, 7)\n",
      "sitting/dataset11.csv ------ (480, 7)\n",
      "sitting/dataset3.csv ------ (480, 7)\n",
      "sitting/dataset10.csv ------ (480, 7)\n",
      "sitting/dataset12.csv ------ (480, 7)\n",
      "sitting/dataset4.csv ------ (480, 7)\n",
      "sitting/dataset13.csv ------ (480, 7)\n",
      "sitting/dataset9.csv ------ (480, 7)\n",
      "sitting/dataset2.csv ------ (480, 7)\n",
      "sitting/dataset15.csv ------ (480, 7)\n",
      "sitting/dataset1.csv ------ (480, 7)\n",
      "sitting/dataset14.csv ------ (480, 7)\n",
      "sitting/dataset6.csv ------ (480, 7)\n",
      "sitting/dataset7.csv ------ (480, 7)\n",
      "standing/dataset5.csv ------ (480, 7)\n",
      "standing/dataset11.csv ------ (480, 7)\n",
      "standing/dataset3.csv ------ (480, 7)\n",
      "standing/dataset8.csv ------ (480, 7)\n",
      "standing/dataset10.csv ------ (480, 7)\n",
      "standing/dataset12.csv ------ (480, 7)\n",
      "standing/dataset4.csv ------ (480, 7)\n",
      "standing/dataset13.csv ------ (480, 7)\n",
      "standing/dataset9.csv ------ (480, 7)\n",
      "standing/dataset2.csv ------ (480, 7)\n",
      "standing/dataset15.csv ------ (480, 7)\n",
      "standing/dataset1.csv ------ (480, 7)\n",
      "standing/dataset14.csv ------ (480, 7)\n",
      "standing/dataset6.csv ------ (480, 7)\n",
      "standing/dataset7.csv ------ (480, 7)\n",
      "walking/dataset5.csv ------ (480, 7)\n",
      "walking/dataset11.csv ------ (480, 7)\n",
      "walking/dataset3.csv ------ (480, 7)\n",
      "walking/dataset8.csv ------ (480, 7)\n",
      "walking/dataset10.csv ------ (480, 7)\n",
      "walking/dataset12.csv ------ (480, 7)\n",
      "walking/dataset4.csv ------ (480, 7)\n",
      "walking/dataset13.csv ------ (480, 7)\n",
      "walking/dataset9.csv ------ (480, 7)\n",
      "walking/dataset2.csv ------ (480, 7)\n",
      "walking/dataset15.csv ------ (480, 7)\n",
      "walking/dataset1.csv ------ (480, 7)\n",
      "walking/dataset14.csv ------ (480, 7)\n",
      "walking/dataset6.csv ------ (480, 7)\n",
      "walking/dataset7.csv ------ (480, 7)\n",
      "cycling/dataset5.csv ------ (480, 7)\n",
      "cycling/dataset11.csv ------ (480, 7)\n",
      "cycling/dataset3.csv ------ (480, 7)\n",
      "cycling/dataset8.csv ------ (480, 7)\n",
      "cycling/dataset10.csv ------ (480, 7)\n",
      "cycling/dataset12.csv ------ (480, 7)\n",
      "cycling/dataset4.csv ------ (480, 7)\n",
      "cycling/dataset13.csv ------ (480, 7)\n",
      "cycling/dataset9.csv ------ (480, 7)\n",
      "cycling/dataset2.csv ------ (480, 7)\n",
      "cycling/dataset15.csv ------ (480, 7)\n",
      "cycling/dataset1.csv ------ (480, 7)\n",
      "cycling/dataset14.csv ------ (480, 7)\n",
      "cycling/dataset6.csv ------ (480, 7)\n",
      "cycling/dataset7.csv ------ (480, 7)\n",
      "lying/dataset5.csv ------ (480, 7)\n",
      "lying/dataset11.csv ------ (480, 7)\n",
      "lying/dataset3.csv ------ (480, 7)\n",
      "lying/dataset8.csv ------ (480, 7)\n",
      "lying/dataset10.csv ------ (480, 7)\n",
      "lying/dataset12.csv ------ (480, 7)\n",
      "lying/dataset4.csv ------ (480, 7)\n",
      "lying/dataset13.csv ------ (480, 7)\n",
      "lying/dataset9.csv ------ (480, 7)\n",
      "lying/dataset2.csv ------ (480, 7)\n",
      "lying/dataset15.csv ------ (480, 7)\n",
      "lying/dataset1.csv ------ (480, 7)\n",
      "lying/dataset14.csv ------ (480, 7)\n",
      "lying/dataset6.csv ------ (480, 7)\n",
      "lying/dataset7.csv ------ (480, 7)\n"
     ]
    }
   ],
   "source": [
    "import os\n",
    "import re\n",
    "\n",
    "data_directories = next(os.walk(\"./AReM\"))[1]\n",
    "\n",
    "all_csvs = []\n",
    "for folder in data_directories:\n",
    "    if folder in ['bending1', 'bending2']:\n",
    "        continue\n",
    "    folder_csvs = next(os.walk(f\"./AReM/{folder}\"))[2]\n",
    "    for data_csv in folder_csvs:\n",
    "        if data_csv == 'dataset8.csv' and folder == 'sitting':\n",
    "            # this dataset only has 479 instances\n",
    "            # it is possible to use it, but would require padding logic\n",
    "            continue\n",
    "        loaded_data = pd.read_csv(f\"./AReM/{folder}/{data_csv}\", skiprows=4)\n",
    "        print(f\"{folder}/{data_csv} ------ {loaded_data.shape}\")\n",
    "        \n",
    "        csv_id = re.findall(r'\\d+', data_csv)[0]\n",
    "        loaded_data['id'] = csv_id\n",
    "        loaded_data['all_id'] = f\"{folder}_{csv_id}\"\n",
    "        loaded_data['activity'] = folder\n",
    "        all_csvs.append(loaded_data)\n",
    "all_data = pd.concat(all_csvs)\n",
    "raw_model_features = ['avg_rss12', 'var_rss12', 'avg_rss13', 'var_rss13', 'avg_rss23', 'var_rss23']\n",
    "all_data.columns = ['timestamp', 'avg_rss12', 'var_rss12', 'avg_rss13', 'var_rss13', 'avg_rss23', 'var_rss23', 'id', 'all_id', 'activity']"
   ]
  },
  {
   "cell_type": "markdown",
   "id": "2aea2406",
   "metadata": {},
   "source": [
    "## 1.2 Data Treatment"
   ]
  },
  {
   "cell_type": "markdown",
   "id": "db62bc15",
   "metadata": {
    "scrolled": true
   },
   "source": [
    "### Separate in train and test"
   ]
  },
  {
   "cell_type": "code",
   "execution_count": 3,
   "id": "a3df1a10",
   "metadata": {},
   "outputs": [],
   "source": [
    "# choose ids to use for test\n",
    "ids_for_test = np.random.choice(all_data['id'].unique(), size = 4, replace=False)\n",
    "\n",
    "d_train =  all_data[~all_data['id'].isin(ids_for_test)]\n",
    "d_test = all_data[all_data['id'].isin(ids_for_test)]"
   ]
  },
  {
   "cell_type": "code",
   "execution_count": 4,
   "id": "9fcabe53",
   "metadata": {
    "pycharm": {
     "name": "#%%\n"
    }
   },
   "outputs": [
    {
     "data": {
      "text/plain": [
       "(35520, 10)"
      ]
     },
     "execution_count": 4,
     "metadata": {},
     "output_type": "execute_result"
    }
   ],
   "source": [
    "all_data.shape"
   ]
  },
  {
   "cell_type": "code",
   "execution_count": 5,
   "id": "4f422360",
   "metadata": {},
   "outputs": [],
   "source": [
    "###  Normalize Features"
   ]
  },
  {
   "cell_type": "markdown",
   "id": "1c801cff",
   "metadata": {},
   "source": [
    "###  Normalize Features"
   ]
  },
  {
   "cell_type": "code",
   "execution_count": 6,
   "id": "d627aeda",
   "metadata": {},
   "outputs": [],
   "source": [
    "class NumericalNormalizer:\n",
    "    def __init__(self, fields: list):\n",
    "        self.metrics = {}\n",
    "        self.fields = fields\n",
    "\n",
    "    def fit(self, df: pd.DataFrame ) -> list:\n",
    "        means = df[self.fields].mean()\n",
    "        std = df[self.fields].std()\n",
    "        for field in self.fields:\n",
    "            field_mean = means[field]\n",
    "            field_stddev = std[field]\n",
    "            self.metrics[field] = {'mean': field_mean, 'std': field_stddev}\n",
    "\n",
    "    def transform(self, df: pd.DataFrame) -> pd.DataFrame:\n",
    "        # Transform to zero-mean and unit variance.\n",
    "        for field in self.fields:\n",
    "            f_mean = self.metrics[field]['mean']\n",
    "            f_stddev = self.metrics[field]['std']\n",
    "            # OUTLIER CLIPPING to [avg-3*std, avg+3*avg]\n",
    "            df[field] = df[field].apply(lambda x: f_mean - 3 * f_stddev if x < f_mean - 3 * f_stddev else x)\n",
    "            df[field] = df[field].apply(lambda x: f_mean + 3 * f_stddev if x > f_mean + 3 * f_stddev else x)\n",
    "            if f_stddev > 1e-5:\n",
    "                df[f'p_{field}_normalized'] = df[field].apply(lambda x: ((x - f_mean)/f_stddev))\n",
    "            else:\n",
    "                df[f'p_{field}_normalized'] = df[field].apply(lambda x: x * 0)\n",
    "        return df"
   ]
  },
  {
   "cell_type": "code",
   "execution_count": 7,
   "id": "a622fbed",
   "metadata": {},
   "outputs": [],
   "source": [
    "#all features are numerical\n",
    "normalizor = NumericalNormalizer(raw_model_features)\n",
    "normalizor.fit(d_train)\n",
    "d_train_normalized = normalizor.transform(d_train)\n",
    "d_test_normalized = normalizor.transform(d_test)"
   ]
  },
  {
   "cell_type": "markdown",
   "id": "58ed80b8",
   "metadata": {},
   "source": [
    "### Features"
   ]
  },
  {
   "cell_type": "code",
   "execution_count": 8,
   "id": "3be4cdd7",
   "metadata": {},
   "outputs": [],
   "source": [
    "model_features = [f\"p_{x}_normalized\" for x in raw_model_features]\n",
    "time_feat = 'timestamp'\n",
    "label_feat = 'activity'\n",
    "sequence_id_feat = 'all_id'\n",
    "\n",
    "plot_feats = {\n",
    "    'p_avg_rss12_normalized': \"Mean Chest <-> Right Ankle\",\n",
    "    'p_var_rss12_normalized': \"STD Chest <-> Right Ankle\",\n",
    "    'p_avg_rss13_normalized': \"Mean Chest <-> Left Ankle\",\n",
    "    'p_var_rss13_normalized': \"STD Chest <-> Left Ankle\",\n",
    "    'p_avg_rss23_normalized': \"Mean Right Ankle <-> Left Ankle\",\n",
    "    'p_var_rss23_normalized': \"STD Right Ankle <-> Left Ankle\",\n",
    "}"
   ]
  },
  {
   "cell_type": "markdown",
   "id": "b9e08290",
   "metadata": {},
   "source": [
    "### Transform the dataset from multi-label to binary classification"
   ]
  },
  {
   "cell_type": "code",
   "execution_count": 9,
   "id": "f1cba387",
   "metadata": {},
   "outputs": [],
   "source": [
    "# possible activities ['cycling', 'lying', 'sitting', 'standing', 'walking']\n",
    "#Select the activity to predict\n",
    "chosen_activity = 'cycling'\n",
    "\n",
    "d_train_normalized['label'] = d_train_normalized['activity'].apply(lambda x: int(x == chosen_activity))\n",
    "d_test_normalized['label'] = d_test_normalized['activity'].apply(lambda x: int(x == chosen_activity))"
   ]
  },
  {
   "cell_type": "code",
   "execution_count": 10,
   "id": "35cf4835",
   "metadata": {},
   "outputs": [],
   "source": [
    "def df_to_numpy(df, model_feats, label_feat, group_by_feat, timestamp_Feat):\n",
    "    sequence_length = len(df[timestamp_Feat].unique())\n",
    "\n",
    "    data_tensor = np.zeros(\n",
    "        (len(df[group_by_feat].unique()), sequence_length, len(model_feats)))\n",
    "    labels_tensor = np.zeros((len(df[group_by_feat].unique()), 1))\n",
    "\n",
    "    for i, name in enumerate(df[group_by_feat].unique()):\n",
    "        name_data = df[df[group_by_feat] == name]\n",
    "        sorted_data = name_data.sort_values(timestamp_Feat)\n",
    "\n",
    "        data_x = sorted_data[model_feats].values\n",
    "        labels = sorted_data[label_feat].values\n",
    "        assert labels.sum() == 0 or labels.sum() == len(labels)\n",
    "        data_tensor[i, :, :] = data_x\n",
    "        labels_tensor[i, :] = labels[0]\n",
    "    return data_tensor, labels_tensor"
   ]
  },
  {
   "cell_type": "code",
   "execution_count": 11,
   "id": "c5b4ab48",
   "metadata": {},
   "outputs": [],
   "source": [
    "X_train, y_train = df_to_numpy(d_train_normalized, model_features, 'label', sequence_id_feat, time_feat)\n",
    "\n",
    "X_test, y_test = df_to_numpy(d_test_normalized, model_features, 'label', sequence_id_feat, time_feat)"
   ]
  },
  {
   "cell_type": "markdown",
   "id": "f1c4aa88",
   "metadata": {},
   "source": [
    "___\n",
    "# 2. Model\n"
   ]
  },
  {
   "cell_type": "markdown",
   "id": "992d6c20",
   "metadata": {},
   "source": [
    "## 2.1 Model Definition"
   ]
  },
  {
   "cell_type": "code",
   "execution_count": 12,
   "id": "2b7b9cb5",
   "metadata": {},
   "outputs": [],
   "source": [
    "import tensorflow as tf\n",
    "\n",
    "inputs = tf.keras.layers.Input(shape=(None, 6))\n",
    "lstm1 = tf.keras.layers.LSTM(64)(inputs)\n",
    "ff1 = tf.keras.layers.Dense(64, activation='relu')(lstm1)\n",
    "ff2 = tf.keras.layers.Dense(1, activation='sigmoid')(ff1)\n",
    "model = tf.keras.models.Model(inputs=inputs, outputs=ff2)"
   ]
  },
  {
   "cell_type": "markdown",
   "id": "9a01e96a",
   "metadata": {},
   "source": [
    "## 2.2 Model Training"
   ]
  },
  {
   "cell_type": "code",
   "execution_count": 13,
   "id": "abb35ac5",
   "metadata": {},
   "outputs": [
    {
     "name": "stdout",
     "output_type": "stream",
     "text": [
      "Epoch 1/20\n",
      "1/1 [==============================] - 6s 6s/step - loss: 0.6654 - val_loss: 0.6423\n",
      "Epoch 2/20\n",
      "1/1 [==============================] - 1s 652ms/step - loss: 0.6390 - val_loss: 0.6194\n",
      "Epoch 3/20\n",
      "1/1 [==============================] - 1s 791ms/step - loss: 0.6140 - val_loss: 0.5976\n",
      "Epoch 4/20\n",
      "1/1 [==============================] - 1s 591ms/step - loss: 0.5907 - val_loss: 0.5761\n",
      "Epoch 5/20\n",
      "1/1 [==============================] - 1s 542ms/step - loss: 0.5683 - val_loss: 0.5548\n",
      "Epoch 6/20\n",
      "1/1 [==============================] - 1s 542ms/step - loss: 0.5458 - val_loss: 0.5333\n",
      "Epoch 7/20\n",
      "1/1 [==============================] - 0s 498ms/step - loss: 0.5233 - val_loss: 0.5118\n",
      "Epoch 8/20\n",
      "1/1 [==============================] - 0s 395ms/step - loss: 0.5012 - val_loss: 0.4902\n",
      "Epoch 9/20\n",
      "1/1 [==============================] - 1s 582ms/step - loss: 0.4791 - val_loss: 0.4686\n",
      "Epoch 10/20\n",
      "1/1 [==============================] - 1s 501ms/step - loss: 0.4570 - val_loss: 0.4465\n",
      "Epoch 11/20\n",
      "1/1 [==============================] - 0s 475ms/step - loss: 0.4347 - val_loss: 0.4241\n",
      "Epoch 12/20\n",
      "1/1 [==============================] - 1s 538ms/step - loss: 0.4124 - val_loss: 0.4014\n",
      "Epoch 13/20\n",
      "1/1 [==============================] - 1s 629ms/step - loss: 0.3900 - val_loss: 0.3780\n",
      "Epoch 14/20\n",
      "1/1 [==============================] - 1s 595ms/step - loss: 0.3678 - val_loss: 0.3544\n",
      "Epoch 15/20\n",
      "1/1 [==============================] - 1s 585ms/step - loss: 0.3457 - val_loss: 0.3307\n",
      "Epoch 16/20\n",
      "1/1 [==============================] - 1s 516ms/step - loss: 0.3241 - val_loss: 0.3090\n",
      "Epoch 17/20\n",
      "1/1 [==============================] - 1s 523ms/step - loss: 0.3040 - val_loss: 0.2903\n",
      "Epoch 18/20\n",
      "1/1 [==============================] - 1s 525ms/step - loss: 0.2864 - val_loss: 0.2745\n",
      "Epoch 19/20\n",
      "1/1 [==============================] - 1s 527ms/step - loss: 0.2721 - val_loss: 0.2611\n",
      "Epoch 20/20\n",
      "1/1 [==============================] - 1s 601ms/step - loss: 0.2609 - val_loss: 0.2487\n"
     ]
    },
    {
     "data": {
      "text/plain": [
       "<keras.callbacks.History at 0x7f54999c3310>"
      ]
     },
     "execution_count": 13,
     "metadata": {},
     "output_type": "execute_result"
    }
   ],
   "source": [
    "model.compile(loss=tf.keras.losses.BinaryCrossentropy(),\n",
    "              optimizer=tf.keras.optimizers.Adam(0.001))\n",
    "\n",
    "model.fit(X_train, y_train, epochs=20, batch_size=55, validation_data=(X_test, y_test))"
   ]
  },
  {
   "cell_type": "markdown",
   "id": "acf04894",
   "metadata": {},
   "source": [
    "---\n",
    "# 3. TimeSHAP\n",
    "---"
   ]
  },
  {
   "cell_type": "code",
   "execution_count": 14,
   "id": "3d33a0da",
   "metadata": {},
   "outputs": [],
   "source": [
    "import timeshap"
   ]
  },
  {
   "cell_type": "markdown",
   "id": "d9212121",
   "metadata": {},
   "source": [
    "### Model entry point"
   ]
  },
  {
   "cell_type": "code",
   "execution_count": 15,
   "id": "396cb0ac",
   "metadata": {},
   "outputs": [],
   "source": [
    "f = lambda x: model.predict(x)"
   ]
  },
  {
   "cell_type": "markdown",
   "id": "a66a417b",
   "metadata": {},
   "source": [
    "### Baseline event"
   ]
  },
  {
   "cell_type": "code",
   "execution_count": 16,
   "id": "d8d7584d",
   "metadata": {},
   "outputs": [],
   "source": [
    "from timeshap import calc_avg_event\n",
    "average_event = calc_avg_event(d_train_normalized, numerical_feats=model_features, categorical_feats=[])"
   ]
  },
  {
   "cell_type": "markdown",
   "id": "2b707fa7",
   "metadata": {},
   "source": [
    "### Average score over baseline"
   ]
  },
  {
   "cell_type": "code",
   "execution_count": 17,
   "id": "b254545e",
   "metadata": {},
   "outputs": [],
   "source": [
    "from timeshap import get_avg_score_with_avg_event\n",
    "avg_score_over_len = get_avg_score_with_avg_event(f, average_event, top=480)"
   ]
  },
  {
   "cell_type": "markdown",
   "id": "873b1de2",
   "metadata": {},
   "source": [
    "## 3.1 Local Explanations"
   ]
  },
  {
   "cell_type": "code",
   "execution_count": 18,
   "id": "df877e9e",
   "metadata": {},
   "outputs": [],
   "source": [
    "positive_sequence_id = 'cycling_15'\n",
    "pos_x_pd = d_test_normalized[d_test_normalized['all_id'] == positive_sequence_id]\n",
    "\n",
    "# select model features only\n",
    "pos_x_data = pos_x_pd[model_features]\n",
    "# convert the instance to numpy so TimeSHAP receives it\n",
    "pos_x_data = np.expand_dims(pos_x_data.to_numpy().copy(), axis=0)"
   ]
  },
  {
   "cell_type": "markdown",
   "id": "9dc37382",
   "metadata": {},
   "source": [
    "### Local Report on positive instance"
   ]
  },
  {
   "cell_type": "code",
   "execution_count": 19,
   "id": "be908ef3",
   "metadata": {},
   "outputs": [
    {
     "name": "stdout",
     "output_type": "stream",
     "text": [
      "No path to explainer data provided. Calculating data\n",
      "No path to event data provided. Calculating data\n",
      "No path to feature data provided. Calculating data\n",
      "No path to feature data provided. Calculating data\n"
     ]
    },
    {
     "data": {
      "text/html": [
       "\n",
       "<div id=\"altair-viz-93a94ea6665d4703986ef6dd4a3845e2\"></div>\n",
       "<script type=\"text/javascript\">\n",
       "  (function(spec, embedOpt){\n",
       "    let outputDiv = document.currentScript.previousElementSibling;\n",
       "    if (outputDiv.id !== \"altair-viz-93a94ea6665d4703986ef6dd4a3845e2\") {\n",
       "      outputDiv = document.getElementById(\"altair-viz-93a94ea6665d4703986ef6dd4a3845e2\");\n",
       "    }\n",
       "    const paths = {\n",
       "      \"vega\": \"https://cdn.jsdelivr.net/npm//vega@5?noext\",\n",
       "      \"vega-lib\": \"https://cdn.jsdelivr.net/npm//vega-lib?noext\",\n",
       "      \"vega-lite\": \"https://cdn.jsdelivr.net/npm//vega-lite@4.8.1?noext\",\n",
       "      \"vega-embed\": \"https://cdn.jsdelivr.net/npm//vega-embed@6?noext\",\n",
       "    };\n",
       "\n",
       "    function loadScript(lib) {\n",
       "      return new Promise(function(resolve, reject) {\n",
       "        var s = document.createElement('script');\n",
       "        s.src = paths[lib];\n",
       "        s.async = true;\n",
       "        s.onload = () => resolve(paths[lib]);\n",
       "        s.onerror = () => reject(`Error loading script: ${paths[lib]}`);\n",
       "        document.getElementsByTagName(\"head\")[0].appendChild(s);\n",
       "      });\n",
       "    }\n",
       "\n",
       "    function showError(err) {\n",
       "      outputDiv.innerHTML = `<div class=\"error\" style=\"color:red;\">${err}</div>`;\n",
       "      throw err;\n",
       "    }\n",
       "\n",
       "    function displayChart(vegaEmbed) {\n",
       "      vegaEmbed(outputDiv, spec, embedOpt)\n",
       "        .catch(err => showError(`Javascript Error: ${err.message}<br>This usually means there's a typo in your chart specification. See the javascript console for the full traceback.`));\n",
       "    }\n",
       "\n",
       "    if(typeof define === \"function\" && define.amd) {\n",
       "      requirejs.config({paths});\n",
       "      require([\"vega-embed\"], displayChart, err => showError(`Error loading script: ${err.message}`));\n",
       "    } else if (typeof vegaEmbed === \"function\") {\n",
       "      displayChart(vegaEmbed);\n",
       "    } else {\n",
       "      loadScript(\"vega\")\n",
       "        .then(() => loadScript(\"vega-lite\"))\n",
       "        .then(() => loadScript(\"vega-embed\"))\n",
       "        .catch(showError)\n",
       "        .then(() => displayChart(vegaEmbed));\n",
       "    }\n",
       "  })({\"config\": {\"axis\": {\"domain\": true, \"domainColor\": \"#798184\", \"grid\": false, \"gridColor\": \"#798184\", \"gridOpacity\": 0.5, \"gridDash\": [3, 5], \"gridWidth\": 0.8, \"gridCap\": \"round\", \"labelPadding\": 3, \"labelFont\": \"Roboto\", \"labelColor\": \"#798184\", \"tickSize\": 5, \"tickColor\": \"#798184\", \"tickOpacity\": 0.5, \"titleColor\": \"#384140\", \"titleFont\": \"Roboto\", \"titleFontSize\": 12}, \"axisBand\": {\"domain\": true, \"ticks\": false, \"labelPadding\": 7}, \"axisY\": {\"domain\": false, \"titleAlign\": \"left\", \"titleAngle\": 0, \"titleX\": -20, \"titleY\": -10}, \"legend\": {\"labelColor\": \"#798184\", \"labelFontSize\": 12, \"symbolSize\": 40, \"titleColor\": \"#384140\", \"titleFontSize\": 12, \"titlePadding\": 10, \"titleFont\": \"Roboto\", \"labelFont\": \"Roboto\"}, \"line\": {\"stroke\": \"#618FE0\", \"strokeWidth\": 2}, \"rule\": {\"stroke\": \"#798184\"}, \"path\": {\"stroke\": \"#618FE0\", \"strokeWidth\": 0.5}, \"rect\": {\"fill\": \"#618FE0\"}, \"point\": {\"filled\": true, \"shape\": \"circle\"}, \"shape\": {\"stroke\": \"#618FE0\"}, \"bar\": {\"fill\": \"#618FE0\", \"stroke\": null}, \"text\": {\"font\": \"Roboto\", \"color\": \"#384140\", \"fontSize\": 12}, \"arc\": {\"stroke\": \"#fff\", \"strokeWidth\": 1}, \"range\": {\"category\": [\"#618FE0\", \"#50D0B0\", \"#E17560\", \"#E8B474\", \"#D889C4\", \"#34A3BC\", \"#A583A4\"], \"ramp\": [\"#001854\", \"#002f72\", \"#04478e\", \"#1e5fab\", \"#4477c5\", \"#6290e1\", \"#7ea9fd\", \"#9ec7ff\", \"#bde4ff\"], \"heatmap\": [\"#001854\", \"#002f72\", \"#04478e\", \"#1e5fab\", \"#4477c5\", \"#6290e1\", \"#7ea9fd\", \"#9ec7ff\", \"#bde4ff\"], \"diverging\": [\"#003b26\", \"#006b52\", \"#1aa082\", \"#55d5b5\", \"#f5f5f5\", \"#ffaa92\", \"#d16f5b\", \"#9e392c\", \"#650200\"]}, \"title\": {\"anchor\": \"start\", \"fontSize\": 20, \"color\": \"#384140\", \"fontWeight\": \"bold\", \"offset\": 20, \"font\": \"Roboto\", \"subtitleColor\": \"#384140\", \"subtitleFontSize\": 16}, \"header\": {\"labelFontSize\": 12, \"titleFontSize\": 16, \"labelColor\": \"#384140\", \"titleColor\": \"#384140\", \"titleFont\": \"Roboto\", \"labelFont\": \"Roboto\"}, \"group\": {\"fill\": \"white\"}, \"background\": \"white\", \"view\": {\"stroke\": \"transparent\", \"continuousHeight\": 300, \"continuousWidth\": 400}}, \"hconcat\": [{\"layer\": [{\"mark\": {\"type\": \"area\", \"opacity\": 0.5}, \"encoding\": {\"color\": {\"type\": \"nominal\", \"field\": \"Coalition\", \"legend\": {\"fillColor\": \"white\", \"labelFontSize\": 14, \"labelLimit\": 0, \"orient\": \"top-left\", \"symbolSize\": 50, \"symbolStrokeWidth\": 0, \"title\": null}, \"scale\": {\"domain\": [\"Sum of contribution of events \\u2264 t\"], \"range\": [\"#618FE0\"]}}, \"x\": {\"type\": \"quantitative\", \"axis\": {\"labelFontSize\": 15, \"title\": \"t (event index)\", \"titleFontSize\": 15}, \"field\": \"t (event index)\"}, \"y\": {\"type\": \"quantitative\", \"axis\": {\"grid\": true, \"labelFontSize\": 15, \"titleFontSize\": 15, \"titleX\": -28}, \"field\": \"Shapley Value\", \"scale\": {\"domain\": [-0.05, 1]}}}}, {\"mark\": \"line\", \"encoding\": {\"color\": {\"type\": \"nominal\", \"field\": \"Coalition\", \"legend\": {\"fillColor\": \"white\", \"labelFontSize\": 14, \"labelLimit\": 0, \"orient\": \"top-left\", \"symbolSize\": 50, \"symbolStrokeWidth\": 0, \"title\": null}, \"scale\": {\"domain\": [\"Sum of contribution of events \\u2264 t\"], \"range\": [\"#618FE0\"]}}, \"x\": {\"type\": \"quantitative\", \"axis\": {\"labelFontSize\": 15, \"title\": \"t (event index)\", \"titleFontSize\": 15}, \"field\": \"t (event index)\"}, \"y\": {\"type\": \"quantitative\", \"axis\": {\"grid\": true, \"labelFontSize\": 15, \"titleFontSize\": 15, \"titleX\": -28}, \"field\": \"Shapley Value\", \"scale\": {\"domain\": [-0.05, 1]}}}}, {\"data\": {\"name\": \"data-1499224933b3632ccdccd3013b4fd59e\"}, \"mark\": {\"type\": \"rule\", \"color\": \"#E17560\"}, \"encoding\": {\"x\": {\"type\": \"quantitative\", \"field\": \"x\"}}}, {\"data\": {\"name\": \"data-07bf86fc7fee352c126063eb77ebd296\"}, \"mark\": {\"type\": \"text\", \"angle\": 270, \"color\": \"#E17560\", \"fontSize\": 15, \"fontWeight\": \"bold\", \"text\": \"Pruning\"}, \"encoding\": {\"x\": {\"type\": \"quantitative\", \"field\": \"x\"}}}], \"data\": {\"name\": \"data-d552b8da38dd394a311a5d37773f2cac\"}, \"height\": 225, \"width\": 350}, {\"layer\": [{\"mark\": \"rect\", \"encoding\": {\"color\": {\"type\": \"quantitative\", \"field\": \"rounded\", \"legend\": {\"gradientLength\": 225, \"gradientThickness\": 10, \"labelFontSize\": 15, \"orient\": \"right\"}, \"scale\": {\"domain\": [-0.5, 0.5], \"range\": [\"#5f8fd6\", \"#99c3fb\", \"#f5f5f5\", \"#ffaa92\", \"#d16f5b\"]}, \"title\": null}, \"x\": {\"type\": \"ordinal\", \"axis\": {\"title\": \"Shapley Value\", \"titleFontSize\": 15}, \"field\": \"column\"}, \"y\": {\"type\": \"ordinal\", \"axis\": {\"domain\": false, \"labelFontSize\": 15, \"title\": \"Event\", \"titleFontSize\": 15, \"titleX\": -49}, \"field\": \"Feature\", \"sort\": [\"Event -1\", \"Event -2\", \"Event -3\", \"Event -4\", \"Event -5\", \"Event -6\", \"Event -7\", \"Event -8\", \"Event -9\", \"Event -10\", \"Event -11\", \"Event -12\", \"Event -13\", \"Event -14\", \"Event -15\", \"Event -16\", \"Event -17\", \"Event -18\", \"Event -19\", \"Event -20\", \"Event -21\", \"Event -22\", \"Event -23\", \"Event -24\", \"Event -25\", \"Event -26\", \"Pruned Events\"]}}}, {\"mark\": {\"type\": \"text\", \"align\": \"right\", \"baseline\": \"middle\", \"color\": \"#798184\", \"dx\": 18, \"fontSize\": 15}, \"encoding\": {\"text\": {\"type\": \"nominal\", \"field\": \"rounded_str\"}, \"x\": {\"type\": \"ordinal\", \"axis\": {\"domain\": false, \"labels\": false, \"title\": \"Shapley Value\", \"titleX\": 43}, \"field\": \"column\"}, \"y\": {\"type\": \"ordinal\", \"axis\": {\"domain\": false, \"labelFontSize\": 15, \"title\": \"Event\", \"titleFontSize\": 15, \"titleX\": -49}, \"field\": \"Feature\", \"sort\": [\"Event -1\", \"Event -2\", \"Event -3\", \"Event -4\", \"Event -5\", \"Event -6\", \"Event -7\", \"Event -8\", \"Event -9\", \"Event -10\", \"Event -11\", \"Event -12\", \"Event -13\", \"Event -14\", \"Event -15\", \"Event -16\", \"Event -17\", \"Event -18\", \"Event -19\", \"Event -20\", \"Event -21\", \"Event -22\", \"Event -23\", \"Event -24\", \"Event -25\", \"Event -26\", \"Pruned Events\"]}}}], \"data\": {\"name\": \"data-95bbcfbd4808bf85eb2c5f1b6ee09cc2\"}, \"height\": 225, \"width\": 60}, {\"layer\": [{\"data\": {\"name\": \"data-a7fffab3d9c8e6d7e756a5e3c3816c48\"}, \"mark\": {\"type\": \"bar\", \"size\": 15, \"thickness\": 1}, \"encoding\": {\"x\": {\"type\": \"quantitative\", \"axis\": {\"grid\": true, \"labelFontSize\": 15, \"title\": \"Shapley Value\", \"titleFontSize\": 15}, \"field\": \"Shapley Value\", \"scale\": {\"domain\": [-0.1, 0.4]}}, \"y\": {\"type\": \"nominal\", \"axis\": {\"labelFontSize\": 15, \"title\": \"Feature\", \"titleFontSize\": 15, \"titleX\": -61}, \"field\": \"Feature\", \"sort\": {\"field\": \"sort_col\", \"order\": \"descending\"}}}}, {\"data\": {\"name\": \"data-9c00aa9dc2b1c1a0b4bf9b34ead12925\"}, \"mark\": {\"type\": \"rule\", \"color\": \"#798184\"}, \"encoding\": {\"x\": {\"type\": \"quantitative\", \"field\": \"x\"}}}], \"height\": 225, \"width\": 190}, {\"hconcat\": [{\"layer\": [{\"mark\": \"rect\", \"encoding\": {\"color\": {\"type\": \"quantitative\", \"field\": \"rounded\", \"legend\": null, \"scale\": {\"domain\": [-0.5, 0.5], \"range\": [\"#5f8fd6\", \"#99c3fb\", \"#f5f5f5\", \"#ffaa92\", \"#d16f5b\"]}, \"title\": null}, \"x\": {\"type\": \"nominal\", \"axis\": {\"titleFontSize\": 15}, \"field\": \"Event\"}, \"y\": {\"type\": \"nominal\", \"axis\": {\"domain\": false, \"labels\": false, \"title\": null}, \"field\": \"Feature\"}}}, {\"mark\": {\"type\": \"text\", \"align\": \"right\", \"baseline\": \"middle\", \"color\": \"#798184\", \"dx\": 18, \"fontSize\": 15}, \"encoding\": {\"text\": {\"type\": \"nominal\", \"field\": \"rounded_str\"}, \"x\": {\"type\": \"nominal\", \"axis\": {\"domain\": false, \"labelAngle\": 0, \"labelFontSize\": 15, \"labelOffset\": 24, \"labelPadding\": 30, \"orient\": \"top\", \"title\": null}, \"field\": \"Event\"}, \"y\": {\"type\": \"nominal\", \"axis\": {\"domain\": false, \"labels\": false, \"title\": null}, \"field\": \"Feature\"}}}], \"data\": {\"name\": \"data-59855353c74b715c5de4b342f42b3abd\"}, \"height\": 225, \"width\": 66.66666666666667}, {\"layer\": [{\"mark\": \"rect\", \"encoding\": {\"color\": {\"type\": \"quantitative\", \"field\": \"rounded\", \"legend\": {\"gradientLength\": 225, \"gradientThickness\": 10, \"labelFontSize\": 15, \"orient\": \"right\"}, \"scale\": {\"domain\": [-0.5, 0.5], \"range\": [\"#5f8fd6\", \"#99c3fb\", \"#f5f5f5\", \"#ffaa92\", \"#d16f5b\"]}, \"title\": null}, \"x\": {\"type\": \"nominal\", \"axis\": {\"titleFontSize\": 15}, \"field\": \"Event\", \"sort\": [\"Event -2\", \"Event -1\"]}, \"y\": {\"type\": \"nominal\", \"axis\": {\"domain\": false, \"labelFontSize\": 15, \"title\": null}, \"field\": \"Feature\", \"sort\": [\"STD Chest <-> Left Ankle\", \"STD Right Ankle <-> Left Ankle\"]}}}, {\"mark\": {\"type\": \"text\", \"align\": \"right\", \"baseline\": \"middle\", \"color\": \"#798184\", \"dx\": 18, \"fontSize\": 15}, \"encoding\": {\"text\": {\"type\": \"nominal\", \"field\": \"rounded_str\"}, \"x\": {\"type\": \"nominal\", \"axis\": {\"domain\": false, \"labelAngle\": 30, \"labelFontSize\": 15, \"orient\": \"top\", \"title\": \"Shapley Value\", \"titleX\": 172, \"titleY\": 245}, \"field\": \"Event\", \"sort\": [\"Event -2\", \"Event -1\"]}, \"y\": {\"type\": \"nominal\", \"axis\": {\"domain\": false, \"labelFontSize\": 15, \"title\": null}, \"field\": \"Feature\", \"sort\": [\"STD Chest <-> Left Ankle\", \"STD Right Ankle <-> Left Ankle\"]}}}], \"data\": {\"name\": \"data-a00e37a1e70b3b84f6e73b6141697660\"}, \"height\": 225, \"width\": 160}], \"resolve\": {\"scale\": {\"color\": \"independent\"}}}], \"resolve\": {\"scale\": {\"color\": \"independent\"}}, \"$schema\": \"https://vega.github.io/schema/vega-lite/v4.8.1.json\", \"datasets\": {\"data-d552b8da38dd394a311a5d37773f2cac\": [{\"Coalition\": \"Sum of contribution of events > t\", \"t (event index)\": 0, \"Shapley Value\": 0.0}, {\"Coalition\": \"Sum of contribution of events \\u2264 t\", \"t (event index)\": 0, \"Shapley Value\": 0.6194793283939362}, {\"Coalition\": \"Sum of contribution of events > t\", \"t (event index)\": -1, \"Shapley Value\": 0.01246979832649231}, {\"Coalition\": \"Sum of contribution of events \\u2264 t\", \"t (event index)\": -1, \"Shapley Value\": 0.6070095300674438}, {\"Coalition\": \"Sum of contribution of events > t\", \"t (event index)\": -2, \"Shapley Value\": 0.029002368450164795}, {\"Coalition\": \"Sum of contribution of events \\u2264 t\", \"t (event index)\": -2, \"Shapley Value\": 0.5904769599437714}, {\"Coalition\": \"Sum of contribution of events > t\", \"t (event index)\": -3, \"Shapley Value\": 0.035305097699165344}, {\"Coalition\": \"Sum of contribution of events \\u2264 t\", \"t (event index)\": -3, \"Shapley Value\": 0.5841742306947708}, {\"Coalition\": \"Sum of contribution of events > t\", \"t (event index)\": -4, \"Shapley Value\": 0.038639992475509644}, {\"Coalition\": \"Sum of contribution of events \\u2264 t\", \"t (event index)\": -4, \"Shapley Value\": 0.5808393359184265}, {\"Coalition\": \"Sum of contribution of events > t\", \"t (event index)\": -5, \"Shapley Value\": 0.052983254194259644}, {\"Coalition\": \"Sum of contribution of events \\u2264 t\", \"t (event index)\": -5, \"Shapley Value\": 0.5664960741996765}, {\"Coalition\": \"Sum of contribution of events > t\", \"t (event index)\": -6, \"Shapley Value\": 0.06292711198329926}, {\"Coalition\": \"Sum of contribution of events \\u2264 t\", \"t (event index)\": -6, \"Shapley Value\": 0.5565522164106369}, {\"Coalition\": \"Sum of contribution of events > t\", \"t (event index)\": -7, \"Shapley Value\": 0.09119510650634766}, {\"Coalition\": \"Sum of contribution of events \\u2264 t\", \"t (event index)\": -7, \"Shapley Value\": 0.5282842218875885}, {\"Coalition\": \"Sum of contribution of events > t\", \"t (event index)\": -8, \"Shapley Value\": 0.1305646449327469}, {\"Coalition\": \"Sum of contribution of events \\u2264 t\", \"t (event index)\": -8, \"Shapley Value\": 0.48891468346118927}, {\"Coalition\": \"Sum of contribution of events > t\", \"t (event index)\": -9, \"Shapley Value\": 0.14609266817569733}, {\"Coalition\": \"Sum of contribution of events \\u2264 t\", \"t (event index)\": -9, \"Shapley Value\": 0.47338666021823883}, {\"Coalition\": \"Sum of contribution of events > t\", \"t (event index)\": -10, \"Shapley Value\": 0.1673157811164856}, {\"Coalition\": \"Sum of contribution of events \\u2264 t\", \"t (event index)\": -10, \"Shapley Value\": 0.45216354727745056}, {\"Coalition\": \"Sum of contribution of events > t\", \"t (event index)\": -11, \"Shapley Value\": 0.22043807804584503}, {\"Coalition\": \"Sum of contribution of events \\u2264 t\", \"t (event index)\": -11, \"Shapley Value\": 0.3990412503480911}, {\"Coalition\": \"Sum of contribution of events > t\", \"t (event index)\": -12, \"Shapley Value\": 0.22912214696407318}, {\"Coalition\": \"Sum of contribution of events \\u2264 t\", \"t (event index)\": -12, \"Shapley Value\": 0.390357181429863}, {\"Coalition\": \"Sum of contribution of events > t\", \"t (event index)\": -13, \"Shapley Value\": 0.2610483467578888}, {\"Coalition\": \"Sum of contribution of events \\u2264 t\", \"t (event index)\": -13, \"Shapley Value\": 0.35843098163604736}, {\"Coalition\": \"Sum of contribution of events > t\", \"t (event index)\": -14, \"Shapley Value\": 0.2950431555509567}, {\"Coalition\": \"Sum of contribution of events \\u2264 t\", \"t (event index)\": -14, \"Shapley Value\": 0.32443617284297943}, {\"Coalition\": \"Sum of contribution of events > t\", \"t (event index)\": -15, \"Shapley Value\": 0.33177052438259125}, {\"Coalition\": \"Sum of contribution of events \\u2264 t\", \"t (event index)\": -15, \"Shapley Value\": 0.2877088040113449}, {\"Coalition\": \"Sum of contribution of events > t\", \"t (event index)\": -16, \"Shapley Value\": 0.37277138233184814}, {\"Coalition\": \"Sum of contribution of events \\u2264 t\", \"t (event index)\": -16, \"Shapley Value\": 0.246707946062088}, {\"Coalition\": \"Sum of contribution of events > t\", \"t (event index)\": -17, \"Shapley Value\": 0.39294035732746124}, {\"Coalition\": \"Sum of contribution of events \\u2264 t\", \"t (event index)\": -17, \"Shapley Value\": 0.22653897106647491}, {\"Coalition\": \"Sum of contribution of events > t\", \"t (event index)\": -18, \"Shapley Value\": 0.4127757102251053}, {\"Coalition\": \"Sum of contribution of events \\u2264 t\", \"t (event index)\": -18, \"Shapley Value\": 0.20670361816883087}, {\"Coalition\": \"Sum of contribution of events > t\", \"t (event index)\": -19, \"Shapley Value\": 0.4498424082994461}, {\"Coalition\": \"Sum of contribution of events \\u2264 t\", \"t (event index)\": -19, \"Shapley Value\": 0.16963692009449005}, {\"Coalition\": \"Sum of contribution of events > t\", \"t (event index)\": -20, \"Shapley Value\": 0.5041496455669403}, {\"Coalition\": \"Sum of contribution of events \\u2264 t\", \"t (event index)\": -20, \"Shapley Value\": 0.11532968282699585}, {\"Coalition\": \"Sum of contribution of events > t\", \"t (event index)\": -21, \"Shapley Value\": 0.5265791565179825}, {\"Coalition\": \"Sum of contribution of events \\u2264 t\", \"t (event index)\": -21, \"Shapley Value\": 0.09290017187595367}, {\"Coalition\": \"Sum of contribution of events > t\", \"t (event index)\": -22, \"Shapley Value\": 0.5454282760620117}, {\"Coalition\": \"Sum of contribution of events \\u2264 t\", \"t (event index)\": -22, \"Shapley Value\": 0.07405105233192444}, {\"Coalition\": \"Sum of contribution of events > t\", \"t (event index)\": -23, \"Shapley Value\": 0.5582666546106339}, {\"Coalition\": \"Sum of contribution of events \\u2264 t\", \"t (event index)\": -23, \"Shapley Value\": 0.06121267378330231}, {\"Coalition\": \"Sum of contribution of events > t\", \"t (event index)\": -24, \"Shapley Value\": 0.5612784028053284}, {\"Coalition\": \"Sum of contribution of events \\u2264 t\", \"t (event index)\": -24, \"Shapley Value\": 0.05820092558860779}, {\"Coalition\": \"Sum of contribution of events > t\", \"t (event index)\": -25, \"Shapley Value\": 0.5742456763982773}, {\"Coalition\": \"Sum of contribution of events \\u2264 t\", \"t (event index)\": -25, \"Shapley Value\": 0.045233651995658875}, {\"Coalition\": \"Sum of contribution of events > t\", \"t (event index)\": -26, \"Shapley Value\": 0.5967267751693726}, {\"Coalition\": \"Sum of contribution of events \\u2264 t\", \"t (event index)\": -26, \"Shapley Value\": 0.0227525532245636}, {\"Coalition\": \"Sum of contribution of events > t\", \"t (event index)\": -27, \"Shapley Value\": 0.6034831255674362}, {\"Coalition\": \"Sum of contribution of events \\u2264 t\", \"t (event index)\": -27, \"Shapley Value\": 0.01599620282649994}, {\"Coalition\": \"Sum of contribution of events > t\", \"t (event index)\": -28, \"Shapley Value\": 0.6101972013711929}, {\"Coalition\": \"Sum of contribution of events \\u2264 t\", \"t (event index)\": -28, \"Shapley Value\": 0.009282127022743225}, {\"Coalition\": \"Sum of contribution of events > t\", \"t (event index)\": -29, \"Shapley Value\": 0.6130483150482178}, {\"Coalition\": \"Sum of contribution of events \\u2264 t\", \"t (event index)\": -29, \"Shapley Value\": 0.006431013345718384}, {\"Coalition\": \"Sum of contribution of events > t\", \"t (event index)\": -30, \"Shapley Value\": 0.6131569445133209}, {\"Coalition\": \"Sum of contribution of events \\u2264 t\", \"t (event index)\": -30, \"Shapley Value\": 0.006322383880615234}, {\"Coalition\": \"Sum of contribution of events > t\", \"t (event index)\": -31, \"Shapley Value\": 0.6150007247924805}, {\"Coalition\": \"Sum of contribution of events \\u2264 t\", \"t (event index)\": -31, \"Shapley Value\": 0.0044786036014556885}, {\"Coalition\": \"Sum of contribution of events > t\", \"t (event index)\": -32, \"Shapley Value\": 0.6171141564846039}, {\"Coalition\": \"Sum of contribution of events \\u2264 t\", \"t (event index)\": -32, \"Shapley Value\": 0.0023651719093322754}, {\"Coalition\": \"Sum of contribution of events > t\", \"t (event index)\": -33, \"Shapley Value\": 0.6183836758136749}, {\"Coalition\": \"Sum of contribution of events \\u2264 t\", \"t (event index)\": -33, \"Shapley Value\": 0.0010956525802612305}, {\"Coalition\": \"Sum of contribution of events > t\", \"t (event index)\": -34, \"Shapley Value\": 0.6194793283939362}, {\"Coalition\": \"Sum of contribution of events \\u2264 t\", \"t (event index)\": -34, \"Shapley Value\": 0.0}, {\"Coalition\": \"Sum of contribution of events > t\", \"t (event index)\": -35, \"Shapley Value\": 0.6194793283939362}, {\"Coalition\": \"Sum of contribution of events \\u2264 t\", \"t (event index)\": -35, \"Shapley Value\": 0.0}, {\"Coalition\": \"Sum of contribution of events > t\", \"t (event index)\": -36, \"Shapley Value\": 0.6194793283939362}, {\"Coalition\": \"Sum of contribution of events \\u2264 t\", \"t (event index)\": -36, \"Shapley Value\": 0.0}, {\"Coalition\": \"Sum of contribution of events > t\", \"t (event index)\": -37, \"Shapley Value\": 0.6194793283939362}, {\"Coalition\": \"Sum of contribution of events \\u2264 t\", \"t (event index)\": -37, \"Shapley Value\": 0.0}, {\"Coalition\": \"Sum of contribution of events > t\", \"t (event index)\": -38, \"Shapley Value\": 0.6194793283939362}, {\"Coalition\": \"Sum of contribution of events \\u2264 t\", \"t (event index)\": -38, \"Shapley Value\": 0.0}, {\"Coalition\": \"Sum of contribution of events > t\", \"t (event index)\": -39, \"Shapley Value\": 0.6194793283939362}, {\"Coalition\": \"Sum of contribution of events \\u2264 t\", \"t (event index)\": -39, \"Shapley Value\": 0.0}, {\"Coalition\": \"Sum of contribution of events > t\", \"t (event index)\": -40, \"Shapley Value\": 0.6194793283939362}, {\"Coalition\": \"Sum of contribution of events \\u2264 t\", \"t (event index)\": -40, \"Shapley Value\": 0.0}], \"data-1499224933b3632ccdccd3013b4fd59e\": [{\"x\": -26}], \"data-07bf86fc7fee352c126063eb77ebd296\": [{\"x\": -28}], \"data-95bbcfbd4808bf85eb2c5f1b6ee09cc2\": [{\"Shapley Value\": 0.035966468811507724, \"Feature\": \"Event -1\", \"row\": 1, \"column\": 1, \"rounded\": 0.036, \"rounded_str\": \"0.036\"}, {\"Shapley Value\": 0.03539696224088487, \"Feature\": \"Event -2\", \"row\": 2, \"column\": 1, \"rounded\": 0.035, \"rounded_str\": \"0.035\"}, {\"Shapley Value\": 0.005984048852222451, \"Feature\": \"Event -3\", \"row\": 3, \"column\": 1, \"rounded\": 0.006, \"rounded_str\": \"0.006\"}, {\"Shapley Value\": 0.011581698949791136, \"Feature\": \"Event -4\", \"row\": 4, \"column\": 1, \"rounded\": 0.012, \"rounded_str\": \"0.012\"}, {\"Shapley Value\": 0.027566984230672553, \"Feature\": \"Event -5\", \"row\": 5, \"column\": 1, \"rounded\": 0.028, \"rounded_str\": \"0.028\"}, {\"Shapley Value\": 0.009164462615656288, \"Feature\": \"Event -6\", \"row\": 6, \"column\": 1, \"rounded\": 0.009, \"rounded_str\": \"0.009\"}, {\"Shapley Value\": 0.02697144797575307, \"Feature\": \"Event -7\", \"row\": 7, \"column\": 1, \"rounded\": 0.027, \"rounded_str\": \"0.027\"}, {\"Shapley Value\": 0.030500842685452223, \"Feature\": \"Event -8\", \"row\": 8, \"column\": 1, \"rounded\": 0.031, \"rounded_str\": \"0.031\"}, {\"Shapley Value\": 0.009971927441146722, \"Feature\": \"Event -9\", \"row\": 9, \"column\": 1, \"rounded\": 0.01, \"rounded_str\": \"0.010\"}, {\"Shapley Value\": 0.01324876351197099, \"Feature\": \"Event -10\", \"row\": 10, \"column\": 1, \"rounded\": 0.013, \"rounded_str\": \"0.013\"}, {\"Shapley Value\": 0.024834949337044554, \"Feature\": \"Event -11\", \"row\": 11, \"column\": 1, \"rounded\": 0.025, \"rounded_str\": \"0.025\"}, {\"Shapley Value\": 0.005249192775462708, \"Feature\": \"Event -12\", \"row\": 12, \"column\": 1, \"rounded\": 0.005, \"rounded_str\": \"0.005\"}, {\"Shapley Value\": 0.01416055461764526, \"Feature\": \"Event -13\", \"row\": 13, \"column\": 1, \"rounded\": 0.014, \"rounded_str\": \"0.014\"}, {\"Shapley Value\": 0.014060469417813859, \"Feature\": \"Event -14\", \"row\": 14, \"column\": 1, \"rounded\": 0.014, \"rounded_str\": \"0.014\"}, {\"Shapley Value\": 0.01259662929946287, \"Feature\": \"Event -15\", \"row\": 15, \"column\": 1, \"rounded\": 0.013, \"rounded_str\": \"0.013\"}, {\"Shapley Value\": 0.0133991495157115, \"Feature\": \"Event -16\", \"row\": 16, \"column\": 1, \"rounded\": 0.013, \"rounded_str\": \"0.013\"}, {\"Shapley Value\": 0.007364066070696146, \"Feature\": \"Event -17\", \"row\": 17, \"column\": 1, \"rounded\": 0.007, \"rounded_str\": \"0.007\"}, {\"Shapley Value\": 0.006782953587203183, \"Feature\": \"Event -18\", \"row\": 18, \"column\": 1, \"rounded\": 0.007, \"rounded_str\": \"0.007\"}, {\"Shapley Value\": 0.011859001098813632, \"Feature\": \"Event -19\", \"row\": 19, \"column\": 1, \"rounded\": 0.012, \"rounded_str\": \"0.012\"}, {\"Shapley Value\": 0.013631475521183462, \"Feature\": \"Event -20\", \"row\": 20, \"column\": 1, \"rounded\": 0.014, \"rounded_str\": \"0.014\"}, {\"Shapley Value\": 0.008274331063718388, \"Feature\": \"Event -21\", \"row\": 21, \"column\": 1, \"rounded\": 0.008, \"rounded_str\": \"0.008\"}, {\"Shapley Value\": 0.0073448869026615515, \"Feature\": \"Event -22\", \"row\": 22, \"column\": 1, \"rounded\": 0.007, \"rounded_str\": \"0.007\"}, {\"Shapley Value\": 0.0064241860257082395, \"Feature\": \"Event -23\", \"row\": 23, \"column\": 1, \"rounded\": 0.006, \"rounded_str\": \"0.006\"}, {\"Shapley Value\": 0.0028746560976755653, \"Feature\": \"Event -24\", \"row\": 24, \"column\": 1, \"rounded\": 0.003, \"rounded_str\": \"0.003\"}, {\"Shapley Value\": 0.005171471351952839, \"Feature\": \"Event -25\", \"row\": 25, \"column\": 1, \"rounded\": 0.005, \"rounded_str\": \"0.005\"}, {\"Shapley Value\": 0.008257095604292969, \"Feature\": \"Event -26\", \"row\": 26, \"column\": 1, \"rounded\": 0.008, \"rounded_str\": \"0.008\"}, {\"Shapley Value\": 0.2508406527918313, \"Feature\": \"Pruned Events\", \"row\": 27, \"column\": 1, \"rounded\": 0.251, \"rounded_str\": \"0.251\"}], \"data-a7fffab3d9c8e6d7e756a5e3c3816c48\": [{\"Random seed\": 42, \"NSamples\": 32000, \"Feature\": \"Mean Chest <-> Right Ankle\", \"Shapley Value\": 0.040312514844394826, \"sort_col\": 0.040312514844394826}, {\"Random seed\": 42, \"NSamples\": 32000, \"Feature\": \"STD Chest <-> Right Ankle\", \"Shapley Value\": 0.041491917911030185, \"sort_col\": 0.041491917911030185}, {\"Random seed\": 42, \"NSamples\": 32000, \"Feature\": \"Mean Chest <-> Left Ankle\", \"Shapley Value\": 0.03753452414558062, \"sort_col\": 0.03753452414558062}, {\"Random seed\": 42, \"NSamples\": 32000, \"Feature\": \"STD Chest <-> Left Ankle\", \"Shapley Value\": 0.1717873758503366, \"sort_col\": 0.1717873758503366}, {\"Random seed\": 42, \"NSamples\": 32000, \"Feature\": \"Mean Right Ankle <-> Left Ankle\", \"Shapley Value\": 0.03211262240296309, \"sort_col\": 0.03211262240296309}, {\"Random seed\": 42, \"NSamples\": 32000, \"Feature\": \"STD Right Ankle <-> Left Ankle\", \"Shapley Value\": 0.10219532811925519, \"sort_col\": 0.10219532811925519}, {\"Random seed\": 42, \"NSamples\": 32000, \"Feature\": \"Pruned Events\", \"Shapley Value\": 0.19404504512037563, \"sort_col\": 0.19404504512037563}], \"data-9c00aa9dc2b1c1a0b4bf9b34ead12925\": [{\"x\": 0}], \"data-59855353c74b715c5de4b342f42b3abd\": [{\"Event\": [\"Pruned\", \"Events\"], \"Feature\": \"Other features\", \"rounded\": 0.202, \"rounded_str\": \"0.202\"}], \"data-a00e37a1e70b3b84f6e73b6141697660\": [{\"Event\": \"Other Events\", \"Feature\": \"STD Chest <-> Left Ankle\", \"Shapley Value\": 0.13007785411817693, \"rounded\": 0.13, \"rounded_str\": \"0.130\"}, {\"Event\": \"Other Events\", \"Feature\": \"Other Features\", \"Shapley Value\": 0.1215022493567729, \"rounded\": 0.122, \"rounded_str\": \"0.122\"}, {\"Event\": \"Other Events\", \"Feature\": \"STD Right Ankle <-> Left Ankle\", \"Shapley Value\": 0.09776782892526154, \"rounded\": 0.098, \"rounded_str\": \"0.098\"}, {\"Event\": \"Event -2\", \"Feature\": \"STD Chest <-> Left Ankle\", \"Shapley Value\": 0.019764466394507713, \"rounded\": 0.02, \"rounded_str\": \"0.020\"}, {\"Event\": \"Event -1\", \"Feature\": \"STD Chest <-> Left Ankle\", \"Shapley Value\": 0.017914527311684636, \"rounded\": 0.018, \"rounded_str\": \"0.018\"}, {\"Event\": \"Event -2\", \"Feature\": \"Other Features\", \"Shapley Value\": 0.012545009974449434, \"rounded\": 0.013, \"rounded_str\": \"0.013\"}, {\"Event\": \"Event -1\", \"Feature\": \"STD Right Ankle <-> Left Ankle\", \"Shapley Value\": 0.009018403303528655, \"rounded\": 0.009, \"rounded_str\": \"0.009\"}, {\"Event\": \"Event -1\", \"Feature\": \"Other Features\", \"Shapley Value\": 0.007684397011522182, \"rounded\": 0.008, \"rounded_str\": \"0.008\"}, {\"Event\": \"Event -2\", \"Feature\": \"STD Right Ankle <-> Left Ankle\", \"Shapley Value\": 0.0008324327449948932, \"rounded\": 0.001, \"rounded_str\": \"0.001\"}]}}, {\"mode\": \"vega-lite\"});\n",
       "</script>"
      ],
      "text/plain": [
       "alt.HConcatChart(...)"
      ]
     },
     "execution_count": 19,
     "metadata": {},
     "output_type": "execute_result"
    }
   ],
   "source": [
    "from timeshap.explainer import local_report\n",
    "pruning_dict = {'tol': 0.025}\n",
    "event_dict = {'rs': 42, 'nsamples': 32000}\n",
    "feature_dict = {'rs': 42, 'nsamples': 32000, 'feature_names': model_features, 'plot_features': plot_feats}\n",
    "cell_dict = {'rs': 42, 'nsamples': 32000, 'top_x_events': 2, 'top_x_feats': 2}\n",
    "local_report(f, pos_x_data, pruning_dict, event_dict, feature_dict, cell_dict=cell_dict, entity_uuid=positive_sequence_id, entity_col='all_id', baseline=average_event)"
   ]
  },
  {
   "cell_type": "markdown",
   "id": "f773fa6f",
   "metadata": {},
   "source": [
    "## 3.2 Global Explanations"
   ]
  },
  {
   "cell_type": "code",
   "execution_count": 20,
   "id": "f790f55b",
   "metadata": {},
   "outputs": [
    {
     "name": "stdout",
     "output_type": "stream",
     "text": [
      "Calculating pruning algorithms\n",
      "Calculating pruning indexes\n",
      "Calculating event data\n",
      "No path to event data provided. Calculating data\n",
      "No path to event data provided. Calculating data\n",
      "No path to event data provided. Calculating data\n",
      "No path to event data provided. Calculating data\n",
      "No path to event data provided. Calculating data\n",
      "No path to event data provided. Calculating data\n",
      "No path to event data provided. Calculating data\n",
      "No path to event data provided. Calculating data\n",
      "No path to event data provided. Calculating data\n",
      "No path to event data provided. Calculating data\n",
      "No path to event data provided. Calculating data\n",
      "No path to event data provided. Calculating data\n",
      "Calculating global event plot\n",
      "Calculating feat data\n",
      "No path to feature data provided. Calculating data\n",
      "No path to feature data provided. Calculating data\n",
      "No path to feature data provided. Calculating data\n",
      "No path to feature data provided. Calculating data\n",
      "No path to feature data provided. Calculating data\n",
      "No path to feature data provided. Calculating data\n",
      "No path to feature data provided. Calculating data\n",
      "No path to feature data provided. Calculating data\n",
      "No path to feature data provided. Calculating data\n",
      "No path to feature data provided. Calculating data\n",
      "No path to feature data provided. Calculating data\n",
      "No path to feature data provided. Calculating data\n",
      "Calculating global feat plot\n"
     ]
    },
    {
     "data": {
      "text/html": [
       "<div>\n",
       "<style scoped>\n",
       "    .dataframe tbody tr th:only-of-type {\n",
       "        vertical-align: middle;\n",
       "    }\n",
       "\n",
       "    .dataframe tbody tr th {\n",
       "        vertical-align: top;\n",
       "    }\n",
       "\n",
       "    .dataframe thead th {\n",
       "        text-align: right;\n",
       "    }\n",
       "</style>\n",
       "<table border=\"1\" class=\"dataframe\">\n",
       "  <thead>\n",
       "    <tr style=\"text-align: right;\">\n",
       "      <th></th>\n",
       "      <th>Tolerance</th>\n",
       "      <th>Mean</th>\n",
       "      <th>Std</th>\n",
       "    </tr>\n",
       "  </thead>\n",
       "  <tbody>\n",
       "    <tr>\n",
       "      <th>0</th>\n",
       "      <td>0.05</td>\n",
       "      <td>20.50</td>\n",
       "      <td>3.109126</td>\n",
       "    </tr>\n",
       "    <tr>\n",
       "      <th>1</th>\n",
       "      <td>0.075</td>\n",
       "      <td>18.75</td>\n",
       "      <td>2.217356</td>\n",
       "    </tr>\n",
       "    <tr>\n",
       "      <th>2</th>\n",
       "      <td>0.076</td>\n",
       "      <td>18.75</td>\n",
       "      <td>2.217356</td>\n",
       "    </tr>\n",
       "    <tr>\n",
       "      <th>3</th>\n",
       "      <td>No Pruning</td>\n",
       "      <td>480.00</td>\n",
       "      <td>0.000000</td>\n",
       "    </tr>\n",
       "  </tbody>\n",
       "</table>\n",
       "</div>"
      ],
      "text/plain": [
       "    Tolerance    Mean       Std\n",
       "0        0.05   20.50  3.109126\n",
       "1       0.075   18.75  2.217356\n",
       "2       0.076   18.75  2.217356\n",
       "3  No Pruning  480.00  0.000000"
      ]
     },
     "execution_count": 20,
     "metadata": {},
     "output_type": "execute_result"
    }
   ],
   "source": [
    "from timeshap import global_report\n",
    "pos_dataset = d_test_normalized[d_test_normalized['label'] == 1]\n",
    "pruning_dict = {'tol': [0.05, 0.075, 0.076], 'path': 'outputs/prun_all_tf.csv'}\n",
    "event_dict = {'path': 'outputs/event_all_tf.csv', 'rs': 42, 'nsamples': 32000}\n",
    "feature_dict = {'path': 'outputs/feature_all_tf.csv', 'rs': 42, 'nsamples': 32000, 'feature_names': model_features, 'plot_features': plot_feats,}\n",
    "prun_stats, global_plot = global_report(f, pos_dataset, pruning_dict, event_dict, feature_dict, sequence_id_feat, time_feat, model_features, baseline=average_event)\n",
    "prun_stats"
   ]
  },
  {
   "cell_type": "code",
   "execution_count": 21,
   "id": "802a8926",
   "metadata": {},
   "outputs": [
    {
     "data": {
      "text/html": [
       "\n",
       "<div id=\"altair-viz-cc3674ab89744f18970919e34298a440\"></div>\n",
       "<script type=\"text/javascript\">\n",
       "  (function(spec, embedOpt){\n",
       "    let outputDiv = document.currentScript.previousElementSibling;\n",
       "    if (outputDiv.id !== \"altair-viz-cc3674ab89744f18970919e34298a440\") {\n",
       "      outputDiv = document.getElementById(\"altair-viz-cc3674ab89744f18970919e34298a440\");\n",
       "    }\n",
       "    const paths = {\n",
       "      \"vega\": \"https://cdn.jsdelivr.net/npm//vega@5?noext\",\n",
       "      \"vega-lib\": \"https://cdn.jsdelivr.net/npm//vega-lib?noext\",\n",
       "      \"vega-lite\": \"https://cdn.jsdelivr.net/npm//vega-lite@4.8.1?noext\",\n",
       "      \"vega-embed\": \"https://cdn.jsdelivr.net/npm//vega-embed@6?noext\",\n",
       "    };\n",
       "\n",
       "    function loadScript(lib) {\n",
       "      return new Promise(function(resolve, reject) {\n",
       "        var s = document.createElement('script');\n",
       "        s.src = paths[lib];\n",
       "        s.async = true;\n",
       "        s.onload = () => resolve(paths[lib]);\n",
       "        s.onerror = () => reject(`Error loading script: ${paths[lib]}`);\n",
       "        document.getElementsByTagName(\"head\")[0].appendChild(s);\n",
       "      });\n",
       "    }\n",
       "\n",
       "    function showError(err) {\n",
       "      outputDiv.innerHTML = `<div class=\"error\" style=\"color:red;\">${err}</div>`;\n",
       "      throw err;\n",
       "    }\n",
       "\n",
       "    function displayChart(vegaEmbed) {\n",
       "      vegaEmbed(outputDiv, spec, embedOpt)\n",
       "        .catch(err => showError(`Javascript Error: ${err.message}<br>This usually means there's a typo in your chart specification. See the javascript console for the full traceback.`));\n",
       "    }\n",
       "\n",
       "    if(typeof define === \"function\" && define.amd) {\n",
       "      requirejs.config({paths});\n",
       "      require([\"vega-embed\"], displayChart, err => showError(`Error loading script: ${err.message}`));\n",
       "    } else if (typeof vegaEmbed === \"function\") {\n",
       "      displayChart(vegaEmbed);\n",
       "    } else {\n",
       "      loadScript(\"vega\")\n",
       "        .then(() => loadScript(\"vega-lite\"))\n",
       "        .then(() => loadScript(\"vega-embed\"))\n",
       "        .catch(showError)\n",
       "        .then(() => displayChart(vegaEmbed));\n",
       "    }\n",
       "  })({\"config\": {\"axis\": {\"domain\": true, \"domainColor\": \"#798184\", \"grid\": false, \"gridColor\": \"#798184\", \"gridOpacity\": 0.5, \"gridDash\": [3, 5], \"gridWidth\": 0.8, \"gridCap\": \"round\", \"labelPadding\": 3, \"labelFont\": \"Roboto\", \"labelColor\": \"#798184\", \"tickSize\": 5, \"tickColor\": \"#798184\", \"tickOpacity\": 0.5, \"titleColor\": \"#384140\", \"titleFont\": \"Roboto\", \"titleFontSize\": 12}, \"axisBand\": {\"domain\": true, \"ticks\": false, \"labelPadding\": 7}, \"axisY\": {\"domain\": false, \"titleAlign\": \"left\", \"titleAngle\": 0, \"titleX\": -20, \"titleY\": -10}, \"legend\": {\"labelColor\": \"#798184\", \"labelFontSize\": 12, \"symbolSize\": 40, \"titleColor\": \"#384140\", \"titleFontSize\": 12, \"titlePadding\": 10, \"titleFont\": \"Roboto\", \"labelFont\": \"Roboto\"}, \"line\": {\"stroke\": \"#618FE0\", \"strokeWidth\": 2}, \"rule\": {\"stroke\": \"#798184\"}, \"path\": {\"stroke\": \"#618FE0\", \"strokeWidth\": 0.5}, \"rect\": {\"fill\": \"#618FE0\"}, \"point\": {\"filled\": true, \"shape\": \"circle\"}, \"shape\": {\"stroke\": \"#618FE0\"}, \"bar\": {\"fill\": \"#618FE0\", \"stroke\": null}, \"text\": {\"font\": \"Roboto\", \"color\": \"#384140\", \"fontSize\": 12}, \"arc\": {\"stroke\": \"#fff\", \"strokeWidth\": 1}, \"range\": {\"category\": [\"#618FE0\", \"#50D0B0\", \"#E17560\", \"#E8B474\", \"#D889C4\", \"#34A3BC\", \"#A583A4\"], \"ramp\": [\"#001854\", \"#002f72\", \"#04478e\", \"#1e5fab\", \"#4477c5\", \"#6290e1\", \"#7ea9fd\", \"#9ec7ff\", \"#bde4ff\"], \"heatmap\": [\"#001854\", \"#002f72\", \"#04478e\", \"#1e5fab\", \"#4477c5\", \"#6290e1\", \"#7ea9fd\", \"#9ec7ff\", \"#bde4ff\"], \"diverging\": [\"#003b26\", \"#006b52\", \"#1aa082\", \"#55d5b5\", \"#f5f5f5\", \"#ffaa92\", \"#d16f5b\", \"#9e392c\", \"#650200\"]}, \"title\": {\"anchor\": \"start\", \"fontSize\": 20, \"color\": \"#384140\", \"fontWeight\": \"bold\", \"offset\": 20, \"font\": \"Roboto\", \"subtitleColor\": \"#384140\", \"subtitleFontSize\": 16}, \"header\": {\"labelFontSize\": 12, \"titleFontSize\": 16, \"labelColor\": \"#384140\", \"titleColor\": \"#384140\", \"titleFont\": \"Roboto\", \"labelFont\": \"Roboto\"}, \"group\": {\"fill\": \"white\"}, \"background\": \"white\", \"view\": {\"stroke\": \"transparent\", \"continuousHeight\": 300, \"continuousWidth\": 400}}, \"hconcat\": [{\"data\": {\"name\": \"data-25ce45d281afcf53e780f3605f2d18c2\"}, \"mark\": {\"type\": \"point\", \"stroke\": \"white\", \"strokeWidth\": 0.6}, \"encoding\": {\"color\": {\"type\": \"nominal\", \"field\": \"type\", \"legend\": {\"fillColor\": \"white\", \"orient\": \"top-left\", \"symbolSize\": 50, \"symbolStrokeWidth\": 0, \"title\": null}, \"scale\": {\"domain\": [\"Shapley Value\", \"Mean\"], \"range\": [\"#48caaa\", \"#d76d58\"]}}, \"opacity\": {\"condition\": {\"value\": 1.0, \"test\": \"(datum.type === 'Mean')\"}, \"value\": 0.2}, \"size\": {\"condition\": {\"value\": 70, \"test\": \"(datum.type === 'Mean')\"}, \"value\": 30}, \"x\": {\"type\": \"ordinal\", \"axis\": {\"labelAngle\": 0}, \"field\": \"t (event index)\"}, \"y\": {\"type\": \"quantitative\", \"axis\": {\"grid\": true, \"titleX\": -23}, \"field\": \"Shapley Value\", \"scale\": {\"domain\": [-0.3, 0.9]}, \"title\": \"Shapley Value\"}}, \"height\": 150, \"width\": 360}, {\"data\": {\"name\": \"data-2a6f7cbe33429f881ed3301e0d14a946\"}, \"mark\": {\"type\": \"point\", \"stroke\": \"white\", \"strokeWidth\": 0.6}, \"encoding\": {\"color\": {\"type\": \"nominal\", \"field\": \"type\", \"legend\": {\"fillColor\": \"white\", \"orient\": \"bottom-right\", \"symbolSize\": 50, \"symbolStrokeWidth\": 0, \"title\": null}, \"scale\": {\"domain\": [\"Shapley Value\", \"Mean\"], \"range\": [\"#618FE0\", \"#d76d58\"]}}, \"opacity\": {\"condition\": {\"value\": 1.0, \"test\": \"(datum.type === 'Mean')\"}, \"value\": 0.1}, \"size\": {\"condition\": {\"value\": 70, \"test\": \"(datum.type === 'Mean')\"}, \"value\": 30}, \"x\": {\"type\": \"quantitative\", \"axis\": {\"grid\": true, \"title\": \"Shapley Value\"}, \"field\": \"Shapley Value\", \"scale\": {\"domain\": [-0.2, 0.6]}}, \"y\": {\"type\": \"ordinal\", \"axis\": {\"labelFontSize\": 13, \"titleX\": -51}, \"field\": \"Feature\", \"sort\": [\"STD Chest <-> Left Ankle\", \"Pruned Events\", \"STD Right Ankle <-> Left Ankle\", \"Mean Chest <-> Right Ankle\", \"Mean Chest <-> Left Ankle\", \"Mean Right Ankle <-> Left Ankle\", \"STD Chest <-> Right Ankle\"]}}, \"height\": 280, \"width\": 288}], \"resolve\": {\"scale\": {\"color\": \"independent\"}}, \"$schema\": \"https://vega.github.io/schema/vega-lite/v4.8.1.json\", \"datasets\": {\"data-25ce45d281afcf53e780f3605f2d18c2\": [{\"Shapley Value\": 0.0350670514233637, \"t (event index)\": 0, \"type\": \"Shapley Value\"}, {\"Shapley Value\": 0.006899093281544, \"t (event index)\": -1, \"type\": \"Shapley Value\"}, {\"Shapley Value\": 0.0147908519434106, \"t (event index)\": -2, \"type\": \"Shapley Value\"}, {\"Shapley Value\": 0.0154191654641186, \"t (event index)\": -3, \"type\": \"Shapley Value\"}, {\"Shapley Value\": 0.0106697888284448, \"t (event index)\": -4, \"type\": \"Shapley Value\"}, {\"Shapley Value\": 0.018129890303731, \"t (event index)\": -5, \"type\": \"Shapley Value\"}, {\"Shapley Value\": 0.0223632347826717, \"t (event index)\": -6, \"type\": \"Shapley Value\"}, {\"Shapley Value\": 0.0012310258790537, \"t (event index)\": -7, \"type\": \"Shapley Value\"}, {\"Shapley Value\": 0.0081352924100478, \"t (event index)\": -8, \"type\": \"Shapley Value\"}, {\"Shapley Value\": 0.0126607384761482, \"t (event index)\": -9, \"type\": \"Shapley Value\"}, {\"Shapley Value\": 0.0169312827028651, \"t (event index)\": -10, \"type\": \"Shapley Value\"}, {\"Shapley Value\": 0.0105819578618661, \"t (event index)\": -11, \"type\": \"Shapley Value\"}, {\"Shapley Value\": 0.0181401321386266, \"t (event index)\": -12, \"type\": \"Shapley Value\"}, {\"Shapley Value\": 0.007248199031047, \"t (event index)\": -13, \"type\": \"Shapley Value\"}, {\"Shapley Value\": 0.0062307563610505, \"t (event index)\": -14, \"type\": \"Shapley Value\"}, {\"Shapley Value\": 0.0049931578291336, \"t (event index)\": -15, \"type\": \"Shapley Value\"}, {\"Shapley Value\": 0.0145954358208784, \"t (event index)\": -16, \"type\": \"Shapley Value\"}, {\"Shapley Value\": 0.0069711682415044, \"t (event index)\": -17, \"type\": \"Shapley Value\"}, {\"Shapley Value\": 0.003855936594362, \"t (event index)\": -18, \"type\": \"Shapley Value\"}, {\"Shapley Value\": 0.0117167240716133, \"t (event index)\": -19, \"type\": \"Shapley Value\"}, {\"Shapley Value\": 0.0032809651788277, \"t (event index)\": -20, \"type\": \"Shapley Value\"}, {\"Shapley Value\": 0.0325691202948617, \"t (event index)\": 0, \"type\": \"Shapley Value\"}, {\"Shapley Value\": 0.0202149562117929, \"t (event index)\": -1, \"type\": \"Shapley Value\"}, {\"Shapley Value\": 0.0177116238858533, \"t (event index)\": -2, \"type\": \"Shapley Value\"}, {\"Shapley Value\": 0.0215890890834217, \"t (event index)\": -3, \"type\": \"Shapley Value\"}, {\"Shapley Value\": 0.0210599100390339, \"t (event index)\": -4, \"type\": \"Shapley Value\"}, {\"Shapley Value\": 0.0288346010986778, \"t (event index)\": -5, \"type\": \"Shapley Value\"}, {\"Shapley Value\": 0.0250074904033484, \"t (event index)\": -6, \"type\": \"Shapley Value\"}, {\"Shapley Value\": 0.0046918301554999, \"t (event index)\": -7, \"type\": \"Shapley Value\"}, {\"Shapley Value\": 0.0152810596656059, \"t (event index)\": -8, \"type\": \"Shapley Value\"}, {\"Shapley Value\": 0.0162437439032147, \"t (event index)\": -9, \"type\": \"Shapley Value\"}, {\"Shapley Value\": 0.0196231100635244, \"t (event index)\": -10, \"type\": \"Shapley Value\"}, {\"Shapley Value\": 0.0119547084171774, \"t (event index)\": -11, \"type\": \"Shapley Value\"}, {\"Shapley Value\": 0.0181651067718183, \"t (event index)\": -12, \"type\": \"Shapley Value\"}, {\"Shapley Value\": 0.0068060193540864, \"t (event index)\": -13, \"type\": \"Shapley Value\"}, {\"Shapley Value\": 0.0075710263083865, \"t (event index)\": -14, \"type\": \"Shapley Value\"}, {\"Shapley Value\": 0.0064684517432336, \"t (event index)\": -15, \"type\": \"Shapley Value\"}, {\"Shapley Value\": 0.0125152579307079, \"t (event index)\": -16, \"type\": \"Shapley Value\"}, {\"Shapley Value\": 0.0080617162198606, \"t (event index)\": -17, \"type\": \"Shapley Value\"}, {\"Shapley Value\": 0.0327942546323284, \"t (event index)\": 0, \"type\": \"Shapley Value\"}, {\"Shapley Value\": 0.019953672180316, \"t (event index)\": -1, \"type\": \"Shapley Value\"}, {\"Shapley Value\": 0.0174419791090203, \"t (event index)\": -2, \"type\": \"Shapley Value\"}, {\"Shapley Value\": 0.0184169145247872, \"t (event index)\": -3, \"type\": \"Shapley Value\"}, {\"Shapley Value\": 0.0201767899209594, \"t (event index)\": -4, \"type\": \"Shapley Value\"}, {\"Shapley Value\": 0.0263897407374504, \"t (event index)\": -5, \"type\": \"Shapley Value\"}, {\"Shapley Value\": 0.026299975148819, \"t (event index)\": -6, \"type\": \"Shapley Value\"}, {\"Shapley Value\": 0.0057517945478994, \"t (event index)\": -7, \"type\": \"Shapley Value\"}, {\"Shapley Value\": 0.0150137891052725, \"t (event index)\": -8, \"type\": \"Shapley Value\"}, {\"Shapley Value\": 0.0160736686899696, \"t (event index)\": -9, \"type\": \"Shapley Value\"}, {\"Shapley Value\": 0.0174802565571776, \"t (event index)\": -10, \"type\": \"Shapley Value\"}, {\"Shapley Value\": 0.0105771895251967, \"t (event index)\": -11, \"type\": \"Shapley Value\"}, {\"Shapley Value\": 0.0182391553012477, \"t (event index)\": -12, \"type\": \"Shapley Value\"}, {\"Shapley Value\": 0.0099823436875549, \"t (event index)\": -13, \"type\": \"Shapley Value\"}, {\"Shapley Value\": 0.006427280214553, \"t (event index)\": -14, \"type\": \"Shapley Value\"}, {\"Shapley Value\": 0.0048840991487725, \"t (event index)\": -15, \"type\": \"Shapley Value\"}, {\"Shapley Value\": 0.0116715157974688, \"t (event index)\": -16, \"type\": \"Shapley Value\"}, {\"Shapley Value\": 0.0335961566646051, \"t (event index)\": 0, \"type\": \"Shapley Value\"}, {\"Shapley Value\": 0.0283910738296496, \"t (event index)\": -1, \"type\": \"Shapley Value\"}, {\"Shapley Value\": 0.0072176232932329, \"t (event index)\": -2, \"type\": \"Shapley Value\"}, {\"Shapley Value\": 0.0054884969977414, \"t (event index)\": -3, \"type\": \"Shapley Value\"}, {\"Shapley Value\": 0.0159426753016607, \"t (event index)\": -4, \"type\": \"Shapley Value\"}, {\"Shapley Value\": 0.0048876816193473, \"t (event index)\": -5, \"type\": \"Shapley Value\"}, {\"Shapley Value\": 0.0250791555042715, \"t (event index)\": -6, \"type\": \"Shapley Value\"}, {\"Shapley Value\": 0.0248336087673865, \"t (event index)\": -7, \"type\": \"Shapley Value\"}, {\"Shapley Value\": 0.0085754595415022, \"t (event index)\": -8, \"type\": \"Shapley Value\"}, {\"Shapley Value\": 0.010468188468353, \"t (event index)\": -9, \"type\": \"Shapley Value\"}, {\"Shapley Value\": 0.0179103662180442, \"t (event index)\": -10, \"type\": \"Shapley Value\"}, {\"Shapley Value\": 0.0048289655994785, \"t (event index)\": -11, \"type\": \"Shapley Value\"}, {\"Shapley Value\": 0.0157755879166729, \"t (event index)\": -12, \"type\": \"Shapley Value\"}, {\"Shapley Value\": 0.0084794333554646, \"t (event index)\": -13, \"type\": \"Shapley Value\"}, {\"Shapley Value\": 0.0083373359907078, \"t (event index)\": -14, \"type\": \"Shapley Value\"}, {\"Shapley Value\": 0.0148920353797908, \"t (event index)\": -15, \"type\": \"Shapley Value\"}, {\"Shapley Value\": 0.0026846849834158, \"t (event index)\": -16, \"type\": \"Shapley Value\"}, {\"Shapley Value\": 0.0096146046945527, \"t (event index)\": -17, \"type\": \"Shapley Value\"}, {\"Shapley Value\": 0.0093346619606995, \"t (event index)\": -18, \"type\": \"Shapley Value\"}, {\"Shapley Value\": 0.0120614240587559, \"t (event index)\": -19, \"type\": \"Shapley Value\"}, {\"Shapley Value\": 0.0050685796060896, \"t (event index)\": -20, \"type\": \"Shapley Value\"}, {\"Shapley Value\": 0.0338219583071419, \"t (event index)\": 0, \"type\": \"Shapley Value\"}, {\"Shapley Value\": 0.0357796474402307, \"t (event index)\": -1, \"type\": \"Shapley Value\"}, {\"Shapley Value\": 0.0073981441679118, \"t (event index)\": -2, \"type\": \"Shapley Value\"}, {\"Shapley Value\": 0.0095758374685355, \"t (event index)\": -3, \"type\": \"Shapley Value\"}, {\"Shapley Value\": 0.0254453557990217, \"t (event index)\": -4, \"type\": \"Shapley Value\"}, {\"Shapley Value\": 0.0092027067454212, \"t (event index)\": -5, \"type\": \"Shapley Value\"}, {\"Shapley Value\": 0.0275303840420076, \"t (event index)\": -6, \"type\": \"Shapley Value\"}, {\"Shapley Value\": 0.0307387730975499, \"t (event index)\": -7, \"type\": \"Shapley Value\"}, {\"Shapley Value\": 0.0112246518843486, \"t (event index)\": -8, \"type\": \"Shapley Value\"}, {\"Shapley Value\": 0.0118254852627981, \"t (event index)\": -9, \"type\": \"Shapley Value\"}, {\"Shapley Value\": 0.0216071211348586, \"t (event index)\": -10, \"type\": \"Shapley Value\"}, {\"Shapley Value\": 0.0059676037721007, \"t (event index)\": -11, \"type\": \"Shapley Value\"}, {\"Shapley Value\": 0.0155422625861557, \"t (event index)\": -12, \"type\": \"Shapley Value\"}, {\"Shapley Value\": 0.0125265541229469, \"t (event index)\": -13, \"type\": \"Shapley Value\"}, {\"Shapley Value\": 0.014462192980907, \"t (event index)\": -14, \"type\": \"Shapley Value\"}, {\"Shapley Value\": 0.0159369772263403, \"t (event index)\": -15, \"type\": \"Shapley Value\"}, {\"Shapley Value\": 0.0074030865696033, \"t (event index)\": -16, \"type\": \"Shapley Value\"}, {\"Shapley Value\": 0.0061328612512918, \"t (event index)\": -17, \"type\": \"Shapley Value\"}, {\"Shapley Value\": 0.0108419936877128, \"t (event index)\": -18, \"type\": \"Shapley Value\"}, {\"Shapley Value\": 0.0114421721972283, \"t (event index)\": -19, \"type\": \"Shapley Value\"}, {\"Shapley Value\": 0.0069871046600293, \"t (event index)\": -20, \"type\": \"Shapley Value\"}, {\"Shapley Value\": 0.0364757212581287, \"t (event index)\": 0, \"type\": \"Shapley Value\"}, {\"Shapley Value\": 0.0347495760677765, \"t (event index)\": -1, \"type\": \"Shapley Value\"}, {\"Shapley Value\": 0.0067869016268403, \"t (event index)\": -2, \"type\": \"Shapley Value\"}, {\"Shapley Value\": 0.010496869778574, \"t (event index)\": -3, \"type\": \"Shapley Value\"}, {\"Shapley Value\": 0.0266015600337959, \"t (event index)\": -4, \"type\": \"Shapley Value\"}, {\"Shapley Value\": 0.0098013635937022, \"t (event index)\": -5, \"type\": \"Shapley Value\"}, {\"Shapley Value\": 0.0247258117392979, \"t (event index)\": -6, \"type\": \"Shapley Value\"}, {\"Shapley Value\": 0.029145120664335, \"t (event index)\": -7, \"type\": \"Shapley Value\"}, {\"Shapley Value\": 0.0120551069790786, \"t (event index)\": -8, \"type\": \"Shapley Value\"}, {\"Shapley Value\": 0.0100966545389898, \"t (event index)\": -9, \"type\": \"Shapley Value\"}, {\"Shapley Value\": 0.0206117769942147, \"t (event index)\": -10, \"type\": \"Shapley Value\"}, {\"Shapley Value\": 0.005417407194806, \"t (event index)\": -11, \"type\": \"Shapley Value\"}, {\"Shapley Value\": 0.0130263262735694, \"t (event index)\": -12, \"type\": \"Shapley Value\"}, {\"Shapley Value\": 0.0121606244478028, \"t (event index)\": -13, \"type\": \"Shapley Value\"}, {\"Shapley Value\": 0.0121568789399673, \"t (event index)\": -14, \"type\": \"Shapley Value\"}, {\"Shapley Value\": 0.0128867892584843, \"t (event index)\": -15, \"type\": \"Shapley Value\"}, {\"Shapley Value\": 0.006043721447313, \"t (event index)\": -16, \"type\": \"Shapley Value\"}, {\"Shapley Value\": 0.0060220126792071, \"t (event index)\": -17, \"type\": \"Shapley Value\"}, {\"Shapley Value\": 0.0095551778002961, \"t (event index)\": -18, \"type\": \"Shapley Value\"}, {\"Shapley Value\": 0.0105644798276655, \"t (event index)\": -19, \"type\": \"Shapley Value\"}, {\"Shapley Value\": 0.0067698965858123, \"t (event index)\": -20, \"type\": \"Shapley Value\"}, {\"Shapley Value\": 0.012321472868649, \"t (event index)\": 0, \"type\": \"Shapley Value\"}, {\"Shapley Value\": 0.0058331114779296, \"t (event index)\": -1, \"type\": \"Shapley Value\"}, {\"Shapley Value\": 0.0254196672677461, \"t (event index)\": -2, \"type\": \"Shapley Value\"}, {\"Shapley Value\": 0.0219380872504902, \"t (event index)\": -3, \"type\": \"Shapley Value\"}, {\"Shapley Value\": 0.0225122775365547, \"t (event index)\": -4, \"type\": \"Shapley Value\"}, {\"Shapley Value\": 0.0047080164116802, \"t (event index)\": -5, \"type\": \"Shapley Value\"}, {\"Shapley Value\": 0.0078118640170595, \"t (event index)\": -6, \"type\": \"Shapley Value\"}, {\"Shapley Value\": 0.0147881258170404, \"t (event index)\": -7, \"type\": \"Shapley Value\"}, {\"Shapley Value\": 0.0101496456205431, \"t (event index)\": -8, \"type\": \"Shapley Value\"}, {\"Shapley Value\": 0.0049410027665747, \"t (event index)\": -9, \"type\": \"Shapley Value\"}, {\"Shapley Value\": 0.0047626351749612, \"t (event index)\": -10, \"type\": \"Shapley Value\"}, {\"Shapley Value\": 0.0015701725793013, \"t (event index)\": -11, \"type\": \"Shapley Value\"}, {\"Shapley Value\": 0.0191825160984351, \"t (event index)\": -12, \"type\": \"Shapley Value\"}, {\"Shapley Value\": 0.0096369931463753, \"t (event index)\": -13, \"type\": \"Shapley Value\"}, {\"Shapley Value\": 0.0133978231667147, \"t (event index)\": -14, \"type\": \"Shapley Value\"}, {\"Shapley Value\": 0.0046983443872972, \"t (event index)\": -15, \"type\": \"Shapley Value\"}, {\"Shapley Value\": 0.0101419797329191, \"t (event index)\": -16, \"type\": \"Shapley Value\"}, {\"Shapley Value\": 0.0141027829265302, \"t (event index)\": -17, \"type\": \"Shapley Value\"}, {\"Shapley Value\": 0.0032173246376263, \"t (event index)\": -18, \"type\": \"Shapley Value\"}, {\"Shapley Value\": 0.0133662108184419, \"t (event index)\": -19, \"type\": \"Shapley Value\"}, {\"Shapley Value\": 0.0, \"t (event index)\": -20, \"type\": \"Shapley Value\"}, {\"Shapley Value\": 0.0109445217242087, \"t (event index)\": 0, \"type\": \"Shapley Value\"}, {\"Shapley Value\": 0.0108564668249656, \"t (event index)\": -1, \"type\": \"Shapley Value\"}, {\"Shapley Value\": 0.029018728458295, \"t (event index)\": -2, \"type\": \"Shapley Value\"}, {\"Shapley Value\": 0.0272312963448013, \"t (event index)\": -3, \"type\": \"Shapley Value\"}, {\"Shapley Value\": 0.0308963666004184, \"t (event index)\": -4, \"type\": \"Shapley Value\"}, {\"Shapley Value\": 0.0083678649603762, \"t (event index)\": -5, \"type\": \"Shapley Value\"}, {\"Shapley Value\": 0.0089795978389186, \"t (event index)\": -6, \"type\": \"Shapley Value\"}, {\"Shapley Value\": 0.0238466638839728, \"t (event index)\": -7, \"type\": \"Shapley Value\"}, {\"Shapley Value\": 0.0155396670396237, \"t (event index)\": -8, \"type\": \"Shapley Value\"}, {\"Shapley Value\": 0.0065661822583789, \"t (event index)\": -9, \"type\": \"Shapley Value\"}, {\"Shapley Value\": 0.0039510591804503, \"t (event index)\": -10, \"type\": \"Shapley Value\"}, {\"Shapley Value\": 0.0009975540305686, \"t (event index)\": -11, \"type\": \"Shapley Value\"}, {\"Shapley Value\": 0.0192324416861874, \"t (event index)\": -12, \"type\": \"Shapley Value\"}, {\"Shapley Value\": 0.0122064055363177, \"t (event index)\": -13, \"type\": \"Shapley Value\"}, {\"Shapley Value\": 0.0149918176128121, \"t (event index)\": -14, \"type\": \"Shapley Value\"}, {\"Shapley Value\": 0.0073735582482848, \"t (event index)\": -15, \"type\": \"Shapley Value\"}, {\"Shapley Value\": 0.0098457279028524, \"t (event index)\": -16, \"type\": \"Shapley Value\"}, {\"Shapley Value\": 0.0140833283113017, \"t (event index)\": -17, \"type\": \"Shapley Value\"}, {\"Shapley Value\": 0.0059558887897724, \"t (event index)\": -18, \"type\": \"Shapley Value\"}, {\"Shapley Value\": 0.0097129924721804, \"t (event index)\": -19, \"type\": \"Shapley Value\"}, {\"Shapley Value\": 0.0076742159749778, \"t (event index)\": 0, \"type\": \"Shapley Value\"}, {\"Shapley Value\": 0.0105578629559909, \"t (event index)\": -1, \"type\": \"Shapley Value\"}, {\"Shapley Value\": 0.0294169150398469, \"t (event index)\": -2, \"type\": \"Shapley Value\"}, {\"Shapley Value\": 0.0274731445673744, \"t (event index)\": -3, \"type\": \"Shapley Value\"}, {\"Shapley Value\": 0.0301458757941275, \"t (event index)\": -4, \"type\": \"Shapley Value\"}, {\"Shapley Value\": 0.0070057788865603, \"t (event index)\": -5, \"type\": \"Shapley Value\"}, {\"Shapley Value\": 0.0068452191384913, \"t (event index)\": -6, \"type\": \"Shapley Value\"}, {\"Shapley Value\": 0.0200578006301299, \"t (event index)\": -7, \"type\": \"Shapley Value\"}, {\"Shapley Value\": 0.0136794844244881, \"t (event index)\": -8, \"type\": \"Shapley Value\"}, {\"Shapley Value\": 0.0058162960250023, \"t (event index)\": -9, \"type\": \"Shapley Value\"}, {\"Shapley Value\": 0.0038298301983519, \"t (event index)\": -10, \"type\": \"Shapley Value\"}, {\"Shapley Value\": 0.0007067200630058, \"t (event index)\": -11, \"type\": \"Shapley Value\"}, {\"Shapley Value\": 0.0166608114782455, \"t (event index)\": -12, \"type\": \"Shapley Value\"}, {\"Shapley Value\": 0.0087154736908833, \"t (event index)\": -13, \"type\": \"Shapley Value\"}, {\"Shapley Value\": 0.0137932442021658, \"t (event index)\": -14, \"type\": \"Shapley Value\"}, {\"Shapley Value\": 0.006417184330262, \"t (event index)\": -15, \"type\": \"Shapley Value\"}, {\"Shapley Value\": 0.0084336897421286, \"t (event index)\": -16, \"type\": \"Shapley Value\"}, {\"Shapley Value\": 0.0106228091330059, \"t (event index)\": -17, \"type\": \"Shapley Value\"}, {\"Shapley Value\": 0.0229203225478392, \"t (event index)\": 0, \"type\": \"Shapley Value\"}, {\"Shapley Value\": 0.0062608985267382, \"t (event index)\": -1, \"type\": \"Shapley Value\"}, {\"Shapley Value\": 0.0130342492463263, \"t (event index)\": -2, \"type\": \"Shapley Value\"}, {\"Shapley Value\": 0.0035562680031311, \"t (event index)\": -3, \"type\": \"Shapley Value\"}, {\"Shapley Value\": 0.0050790997618651, \"t (event index)\": -4, \"type\": \"Shapley Value\"}, {\"Shapley Value\": 0.0076012538969185, \"t (event index)\": -5, \"type\": \"Shapley Value\"}, {\"Shapley Value\": 0.0149796622141466, \"t (event index)\": -6, \"type\": \"Shapley Value\"}, {\"Shapley Value\": 0.0130736213481232, \"t (event index)\": -7, \"type\": \"Shapley Value\"}, {\"Shapley Value\": 0.0105409371237978, \"t (event index)\": -8, \"type\": \"Shapley Value\"}, {\"Shapley Value\": 0.0086347208092445, \"t (event index)\": -9, \"type\": \"Shapley Value\"}, {\"Shapley Value\": 0.0033101941976972, \"t (event index)\": -10, \"type\": \"Shapley Value\"}, {\"Shapley Value\": 0.0077376283184833, \"t (event index)\": -11, \"type\": \"Shapley Value\"}, {\"Shapley Value\": 0.0102831316090053, \"t (event index)\": -12, \"type\": \"Shapley Value\"}, {\"Shapley Value\": 0.0072805203244656, \"t (event index)\": -13, \"type\": \"Shapley Value\"}, {\"Shapley Value\": 0.0064589419194154, \"t (event index)\": -14, \"type\": \"Shapley Value\"}, {\"Shapley Value\": 0.0110751211332246, \"t (event index)\": -15, \"type\": \"Shapley Value\"}, {\"Shapley Value\": 0.0030208771371483, \"t (event index)\": -16, \"type\": \"Shapley Value\"}, {\"Shapley Value\": 0.0065097611496993, \"t (event index)\": -17, \"type\": \"Shapley Value\"}, {\"Shapley Value\": 0.0064205950668508, \"t (event index)\": -18, \"type\": \"Shapley Value\"}, {\"Shapley Value\": 0.0109392743890997, \"t (event index)\": -19, \"type\": \"Shapley Value\"}, {\"Shapley Value\": 0.002801245171068, \"t (event index)\": -20, \"type\": \"Shapley Value\"}, {\"Shapley Value\": 0.0210029769414588, \"t (event index)\": 0, \"type\": \"Shapley Value\"}, {\"Shapley Value\": 0.0137699190088738, \"t (event index)\": -1, \"type\": \"Shapley Value\"}, {\"Shapley Value\": 0.0157472466628509, \"t (event index)\": -2, \"type\": \"Shapley Value\"}, {\"Shapley Value\": 0.0127841477917959, \"t (event index)\": -3, \"type\": \"Shapley Value\"}, {\"Shapley Value\": 0.0089342536227281, \"t (event index)\": -4, \"type\": \"Shapley Value\"}, {\"Shapley Value\": 0.0113601808688753, \"t (event index)\": -5, \"type\": \"Shapley Value\"}, {\"Shapley Value\": 0.0138710318543562, \"t (event index)\": -6, \"type\": \"Shapley Value\"}, {\"Shapley Value\": 0.0181224927231321, \"t (event index)\": -7, \"type\": \"Shapley Value\"}, {\"Shapley Value\": 0.0141864527800861, \"t (event index)\": -8, \"type\": \"Shapley Value\"}, {\"Shapley Value\": 0.010998170072432, \"t (event index)\": -9, \"type\": \"Shapley Value\"}, {\"Shapley Value\": 0.0012112015878622, \"t (event index)\": -10, \"type\": \"Shapley Value\"}, {\"Shapley Value\": 0.0078768515596362, \"t (event index)\": -11, \"type\": \"Shapley Value\"}, {\"Shapley Value\": 0.0085764152432284, \"t (event index)\": -12, \"type\": \"Shapley Value\"}, {\"Shapley Value\": 0.0108701797766574, \"t (event index)\": -13, \"type\": \"Shapley Value\"}, {\"Shapley Value\": 0.0068358101535932, \"t (event index)\": -14, \"type\": \"Shapley Value\"}, {\"Shapley Value\": 0.0079437773092062, \"t (event index)\": -15, \"type\": \"Shapley Value\"}, {\"Shapley Value\": 0.0044637451069602, \"t (event index)\": -16, \"type\": \"Shapley Value\"}, {\"Shapley Value\": 0.0016065059943127, \"t (event index)\": -17, \"type\": \"Shapley Value\"}, {\"Shapley Value\": 0.0039339656240563, \"t (event index)\": -18, \"type\": \"Shapley Value\"}, {\"Shapley Value\": 0.0199839681702234, \"t (event index)\": 0, \"type\": \"Shapley Value\"}, {\"Shapley Value\": 0.014760319432379, \"t (event index)\": -1, \"type\": \"Shapley Value\"}, {\"Shapley Value\": 0.0163543048015012, \"t (event index)\": -2, \"type\": \"Shapley Value\"}, {\"Shapley Value\": 0.0138775081485669, \"t (event index)\": -3, \"type\": \"Shapley Value\"}, {\"Shapley Value\": 0.0096936508908556, \"t (event index)\": -4, \"type\": \"Shapley Value\"}, {\"Shapley Value\": 0.0095819603870513, \"t (event index)\": -5, \"type\": \"Shapley Value\"}, {\"Shapley Value\": 0.0130549243976267, \"t (event index)\": -6, \"type\": \"Shapley Value\"}, {\"Shapley Value\": 0.0169813020788384, \"t (event index)\": -7, \"type\": \"Shapley Value\"}, {\"Shapley Value\": 0.0125506963773562, \"t (event index)\": -8, \"type\": \"Shapley Value\"}, {\"Shapley Value\": 0.0097345561192111, \"t (event index)\": -9, \"type\": \"Shapley Value\"}, {\"Shapley Value\": 0.0, \"t (event index)\": -10, \"type\": \"Shapley Value\"}, {\"Shapley Value\": 0.006471487372295, \"t (event index)\": -11, \"type\": \"Shapley Value\"}, {\"Shapley Value\": 0.006768529160959, \"t (event index)\": -12, \"type\": \"Shapley Value\"}, {\"Shapley Value\": 0.0076398218384243, \"t (event index)\": -13, \"type\": \"Shapley Value\"}, {\"Shapley Value\": 0.0068592549069652, \"t (event index)\": -14, \"type\": \"Shapley Value\"}, {\"Shapley Value\": 0.0074828745620998, \"t (event index)\": -15, \"type\": \"Shapley Value\"}, {\"Shapley Value\": 0.0034066897450327, \"t (event index)\": -16, \"type\": \"Shapley Value\"}, {\"Shapley Value\": 0.0032312336241974, \"t (event index)\": -17, \"type\": \"Shapley Value\"}, {\"Shapley Value\": 0.0041512985336378165, \"t (event index)\": -20, \"type\": \"Mean\"}, {\"Shapley Value\": 0.011400468262140714, \"t (event index)\": -19, \"type\": \"Mean\"}, {\"Shapley Value\": 0.006639443020172025, \"t (event index)\": -18, \"type\": \"Mean\"}, {\"Shapley Value\": 0.007905344020496708, \"t (event index)\": -17, \"type\": \"Mean\"}, {\"Shapley Value\": 0.007852200993035708, \"t (event index)\": -16, \"type\": \"Mean\"}, {\"Shapley Value\": 0.00875436421301081, \"t (event index)\": -15, \"type\": \"Mean\"}, {\"Shapley Value\": 0.009793530229769875, \"t (event index)\": -14, \"type\": \"Mean\"}, {\"Shapley Value\": 0.009462714026002184, \"t (event index)\": -13, \"type\": \"Mean\"}, {\"Shapley Value\": 0.014966034688679275, \"t (event index)\": -12, \"type\": \"Mean\"}, {\"Shapley Value\": 0.006224020524492967, \"t (event index)\": -11, \"type\": \"Mean\"}, {\"Shapley Value\": 0.010935736167500617, \"t (event index)\": -10, \"type\": \"Mean\"}, {\"Shapley Value\": 0.010338283949193075, \"t (event index)\": -9, \"type\": \"Mean\"}, {\"Shapley Value\": 0.01224435357931255, \"t (event index)\": -8, \"type\": \"Mean\"}, {\"Shapley Value\": 0.016938513299413434, \"t (event index)\": -7, \"type\": \"Mean\"}, {\"Shapley Value\": 0.018045695923417916, \"t (event index)\": -6, \"type\": \"Mean\"}, {\"Shapley Value\": 0.012155919959149308, \"t (event index)\": -5, \"type\": \"Mean\"}, {\"Shapley Value\": 0.018929800344122148, \"t (event index)\": -4, \"type\": \"Mean\"}, {\"Shapley Value\": 0.015653902118611517, \"t (event index)\": -3, \"type\": \"Mean\"}, {\"Shapley Value\": 0.016694852958569633, \"t (event index)\": -2, \"type\": \"Mean\"}, {\"Shapley Value\": 0.0173355497698489, \"t (event index)\": -1, \"type\": \"Mean\"}, {\"Shapley Value\": 0.024930978400648868, \"t (event index)\": 0, \"type\": \"Mean\"}], \"data-2a6f7cbe33429f881ed3301e0d14a946\": [{\"Shapley Value\": 0.0582256046789033, \"Feature\": \"Mean Chest <-> Right Ankle\", \"type\": \"Shapley Value\"}, {\"Shapley Value\": 0.0082004291670664, \"Feature\": \"STD Chest <-> Right Ankle\", \"type\": \"Shapley Value\"}, {\"Shapley Value\": 0.0656906398988906, \"Feature\": \"Mean Chest <-> Left Ankle\", \"type\": \"Shapley Value\"}, {\"Shapley Value\": 0.2535629170991121, \"Feature\": \"STD Chest <-> Left Ankle\", \"type\": \"Shapley Value\"}, {\"Shapley Value\": 0.0579094983992122, \"Feature\": \"Mean Right Ankle <-> Left Ankle\", \"type\": \"Shapley Value\"}, {\"Shapley Value\": 0.1098276146111033, \"Feature\": \"STD Right Ankle <-> Left Ankle\", \"type\": \"Shapley Value\"}, {\"Shapley Value\": -4.6832218103531895e-09, \"Feature\": \"Pruned Events\", \"type\": \"Shapley Value\"}, {\"Shapley Value\": 0.039638677239418, \"Feature\": \"Mean Chest <-> Right Ankle\", \"type\": \"Shapley Value\"}, {\"Shapley Value\": 0.0102985471487045, \"Feature\": \"STD Chest <-> Right Ankle\", \"type\": \"Shapley Value\"}, {\"Shapley Value\": 0.0398315946261088, \"Feature\": \"Mean Chest <-> Left Ankle\", \"type\": \"Shapley Value\"}, {\"Shapley Value\": 0.1678477312127746, \"Feature\": \"STD Chest <-> Left Ankle\", \"type\": \"Shapley Value\"}, {\"Shapley Value\": 0.0441193893551826, \"Feature\": \"Mean Right Ankle <-> Left Ankle\", \"type\": \"Shapley Value\"}, {\"Shapley Value\": 0.0555828462044398, \"Feature\": \"STD Right Ankle <-> Left Ankle\", \"type\": \"Shapley Value\"}, {\"Shapley Value\": 0.1960979133844376, \"Feature\": \"Pruned Events\", \"type\": \"Shapley Value\"}, {\"Shapley Value\": 0.0390201460747492, \"Feature\": \"Mean Chest <-> Right Ankle\", \"type\": \"Shapley Value\"}, {\"Shapley Value\": 0.0096377349325589, \"Feature\": \"STD Chest <-> Right Ankle\", \"type\": \"Shapley Value\"}, {\"Shapley Value\": 0.0383669482100578, \"Feature\": \"Mean Chest <-> Left Ankle\", \"type\": \"Shapley Value\"}, {\"Shapley Value\": 0.1582403169501392, \"Feature\": \"STD Chest <-> Left Ankle\", \"type\": \"Shapley Value\"}, {\"Shapley Value\": 0.0437046722996802, \"Feature\": \"Mean Right Ankle <-> Left Ankle\", \"type\": \"Shapley Value\"}, {\"Shapley Value\": 0.053326327247279, \"Feature\": \"STD Right Ankle <-> Left Ankle\", \"type\": \"Shapley Value\"}, {\"Shapley Value\": 0.2111205534566016, \"Feature\": \"Pruned Events\", \"type\": \"Shapley Value\"}, {\"Shapley Value\": 0.0685031990210215, \"Feature\": \"Mean Chest <-> Right Ankle\", \"type\": \"Shapley Value\"}, {\"Shapley Value\": 0.08371369689703, \"Feature\": \"STD Chest <-> Right Ankle\", \"type\": \"Shapley Value\"}, {\"Shapley Value\": 0.0449765776594482, \"Feature\": \"Mean Chest <-> Left Ankle\", \"type\": \"Shapley Value\"}, {\"Shapley Value\": 0.2463460564613338, \"Feature\": \"STD Chest <-> Left Ankle\", \"type\": \"Shapley Value\"}, {\"Shapley Value\": 0.0281564220786094, \"Feature\": \"Mean Right Ankle <-> Left Ankle\", \"type\": \"Shapley Value\"}, {\"Shapley Value\": 0.1477833807468413, \"Feature\": \"STD Right Ankle <-> Left Ankle\", \"type\": \"Shapley Value\"}, {\"Shapley Value\": -4.470348313745376e-09, \"Feature\": \"Pruned Events\", \"type\": \"Shapley Value\"}, {\"Shapley Value\": 0.0384500110433216, \"Feature\": \"Mean Chest <-> Right Ankle\", \"type\": \"Shapley Value\"}, {\"Shapley Value\": 0.0375248873517628, \"Feature\": \"STD Chest <-> Right Ankle\", \"type\": \"Shapley Value\"}, {\"Shapley Value\": 0.0367664743747031, \"Feature\": \"Mean Chest <-> Left Ankle\", \"type\": \"Shapley Value\"}, {\"Shapley Value\": 0.1591688100780755, \"Feature\": \"STD Chest <-> Left Ankle\", \"type\": \"Shapley Value\"}, {\"Shapley Value\": 0.031462904243242, \"Feature\": \"Mean Right Ankle <-> Left Ankle\", \"type\": \"Shapley Value\"}, {\"Shapley Value\": 0.0993941693788482, \"Feature\": \"STD Right Ankle <-> Left Ankle\", \"type\": \"Shapley Value\"}, {\"Shapley Value\": 0.2167120719239826, \"Feature\": \"Pruned Events\", \"type\": \"Shapley Value\"}, {\"Shapley Value\": 0.0377868840382212, \"Feature\": \"Mean Chest <-> Right Ankle\", \"type\": \"Shapley Value\"}, {\"Shapley Value\": 0.0332568023886001, \"Feature\": \"STD Chest <-> Right Ankle\", \"type\": \"Shapley Value\"}, {\"Shapley Value\": 0.0367083742505029, \"Feature\": \"Mean Chest <-> Left Ankle\", \"type\": \"Shapley Value\"}, {\"Shapley Value\": 0.1490795358305883, \"Feature\": \"STD Chest <-> Left Ankle\", \"type\": \"Shapley Value\"}, {\"Shapley Value\": 0.0298436546609515, \"Feature\": \"Mean Right Ankle <-> Left Ankle\", \"type\": \"Shapley Value\"}, {\"Shapley Value\": 0.0908374020741097, \"Feature\": \"STD Right Ankle <-> Left Ankle\", \"type\": \"Shapley Value\"}, {\"Shapley Value\": 0.2419666751509622, \"Feature\": \"Pruned Events\", \"type\": \"Shapley Value\"}, {\"Shapley Value\": 0.0584376724702971, \"Feature\": \"Mean Chest <-> Right Ankle\", \"type\": \"Shapley Value\"}, {\"Shapley Value\": 0.0424888026856242, \"Feature\": \"STD Chest <-> Right Ankle\", \"type\": \"Shapley Value\"}, {\"Shapley Value\": 0.0587643883767584, \"Feature\": \"Mean Chest <-> Left Ankle\", \"type\": \"Shapley Value\"}, {\"Shapley Value\": 0.2454206622782203, \"Feature\": \"STD Chest <-> Left Ankle\", \"type\": \"Shapley Value\"}, {\"Shapley Value\": 0.0231286438448088, \"Feature\": \"Mean Right Ankle <-> Left Ankle\", \"type\": \"Shapley Value\"}, {\"Shapley Value\": 0.109698757245427, \"Feature\": \"STD Right Ankle <-> Left Ankle\", \"type\": \"Shapley Value\"}, {\"Shapley Value\": -4.257474595092958e-09, \"Feature\": \"Pruned Events\", \"type\": \"Shapley Value\"}, {\"Shapley Value\": 0.037840074300766, \"Feature\": \"Mean Chest <-> Right Ankle\", \"type\": \"Shapley Value\"}, {\"Shapley Value\": 0.0285240848859152, \"Feature\": \"STD Chest <-> Right Ankle\", \"type\": \"Shapley Value\"}, {\"Shapley Value\": 0.0302534267306328, \"Feature\": \"Mean Chest <-> Left Ankle\", \"type\": \"Shapley Value\"}, {\"Shapley Value\": 0.1519596740603445, \"Feature\": \"STD Chest <-> Left Ankle\", \"type\": \"Shapley Value\"}, {\"Shapley Value\": 0.0190811738371849, \"Feature\": \"Mean Right Ankle <-> Left Ankle\", \"type\": \"Shapley Value\"}, {\"Shapley Value\": 0.058442856868108, \"Feature\": \"STD Right Ankle <-> Left Ankle\", \"type\": \"Shapley Value\"}, {\"Shapley Value\": 0.2118376319607099, \"Feature\": \"Pruned Events\", \"type\": \"Shapley Value\"}, {\"Shapley Value\": 0.0334093072584697, \"Feature\": \"Mean Chest <-> Right Ankle\", \"type\": \"Shapley Value\"}, {\"Shapley Value\": 0.0255294291746049, \"Feature\": \"STD Chest <-> Right Ankle\", \"type\": \"Shapley Value\"}, {\"Shapley Value\": 0.0276345186999867, \"Feature\": \"Mean Chest <-> Left Ankle\", \"type\": \"Shapley Value\"}, {\"Shapley Value\": 0.1290305508744146, \"Feature\": \"STD Chest <-> Left Ankle\", \"type\": \"Shapley Value\"}, {\"Shapley Value\": 0.0179957865249542, \"Feature\": \"Mean Right Ankle <-> Left Ankle\", \"type\": \"Shapley Value\"}, {\"Shapley Value\": 0.0497591916294324, \"Feature\": \"STD Right Ankle <-> Left Ankle\", \"type\": \"Shapley Value\"}, {\"Shapley Value\": 0.2545801384817987, \"Feature\": \"Pruned Events\", \"type\": \"Shapley Value\"}, {\"Shapley Value\": 0.0614268944376991, \"Feature\": \"Mean Chest <-> Right Ankle\", \"type\": \"Shapley Value\"}, {\"Shapley Value\": 0.0454700574988412, \"Feature\": \"STD Chest <-> Right Ankle\", \"type\": \"Shapley Value\"}, {\"Shapley Value\": 0.0506839256201472, \"Feature\": \"Mean Chest <-> Left Ankle\", \"type\": \"Shapley Value\"}, {\"Shapley Value\": 0.2147605981145582, \"Feature\": \"STD Chest <-> Left Ankle\", \"type\": \"Shapley Value\"}, {\"Shapley Value\": 0.0262057215684935, \"Feature\": \"Mean Right Ankle <-> Left Ankle\", \"type\": \"Shapley Value\"}, {\"Shapley Value\": 0.0857836704169, \"Feature\": \"STD Right Ankle <-> Left Ankle\", \"type\": \"Shapley Value\"}, {\"Shapley Value\": -4.896095640027909e-09, \"Feature\": \"Pruned Events\", \"type\": \"Shapley Value\"}, {\"Shapley Value\": 0.0378339275008156, \"Feature\": \"Mean Chest <-> Right Ankle\", \"type\": \"Shapley Value\"}, {\"Shapley Value\": 0.01847192439295, \"Feature\": \"STD Chest <-> Right Ankle\", \"type\": \"Shapley Value\"}, {\"Shapley Value\": 0.0284101167605037, \"Feature\": \"Mean Chest <-> Left Ankle\", \"type\": \"Shapley Value\"}, {\"Shapley Value\": 0.0891791094626698, \"Feature\": \"STD Chest <-> Left Ankle\", \"type\": \"Shapley Value\"}, {\"Shapley Value\": 0.0222438220466885, \"Feature\": \"Mean Right Ankle <-> Left Ankle\", \"type\": \"Shapley Value\"}, {\"Shapley Value\": 0.0526481140937123, \"Feature\": \"STD Right Ankle <-> Left Ankle\", \"type\": \"Shapley Value\"}, {\"Shapley Value\": 0.2355438485032036, \"Feature\": \"Pruned Events\", \"type\": \"Shapley Value\"}, {\"Shapley Value\": 0.036818745235602, \"Feature\": \"Mean Chest <-> Right Ankle\", \"type\": \"Shapley Value\"}, {\"Shapley Value\": 0.0153669878840447, \"Feature\": \"STD Chest <-> Right Ankle\", \"type\": \"Shapley Value\"}, {\"Shapley Value\": 0.0279522821307183, \"Feature\": \"Mean Chest <-> Left Ankle\", \"type\": \"Shapley Value\"}, {\"Shapley Value\": 0.0835855151216187, \"Feature\": \"STD Chest <-> Left Ankle\", \"type\": \"Shapley Value\"}, {\"Shapley Value\": 0.0219442119201023, \"Feature\": \"Mean Right Ankle <-> Left Ankle\", \"type\": \"Shapley Value\"}, {\"Shapley Value\": 0.0469535658756891, \"Feature\": \"STD Right Ankle <-> Left Ankle\", \"type\": \"Shapley Value\"}, {\"Shapley Value\": 0.2517095545927684, \"Feature\": \"Pruned Events\", \"type\": \"Shapley Value\"}, {\"Shapley Value\": 0.15163069742894367, \"Feature\": \"Pruned Events\", \"type\": \"Mean\"}, {\"Shapley Value\": 0.04561592860827369, \"Feature\": \"Mean Chest <-> Right Ankle\", \"type\": \"Mean\"}, {\"Shapley Value\": 0.040503272278204876, \"Feature\": \"Mean Chest <-> Left Ankle\", \"type\": \"Mean\"}, {\"Shapley Value\": 0.03048299173159251, \"Feature\": \"Mean Right Ankle <-> Left Ankle\", \"type\": \"Mean\"}, {\"Shapley Value\": 0.029873615367308575, \"Feature\": \"STD Chest <-> Right Ankle\", \"type\": \"Mean\"}, {\"Shapley Value\": 0.1706817897953208, \"Feature\": \"STD Chest <-> Left Ankle\", \"type\": \"Mean\"}, {\"Shapley Value\": 0.0800031580326575, \"Feature\": \"STD Right Ankle <-> Left Ankle\", \"type\": \"Mean\"}]}}, {\"mode\": \"vega-lite\"});\n",
       "</script>"
      ],
      "text/plain": [
       "alt.HConcatChart(...)"
      ]
     },
     "execution_count": 21,
     "metadata": {},
     "output_type": "execute_result"
    }
   ],
   "source": [
    "global_plot"
   ]
  },
  {
   "cell_type": "markdown",
   "id": "2870782f",
   "metadata": {},
   "source": [
    "## 3.3 Individual Plots"
   ]
  },
  {
   "cell_type": "markdown",
   "id": "aafb0500",
   "metadata": {},
   "source": [
    "### Local Plots"
   ]
  },
  {
   "cell_type": "code",
   "execution_count": 22,
   "id": "f35f03d9",
   "metadata": {},
   "outputs": [],
   "source": [
    "from timeshap.plot import plot_temp_coalition_pruning, plot_event_heatmap, plot_feat_barplot, plot_cell_level\n",
    "from timeshap.explainer import local_pruning, local_event, local_feat, local_cell_level\n",
    "# select model features only\n",
    "pos_x_data = pos_x_pd[model_features]\n",
    "# convert the instance to numpy so TimeSHAP receives it\n",
    "pos_x_data = np.expand_dims(pos_x_data.to_numpy().copy(), axis=0)"
   ]
  },
  {
   "cell_type": "markdown",
   "id": "b7312cb0",
   "metadata": {},
   "source": [
    "##### Pruning algorithm"
   ]
  },
  {
   "cell_type": "code",
   "execution_count": 23,
   "id": "d72a92fa",
   "metadata": {},
   "outputs": [
    {
     "name": "stdout",
     "output_type": "stream",
     "text": [
      "No path to explainer data provided. Calculating data\n"
     ]
    },
    {
     "data": {
      "text/html": [
       "\n",
       "<div id=\"altair-viz-05a6cae4d8924966bf0c11b5b99a68e1\"></div>\n",
       "<script type=\"text/javascript\">\n",
       "  (function(spec, embedOpt){\n",
       "    let outputDiv = document.currentScript.previousElementSibling;\n",
       "    if (outputDiv.id !== \"altair-viz-05a6cae4d8924966bf0c11b5b99a68e1\") {\n",
       "      outputDiv = document.getElementById(\"altair-viz-05a6cae4d8924966bf0c11b5b99a68e1\");\n",
       "    }\n",
       "    const paths = {\n",
       "      \"vega\": \"https://cdn.jsdelivr.net/npm//vega@5?noext\",\n",
       "      \"vega-lib\": \"https://cdn.jsdelivr.net/npm//vega-lib?noext\",\n",
       "      \"vega-lite\": \"https://cdn.jsdelivr.net/npm//vega-lite@4.8.1?noext\",\n",
       "      \"vega-embed\": \"https://cdn.jsdelivr.net/npm//vega-embed@6?noext\",\n",
       "    };\n",
       "\n",
       "    function loadScript(lib) {\n",
       "      return new Promise(function(resolve, reject) {\n",
       "        var s = document.createElement('script');\n",
       "        s.src = paths[lib];\n",
       "        s.async = true;\n",
       "        s.onload = () => resolve(paths[lib]);\n",
       "        s.onerror = () => reject(`Error loading script: ${paths[lib]}`);\n",
       "        document.getElementsByTagName(\"head\")[0].appendChild(s);\n",
       "      });\n",
       "    }\n",
       "\n",
       "    function showError(err) {\n",
       "      outputDiv.innerHTML = `<div class=\"error\" style=\"color:red;\">${err}</div>`;\n",
       "      throw err;\n",
       "    }\n",
       "\n",
       "    function displayChart(vegaEmbed) {\n",
       "      vegaEmbed(outputDiv, spec, embedOpt)\n",
       "        .catch(err => showError(`Javascript Error: ${err.message}<br>This usually means there's a typo in your chart specification. See the javascript console for the full traceback.`));\n",
       "    }\n",
       "\n",
       "    if(typeof define === \"function\" && define.amd) {\n",
       "      requirejs.config({paths});\n",
       "      require([\"vega-embed\"], displayChart, err => showError(`Error loading script: ${err.message}`));\n",
       "    } else if (typeof vegaEmbed === \"function\") {\n",
       "      displayChart(vegaEmbed);\n",
       "    } else {\n",
       "      loadScript(\"vega\")\n",
       "        .then(() => loadScript(\"vega-lite\"))\n",
       "        .then(() => loadScript(\"vega-embed\"))\n",
       "        .catch(showError)\n",
       "        .then(() => displayChart(vegaEmbed));\n",
       "    }\n",
       "  })({\"config\": {\"axis\": {\"domain\": true, \"domainColor\": \"#798184\", \"grid\": false, \"gridColor\": \"#798184\", \"gridOpacity\": 0.5, \"gridDash\": [3, 5], \"gridWidth\": 0.8, \"gridCap\": \"round\", \"labelPadding\": 3, \"labelFont\": \"Roboto\", \"labelColor\": \"#798184\", \"tickSize\": 5, \"tickColor\": \"#798184\", \"tickOpacity\": 0.5, \"titleColor\": \"#384140\", \"titleFont\": \"Roboto\", \"titleFontSize\": 12}, \"axisBand\": {\"domain\": true, \"ticks\": false, \"labelPadding\": 7}, \"axisY\": {\"domain\": false, \"titleAlign\": \"left\", \"titleAngle\": 0, \"titleX\": -20, \"titleY\": -10}, \"legend\": {\"labelColor\": \"#798184\", \"labelFontSize\": 12, \"symbolSize\": 40, \"titleColor\": \"#384140\", \"titleFontSize\": 12, \"titlePadding\": 10, \"titleFont\": \"Roboto\", \"labelFont\": \"Roboto\"}, \"line\": {\"stroke\": \"#618FE0\", \"strokeWidth\": 2}, \"rule\": {\"stroke\": \"#798184\"}, \"path\": {\"stroke\": \"#618FE0\", \"strokeWidth\": 0.5}, \"rect\": {\"fill\": \"#618FE0\"}, \"point\": {\"filled\": true, \"shape\": \"circle\"}, \"shape\": {\"stroke\": \"#618FE0\"}, \"bar\": {\"fill\": \"#618FE0\", \"stroke\": null}, \"text\": {\"font\": \"Roboto\", \"color\": \"#384140\", \"fontSize\": 12}, \"arc\": {\"stroke\": \"#fff\", \"strokeWidth\": 1}, \"range\": {\"category\": [\"#618FE0\", \"#50D0B0\", \"#E17560\", \"#E8B474\", \"#D889C4\", \"#34A3BC\", \"#A583A4\"], \"ramp\": [\"#001854\", \"#002f72\", \"#04478e\", \"#1e5fab\", \"#4477c5\", \"#6290e1\", \"#7ea9fd\", \"#9ec7ff\", \"#bde4ff\"], \"heatmap\": [\"#001854\", \"#002f72\", \"#04478e\", \"#1e5fab\", \"#4477c5\", \"#6290e1\", \"#7ea9fd\", \"#9ec7ff\", \"#bde4ff\"], \"diverging\": [\"#003b26\", \"#006b52\", \"#1aa082\", \"#55d5b5\", \"#f5f5f5\", \"#ffaa92\", \"#d16f5b\", \"#9e392c\", \"#650200\"]}, \"title\": {\"anchor\": \"start\", \"fontSize\": 20, \"color\": \"#384140\", \"fontWeight\": \"bold\", \"offset\": 20, \"font\": \"Roboto\", \"subtitleColor\": \"#384140\", \"subtitleFontSize\": 16}, \"header\": {\"labelFontSize\": 12, \"titleFontSize\": 16, \"labelColor\": \"#384140\", \"titleColor\": \"#384140\", \"titleFont\": \"Roboto\", \"labelFont\": \"Roboto\"}, \"group\": {\"fill\": \"white\"}, \"background\": \"white\", \"view\": {\"stroke\": \"transparent\", \"continuousHeight\": 300, \"continuousWidth\": 400}}, \"layer\": [{\"mark\": {\"type\": \"area\", \"opacity\": 0.5}, \"encoding\": {\"color\": {\"type\": \"nominal\", \"field\": \"Coalition\", \"legend\": {\"fillColor\": \"white\", \"labelFontSize\": 14, \"labelLimit\": 0, \"orient\": \"top-left\", \"symbolSize\": 50, \"symbolStrokeWidth\": 0, \"title\": null}, \"scale\": {\"domain\": [\"Sum of contribution of events \\u2264 t\"], \"range\": [\"#618FE0\"]}}, \"x\": {\"type\": \"quantitative\", \"axis\": {\"labelFontSize\": 15, \"title\": \"t (event index)\", \"titleFontSize\": 15}, \"field\": \"t (event index)\"}, \"y\": {\"type\": \"quantitative\", \"axis\": {\"grid\": true, \"labelFontSize\": 15, \"titleFontSize\": 15, \"titleX\": -28}, \"field\": \"Shapley Value\", \"scale\": {\"domain\": [-0.05, 1]}}}}, {\"mark\": \"line\", \"encoding\": {\"color\": {\"type\": \"nominal\", \"field\": \"Coalition\", \"legend\": {\"fillColor\": \"white\", \"labelFontSize\": 14, \"labelLimit\": 0, \"orient\": \"top-left\", \"symbolSize\": 50, \"symbolStrokeWidth\": 0, \"title\": null}, \"scale\": {\"domain\": [\"Sum of contribution of events \\u2264 t\"], \"range\": [\"#618FE0\"]}}, \"x\": {\"type\": \"quantitative\", \"axis\": {\"labelFontSize\": 15, \"title\": \"t (event index)\", \"titleFontSize\": 15}, \"field\": \"t (event index)\"}, \"y\": {\"type\": \"quantitative\", \"axis\": {\"grid\": true, \"labelFontSize\": 15, \"titleFontSize\": 15, \"titleX\": -28}, \"field\": \"Shapley Value\", \"scale\": {\"domain\": [-0.05, 1]}}}}, {\"data\": {\"name\": \"data-1499224933b3632ccdccd3013b4fd59e\"}, \"mark\": {\"type\": \"rule\", \"color\": \"#E17560\"}, \"encoding\": {\"x\": {\"type\": \"quantitative\", \"field\": \"x\"}}}, {\"data\": {\"name\": \"data-07bf86fc7fee352c126063eb77ebd296\"}, \"mark\": {\"type\": \"text\", \"angle\": 270, \"color\": \"#E17560\", \"fontSize\": 15, \"fontWeight\": \"bold\", \"text\": \"Pruning\"}, \"encoding\": {\"x\": {\"type\": \"quantitative\", \"field\": \"x\"}}}], \"data\": {\"name\": \"data-d552b8da38dd394a311a5d37773f2cac\"}, \"height\": 225, \"width\": 350, \"$schema\": \"https://vega.github.io/schema/vega-lite/v4.8.1.json\", \"datasets\": {\"data-d552b8da38dd394a311a5d37773f2cac\": [{\"Coalition\": \"Sum of contribution of events > t\", \"t (event index)\": 0, \"Shapley Value\": 0.0}, {\"Coalition\": \"Sum of contribution of events \\u2264 t\", \"t (event index)\": 0, \"Shapley Value\": 0.6194793283939362}, {\"Coalition\": \"Sum of contribution of events > t\", \"t (event index)\": -1, \"Shapley Value\": 0.01246979832649231}, {\"Coalition\": \"Sum of contribution of events \\u2264 t\", \"t (event index)\": -1, \"Shapley Value\": 0.6070095300674438}, {\"Coalition\": \"Sum of contribution of events > t\", \"t (event index)\": -2, \"Shapley Value\": 0.029002368450164795}, {\"Coalition\": \"Sum of contribution of events \\u2264 t\", \"t (event index)\": -2, \"Shapley Value\": 0.5904769599437714}, {\"Coalition\": \"Sum of contribution of events > t\", \"t (event index)\": -3, \"Shapley Value\": 0.035305097699165344}, {\"Coalition\": \"Sum of contribution of events \\u2264 t\", \"t (event index)\": -3, \"Shapley Value\": 0.5841742306947708}, {\"Coalition\": \"Sum of contribution of events > t\", \"t (event index)\": -4, \"Shapley Value\": 0.038639992475509644}, {\"Coalition\": \"Sum of contribution of events \\u2264 t\", \"t (event index)\": -4, \"Shapley Value\": 0.5808393359184265}, {\"Coalition\": \"Sum of contribution of events > t\", \"t (event index)\": -5, \"Shapley Value\": 0.052983254194259644}, {\"Coalition\": \"Sum of contribution of events \\u2264 t\", \"t (event index)\": -5, \"Shapley Value\": 0.5664960741996765}, {\"Coalition\": \"Sum of contribution of events > t\", \"t (event index)\": -6, \"Shapley Value\": 0.06292711198329926}, {\"Coalition\": \"Sum of contribution of events \\u2264 t\", \"t (event index)\": -6, \"Shapley Value\": 0.5565522164106369}, {\"Coalition\": \"Sum of contribution of events > t\", \"t (event index)\": -7, \"Shapley Value\": 0.09119510650634766}, {\"Coalition\": \"Sum of contribution of events \\u2264 t\", \"t (event index)\": -7, \"Shapley Value\": 0.5282842218875885}, {\"Coalition\": \"Sum of contribution of events > t\", \"t (event index)\": -8, \"Shapley Value\": 0.1305646449327469}, {\"Coalition\": \"Sum of contribution of events \\u2264 t\", \"t (event index)\": -8, \"Shapley Value\": 0.48891468346118927}, {\"Coalition\": \"Sum of contribution of events > t\", \"t (event index)\": -9, \"Shapley Value\": 0.14609266817569733}, {\"Coalition\": \"Sum of contribution of events \\u2264 t\", \"t (event index)\": -9, \"Shapley Value\": 0.47338666021823883}, {\"Coalition\": \"Sum of contribution of events > t\", \"t (event index)\": -10, \"Shapley Value\": 0.1673157811164856}, {\"Coalition\": \"Sum of contribution of events \\u2264 t\", \"t (event index)\": -10, \"Shapley Value\": 0.45216354727745056}, {\"Coalition\": \"Sum of contribution of events > t\", \"t (event index)\": -11, \"Shapley Value\": 0.22043807804584503}, {\"Coalition\": \"Sum of contribution of events \\u2264 t\", \"t (event index)\": -11, \"Shapley Value\": 0.3990412503480911}, {\"Coalition\": \"Sum of contribution of events > t\", \"t (event index)\": -12, \"Shapley Value\": 0.22912214696407318}, {\"Coalition\": \"Sum of contribution of events \\u2264 t\", \"t (event index)\": -12, \"Shapley Value\": 0.390357181429863}, {\"Coalition\": \"Sum of contribution of events > t\", \"t (event index)\": -13, \"Shapley Value\": 0.2610483467578888}, {\"Coalition\": \"Sum of contribution of events \\u2264 t\", \"t (event index)\": -13, \"Shapley Value\": 0.35843098163604736}, {\"Coalition\": \"Sum of contribution of events > t\", \"t (event index)\": -14, \"Shapley Value\": 0.2950431555509567}, {\"Coalition\": \"Sum of contribution of events \\u2264 t\", \"t (event index)\": -14, \"Shapley Value\": 0.32443617284297943}, {\"Coalition\": \"Sum of contribution of events > t\", \"t (event index)\": -15, \"Shapley Value\": 0.33177052438259125}, {\"Coalition\": \"Sum of contribution of events \\u2264 t\", \"t (event index)\": -15, \"Shapley Value\": 0.2877088040113449}, {\"Coalition\": \"Sum of contribution of events > t\", \"t (event index)\": -16, \"Shapley Value\": 0.37277138233184814}, {\"Coalition\": \"Sum of contribution of events \\u2264 t\", \"t (event index)\": -16, \"Shapley Value\": 0.246707946062088}, {\"Coalition\": \"Sum of contribution of events > t\", \"t (event index)\": -17, \"Shapley Value\": 0.39294035732746124}, {\"Coalition\": \"Sum of contribution of events \\u2264 t\", \"t (event index)\": -17, \"Shapley Value\": 0.22653897106647491}, {\"Coalition\": \"Sum of contribution of events > t\", \"t (event index)\": -18, \"Shapley Value\": 0.4127757102251053}, {\"Coalition\": \"Sum of contribution of events \\u2264 t\", \"t (event index)\": -18, \"Shapley Value\": 0.20670361816883087}, {\"Coalition\": \"Sum of contribution of events > t\", \"t (event index)\": -19, \"Shapley Value\": 0.4498424082994461}, {\"Coalition\": \"Sum of contribution of events \\u2264 t\", \"t (event index)\": -19, \"Shapley Value\": 0.16963692009449005}, {\"Coalition\": \"Sum of contribution of events > t\", \"t (event index)\": -20, \"Shapley Value\": 0.5041496455669403}, {\"Coalition\": \"Sum of contribution of events \\u2264 t\", \"t (event index)\": -20, \"Shapley Value\": 0.11532968282699585}, {\"Coalition\": \"Sum of contribution of events > t\", \"t (event index)\": -21, \"Shapley Value\": 0.5265791565179825}, {\"Coalition\": \"Sum of contribution of events \\u2264 t\", \"t (event index)\": -21, \"Shapley Value\": 0.09290017187595367}, {\"Coalition\": \"Sum of contribution of events > t\", \"t (event index)\": -22, \"Shapley Value\": 0.5454282760620117}, {\"Coalition\": \"Sum of contribution of events \\u2264 t\", \"t (event index)\": -22, \"Shapley Value\": 0.07405105233192444}, {\"Coalition\": \"Sum of contribution of events > t\", \"t (event index)\": -23, \"Shapley Value\": 0.5582666546106339}, {\"Coalition\": \"Sum of contribution of events \\u2264 t\", \"t (event index)\": -23, \"Shapley Value\": 0.06121267378330231}, {\"Coalition\": \"Sum of contribution of events > t\", \"t (event index)\": -24, \"Shapley Value\": 0.5612784028053284}, {\"Coalition\": \"Sum of contribution of events \\u2264 t\", \"t (event index)\": -24, \"Shapley Value\": 0.05820092558860779}, {\"Coalition\": \"Sum of contribution of events > t\", \"t (event index)\": -25, \"Shapley Value\": 0.5742456763982773}, {\"Coalition\": \"Sum of contribution of events \\u2264 t\", \"t (event index)\": -25, \"Shapley Value\": 0.045233651995658875}, {\"Coalition\": \"Sum of contribution of events > t\", \"t (event index)\": -26, \"Shapley Value\": 0.5967267751693726}, {\"Coalition\": \"Sum of contribution of events \\u2264 t\", \"t (event index)\": -26, \"Shapley Value\": 0.0227525532245636}, {\"Coalition\": \"Sum of contribution of events > t\", \"t (event index)\": -27, \"Shapley Value\": 0.6034831255674362}, {\"Coalition\": \"Sum of contribution of events \\u2264 t\", \"t (event index)\": -27, \"Shapley Value\": 0.01599620282649994}, {\"Coalition\": \"Sum of contribution of events > t\", \"t (event index)\": -28, \"Shapley Value\": 0.6101972013711929}, {\"Coalition\": \"Sum of contribution of events \\u2264 t\", \"t (event index)\": -28, \"Shapley Value\": 0.009282127022743225}, {\"Coalition\": \"Sum of contribution of events > t\", \"t (event index)\": -29, \"Shapley Value\": 0.6130483150482178}, {\"Coalition\": \"Sum of contribution of events \\u2264 t\", \"t (event index)\": -29, \"Shapley Value\": 0.006431013345718384}, {\"Coalition\": \"Sum of contribution of events > t\", \"t (event index)\": -30, \"Shapley Value\": 0.6131569445133209}, {\"Coalition\": \"Sum of contribution of events \\u2264 t\", \"t (event index)\": -30, \"Shapley Value\": 0.006322383880615234}, {\"Coalition\": \"Sum of contribution of events > t\", \"t (event index)\": -31, \"Shapley Value\": 0.6150007247924805}, {\"Coalition\": \"Sum of contribution of events \\u2264 t\", \"t (event index)\": -31, \"Shapley Value\": 0.0044786036014556885}, {\"Coalition\": \"Sum of contribution of events > t\", \"t (event index)\": -32, \"Shapley Value\": 0.6171141564846039}, {\"Coalition\": \"Sum of contribution of events \\u2264 t\", \"t (event index)\": -32, \"Shapley Value\": 0.0023651719093322754}, {\"Coalition\": \"Sum of contribution of events > t\", \"t (event index)\": -33, \"Shapley Value\": 0.6183836758136749}, {\"Coalition\": \"Sum of contribution of events \\u2264 t\", \"t (event index)\": -33, \"Shapley Value\": 0.0010956525802612305}, {\"Coalition\": \"Sum of contribution of events > t\", \"t (event index)\": -34, \"Shapley Value\": 0.6194793283939362}, {\"Coalition\": \"Sum of contribution of events \\u2264 t\", \"t (event index)\": -34, \"Shapley Value\": 0.0}, {\"Coalition\": \"Sum of contribution of events > t\", \"t (event index)\": -35, \"Shapley Value\": 0.6194793283939362}, {\"Coalition\": \"Sum of contribution of events \\u2264 t\", \"t (event index)\": -35, \"Shapley Value\": 0.0}, {\"Coalition\": \"Sum of contribution of events > t\", \"t (event index)\": -36, \"Shapley Value\": 0.6194793283939362}, {\"Coalition\": \"Sum of contribution of events \\u2264 t\", \"t (event index)\": -36, \"Shapley Value\": 0.0}, {\"Coalition\": \"Sum of contribution of events > t\", \"t (event index)\": -37, \"Shapley Value\": 0.6194793283939362}, {\"Coalition\": \"Sum of contribution of events \\u2264 t\", \"t (event index)\": -37, \"Shapley Value\": 0.0}, {\"Coalition\": \"Sum of contribution of events > t\", \"t (event index)\": -38, \"Shapley Value\": 0.6194793283939362}, {\"Coalition\": \"Sum of contribution of events \\u2264 t\", \"t (event index)\": -38, \"Shapley Value\": 0.0}, {\"Coalition\": \"Sum of contribution of events > t\", \"t (event index)\": -39, \"Shapley Value\": 0.6194793283939362}, {\"Coalition\": \"Sum of contribution of events \\u2264 t\", \"t (event index)\": -39, \"Shapley Value\": 0.0}, {\"Coalition\": \"Sum of contribution of events > t\", \"t (event index)\": -40, \"Shapley Value\": 0.6194793283939362}, {\"Coalition\": \"Sum of contribution of events \\u2264 t\", \"t (event index)\": -40, \"Shapley Value\": 0.0}], \"data-1499224933b3632ccdccd3013b4fd59e\": [{\"x\": -26}], \"data-07bf86fc7fee352c126063eb77ebd296\": [{\"x\": -28}]}}, {\"mode\": \"vega-lite\"});\n",
       "</script>"
      ],
      "text/plain": [
       "alt.LayerChart(...)"
      ]
     },
     "execution_count": 23,
     "metadata": {},
     "output_type": "execute_result"
    }
   ],
   "source": [
    "pruning_dict = {'tol': 0.025,}\n",
    "coal_plot_data, coal_prun_idx = local_pruning(f, pos_x_data, pruning_dict, average_event, positive_sequence_id, sequence_id_feat, False)\n",
    "# coal_prun_idx is in negative terms\n",
    "pruning_idx = pos_x_data.shape[1] + coal_prun_idx\n",
    "pruning_plot = plot_temp_coalition_pruning(coal_plot_data, coal_prun_idx, plot_limit=40)\n",
    "pruning_plot"
   ]
  },
  {
   "cell_type": "markdown",
   "id": "fdb4260c",
   "metadata": {},
   "source": [
    "##### Event-level explanation"
   ]
  },
  {
   "cell_type": "code",
   "execution_count": 24,
   "id": "4ac0cb06",
   "metadata": {},
   "outputs": [
    {
     "name": "stdout",
     "output_type": "stream",
     "text": [
      "No path to event data provided. Calculating data\n"
     ]
    },
    {
     "data": {
      "text/html": [
       "\n",
       "<div id=\"altair-viz-e74d834814d24921bfcf26dab107df6d\"></div>\n",
       "<script type=\"text/javascript\">\n",
       "  (function(spec, embedOpt){\n",
       "    let outputDiv = document.currentScript.previousElementSibling;\n",
       "    if (outputDiv.id !== \"altair-viz-e74d834814d24921bfcf26dab107df6d\") {\n",
       "      outputDiv = document.getElementById(\"altair-viz-e74d834814d24921bfcf26dab107df6d\");\n",
       "    }\n",
       "    const paths = {\n",
       "      \"vega\": \"https://cdn.jsdelivr.net/npm//vega@5?noext\",\n",
       "      \"vega-lib\": \"https://cdn.jsdelivr.net/npm//vega-lib?noext\",\n",
       "      \"vega-lite\": \"https://cdn.jsdelivr.net/npm//vega-lite@4.8.1?noext\",\n",
       "      \"vega-embed\": \"https://cdn.jsdelivr.net/npm//vega-embed@6?noext\",\n",
       "    };\n",
       "\n",
       "    function loadScript(lib) {\n",
       "      return new Promise(function(resolve, reject) {\n",
       "        var s = document.createElement('script');\n",
       "        s.src = paths[lib];\n",
       "        s.async = true;\n",
       "        s.onload = () => resolve(paths[lib]);\n",
       "        s.onerror = () => reject(`Error loading script: ${paths[lib]}`);\n",
       "        document.getElementsByTagName(\"head\")[0].appendChild(s);\n",
       "      });\n",
       "    }\n",
       "\n",
       "    function showError(err) {\n",
       "      outputDiv.innerHTML = `<div class=\"error\" style=\"color:red;\">${err}</div>`;\n",
       "      throw err;\n",
       "    }\n",
       "\n",
       "    function displayChart(vegaEmbed) {\n",
       "      vegaEmbed(outputDiv, spec, embedOpt)\n",
       "        .catch(err => showError(`Javascript Error: ${err.message}<br>This usually means there's a typo in your chart specification. See the javascript console for the full traceback.`));\n",
       "    }\n",
       "\n",
       "    if(typeof define === \"function\" && define.amd) {\n",
       "      requirejs.config({paths});\n",
       "      require([\"vega-embed\"], displayChart, err => showError(`Error loading script: ${err.message}`));\n",
       "    } else if (typeof vegaEmbed === \"function\") {\n",
       "      displayChart(vegaEmbed);\n",
       "    } else {\n",
       "      loadScript(\"vega\")\n",
       "        .then(() => loadScript(\"vega-lite\"))\n",
       "        .then(() => loadScript(\"vega-embed\"))\n",
       "        .catch(showError)\n",
       "        .then(() => displayChart(vegaEmbed));\n",
       "    }\n",
       "  })({\"config\": {\"axis\": {\"domain\": true, \"domainColor\": \"#798184\", \"grid\": false, \"gridColor\": \"#798184\", \"gridOpacity\": 0.5, \"gridDash\": [3, 5], \"gridWidth\": 0.8, \"gridCap\": \"round\", \"labelPadding\": 3, \"labelFont\": \"Roboto\", \"labelColor\": \"#798184\", \"tickSize\": 5, \"tickColor\": \"#798184\", \"tickOpacity\": 0.5, \"titleColor\": \"#384140\", \"titleFont\": \"Roboto\", \"titleFontSize\": 12}, \"axisBand\": {\"domain\": true, \"ticks\": false, \"labelPadding\": 7}, \"axisY\": {\"domain\": false, \"titleAlign\": \"left\", \"titleAngle\": 0, \"titleX\": -20, \"titleY\": -10}, \"legend\": {\"labelColor\": \"#798184\", \"labelFontSize\": 12, \"symbolSize\": 40, \"titleColor\": \"#384140\", \"titleFontSize\": 12, \"titlePadding\": 10, \"titleFont\": \"Roboto\", \"labelFont\": \"Roboto\"}, \"line\": {\"stroke\": \"#618FE0\", \"strokeWidth\": 2}, \"rule\": {\"stroke\": \"#798184\"}, \"path\": {\"stroke\": \"#618FE0\", \"strokeWidth\": 0.5}, \"rect\": {\"fill\": \"#618FE0\"}, \"point\": {\"filled\": true, \"shape\": \"circle\"}, \"shape\": {\"stroke\": \"#618FE0\"}, \"bar\": {\"fill\": \"#618FE0\", \"stroke\": null}, \"text\": {\"font\": \"Roboto\", \"color\": \"#384140\", \"fontSize\": 12}, \"arc\": {\"stroke\": \"#fff\", \"strokeWidth\": 1}, \"range\": {\"category\": [\"#618FE0\", \"#50D0B0\", \"#E17560\", \"#E8B474\", \"#D889C4\", \"#34A3BC\", \"#A583A4\"], \"ramp\": [\"#001854\", \"#002f72\", \"#04478e\", \"#1e5fab\", \"#4477c5\", \"#6290e1\", \"#7ea9fd\", \"#9ec7ff\", \"#bde4ff\"], \"heatmap\": [\"#001854\", \"#002f72\", \"#04478e\", \"#1e5fab\", \"#4477c5\", \"#6290e1\", \"#7ea9fd\", \"#9ec7ff\", \"#bde4ff\"], \"diverging\": [\"#003b26\", \"#006b52\", \"#1aa082\", \"#55d5b5\", \"#f5f5f5\", \"#ffaa92\", \"#d16f5b\", \"#9e392c\", \"#650200\"]}, \"title\": {\"anchor\": \"start\", \"fontSize\": 20, \"color\": \"#384140\", \"fontWeight\": \"bold\", \"offset\": 20, \"font\": \"Roboto\", \"subtitleColor\": \"#384140\", \"subtitleFontSize\": 16}, \"header\": {\"labelFontSize\": 12, \"titleFontSize\": 16, \"labelColor\": \"#384140\", \"titleColor\": \"#384140\", \"titleFont\": \"Roboto\", \"labelFont\": \"Roboto\"}, \"group\": {\"fill\": \"white\"}, \"background\": \"white\", \"view\": {\"stroke\": \"transparent\", \"continuousHeight\": 300, \"continuousWidth\": 400}}, \"layer\": [{\"mark\": \"rect\", \"encoding\": {\"color\": {\"type\": \"quantitative\", \"field\": \"rounded\", \"legend\": {\"gradientLength\": 225, \"gradientThickness\": 10, \"labelFontSize\": 15, \"orient\": \"right\"}, \"scale\": {\"domain\": [-0.5, 0.5], \"range\": [\"#5f8fd6\", \"#99c3fb\", \"#f5f5f5\", \"#ffaa92\", \"#d16f5b\"]}, \"title\": null}, \"x\": {\"type\": \"ordinal\", \"axis\": {\"title\": \"Shapley Value\", \"titleFontSize\": 15}, \"field\": \"column\"}, \"y\": {\"type\": \"ordinal\", \"axis\": {\"domain\": false, \"labelFontSize\": 15, \"title\": \"Event\", \"titleFontSize\": 15, \"titleX\": -49}, \"field\": \"Feature\", \"sort\": [\"Event -1\", \"Event -2\", \"Event -3\", \"Event -4\", \"Event -5\", \"Event -6\", \"Event -7\", \"Event -8\", \"Event -9\", \"Event -10\", \"Event -11\", \"Event -12\", \"Event -13\", \"Event -14\", \"Event -15\", \"Event -16\", \"Event -17\", \"Event -18\", \"Event -19\", \"Event -20\", \"Event -21\", \"Event -22\", \"Event -23\", \"Event -24\", \"Event -25\", \"Event -26\", \"Pruned Events\"]}}}, {\"mark\": {\"type\": \"text\", \"align\": \"right\", \"baseline\": \"middle\", \"color\": \"#798184\", \"dx\": 18, \"fontSize\": 15}, \"encoding\": {\"text\": {\"type\": \"nominal\", \"field\": \"rounded_str\"}, \"x\": {\"type\": \"ordinal\", \"axis\": {\"domain\": false, \"labels\": false, \"title\": \"Shapley Value\", \"titleX\": 43}, \"field\": \"column\"}, \"y\": {\"type\": \"ordinal\", \"axis\": {\"domain\": false, \"labelFontSize\": 15, \"title\": \"Event\", \"titleFontSize\": 15, \"titleX\": -49}, \"field\": \"Feature\", \"sort\": [\"Event -1\", \"Event -2\", \"Event -3\", \"Event -4\", \"Event -5\", \"Event -6\", \"Event -7\", \"Event -8\", \"Event -9\", \"Event -10\", \"Event -11\", \"Event -12\", \"Event -13\", \"Event -14\", \"Event -15\", \"Event -16\", \"Event -17\", \"Event -18\", \"Event -19\", \"Event -20\", \"Event -21\", \"Event -22\", \"Event -23\", \"Event -24\", \"Event -25\", \"Event -26\", \"Pruned Events\"]}}}], \"data\": {\"name\": \"data-95bbcfbd4808bf85eb2c5f1b6ee09cc2\"}, \"height\": 225, \"width\": 60, \"$schema\": \"https://vega.github.io/schema/vega-lite/v4.8.1.json\", \"datasets\": {\"data-95bbcfbd4808bf85eb2c5f1b6ee09cc2\": [{\"Shapley Value\": 0.035966468811507724, \"Feature\": \"Event -1\", \"row\": 1, \"column\": 1, \"rounded\": 0.036, \"rounded_str\": \"0.036\"}, {\"Shapley Value\": 0.03539696224088487, \"Feature\": \"Event -2\", \"row\": 2, \"column\": 1, \"rounded\": 0.035, \"rounded_str\": \"0.035\"}, {\"Shapley Value\": 0.005984048852222451, \"Feature\": \"Event -3\", \"row\": 3, \"column\": 1, \"rounded\": 0.006, \"rounded_str\": \"0.006\"}, {\"Shapley Value\": 0.011581698949791136, \"Feature\": \"Event -4\", \"row\": 4, \"column\": 1, \"rounded\": 0.012, \"rounded_str\": \"0.012\"}, {\"Shapley Value\": 0.027566984230672553, \"Feature\": \"Event -5\", \"row\": 5, \"column\": 1, \"rounded\": 0.028, \"rounded_str\": \"0.028\"}, {\"Shapley Value\": 0.009164462615656288, \"Feature\": \"Event -6\", \"row\": 6, \"column\": 1, \"rounded\": 0.009, \"rounded_str\": \"0.009\"}, {\"Shapley Value\": 0.02697144797575307, \"Feature\": \"Event -7\", \"row\": 7, \"column\": 1, \"rounded\": 0.027, \"rounded_str\": \"0.027\"}, {\"Shapley Value\": 0.030500842685452223, \"Feature\": \"Event -8\", \"row\": 8, \"column\": 1, \"rounded\": 0.031, \"rounded_str\": \"0.031\"}, {\"Shapley Value\": 0.009971927441146722, \"Feature\": \"Event -9\", \"row\": 9, \"column\": 1, \"rounded\": 0.01, \"rounded_str\": \"0.010\"}, {\"Shapley Value\": 0.01324876351197099, \"Feature\": \"Event -10\", \"row\": 10, \"column\": 1, \"rounded\": 0.013, \"rounded_str\": \"0.013\"}, {\"Shapley Value\": 0.024834949337044554, \"Feature\": \"Event -11\", \"row\": 11, \"column\": 1, \"rounded\": 0.025, \"rounded_str\": \"0.025\"}, {\"Shapley Value\": 0.005249192775462708, \"Feature\": \"Event -12\", \"row\": 12, \"column\": 1, \"rounded\": 0.005, \"rounded_str\": \"0.005\"}, {\"Shapley Value\": 0.01416055461764526, \"Feature\": \"Event -13\", \"row\": 13, \"column\": 1, \"rounded\": 0.014, \"rounded_str\": \"0.014\"}, {\"Shapley Value\": 0.014060469417813859, \"Feature\": \"Event -14\", \"row\": 14, \"column\": 1, \"rounded\": 0.014, \"rounded_str\": \"0.014\"}, {\"Shapley Value\": 0.01259662929946287, \"Feature\": \"Event -15\", \"row\": 15, \"column\": 1, \"rounded\": 0.013, \"rounded_str\": \"0.013\"}, {\"Shapley Value\": 0.0133991495157115, \"Feature\": \"Event -16\", \"row\": 16, \"column\": 1, \"rounded\": 0.013, \"rounded_str\": \"0.013\"}, {\"Shapley Value\": 0.007364066070696146, \"Feature\": \"Event -17\", \"row\": 17, \"column\": 1, \"rounded\": 0.007, \"rounded_str\": \"0.007\"}, {\"Shapley Value\": 0.006782953587203183, \"Feature\": \"Event -18\", \"row\": 18, \"column\": 1, \"rounded\": 0.007, \"rounded_str\": \"0.007\"}, {\"Shapley Value\": 0.011859001098813632, \"Feature\": \"Event -19\", \"row\": 19, \"column\": 1, \"rounded\": 0.012, \"rounded_str\": \"0.012\"}, {\"Shapley Value\": 0.013631475521183462, \"Feature\": \"Event -20\", \"row\": 20, \"column\": 1, \"rounded\": 0.014, \"rounded_str\": \"0.014\"}, {\"Shapley Value\": 0.008274331063718388, \"Feature\": \"Event -21\", \"row\": 21, \"column\": 1, \"rounded\": 0.008, \"rounded_str\": \"0.008\"}, {\"Shapley Value\": 0.0073448869026615515, \"Feature\": \"Event -22\", \"row\": 22, \"column\": 1, \"rounded\": 0.007, \"rounded_str\": \"0.007\"}, {\"Shapley Value\": 0.0064241860257082395, \"Feature\": \"Event -23\", \"row\": 23, \"column\": 1, \"rounded\": 0.006, \"rounded_str\": \"0.006\"}, {\"Shapley Value\": 0.0028746560976755653, \"Feature\": \"Event -24\", \"row\": 24, \"column\": 1, \"rounded\": 0.003, \"rounded_str\": \"0.003\"}, {\"Shapley Value\": 0.005171471351952839, \"Feature\": \"Event -25\", \"row\": 25, \"column\": 1, \"rounded\": 0.005, \"rounded_str\": \"0.005\"}, {\"Shapley Value\": 0.008257095604292969, \"Feature\": \"Event -26\", \"row\": 26, \"column\": 1, \"rounded\": 0.008, \"rounded_str\": \"0.008\"}, {\"Shapley Value\": 0.2508406527918313, \"Feature\": \"Pruned Events\", \"row\": 27, \"column\": 1, \"rounded\": 0.251, \"rounded_str\": \"0.251\"}]}}, {\"mode\": \"vega-lite\"});\n",
       "</script>"
      ],
      "text/plain": [
       "alt.LayerChart(...)"
      ]
     },
     "execution_count": 24,
     "metadata": {},
     "output_type": "execute_result"
    }
   ],
   "source": [
    "event_dict = {'rs': 42, 'nsamples': 32000}\n",
    "event_data = local_event(f, pos_x_data, event_dict, positive_sequence_id, sequence_id_feat, average_event, pruning_idx)\n",
    "event_plot = plot_event_heatmap(event_data)\n",
    "event_plot"
   ]
  },
  {
   "cell_type": "markdown",
   "id": "f5034207",
   "metadata": {},
   "source": [
    "##### Feature-level explanation"
   ]
  },
  {
   "cell_type": "code",
   "execution_count": 25,
   "id": "1c6776c0",
   "metadata": {},
   "outputs": [
    {
     "name": "stdout",
     "output_type": "stream",
     "text": [
      "No path to feature data provided. Calculating data\n"
     ]
    },
    {
     "data": {
      "text/html": [
       "\n",
       "<div id=\"altair-viz-486d64d0dec44ffa8e13b3c00c56ead3\"></div>\n",
       "<script type=\"text/javascript\">\n",
       "  (function(spec, embedOpt){\n",
       "    let outputDiv = document.currentScript.previousElementSibling;\n",
       "    if (outputDiv.id !== \"altair-viz-486d64d0dec44ffa8e13b3c00c56ead3\") {\n",
       "      outputDiv = document.getElementById(\"altair-viz-486d64d0dec44ffa8e13b3c00c56ead3\");\n",
       "    }\n",
       "    const paths = {\n",
       "      \"vega\": \"https://cdn.jsdelivr.net/npm//vega@5?noext\",\n",
       "      \"vega-lib\": \"https://cdn.jsdelivr.net/npm//vega-lib?noext\",\n",
       "      \"vega-lite\": \"https://cdn.jsdelivr.net/npm//vega-lite@4.8.1?noext\",\n",
       "      \"vega-embed\": \"https://cdn.jsdelivr.net/npm//vega-embed@6?noext\",\n",
       "    };\n",
       "\n",
       "    function loadScript(lib) {\n",
       "      return new Promise(function(resolve, reject) {\n",
       "        var s = document.createElement('script');\n",
       "        s.src = paths[lib];\n",
       "        s.async = true;\n",
       "        s.onload = () => resolve(paths[lib]);\n",
       "        s.onerror = () => reject(`Error loading script: ${paths[lib]}`);\n",
       "        document.getElementsByTagName(\"head\")[0].appendChild(s);\n",
       "      });\n",
       "    }\n",
       "\n",
       "    function showError(err) {\n",
       "      outputDiv.innerHTML = `<div class=\"error\" style=\"color:red;\">${err}</div>`;\n",
       "      throw err;\n",
       "    }\n",
       "\n",
       "    function displayChart(vegaEmbed) {\n",
       "      vegaEmbed(outputDiv, spec, embedOpt)\n",
       "        .catch(err => showError(`Javascript Error: ${err.message}<br>This usually means there's a typo in your chart specification. See the javascript console for the full traceback.`));\n",
       "    }\n",
       "\n",
       "    if(typeof define === \"function\" && define.amd) {\n",
       "      requirejs.config({paths});\n",
       "      require([\"vega-embed\"], displayChart, err => showError(`Error loading script: ${err.message}`));\n",
       "    } else if (typeof vegaEmbed === \"function\") {\n",
       "      displayChart(vegaEmbed);\n",
       "    } else {\n",
       "      loadScript(\"vega\")\n",
       "        .then(() => loadScript(\"vega-lite\"))\n",
       "        .then(() => loadScript(\"vega-embed\"))\n",
       "        .catch(showError)\n",
       "        .then(() => displayChart(vegaEmbed));\n",
       "    }\n",
       "  })({\"config\": {\"axis\": {\"domain\": true, \"domainColor\": \"#798184\", \"grid\": false, \"gridColor\": \"#798184\", \"gridOpacity\": 0.5, \"gridDash\": [3, 5], \"gridWidth\": 0.8, \"gridCap\": \"round\", \"labelPadding\": 3, \"labelFont\": \"Roboto\", \"labelColor\": \"#798184\", \"tickSize\": 5, \"tickColor\": \"#798184\", \"tickOpacity\": 0.5, \"titleColor\": \"#384140\", \"titleFont\": \"Roboto\", \"titleFontSize\": 12}, \"axisBand\": {\"domain\": true, \"ticks\": false, \"labelPadding\": 7}, \"axisY\": {\"domain\": false, \"titleAlign\": \"left\", \"titleAngle\": 0, \"titleX\": -20, \"titleY\": -10}, \"legend\": {\"labelColor\": \"#798184\", \"labelFontSize\": 12, \"symbolSize\": 40, \"titleColor\": \"#384140\", \"titleFontSize\": 12, \"titlePadding\": 10, \"titleFont\": \"Roboto\", \"labelFont\": \"Roboto\"}, \"line\": {\"stroke\": \"#618FE0\", \"strokeWidth\": 2}, \"rule\": {\"stroke\": \"#798184\"}, \"path\": {\"stroke\": \"#618FE0\", \"strokeWidth\": 0.5}, \"rect\": {\"fill\": \"#618FE0\"}, \"point\": {\"filled\": true, \"shape\": \"circle\"}, \"shape\": {\"stroke\": \"#618FE0\"}, \"bar\": {\"fill\": \"#618FE0\", \"stroke\": null}, \"text\": {\"font\": \"Roboto\", \"color\": \"#384140\", \"fontSize\": 12}, \"arc\": {\"stroke\": \"#fff\", \"strokeWidth\": 1}, \"range\": {\"category\": [\"#618FE0\", \"#50D0B0\", \"#E17560\", \"#E8B474\", \"#D889C4\", \"#34A3BC\", \"#A583A4\"], \"ramp\": [\"#001854\", \"#002f72\", \"#04478e\", \"#1e5fab\", \"#4477c5\", \"#6290e1\", \"#7ea9fd\", \"#9ec7ff\", \"#bde4ff\"], \"heatmap\": [\"#001854\", \"#002f72\", \"#04478e\", \"#1e5fab\", \"#4477c5\", \"#6290e1\", \"#7ea9fd\", \"#9ec7ff\", \"#bde4ff\"], \"diverging\": [\"#003b26\", \"#006b52\", \"#1aa082\", \"#55d5b5\", \"#f5f5f5\", \"#ffaa92\", \"#d16f5b\", \"#9e392c\", \"#650200\"]}, \"title\": {\"anchor\": \"start\", \"fontSize\": 20, \"color\": \"#384140\", \"fontWeight\": \"bold\", \"offset\": 20, \"font\": \"Roboto\", \"subtitleColor\": \"#384140\", \"subtitleFontSize\": 16}, \"header\": {\"labelFontSize\": 12, \"titleFontSize\": 16, \"labelColor\": \"#384140\", \"titleColor\": \"#384140\", \"titleFont\": \"Roboto\", \"labelFont\": \"Roboto\"}, \"group\": {\"fill\": \"white\"}, \"background\": \"white\", \"view\": {\"stroke\": \"transparent\", \"continuousHeight\": 300, \"continuousWidth\": 400}}, \"layer\": [{\"data\": {\"name\": \"data-a7fffab3d9c8e6d7e756a5e3c3816c48\"}, \"mark\": {\"type\": \"bar\", \"size\": 15, \"thickness\": 1}, \"encoding\": {\"x\": {\"type\": \"quantitative\", \"axis\": {\"grid\": true, \"labelFontSize\": 15, \"title\": \"Shapley Value\", \"titleFontSize\": 15}, \"field\": \"Shapley Value\", \"scale\": {\"domain\": [-0.1, 0.4]}}, \"y\": {\"type\": \"nominal\", \"axis\": {\"labelFontSize\": 15, \"title\": \"Feature\", \"titleFontSize\": 15, \"titleX\": -61}, \"field\": \"Feature\", \"sort\": {\"field\": \"sort_col\", \"order\": \"descending\"}}}}, {\"data\": {\"name\": \"data-9c00aa9dc2b1c1a0b4bf9b34ead12925\"}, \"mark\": {\"type\": \"rule\", \"color\": \"#798184\"}, \"encoding\": {\"x\": {\"type\": \"quantitative\", \"field\": \"x\"}}}], \"height\": 225, \"width\": 190, \"$schema\": \"https://vega.github.io/schema/vega-lite/v4.8.1.json\", \"datasets\": {\"data-a7fffab3d9c8e6d7e756a5e3c3816c48\": [{\"Random seed\": 42, \"NSamples\": 32000, \"Feature\": \"Mean Chest <-> Right Ankle\", \"Shapley Value\": 0.040312514844394826, \"sort_col\": 0.040312514844394826}, {\"Random seed\": 42, \"NSamples\": 32000, \"Feature\": \"STD Chest <-> Right Ankle\", \"Shapley Value\": 0.041491917911030185, \"sort_col\": 0.041491917911030185}, {\"Random seed\": 42, \"NSamples\": 32000, \"Feature\": \"Mean Chest <-> Left Ankle\", \"Shapley Value\": 0.03753452414558062, \"sort_col\": 0.03753452414558062}, {\"Random seed\": 42, \"NSamples\": 32000, \"Feature\": \"STD Chest <-> Left Ankle\", \"Shapley Value\": 0.1717873758503366, \"sort_col\": 0.1717873758503366}, {\"Random seed\": 42, \"NSamples\": 32000, \"Feature\": \"Mean Right Ankle <-> Left Ankle\", \"Shapley Value\": 0.03211262240296309, \"sort_col\": 0.03211262240296309}, {\"Random seed\": 42, \"NSamples\": 32000, \"Feature\": \"STD Right Ankle <-> Left Ankle\", \"Shapley Value\": 0.10219532811925519, \"sort_col\": 0.10219532811925519}, {\"Random seed\": 42, \"NSamples\": 32000, \"Feature\": \"Pruned Events\", \"Shapley Value\": 0.19404504512037563, \"sort_col\": 0.19404504512037563}], \"data-9c00aa9dc2b1c1a0b4bf9b34ead12925\": [{\"x\": 0}]}}, {\"mode\": \"vega-lite\"});\n",
       "</script>"
      ],
      "text/plain": [
       "alt.LayerChart(...)"
      ]
     },
     "execution_count": 25,
     "metadata": {},
     "output_type": "execute_result"
    }
   ],
   "source": [
    "feature_dict = {'rs': 42, 'nsamples': 32000, 'feature_names': model_features, 'plot_features': plot_feats}\n",
    "feature_data = local_feat(f, pos_x_data, feature_dict, positive_sequence_id, sequence_id_feat, average_event, pruning_idx)\n",
    "feature_plot = plot_feat_barplot(feature_data, feature_dict.get('top_feats'), feature_dict.get('plot_features'))\n",
    "feature_plot"
   ]
  },
  {
   "cell_type": "markdown",
   "id": "51d8f3c6",
   "metadata": {},
   "source": [
    "##### Cell-level explanation"
   ]
  },
  {
   "cell_type": "code",
   "execution_count": 26,
   "id": "3a13c961",
   "metadata": {},
   "outputs": [
    {
     "name": "stdout",
     "output_type": "stream",
     "text": [
      "No path to feature data provided. Calculating data\n"
     ]
    },
    {
     "data": {
      "text/html": [
       "\n",
       "<div id=\"altair-viz-5a82226e693c4d1c989464fedab97cc2\"></div>\n",
       "<script type=\"text/javascript\">\n",
       "  (function(spec, embedOpt){\n",
       "    let outputDiv = document.currentScript.previousElementSibling;\n",
       "    if (outputDiv.id !== \"altair-viz-5a82226e693c4d1c989464fedab97cc2\") {\n",
       "      outputDiv = document.getElementById(\"altair-viz-5a82226e693c4d1c989464fedab97cc2\");\n",
       "    }\n",
       "    const paths = {\n",
       "      \"vega\": \"https://cdn.jsdelivr.net/npm//vega@5?noext\",\n",
       "      \"vega-lib\": \"https://cdn.jsdelivr.net/npm//vega-lib?noext\",\n",
       "      \"vega-lite\": \"https://cdn.jsdelivr.net/npm//vega-lite@4.8.1?noext\",\n",
       "      \"vega-embed\": \"https://cdn.jsdelivr.net/npm//vega-embed@6?noext\",\n",
       "    };\n",
       "\n",
       "    function loadScript(lib) {\n",
       "      return new Promise(function(resolve, reject) {\n",
       "        var s = document.createElement('script');\n",
       "        s.src = paths[lib];\n",
       "        s.async = true;\n",
       "        s.onload = () => resolve(paths[lib]);\n",
       "        s.onerror = () => reject(`Error loading script: ${paths[lib]}`);\n",
       "        document.getElementsByTagName(\"head\")[0].appendChild(s);\n",
       "      });\n",
       "    }\n",
       "\n",
       "    function showError(err) {\n",
       "      outputDiv.innerHTML = `<div class=\"error\" style=\"color:red;\">${err}</div>`;\n",
       "      throw err;\n",
       "    }\n",
       "\n",
       "    function displayChart(vegaEmbed) {\n",
       "      vegaEmbed(outputDiv, spec, embedOpt)\n",
       "        .catch(err => showError(`Javascript Error: ${err.message}<br>This usually means there's a typo in your chart specification. See the javascript console for the full traceback.`));\n",
       "    }\n",
       "\n",
       "    if(typeof define === \"function\" && define.amd) {\n",
       "      requirejs.config({paths});\n",
       "      require([\"vega-embed\"], displayChart, err => showError(`Error loading script: ${err.message}`));\n",
       "    } else if (typeof vegaEmbed === \"function\") {\n",
       "      displayChart(vegaEmbed);\n",
       "    } else {\n",
       "      loadScript(\"vega\")\n",
       "        .then(() => loadScript(\"vega-lite\"))\n",
       "        .then(() => loadScript(\"vega-embed\"))\n",
       "        .catch(showError)\n",
       "        .then(() => displayChart(vegaEmbed));\n",
       "    }\n",
       "  })({\"config\": {\"axis\": {\"domain\": true, \"domainColor\": \"#798184\", \"grid\": false, \"gridColor\": \"#798184\", \"gridOpacity\": 0.5, \"gridDash\": [3, 5], \"gridWidth\": 0.8, \"gridCap\": \"round\", \"labelPadding\": 3, \"labelFont\": \"Roboto\", \"labelColor\": \"#798184\", \"tickSize\": 5, \"tickColor\": \"#798184\", \"tickOpacity\": 0.5, \"titleColor\": \"#384140\", \"titleFont\": \"Roboto\", \"titleFontSize\": 12}, \"axisBand\": {\"domain\": true, \"ticks\": false, \"labelPadding\": 7}, \"axisY\": {\"domain\": false, \"titleAlign\": \"left\", \"titleAngle\": 0, \"titleX\": -20, \"titleY\": -10}, \"legend\": {\"labelColor\": \"#798184\", \"labelFontSize\": 12, \"symbolSize\": 40, \"titleColor\": \"#384140\", \"titleFontSize\": 12, \"titlePadding\": 10, \"titleFont\": \"Roboto\", \"labelFont\": \"Roboto\"}, \"line\": {\"stroke\": \"#618FE0\", \"strokeWidth\": 2}, \"rule\": {\"stroke\": \"#798184\"}, \"path\": {\"stroke\": \"#618FE0\", \"strokeWidth\": 0.5}, \"rect\": {\"fill\": \"#618FE0\"}, \"point\": {\"filled\": true, \"shape\": \"circle\"}, \"shape\": {\"stroke\": \"#618FE0\"}, \"bar\": {\"fill\": \"#618FE0\", \"stroke\": null}, \"text\": {\"font\": \"Roboto\", \"color\": \"#384140\", \"fontSize\": 12}, \"arc\": {\"stroke\": \"#fff\", \"strokeWidth\": 1}, \"range\": {\"category\": [\"#618FE0\", \"#50D0B0\", \"#E17560\", \"#E8B474\", \"#D889C4\", \"#34A3BC\", \"#A583A4\"], \"ramp\": [\"#001854\", \"#002f72\", \"#04478e\", \"#1e5fab\", \"#4477c5\", \"#6290e1\", \"#7ea9fd\", \"#9ec7ff\", \"#bde4ff\"], \"heatmap\": [\"#001854\", \"#002f72\", \"#04478e\", \"#1e5fab\", \"#4477c5\", \"#6290e1\", \"#7ea9fd\", \"#9ec7ff\", \"#bde4ff\"], \"diverging\": [\"#003b26\", \"#006b52\", \"#1aa082\", \"#55d5b5\", \"#f5f5f5\", \"#ffaa92\", \"#d16f5b\", \"#9e392c\", \"#650200\"]}, \"title\": {\"anchor\": \"start\", \"fontSize\": 20, \"color\": \"#384140\", \"fontWeight\": \"bold\", \"offset\": 20, \"font\": \"Roboto\", \"subtitleColor\": \"#384140\", \"subtitleFontSize\": 16}, \"header\": {\"labelFontSize\": 12, \"titleFontSize\": 16, \"labelColor\": \"#384140\", \"titleColor\": \"#384140\", \"titleFont\": \"Roboto\", \"labelFont\": \"Roboto\"}, \"group\": {\"fill\": \"white\"}, \"background\": \"white\", \"view\": {\"stroke\": \"transparent\", \"continuousHeight\": 300, \"continuousWidth\": 400}}, \"hconcat\": [{\"layer\": [{\"mark\": \"rect\", \"encoding\": {\"color\": {\"type\": \"quantitative\", \"field\": \"rounded\", \"legend\": null, \"scale\": {\"domain\": [-0.5, 0.5], \"range\": [\"#5f8fd6\", \"#99c3fb\", \"#f5f5f5\", \"#ffaa92\", \"#d16f5b\"]}, \"title\": null}, \"x\": {\"type\": \"nominal\", \"axis\": {\"titleFontSize\": 15}, \"field\": \"Event\"}, \"y\": {\"type\": \"nominal\", \"axis\": {\"domain\": false, \"labels\": false, \"title\": null}, \"field\": \"Feature\"}}}, {\"mark\": {\"type\": \"text\", \"align\": \"right\", \"baseline\": \"middle\", \"color\": \"#798184\", \"dx\": 18, \"fontSize\": 15}, \"encoding\": {\"text\": {\"type\": \"nominal\", \"field\": \"rounded_str\"}, \"x\": {\"type\": \"nominal\", \"axis\": {\"domain\": false, \"labelAngle\": 0, \"labelFontSize\": 15, \"labelOffset\": 24, \"labelPadding\": 30, \"orient\": \"top\", \"title\": null}, \"field\": \"Event\"}, \"y\": {\"type\": \"nominal\", \"axis\": {\"domain\": false, \"labels\": false, \"title\": null}, \"field\": \"Feature\"}}}], \"data\": {\"name\": \"data-7573284ca781d335e13954f91b9117c1\"}, \"height\": 225, \"width\": 66.66666666666667}, {\"layer\": [{\"mark\": \"rect\", \"encoding\": {\"color\": {\"type\": \"quantitative\", \"field\": \"rounded\", \"legend\": {\"gradientLength\": 225, \"gradientThickness\": 10, \"labelFontSize\": 15, \"orient\": \"right\"}, \"scale\": {\"domain\": [-0.5, 0.5], \"range\": [\"#5f8fd6\", \"#99c3fb\", \"#f5f5f5\", \"#ffaa92\", \"#d16f5b\"]}, \"title\": null}, \"x\": {\"type\": \"nominal\", \"axis\": {\"titleFontSize\": 15}, \"field\": \"Event\", \"sort\": [\"Event -8\", \"Event -2\", \"Event -1\"]}, \"y\": {\"type\": \"nominal\", \"axis\": {\"domain\": false, \"labelFontSize\": 15, \"title\": null}, \"field\": \"Feature\", \"sort\": [\"STD Chest <-> Right Ankle\", \"STD Chest <-> Left Ankle\", \"STD Right Ankle <-> Left Ankle\"]}}}, {\"mark\": {\"type\": \"text\", \"align\": \"right\", \"baseline\": \"middle\", \"color\": \"#798184\", \"dx\": 18, \"fontSize\": 15}, \"encoding\": {\"text\": {\"type\": \"nominal\", \"field\": \"rounded_str\"}, \"x\": {\"type\": \"nominal\", \"axis\": {\"domain\": false, \"labelAngle\": 30, \"labelFontSize\": 15, \"orient\": \"top\", \"title\": \"Shapley Value\", \"titleX\": 172, \"titleY\": 245}, \"field\": \"Event\", \"sort\": [\"Event -8\", \"Event -2\", \"Event -1\"]}, \"y\": {\"type\": \"nominal\", \"axis\": {\"domain\": false, \"labelFontSize\": 15, \"title\": null}, \"field\": \"Feature\", \"sort\": [\"STD Chest <-> Right Ankle\", \"STD Chest <-> Left Ankle\", \"STD Right Ankle <-> Left Ankle\"]}}}], \"data\": {\"name\": \"data-0a04cbfd23df0b761245416f6e7d9618\"}, \"height\": 225, \"width\": 160}], \"resolve\": {\"scale\": {\"color\": \"independent\"}}, \"$schema\": \"https://vega.github.io/schema/vega-lite/v4.8.1.json\", \"datasets\": {\"data-7573284ca781d335e13954f91b9117c1\": [{\"Event\": [\"Pruned\", \"Events\"], \"Feature\": \"Other features\", \"rounded\": 0.218, \"rounded_str\": \"0.218\"}], \"data-0a04cbfd23df0b761245416f6e7d9618\": [{\"Event\": \"Other Events\", \"Feature\": \"STD Chest <-> Left Ankle\", \"Shapley Value\": 0.09782565766562173, \"rounded\": 0.098, \"rounded_str\": \"0.098\"}, {\"Event\": \"Other Events\", \"Feature\": \"STD Right Ankle <-> Left Ankle\", \"Shapley Value\": 0.09303563176343982, \"rounded\": 0.093, \"rounded_str\": \"0.093\"}, {\"Event\": \"Other Events\", \"Feature\": \"Other Features\", \"Shapley Value\": 0.07209358025264179, \"rounded\": 0.072, \"rounded_str\": \"0.072\"}, {\"Event\": \"Other Events\", \"Feature\": \"STD Chest <-> Right Ankle\", \"Shapley Value\": 0.03883174845053336, \"rounded\": 0.039, \"rounded_str\": \"0.039\"}, {\"Event\": \"Event -8\", \"Feature\": \"STD Chest <-> Left Ankle\", \"Shapley Value\": 0.021582033882270535, \"rounded\": 0.022, \"rounded_str\": \"0.022\"}, {\"Event\": \"Event -2\", \"Feature\": \"STD Chest <-> Left Ankle\", \"Shapley Value\": 0.01962050755946193, \"rounded\": 0.02, \"rounded_str\": \"0.020\"}, {\"Event\": \"Event -1\", \"Feature\": \"STD Chest <-> Left Ankle\", \"Shapley Value\": 0.017896039482755755, \"rounded\": 0.018, \"rounded_str\": \"0.018\"}, {\"Event\": \"Event -2\", \"Feature\": \"Other Features\", \"Shapley Value\": 0.012392505692428862, \"rounded\": 0.012, \"rounded_str\": \"0.012\"}, {\"Event\": \"Event -1\", \"Feature\": \"STD Right Ankle <-> Left Ankle\", \"Shapley Value\": 0.00893367797784389, \"rounded\": 0.009, \"rounded_str\": \"0.009\"}, {\"Event\": \"Event -1\", \"Feature\": \"Other Features\", \"Shapley Value\": 0.006026061675585809, \"rounded\": 0.006, \"rounded_str\": \"0.006\"}, {\"Event\": \"Event -8\", \"Feature\": \"Other Features\", \"Shapley Value\": 0.005218788712968991, \"rounded\": 0.005, \"rounded_str\": \"0.005\"}, {\"Event\": \"Event -2\", \"Feature\": \"STD Right Ankle <-> Left Ankle\", \"Shapley Value\": 0.0026174096985752404, \"rounded\": 0.003, \"rounded_str\": \"0.003\"}, {\"Event\": \"Event -8\", \"Feature\": \"STD Chest <-> Right Ankle\", \"Shapley Value\": 0.0016366952038501803, \"rounded\": 0.002, \"rounded_str\": \"0.002\"}, {\"Event\": \"Event -2\", \"Feature\": \"STD Chest <-> Right Ankle\", \"Shapley Value\": 0.001578864058687457, \"rounded\": 0.002, \"rounded_str\": \"0.002\"}, {\"Event\": \"Event -1\", \"Feature\": \"STD Chest <-> Right Ankle\", \"Shapley Value\": 0.0013108319299066917, \"rounded\": 0.001, \"rounded_str\": \"0.001\"}, {\"Event\": \"Event -8\", \"Feature\": \"STD Right Ankle <-> Left Ankle\", \"Shapley Value\": 0.0010682035115948119, \"rounded\": 0.001, \"rounded_str\": \"0.001\"}]}}, {\"mode\": \"vega-lite\"});\n",
       "</script>"
      ],
      "text/plain": [
       "alt.HConcatChart(...)"
      ]
     },
     "execution_count": 26,
     "metadata": {},
     "output_type": "execute_result"
    }
   ],
   "source": [
    "cell_dict = {'rs': 42, 'nsamples': 32000, 'top_x_events': 3, 'top_x_feats': 3}\n",
    "cell_data = local_cell_level(f, pos_x_data, cell_dict, event_data, feature_data, positive_sequence_id, sequence_id_feat, average_event, pruning_idx)\n",
    "feat_names = list(feature_data['Feature'].values)[:-1] # exclude pruned events\n",
    "cell_plot = plot_cell_level(cell_data, feat_names, feature_dict.get('plot_features'))\n",
    "cell_plot"
   ]
  },
  {
   "cell_type": "markdown",
   "id": "37d78212",
   "metadata": {},
   "source": [
    "### Global Plots"
   ]
  },
  {
   "cell_type": "code",
   "execution_count": 27,
   "id": "0b57cf3b",
   "metadata": {},
   "outputs": [],
   "source": [
    "from timeshap.explainer import prune_all, pruning_statistics, event_explain_all, feat_explain_all\n",
    "from timeshap.plot import plot_global_event, plot_global_feat\n",
    "\n",
    "pos_dataset = d_test_normalized[d_test_normalized['label'] == 1]"
   ]
  },
  {
   "cell_type": "markdown",
   "id": "a6925bb1",
   "metadata": {},
   "source": [
    "##### Pruning statistics"
   ]
  },
  {
   "cell_type": "code",
   "execution_count": null,
   "id": "3f522caf",
   "metadata": {},
   "outputs": [],
   "source": [
    "pruning_dict = {'tol': [0.05, 0.075, 0.076], 'path': 'prun_all_tf.csv'}\n",
    "prun_indexes = prune_all(f, pos_dataset, sequence_id_feat, average_event, pruning_dict, model_features, time_feat)\n",
    "pruning_stats = pruning_statistics(prun_indexes, pruning_dict.get('tol'), sequence_id_feat)\n",
    "pruning_stats"
   ]
  },
  {
   "cell_type": "markdown",
   "id": "fb518f71",
   "metadata": {},
   "source": [
    "##### Global event-level"
   ]
  },
  {
   "cell_type": "code",
   "execution_count": null,
   "id": "5669e063",
   "metadata": {},
   "outputs": [],
   "source": [
    "event_dict = {'path': 'event_all_tf.csv', 'rs': 42, 'nsamples': 32000}\n",
    "event_data = event_explain_all(f, pos_dataset, sequence_id_feat, average_event, event_dict, prun_indexes, model_features, time_feat)\n",
    "event_global_plot = plot_global_event(event_data)\n",
    "event_global_plot"
   ]
  },
  {
   "cell_type": "markdown",
   "id": "03ee433c",
   "metadata": {},
   "source": [
    "##### Global feature-level"
   ]
  },
  {
   "cell_type": "code",
   "execution_count": null,
   "id": "c0564654",
   "metadata": {},
   "outputs": [],
   "source": [
    "feature_dict = {'path': 'feature_all_tf.csv', 'rs': 42, 'nsamples': 32000, 'feature_names': model_features, 'plot_features': plot_feats, }\n",
    "feat_data = feat_explain_all(f, pos_dataset, sequence_id_feat, average_event, feature_dict, prun_indexes, model_features, time_feat)\n",
    "feat_global_plot = plot_global_feat(feat_data, **feature_dict)\n",
    "feat_global_plot"
   ]
  }
 ],
 "metadata": {
  "kernelspec": {
   "display_name": "Python 3",
   "language": "python",
   "name": "python3"
  },
  "language_info": {
   "codemirror_mode": {
    "name": "ipython",
    "version": 3
   },
   "file_extension": ".py",
   "mimetype": "text/x-python",
   "name": "python",
   "nbconvert_exporter": "python",
   "pygments_lexer": "ipython3",
   "version": "3.7.7"
  }
 },
 "nbformat": 4,
 "nbformat_minor": 5
}
